{
 "cells": [
  {
   "attachments": {},
   "cell_type": "markdown",
   "id": "2f92eec8",
   "metadata": {},
   "source": [
    "(path-analysis-notebook)=\n",
    "# Visualizzare il modelli di equazioni strutturali "
   ]
  },
  {
   "cell_type": "code",
   "execution_count": 1,
   "id": "ed967924",
   "metadata": {
    "tags": [
     "remove_cell"
    ],
    "vscode": {
     "languageId": "r"
    }
   },
   "outputs": [],
   "source": [
    "source(\"_common.R\")\n",
    "suppressPackageStartupMessages({\n",
    "    library(\"lavaan\")\n",
    "    library(\"semPlot\")\n",
    "})\n",
    "\n",
    "set.seed(42)\n",
    "options(repr.plot.width=6, repr.plot.height=6)"
   ]
  },
  {
   "attachments": {},
   "cell_type": "markdown",
   "id": "4c87135e",
   "metadata": {},
   "source": [
    "Le visualizzazioni sono strumenti essenziali per comunicare relazioni complesse tra variabili in modo accessibile e succinto. Poiché i modelli di equazioni strutturali (SEM) sono, di natura, multivariati, esprimendo spesso una complessa rete di relazioni direzionali e non direzionali tra variabili manifeste e latenti, i ricercatori utilizzano strumenti grafici per facilitare la specificazione e l'espressione del modello, e per presentare i propri risultati.\n",
    "\n",
    "La *path analysis* è un metodo per decomporre la correlazione (o la covarianza) in componenti differenti al fine di descrivere le relazioni tra variabili. Lo sviluppo di diagrammi di percorso per descrivere i modelli di equazioni strutturali è attribuito a Wright (1920). La *path analysis* comprende due parti principali: la rappresentazione grafica delle interrelazioni tra le variabili e la scomposizione delle correlazioni (o covarianze) nei termini dei parametri del modello.\n",
    "\n",
    "## Path diagram\n",
    "\n",
    "Il path diagram fornisce una rappresentazione grafica delle relazioni\n",
    "esistenti tra le variabili oggetto di interesse. In tale diagramma, le\n",
    "variabili non osservate o latenti sono racchiuse in un cerchio o\n",
    "ellisse; le variabili osservate sono racchiuse in un quadrato o\n",
    "rettangolo. Due classi di variabili vengono rappresentate in un path\n",
    "diagram: quelle che non ricevono effetti causali da altre variabili e\n",
    "quelle che li ricevono. Una variabile *esogena* (cioè esterna) svolge\n",
    "sempre e soltanto funzione di variabile indipendente, ovvero di\n",
    "variabile che causa un effetto. Una variabile *endogena* (cioè interna)\n",
    "può essere effetto di alcune variabili e contemporaneamente causa per\n",
    "altre, oppure può svolgere solo il ruolo di variabile dipendente. Le\n",
    "fonti causali delle variabili endogene sono interne al path diagram; le\n",
    "fonti causali delle variabili esogene sono esterne al path diagram. La\n",
    "distinzione tra variabili esogene e endogene ha delle ovvie assonanze\n",
    "con la distinzione tra variabili indipendenti e dipendenti propria dei\n",
    "modelli lineari.\n",
    "\n",
    "Le frecce che connettono le variabili nel diagramma denotano nessi\n",
    "causali o mere associazioni. Una freccia orientata rappresenta un nesso\n",
    "causale tra le variabili implicate: la variabile che riceve la freccia\n",
    "dipende dalla variabile da cui parte la freccia. Una freccia curva a due\n",
    "direzioni indica, invece, un'associazione non causale tra due variabili.\n",
    "Il fatto che due variabili non siano collegate nel diagramma equivale ad\n",
    "assumere che tali variabili siano incorrelate. Un esempio è fornito\n",
    "nella figura successiva la quale rende esplicite le relazioni tra\n",
    "tre variabili latenti e nove variabili manifeste.\n",
    "\n",
    "```{figure} images/path_01.png\n",
    "---\n",
    "height: 450px\n",
    "name: path_01-fig\n",
    "---\n",
    "**Diagramma di percorso per un modello a tre fattori comuni.\n",
    "```"
   ]
  },
  {
   "attachments": {},
   "cell_type": "markdown",
   "id": "3599623d",
   "metadata": {},
   "source": [
    "## Path analysis e regressione multipla\n",
    "\n",
    "Vi è una stretta relazione tra path analysis e regressione multipla,\n",
    "tanto che la regressione può essere considerata un caso particolare di\n",
    "path analysis. Per semplicità, si supponga che le variabili siano state\n",
    "standardizzate, anche se la stessa analisi può essere condotta per\n",
    "variabili grezze. Il path diagram mostra la relazione tra tutte le\n",
    "variabili, comprendendo anche i fattori di disturbo, e fornisce dunque\n",
    "la rappresentazione grafica di un sistema di equazioni simultanee. Nel\n",
    "caso di due regressori, il modello di regressione multipla può essere\n",
    "rappresentato tramite il path diagram riportato nella\n",
    "figura seguente.\n",
    "\n",
    "```{figure} images/path_02.png\n",
    "---\n",
    "height: 300px\n",
    "name: path_02-fig\n",
    "---\n",
    "**Diagramma di percorso per il modello di regressione multipla.\n",
    "```"
   ]
  },
  {
   "attachments": {},
   "cell_type": "markdown",
   "id": "c90a68ad",
   "metadata": {},
   "source": [
    "I coefficienti di percorso associati alle frecce orientate esprimono la\n",
    "portata del nesso causale e corrispondono ai pesi beta (ovvero ai\n",
    "coefficienti parziali di regressione standardizzati). Le frecce non\n",
    "orientate esprimono la portata della pura associazione tra variabili e\n",
    "dunque corrispondono alle correlazioni.\n",
    "\n",
    "Nel caso di due variabili esogene $x_1$ e $x_2$, il modello di\n",
    "regressione diventa \n",
    "\n",
    "$$\n",
    "y = b_{1} x_1 + b_{2} x_2 + 1 \\cdot e,\n",
    "$$ \n",
    "\n",
    "dove $y$ è la variabile endogena ed $e$ è il fattore di disturbo. Tale modello di\n",
    "regressione può essere rappresentato graficamente come indicato nella\n",
    "figura precedente.\n",
    "\n",
    "Nella figura, le frecce dritte indicano un'influenza causale dalla\n",
    "variabile da cui parte la freccia a quella a cui la freccia arriva. A\n",
    "tali frecce dritte sono associati i coefficienti di percorso $b_1$ e\n",
    "$b_2$ (ovvero i pesi beta). Il coefficiente 1 rappresenta l'effetto del\n",
    "fattore di disturbo $e$ sulla variabile endogena $y$, implicito nelle\n",
    "equazioni e reso esplicito nella figura.\n",
    "\n",
    "Si noti che si hanno tante equazioni quante sono le variabili endogene.\n",
    "Nel caso presente, c'è un'unica equazione in quanto vi è una sola\n",
    "variabile endogena (ovvero la $y$, le cui cause sono interne al path\n",
    "diagram). All'interno di ciascuna equazione, inoltre, ci saranno tanti\n",
    "termini quante sono le frecce dritte che puntano verso la variabile\n",
    "endogena. Nell'esempio, ci sono tre termini, uno per ciascun freccia\n",
    "dritta.\n",
    "\n",
    "## Effetti diretti e indiretti\n",
    "\n",
    "La path analysis fornisce un metodo per distinguere tra i diversi tipi\n",
    "di effetti che influenzano le variabili: l'effetto diretto, l'effetto\n",
    "indiretto e l'effetto totale. Gli effetti diretti sono quelli non\n",
    "mediati da altre variabili. Gli effetti indiretti operano attraverso\n",
    "l'intervento di almeno una variabile. L'effetto totale è la somma di\n",
    "tutti gli effetti diretti e indiretti.\n",
    "\n",
    "Nella figura seguente, la variable $y_1$ ha un effetto\n",
    "diretto sulla $y_2$. La variabile $y_1$ ha un effetto indiretto sulla\n",
    "$y_3$ in quanto non c'è una freccia causale che colleghi direttamente la\n",
    "variabile $y_1$ alla $y_3$. La variabile $y_1$ è una variabile esogena e\n",
    "le varibili $y_2$ e $y_3$ sono variabili endogene.\n",
    "\n",
    "```{figure} images/path_03.png\n",
    "---\n",
    "height: 80px\n",
    "name: path_03-fig\n",
    "---\n",
    "**Diagramma di percorso per un modello a catena.**\n",
    "```"
   ]
  },
  {
   "attachments": {},
   "cell_type": "markdown",
   "id": "613df974",
   "metadata": {},
   "source": [
    "Nella figura precedente, la variabile $x_1$ ha un effetto\n",
    "diretto sulla $y$, ma anche un effetto indiretto sulla $y$ derivante\n",
    "dalla correlazione tra $x_1$ e $x_2$. In un path diagram, l'effetto\n",
    "diretto è rappresentato da una freccia dritta (es., $b_{1}$). L'effetto\n",
    "indiretto tra due variabili è rappresentato da un percorso composto che\n",
    "include una o più frecce dritte e non più di una linea curva -- per es.,\n",
    "$s_{12} b_{2}$.\n",
    "\n",
    "## Le regole di Wright\n",
    "\n",
    "Lo scopo della path analysis è quello di decomporre la correlazione (o\n",
    "la covarianza) nei termini della somma di tutti i percorsi (diretti e\n",
    "indiretti) che legano le due variabili tramite i coefficienti detti\n",
    "*path coefficients*. Usando il path diagram, Sewall Wright (1921, 1934)\n",
    "enunciò le regole che, attraverso le cosiddette *tracing rules*, legano\n",
    "le correlazioni (o covarianze) delle variabili ai parametri del modello.\n",
    "Le tracing rules possono essere espresse nei termini seguenti:\n",
    "\n",
    "-   è possibile procedere prima all'indietro lungo una freccia e poi in\n",
    "    avanti, seguendo la direzione di una freccia, ma non si può andare\n",
    "    prima avanti e poi tornare indietro;\n",
    "-   un percorso composto non deve transitare due volte per la stessa\n",
    "    variabile (non devono esserci loop);\n",
    "-   un percorso non può comprendere più di una linea curva.\n",
    "\n",
    "Si chiama \"percorso\" il tracciato che unisce due variabili; è costituito\n",
    "da sequenze di frecce direzionali e di curve non direzionali. A ciascun\n",
    "percorso legittimo (ovvero, che soddisfa le regole di Wright) viene\n",
    "assegnato un valore numerico pari al prodotto dei coefficienti\n",
    "incontrati sul percorso medesimo. I coefficienti di percorso possono\n",
    "essere o coefficienti parziali di regressione standardizzati, se il\n",
    "legame ha una direzione, oppure coefficienti di correlazione, se il\n",
    "legame è bidirezionale.\n",
    "\n",
    "### Scomposizione delle correlazioni (covarianze)\n",
    "\n",
    "Il principio di base è stato espresso da Sewall Wright (1934) nel modo\n",
    "seguente: \"Any correlation between variables in a network of sequential relations\n",
    "can be analyzed into contributions from all the paths (direct or\n",
    "through common factors) by which the two variables are connected, such\n",
    "that the value of each contribution is the product of the coefficients\n",
    "pertaining to the elementary paths. If residual correlations are\n",
    "present (represented by bidirectional arrows) one (but never more than\n",
    "one) of the coefficients thus multiplied together to give the\n",
    "contribution of the connecting path, may be a correlation coefficient.\n",
    "The others are all path coefficients.\"\n",
    "\n",
    "Possiamo così enunciare la regola di scomposizione della correlazione. La correlazione fra due variabili può essere decomposta in tanti addendi\n",
    "quanto sono i percorsi che le collegano; ogni addendo è dato dal\n",
    "prodotto dei coefficienti incontrati sul percorso.\n",
    "\n",
    "Si consideri il diagramma rappresesentato nella Figura \\@ref(fig:path02). La variabile endogena è la $y$. Le variabili esogene, correlate tra loro, sono $x_1$ e $x_2$.\n",
    "\n",
    "Il diagramma di percorso corrisponde alla seguente equazione:\n",
    "\n",
    "$$\n",
    "y = 0.50 x_1 + 0.40 x_2 + e,\n",
    "$$ \n",
    "\n",
    "dove le variabili $x_1$ e $x_2$ sono incorrelate con $e$.\n",
    "\n",
    "La correlazione tra $y$ e $x_1$ è uguale alla somma dell'effetto diretto\n",
    "che $x_1$ esercita sulla $y$ e dell'effetto indiretto che $x_1$ esercita\n",
    "sulla $y$ tramite la correlazione con $x_2$. In base alle regole di\n",
    "Wright, $x_1$ e $y$ risultano collegate da due percorsi legittimi: il\n",
    "percorso costituito dalla freccia dritta $x_1 \\rightarrow \n",
    " y$; il percorso composto dalla freccia dritta $x_2 \\rightarrow \n",
    " y$ e dalla curva non direzionale $x_1 \\leftrightarrow x_2$. Il valore\n",
    "numerico del primo percorso è $0.50$. Il valore numerico del secondo\n",
    "percorso è $0.50\\times 0.40$. La correlazione tra le variabili $x_1$ e\n",
    "$y$ è dunque uguale alla somma dei valori numerici dei due percorsi\n",
    "legittimi che legano $x_1$ alla $y$: \n",
    "\n",
    "$$\n",
    "\\begin{equation}\n",
    "\\begin{aligned}\n",
    "  r_{x_1,y} &= \\beta_{y,x_1} + r_{x_1,x_2} \\beta_{y,x_2}\\notag\\\\\n",
    "  &=   0.50 + 0.50 \\times 0.40 = 0.70.\\notag\n",
    "\\end{aligned}\n",
    "\\end{equation}\n",
    "$$\n",
    "\n",
    "La correlazione tra $x_2$ e $y$ è invece uguale a: \n",
    "\n",
    "$$\n",
    "\\begin{equation}\n",
    "\\begin{aligned}\n",
    "  r_{yx_2} &=\\beta_{yx_2} + r_{x_1x_2} \\beta_{yx_1}\\notag\\\\\n",
    "  &= 0.40 + 0.50 \\times 0.50 = 0.65.\\notag\n",
    "\\end{aligned}\n",
    "\\end{equation}\n",
    "$$\n",
    "\n",
    "### Scomposizione della varianza\n",
    "\n",
    "La varianza di una variabile endogena si decompone in una quota di\n",
    "varianza spiegata dalle variabili agenti causalmente su di essa e in una\n",
    "quota di varianza non spiegata: la varianza spiegata è data dalla somma di tanti addendi quanti sono i\n",
    "percorsi che consentono di collegare la variabile a se stessa\n",
    "rispettando le tracing rules di Wright.\n",
    "\n",
    "Facendo riferimento al diagramma di percorso relativo al modello di regressione multipla, si possono individuare quattro percorsi legittimi che collegano $y$ a se stessa:\n",
    "\n",
    "1.  $0.50 \\times 1.00 \\times 0.50$,\n",
    "2.  $0.40 \\times 1.00 \\times 0.40$,\n",
    "3.  $0.50 \\times 0.50 \\times 0.40$,\n",
    "4.  $0.40 \\times 0.50 \\times 0.50$.\n",
    "\n",
    "La varianza della variabile endogena $y$ che viene spiegata dalle\n",
    "variabili esogene $x_1$ e $x_2$ è dunque uguale a\n",
    "\n",
    "$$\n",
    "0.25 + 0.16  + 0.10 + 0.10= 0.61.\n",
    "$$ \n",
    "\n",
    "Inoltre, dato che le variabili\n",
    "rappresentate nel diagramma sono standardizzate, la varianza complessiva\n",
    "della $y$ è uguale a 1.00. La varianza della $y$ non spiegata dalle\n",
    "variabili $x_1$ e $x_2$ è quindi uguale a \n",
    "\n",
    "$$\n",
    "1-0.61 = 0.39.\n",
    "$$\n",
    "\n",
    "## Come calcolare i coefficienti di percorso?\n",
    "\n",
    "Data una matrice di correlazione, i coefficienti di percorso possono\n",
    "essere calcolati risolvendo un sistema di equazioni simultanee. Si\n",
    "supponga che, per le tre variabili della figura precedente, vi sia la\n",
    "seguente matrice di correlazione:\n",
    "\n",
    "|         | $y$    | $x_1$  | $x_2$   |\n",
    "|  ------ | ------ | ------ | ------- |\n",
    "|    $y$  |  1.00  |        |         |\n",
    "|   $x_1$ |  0.70  | 1.00   |         |\n",
    "|  $x_2$  | 0.65   | 0.50   | 1.00    |\n",
    "\n",
    "Esprimendo le tre correlazioni nei termini dei coefficienti del path\n",
    "diagram otteniamo: \n",
    "\n",
    "$$\n",
    "\\begin{equation} \n",
    "\\begin{cases} \n",
    "r_{x_1x_2} &= 0.50\\\\ \n",
    "r_{yx_2} &= \\beta_{yx_2} + 0.50 \\beta_{yx_1} = 0.65\\\\ \n",
    "r_{x_1y} &= \\beta_{yx_1} +   0.50 \\beta_{yx_2} = 0.70\n",
    "\\end{cases}\n",
    "\\end{equation} \n",
    "$$\n",
    "\n",
    "Risolvendo il sistema di equazioni simultanee, si ottengono i valori dei coefficienti di percorso: \n",
    "\n",
    "$$\n",
    "\\begin{equation}\n",
    "\\begin{aligned}\n",
    "\\beta_{yx_1} &= 0.50\\notag\\\\ \n",
    "\\beta_{yx_2} &= 0.40\\notag\n",
    "\\end{aligned}\n",
    "\\end{equation}\n",
    "$$\n",
    "\n",
    "## Path analysis con `lavaan` \n",
    "\n",
    "Usiamo `lavaan` per svolgere l'analisi statistica descritta nell'esempio precedente.\n",
    "\n",
    "**Esercizio.** La matrice di correlazioni di partenza è:"
   ]
  },
  {
   "cell_type": "code",
   "execution_count": 2,
   "id": "1c6aa609",
   "metadata": {
    "vscode": {
     "languageId": "r"
    }
   },
   "outputs": [],
   "source": [
    "lower <- '\n",
    "  1\n",
    "  .70 1\n",
    "  .65 .50 1 \n",
    "'"
   ]
  },
  {
   "attachments": {},
   "cell_type": "markdown",
   "id": "9d5f6bc4",
   "metadata": {},
   "source": [
    "Convertiamo tali dati in una matrice simmetrica."
   ]
  },
  {
   "cell_type": "code",
   "execution_count": 3,
   "id": "3b6f3cb3",
   "metadata": {
    "vscode": {
     "languageId": "r"
    }
   },
   "outputs": [
    {
     "data": {
      "text/html": [
       "<table class=\"dataframe\">\n",
       "<caption>A matrix: 3 × 3 of type dbl</caption>\n",
       "<thead>\n",
       "\t<tr><th></th><th scope=col>y</th><th scope=col>x1</th><th scope=col>x2</th></tr>\n",
       "</thead>\n",
       "<tbody>\n",
       "\t<tr><th scope=row>y</th><td>1.00</td><td>0.7</td><td>0.65</td></tr>\n",
       "\t<tr><th scope=row>x1</th><td>0.70</td><td>1.0</td><td>0.50</td></tr>\n",
       "\t<tr><th scope=row>x2</th><td>0.65</td><td>0.5</td><td>1.00</td></tr>\n",
       "</tbody>\n",
       "</table>\n"
      ],
      "text/latex": [
       "A matrix: 3 × 3 of type dbl\n",
       "\\begin{tabular}{r|lll}\n",
       "  & y & x1 & x2\\\\\n",
       "\\hline\n",
       "\ty & 1.00 & 0.7 & 0.65\\\\\n",
       "\tx1 & 0.70 & 1.0 & 0.50\\\\\n",
       "\tx2 & 0.65 & 0.5 & 1.00\\\\\n",
       "\\end{tabular}\n"
      ],
      "text/markdown": [
       "\n",
       "A matrix: 3 × 3 of type dbl\n",
       "\n",
       "| <!--/--> | y | x1 | x2 |\n",
       "|---|---|---|---|\n",
       "| y | 1.00 | 0.7 | 0.65 |\n",
       "| x1 | 0.70 | 1.0 | 0.50 |\n",
       "| x2 | 0.65 | 0.5 | 1.00 |\n",
       "\n"
      ],
      "text/plain": [
       "   y    x1  x2  \n",
       "y  1.00 0.7 0.65\n",
       "x1 0.70 1.0 0.50\n",
       "x2 0.65 0.5 1.00"
      ]
     },
     "metadata": {},
     "output_type": "display_data"
    }
   ],
   "source": [
    "dat.cov <- getCov(lower, names=c(\"y\",\"x1\", \"x2\"))\n",
    "dat.cov"
   ]
  },
  {
   "attachments": {},
   "cell_type": "markdown",
   "id": "37c3c657",
   "metadata": {},
   "source": [
    "Specifichiamo il modello con la sintassi di `lavaan`."
   ]
  },
  {
   "cell_type": "code",
   "execution_count": 4,
   "id": "eb8bac0e",
   "metadata": {
    "vscode": {
     "languageId": "r"
    }
   },
   "outputs": [],
   "source": [
    "mr_model <- 'y ~ x1 + x2'"
   ]
  },
  {
   "attachments": {},
   "cell_type": "markdown",
   "id": "93fb6b46",
   "metadata": {},
   "source": [
    "Adatto il modello ai dati."
   ]
  },
  {
   "cell_type": "code",
   "execution_count": 5,
   "id": "2ea27e21",
   "metadata": {
    "vscode": {
     "languageId": "r"
    }
   },
   "outputs": [],
   "source": [
    "fit <- sem(mr_model, sample.cov = dat.cov, sample.nobs = 100)"
   ]
  },
  {
   "attachments": {},
   "cell_type": "markdown",
   "id": "7b88e31d",
   "metadata": {},
   "source": [
    "Esaminiamo i risultati."
   ]
  },
  {
   "cell_type": "code",
   "execution_count": 6,
   "id": "984756e1",
   "metadata": {
    "vscode": {
     "languageId": "r"
    }
   },
   "outputs": [
    {
     "name": "stdout",
     "output_type": "stream",
     "text": [
      "lavaan 0.6.15 ended normally after 1 iteration\n",
      "\n",
      "  Estimator                                         ML\n",
      "  Optimization method                           NLMINB\n",
      "  Number of model parameters                         3\n",
      "\n",
      "  Number of observations                           100\n",
      "\n",
      "Model Test User Model:\n",
      "                                                      \n",
      "  Test statistic                                 0.000\n",
      "  Degrees of freedom                                 0\n",
      "\n",
      "Parameter Estimates:\n",
      "\n",
      "  Standard errors                             Standard\n",
      "  Information                                 Expected\n",
      "  Information saturated (h1) model          Structured\n",
      "\n",
      "Regressions:\n",
      "                   Estimate  Std.Err  z-value  P(>|z|)   Std.lv  Std.all\n",
      "  y ~                                                                   \n",
      "    x1                0.500    0.072    6.934    0.000    0.500    0.500\n",
      "    x2                0.400    0.072    5.547    0.000    0.400    0.400\n",
      "\n",
      "Variances:\n",
      "                   Estimate  Std.Err  z-value  P(>|z|)   Std.lv  Std.all\n",
      "   .y                 0.386    0.055    7.071    0.000    0.386    0.390\n",
      "\n"
     ]
    }
   ],
   "source": [
    "out = summary(fit, standardized=TRUE)\n",
    "print(out)"
   ]
  },
  {
   "attachments": {},
   "cell_type": "markdown",
   "id": "56f4642d",
   "metadata": {},
   "source": [
    "Con la funzione `sem()` del pacchetto `lavaan` abbiamo dunque replicato\n",
    "i risultati ottenuti in precedenza. Il valore $0.386$ rappresenta la\n",
    "quota di varianza della $y$ non spiegata dalle variabili esogene.\n",
    "\n",
    "Ripetiamo ora la stessa procedura simulando 100 osservazioni su tre variabili, in maniera tale da avere a disposizione i dati grezzi. Imponendo un effetto\n",
    "causale diretto delle variabili $x_1$ e $x_2$ sulla $y$ e una\n",
    "correlazione $> 0$ tra le variabili $x_1$ e $x_2$, otteniamo i dati seguenti."
   ]
  },
  {
   "cell_type": "code",
   "execution_count": null,
   "id": "84f3c98f",
   "metadata": {
    "vscode": {
     "languageId": "r"
    }
   },
   "outputs": [],
   "source": [
    "set.seed(3)\n",
    "n <- 100\n",
    "x1 <- rnorm(n, 100, 9)\n",
    "x2 <- x1 + rnorm(n, 0, 10)\n",
    "cor(x1, x2)\n",
    "y <- 10 + 3 * x1 + 1.5 * x2 + rnorm(n, 0, 15)\n",
    "dd <- data.frame(y, x1, x2)\n",
    "print(cor(dd), 3)"
   ]
  },
  {
   "attachments": {},
   "cell_type": "markdown",
   "id": "0382907a",
   "metadata": {},
   "source": [
    "Per fare un esempio, immaginiamo che queste correlazioni siano state ricavate da qualche fonte e dunque le leggiamo nella memoria di lavoro di $\\mathsf{R}$ nel modo seguente."
   ]
  },
  {
   "cell_type": "code",
   "execution_count": null,
   "id": "171dfef6",
   "metadata": {
    "vscode": {
     "languageId": "r"
    }
   },
   "outputs": [],
   "source": [
    "lower <- \"\n",
    " 1\n",
    " .831 1\n",
    " .786 .535 1 \n",
    "\"\n",
    "dat.cov <- getCov(lower, names = c(\"y\", \"x1\", \"x2\"))\n",
    "dat.cov"
   ]
  },
  {
   "attachments": {},
   "cell_type": "markdown",
   "id": "70e19cf9",
   "metadata": {},
   "source": [
    "Data una matrice di correlazioni e data la specificazione delle\n",
    "relazioni tra le variabili, la funzione `sem()` contenuta nel pacchetto\n",
    "`lavaan` consente di stimare i coefficienti di percorso. "
   ]
  },
  {
   "cell_type": "code",
   "execution_count": null,
   "id": "db0559df",
   "metadata": {
    "vscode": {
     "languageId": "r"
    }
   },
   "outputs": [],
   "source": [
    "mr.model <- 'y ~ x1 + x2'\n",
    "fit <- sem(mr.model, sample.cov = dat.cov, sample.nobs = 100)"
   ]
  },
  {
   "attachments": {},
   "cell_type": "markdown",
   "id": "09d16a10",
   "metadata": {},
   "source": [
    "Esaminiamo i risultati con la funzione `summary()`."
   ]
  },
  {
   "cell_type": "code",
   "execution_count": null,
   "id": "757626a0",
   "metadata": {
    "vscode": {
     "languageId": "r"
    }
   },
   "outputs": [],
   "source": [
    "out = summary(fit, standardized = TRUE)\n",
    "print(out)"
   ]
  },
  {
   "attachments": {},
   "cell_type": "markdown",
   "id": "36ce7d3e",
   "metadata": {},
   "source": [
    "Ora calcoliamo i coefficienti del modello di regressione multipla usando i dati grezzi (standardizzati). Si noti che i risultati ottenuti da `lavaan` sono identici a quelli prodotti dal modello di regressione multipla -- nel caso presente, infatti, il modello statistico esaminato da `sem()` non era altro che il modello di regressione multipla."
   ]
  },
  {
   "cell_type": "code",
   "execution_count": null,
   "id": "31edf389",
   "metadata": {
    "vscode": {
     "languageId": "r"
    }
   },
   "outputs": [],
   "source": [
    "summary(lm(scale(y) ~ scale(x1) + scale(x2)))"
   ]
  },
  {
   "attachments": {},
   "cell_type": "markdown",
   "id": "3856f0ec",
   "metadata": {},
   "source": [
    "La quota di varianza non spiegata della variabile endogena è:"
   ]
  },
  {
   "cell_type": "code",
   "execution_count": null,
   "id": "b6da4f21",
   "metadata": {
    "lines_to_next_cell": 0,
    "vscode": {
     "languageId": "r"
    }
   },
   "outputs": [],
   "source": [
    "1 - .145"
   ]
  },
  {
   "attachments": {},
   "cell_type": "markdown",
   "id": "98d3ea16",
   "metadata": {},
   "source": [
    "## Oltre la regressione multipla\n",
    "\n",
    "In generale, lo psicologo ha a che fare con diagrammi di percorso nei\n",
    "quali sono presenti variabili non osservabili (latenti) e quindi\n",
    "l'approccio della regressione multipla non può essere applicato. È\n",
    "necessario invece descrivere il diagramma di percorso mediante un\n",
    "insieme di equazioni strutturali, definendo un numero di equazioni\n",
    "almeno altrettanto grande quanto il numero delle incognite. Tale\n",
    "soluzione viene solitamente fornita da un software. Consideriamo di\n",
    "seguito alcuni esempi in cui vengono applicate le regole di Wright per\n",
    "diagrammi di percorso che non possono essere descritti nei termini di un\n",
    "modello di regressione multipla. Un esempio di path diagram che non si\n",
    "riduce al modello di regressione multipla è quello del modello con tre fattori comuni esaminato in precedenza.\n",
    "\n",
    "La path analysis è anche usata in quel campo della psicologia\n",
    "interessato alla misurazione dei costrutti psicologici quali i tratti\n",
    "della personalità, le capacità cognitive e i disturbi psicopatologici.\n",
    "Questa è la ragione per cui la discutiamo qui.\n",
    "\n",
    "**Esercizio.** In questo primo esempio, l'analisi dei percorsi verrà utilizzata per testare un\n",
    "modello a priori che si basa sul quadro teorico della *Self Determination Theory* (SDT; Deci & Ryan, 2000), una delle principali teorie della motivazione umana. Questo modello concettuale applicherà la SDT per esaminare i principali determinanti psicologici e comportamentali dei sintomi bulimici in un campione di giovani donne adulte. Più specificamente, esamineremo come l'appagamento (soddisfazione) e l'esaurimento (frustrazione) delle risorse psicologiche essenziali, o bisogni psicologici (ad esempio, per l'autonomia, la competenza e la relazionalità), possono prevedere in modo differenziale i sintomi bulimici nelle donne attraverso due mediatori chiave, l'approvazione degli ideali culturali sulla magrezza e inflessibilità delle opinioni sul proprio corpo. Secondo la SDT, i bisogni psicologici influenzano la capacità di un individuo di autoregolarsi e far fronte alle richieste della vita quotidiana e possono rendere gli individui vulnerabili al malessere psicologico se i bisogni psicologici vengono frustrati\n",
    "(Vansteenkiste & Ryan, 2013). La frustrazione dei bisogni può essere\n",
    "psicologicamente più depauperante della mancanza di soddisfazione dei bisogni. \n",
    "\n",
    "Gli individui i cui bisogni vengono frustrati possono impegnarsi in attività malsane e comportamenti compensatori al fine di riconquistare una soddisfazione dei bisogni a breve termine. La frustrazione dei bisogni rende gli individui più vulnerabili agli ideali culturali, in quanto le risorse personali per rifiutare questi ideali sono esaurite (Pelletier & Dion, 2007).\n",
    "\n",
    "Il modello che verrà testato propone che le donne i cui bisogni psicologici sono frustrati avalleranno ideali sociali più problematici sulla magrezza rispetto alle donne i cui bisogni psicologici sono soddisfatti. La frustrazione dei bisogni sarà anche predittiva dell'inflessibilità degli schemi corporei, poiché è stato dimostrato che la frustrazione dei bisogni porta a disturbi dell'immagine corporea e a comportamenti alimentari patologici (Boone, Vansteenkiste, Soenens, Van der Kaap-Deeder e Verstuyf, 2014). Il modello propone inoltre che una maggiore approvazione degli ideali culturali sulla sarà predittiva di una maggiore inflessibilità sugli schemi corporei che, di per sé, è predittiva dei sintomi bulimici.\n",
    "\n",
    "Il campione include 192 partecipanti, in maggioranza donne, di età media 21.2 anni (SD = 6.89). Sono stati somministrati i seguenti strumenti:\n",
    "\n",
    "- Body Image-Acceptance and Action Questionnaire (Sandoz, Wilson, Merwin, & Kellum, 2013), per misurare l'inflessibilità relativa alla propria immagine corporea,\n",
    "- Endorsement of Society’s Beliefs Related to Thinness and Obesity (Boyer, 1991), per valutare l'internalizzazione degli ideali di magrezza, \n",
    "- Basic Psychological Needs Satisfaction and Frustration Scale (Chen et al., 2015), per misurare la soddisfazione e la frustrazione dei bisogni,\n",
    ". Eating Disorders Inventory-2 – Bulimic Symptomology Subscale (Garner, 1991), per misurare i sintomi bulimici.\n",
    "\n",
    "I dati sono i seguenti."
   ]
  },
  {
   "cell_type": "code",
   "execution_count": null,
   "id": "7b79415e",
   "metadata": {
    "vscode": {
     "languageId": "r"
    }
   },
   "outputs": [],
   "source": [
    "upper <- '\n",
    "  1 0.44 -0.41 0.55 0.63\n",
    "  1 -0.37 0.45 0.44\n",
    "  1 -0.71 -0.39\n",
    "  1 0.47\n",
    "  1\n",
    "'"
   ]
  },
  {
   "cell_type": "code",
   "execution_count": null,
   "id": "b46b57fb",
   "metadata": {
    "vscode": {
     "languageId": "r"
    }
   },
   "outputs": [],
   "source": [
    "# BFLX – Body Inflexibility,\n",
    "# END – Endorsement of Societal Beliefs about Thinness and Obesity,\n",
    "# MNS – Mean Need Satisfaction, \n",
    "# MNF – Mean Need Frustration, \n",
    "# BULS – Bulimic Symptoms\n",
    "dat_cov <- lavaan::getCov(\n",
    "  upper,\n",
    "  lower = FALSE,\n",
    "  names = c(\"BFLX\", \"END\", \"MNS\", \"MNF\", \"BULS\")\n",
    ")"
   ]
  },
  {
   "attachments": {},
   "cell_type": "markdown",
   "id": "29655e84",
   "metadata": {},
   "source": [
    "Un primo modello di mediazione considera BFLX quale variabile endogena, MNF quale variable esogena e END quale mediatore. Usando Mplus, Barbeau, Boileau, Sarr &  Smith (2019) trovano i seguenti coefficienti di percorso: $a$ = 0.37, $b$ = =.29, e $c$ = 0.34. \n",
    "\n",
    "Svolgiamo l'analisi con `lavaan`. Definiamo il modello."
   ]
  },
  {
   "cell_type": "code",
   "execution_count": null,
   "id": "e4fd3ad1",
   "metadata": {
    "vscode": {
     "languageId": "r"
    }
   },
   "outputs": [],
   "source": [
    "mod <- '\n",
    "  # direct effect\n",
    "  BFLX ~ c*MNF\n",
    "  # mediator\n",
    "  BFLX ~ b*END\n",
    "  END ~ a*MNF\n",
    "  \n",
    "  # indirect effect (a*b)\n",
    "  ab := a*b\n",
    "  # total effect\n",
    "  total := c + (a*b)\n",
    "'"
   ]
  },
  {
   "attachments": {},
   "cell_type": "markdown",
   "id": "0adcf626",
   "metadata": {},
   "source": [
    "Adattiamo il modello ai dati."
   ]
  },
  {
   "cell_type": "code",
   "execution_count": null,
   "id": "5104308d",
   "metadata": {
    "vscode": {
     "languageId": "r"
    }
   },
   "outputs": [],
   "source": [
    "fit <- sem(\n",
    "  mod,\n",
    "  sample.cov = dat_cov,\n",
    "  sample.nobs = 192\n",
    ")"
   ]
  },
  {
   "attachments": {},
   "cell_type": "markdown",
   "id": "a135a119",
   "metadata": {},
   "source": [
    "Esaminiamo i risultati"
   ]
  },
  {
   "cell_type": "code",
   "execution_count": null,
   "id": "33621eeb",
   "metadata": {
    "vscode": {
     "languageId": "r"
    }
   },
   "outputs": [],
   "source": [
    "out = summary(fit, fit.measures = TRUE, standardized = TRUE, rsquare = TRUE)\n",
    "print(out)"
   ]
  },
  {
   "attachments": {},
   "cell_type": "markdown",
   "id": "e410f4af",
   "metadata": {},
   "source": [
    "Generiamo un diagramma di percorso."
   ]
  },
  {
   "cell_type": "code",
   "execution_count": null,
   "id": "cf035ed6",
   "metadata": {
    "vscode": {
     "languageId": "r"
    }
   },
   "outputs": [],
   "source": [
    "semPaths(\n",
    "  fit,\n",
    "  \"std\",\n",
    "  posCol = c(\"black\"),\n",
    "  edge.label.cex = 1.2,\n",
    "  sizeMan = 7\n",
    ")"
   ]
  },
  {
   "attachments": {},
   "cell_type": "markdown",
   "id": "e9a78f4c",
   "metadata": {},
   "source": [
    "I coefficienti di percorso sono simili, ma non identici, a quelli trovati con Mplus. \n",
    "\n",
    "L'effetto diretto di MNF (Need Frustration) su  BFLX (Body Inflexibility) è uguale a 0.44.  Ma l'effetto totale è $0.44 + 0.45*0.24 = 0.55$. L'effetto di mediazione è uguale a $0.45*0.24 = 0.109$. L'outout di lavaan fornisce anche gli errori standard e il test che tali effetti siano uguali a zero.\n",
    "\n",
    "Le correlazioni tra le variabili sono esprimibili nei termini dei coefficienti di percorso.  Per esempio la correlazionetra BFLX e MNF è"
   ]
  },
  {
   "cell_type": "code",
   "execution_count": null,
   "id": "debe4207",
   "metadata": {
    "vscode": {
     "languageId": "r"
    }
   },
   "outputs": [],
   "source": [
    ".44 + .45*.24"
   ]
  },
  {
   "attachments": {},
   "cell_type": "markdown",
   "id": "9460db2d",
   "metadata": {},
   "source": [
    "La correlazione tra BFLX e END è"
   ]
  },
  {
   "cell_type": "code",
   "execution_count": null,
   "id": "868ef0ff",
   "metadata": {
    "vscode": {
     "languageId": "r"
    }
   },
   "outputs": [],
   "source": [
    ".24 + .44*.45"
   ]
  },
  {
   "attachments": {},
   "cell_type": "markdown",
   "id": "15837ace",
   "metadata": {},
   "source": [
    "L'output di lavaan fornisce anche la porzione di varianza che viene spiegata dalle variabili esogene per le due variabili endogene nel modello.\n",
    "\n",
    "Per esempio, la varianza spiegata di `END` è"
   ]
  },
  {
   "cell_type": "code",
   "execution_count": null,
   "id": "a8fd9189",
   "metadata": {
    "lines_to_next_cell": 0,
    "vscode": {
     "languageId": "r"
    }
   },
   "outputs": [],
   "source": [
    "0.45^2"
   ]
  },
  {
   "attachments": {},
   "cell_type": "markdown",
   "id": "dc8a656c",
   "metadata": {},
   "source": [
    "come riportato dall'output di lavaan.  \n",
    "\n",
    ":::\n",
    "\n",
    "::: exercise\n",
    "Continuiamo con l'esempio precedente, discusso da Barbeau, Boileau, Sarr &  Smith (2019) e esaminiamo ora un modello di path analisi più complesso (Fig. 4 di Barbeau et al., 2019). Usando la sintassi di lavaan, il modello diventa"
   ]
  },
  {
   "cell_type": "code",
   "execution_count": null,
   "id": "97889b34",
   "metadata": {
    "vscode": {
     "languageId": "r"
    }
   },
   "outputs": [],
   "source": [
    "# BFLX – Body Inflexibility,\n",
    "# END – Endorsement of Societal Beliefs about Thinness and Obesity,\n",
    "# MNS – Mean Need Satisfaction, \n",
    "# MNF – Mean Need Frustration, \n",
    "# BULS – Bulimic Symptoms\n",
    "mod <- \"\n",
    "  BULS ~ MNF + BFLX\n",
    "  BFLX ~ END + MNF\n",
    "  END ~ MNS + MNF\n",
    "\""
   ]
  },
  {
   "attachments": {},
   "cell_type": "markdown",
   "id": "a422ca0e",
   "metadata": {},
   "source": [
    "Adattiamo il modello ai dati."
   ]
  },
  {
   "cell_type": "code",
   "execution_count": null,
   "id": "68998fc4",
   "metadata": {
    "vscode": {
     "languageId": "r"
    }
   },
   "outputs": [],
   "source": [
    "fit <- sem(\n",
    "  mod,\n",
    "  sample.cov = dat_cov,\n",
    "  sample.nobs = 192\n",
    ")"
   ]
  },
  {
   "attachments": {},
   "cell_type": "markdown",
   "id": "a5d6c755",
   "metadata": {},
   "source": [
    "Esaminiamo la soluzione ottenuta."
   ]
  },
  {
   "cell_type": "code",
   "execution_count": null,
   "id": "b63e4fa8",
   "metadata": {
    "vscode": {
     "languageId": "r"
    }
   },
   "outputs": [],
   "source": [
    "out = summary(fit, fit.measures = TRUE, standardized = TRUE, rsquare = TRUE)\n",
    "print(out)"
   ]
  },
  {
   "attachments": {},
   "cell_type": "markdown",
   "id": "06e25012",
   "metadata": {},
   "source": [
    "Generiamo il diagramma di percorso."
   ]
  },
  {
   "cell_type": "code",
   "execution_count": null,
   "id": "282185ce",
   "metadata": {
    "vscode": {
     "languageId": "r"
    }
   },
   "outputs": [],
   "source": [
    "semPaths(\n",
    "  fit,\n",
    "  \"std\",\n",
    "  posCol = c(\"black\"),\n",
    "  edge.label.cex = 1.2,\n",
    "  sizeMan = 7\n",
    ")"
   ]
  },
  {
   "attachments": {},
   "cell_type": "markdown",
   "id": "bce6dfff",
   "metadata": {},
   "source": [
    "Anche in questo caso i coefficienti di percorso sono simili, ma non identici, a quelli riportati da Barbeau et al. (2019). Gli autori riportano una varianza spiegata di END pari a 0.209; con lavaan si ottiene 0.208.  Per BFLX gli autori riportano 0.292; lavaan ottiene 0.349. Per BULS gli autori riportano 0.478; con lavaan si ottiene 0.419. "
   ]
  },
  {
   "attachments": {},
   "cell_type": "markdown",
   "id": "5c46142b",
   "metadata": {},
   "source": [
    ":::"
   ]
  },
  {
   "attachments": {},
   "cell_type": "markdown",
   "id": "9ad07d15",
   "metadata": {},
   "source": [
    "** Esercizio.** Weiss,  Forkus,  Contractor, e Schick (2018) esaminano con una path analisi la relazione tra la difficiltà di regolare le emozioni positive e l'abuso di alcol e di sostanze. \n",
    "\n",
    "- La difficoltà di regolare le emozioni positive viene misurata con la  *Difficulties in Emotion Regulation Scale – Positive* (DERS-P; Weiss, Gratz, & Lavender, 2015), che comprende le sottoscale di Acceptance, Impulse, e Goals.\n",
    "- L'abuso di sostanze viene misurato con la *Drug Abuse Screening Test* (DAST; Skinner, 1982).\n",
    "- L'abuso di alcol viene misurato con la *Alcohol Use Disorder Identification Test* (AUDIT; Saunders, Aasland, Babor, De la Fuente, & Grant, 1993), con le sottoscale di Hazardous Consumption, Dependence, e Consequences. \n",
    "\n",
    "I dati di un campione di 284 partecipanti sono riportati nella forma di una matrice di correlazione."
   ]
  },
  {
   "cell_type": "code",
   "execution_count": null,
   "id": "2024cd45",
   "metadata": {
    "vscode": {
     "languageId": "r"
    }
   },
   "outputs": [],
   "source": [
    "lower <- '\n",
    "   1\n",
    "   .38 1\n",
    "   .41 .64 1\n",
    "   .34 .44 .30 1\n",
    "   .29 .12 .27 .06 1\n",
    "   .29 .22 .20 .17 .54 1\n",
    "   .30 .15 .23 .09 .73 .69 1\n",
    "'"
   ]
  },
  {
   "cell_type": "code",
   "execution_count": null,
   "id": "cb7fa711",
   "metadata": {
    "vscode": {
     "languageId": "r"
    }
   },
   "outputs": [],
   "source": [
    "dat_cov <- lavaan::getCov(\n",
    "  lower, \n",
    "  names=c(\"dmis\",\"con\", \"dep\", \"consu\", \"acc\", \"goal\", \"imp\"))\n",
    "dat_cov"
   ]
  },
  {
   "attachments": {},
   "cell_type": "markdown",
   "id": "91def24c",
   "metadata": {},
   "source": [
    "I dati vengono analizzati con due modelli di path analysis. Nel primo modello si ipotizza che la difficoltà di regolare le emozioni positive sia una variabile esogena che influenza sia l'abuso di sostanze sia l'abuso di alcol. Si ipotizza inoltre che abuso di sostanze e abuso di alcol siano correlate.\n",
    "\n",
    "La difficoltà di regolare le emozioni positive è indicata da `drpe`; l'abuso di alcolo è denotato da `amis`; l'abuso di sostanze è denotato da `dmis`. "
   ]
  },
  {
   "cell_type": "code",
   "execution_count": null,
   "id": "ea7ee1cb",
   "metadata": {
    "vscode": {
     "languageId": "r"
    }
   },
   "outputs": [],
   "source": [
    "mod <- '\n",
    "  drpe =~ NA*acc + goal + imp\n",
    "  amis =~ NA*con + dep + consu\n",
    "  amis ~ drpe\n",
    "  dmis ~ drpe\n",
    "  dmis ~~ amis\n",
    "  drpe ~~ 1*drpe\n",
    "  amis ~~ 1*amis\n",
    "'"
   ]
  },
  {
   "attachments": {},
   "cell_type": "markdown",
   "id": "05db3079",
   "metadata": {},
   "source": [
    "Svolgiamo l'analisi statistica con `sem()`."
   ]
  },
  {
   "cell_type": "code",
   "execution_count": null,
   "id": "62de12b3",
   "metadata": {
    "vscode": {
     "languageId": "r"
    }
   },
   "outputs": [],
   "source": [
    "fit <- lavaan::sem(mod, sample.cov = dat_cov, sample.nobs = 284)"
   ]
  },
  {
   "attachments": {},
   "cell_type": "markdown",
   "id": "e0474dce",
   "metadata": {},
   "source": [
    "Esaminiamo i risultati."
   ]
  },
  {
   "cell_type": "code",
   "execution_count": null,
   "id": "d19694d6",
   "metadata": {
    "vscode": {
     "languageId": "r"
    }
   },
   "outputs": [],
   "source": [
    "out = summary(fit, fit.measures = TRUE, standardized = TRUE, rsquare = TRUE)\n",
    "print(out)"
   ]
  },
  {
   "attachments": {},
   "cell_type": "markdown",
   "id": "c21b1525",
   "metadata": {},
   "source": [
    "Creiamo un path diagram."
   ]
  },
  {
   "cell_type": "code",
   "execution_count": null,
   "id": "9a8f2cc7",
   "metadata": {
    "vscode": {
     "languageId": "r"
    }
   },
   "outputs": [],
   "source": [
    "semPaths(\n",
    "  fit,\n",
    "  \"std\",\n",
    "  posCol = c(\"black\"),\n",
    "  edge.label.cex =1.2,\n",
    "  sizeMan = 7\n",
    ")"
   ]
  },
  {
   "attachments": {},
   "cell_type": "markdown",
   "id": "22f926b3",
   "metadata": {},
   "source": [
    "Gli autori esplorano un modello alternativo nel quale le relazioni causali vengono rovesciate: in questo caso è la difficoltà di regolazione delle emozioni positive ad essere la variabile esogena, e l'abuso di sostanze e l'abuso di alcol sono le variabili esogene."
   ]
  },
  {
   "cell_type": "code",
   "execution_count": null,
   "id": "ba36bca9",
   "metadata": {
    "vscode": {
     "languageId": "r"
    }
   },
   "outputs": [],
   "source": [
    "mod_alt <- '\n",
    "  drpe =~ NA*acc + goal + imp\n",
    "  amis =~ NA*con + dep + consu\n",
    "  drpe ~ amis + dmis\n",
    "  dmis ~~ amis\n",
    "  drpe ~~ 1*drpe\n",
    "  amis ~~ 1*amis\n",
    "'"
   ]
  },
  {
   "attachments": {},
   "cell_type": "markdown",
   "id": "1a2547c6",
   "metadata": {},
   "source": [
    "Adattiamo il modello ai dati."
   ]
  },
  {
   "cell_type": "code",
   "execution_count": null,
   "id": "ebe40520",
   "metadata": {
    "vscode": {
     "languageId": "r"
    }
   },
   "outputs": [],
   "source": [
    "fit_alt <- sem(mod_alt, sample.cov = dat_cov, sample.nobs = 311)"
   ]
  },
  {
   "attachments": {},
   "cell_type": "markdown",
   "id": "131f57b0",
   "metadata": {},
   "source": [
    "Esaminiamo i risultati."
   ]
  },
  {
   "cell_type": "code",
   "execution_count": null,
   "id": "6fa4173d",
   "metadata": {
    "vscode": {
     "languageId": "r"
    }
   },
   "outputs": [],
   "source": [
    "out = summary(fit_alt, fit.measures = TRUE, standardized = TRUE, rsquare = TRUE)\n",
    "print(out)"
   ]
  },
  {
   "attachments": {},
   "cell_type": "markdown",
   "id": "c70579a0",
   "metadata": {},
   "source": [
    "Creiamo il diagramma di percorso."
   ]
  },
  {
   "cell_type": "code",
   "execution_count": null,
   "id": "ad0e7ac6",
   "metadata": {
    "lines_to_next_cell": 2,
    "vscode": {
     "languageId": "r"
    }
   },
   "outputs": [],
   "source": [
    "semPaths(\n",
    "  fit_alt,\n",
    "  \"std\",\n",
    "  posCol = c(\"black\"),\n",
    "  edge.label.cex =1.2,\n",
    "  sizeMan = 7\n",
    ")"
   ]
  },
  {
   "attachments": {},
   "cell_type": "markdown",
   "id": "44d6dffa",
   "metadata": {},
   "source": [
    "In entrambi i casi i risultati replicano quanto riportato dagli autori.\n"
   ]
  }
 ],
 "metadata": {
  "jupytext": {
   "cell_metadata_filter": "tags,out.width,name,fig.cap,-all",
   "main_language": "R",
   "notebook_metadata_filter": "-all"
  },
  "kernelspec": {
   "display_name": "R",
   "language": "R",
   "name": "ir"
  },
  "language_info": {
   "codemirror_mode": "r",
   "file_extension": ".r",
   "mimetype": "text/x-r-source",
   "name": "R",
   "pygments_lexer": "r",
   "version": "4.3.0"
  }
 },
 "nbformat": 4,
 "nbformat_minor": 5
}
