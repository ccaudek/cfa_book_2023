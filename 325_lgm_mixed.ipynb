{
 "cells": [
  {
   "attachments": {},
   "cell_type": "markdown",
   "id": "41dbeecf",
   "metadata": {},
   "source": [
    "(lgm-mixed-notebook)=\n",
    "# Modelli a crescita latente e modelli misti "
   ]
  },
  {
   "cell_type": "code",
   "execution_count": 1,
   "id": "a4db33f1",
   "metadata": {
    "tags": [
     "remove_cell"
    ],
    "vscode": {
     "languageId": "r"
    }
   },
   "outputs": [
    {
     "name": "stderr",
     "output_type": "stream",
     "text": [
      "This is lavaan 0.6-15\n",
      "lavaan is FREE software! Please report any bugs.\n",
      "\n",
      "\n",
      "Attaching package: ‘kableExtra’\n",
      "\n",
      "\n",
      "The following object is masked from ‘package:dplyr’:\n",
      "\n",
      "    group_rows\n",
      "\n",
      "\n",
      "Loading required package: Matrix\n",
      "\n",
      "\n",
      "Attaching package: ‘Matrix’\n",
      "\n",
      "\n",
      "The following objects are masked from ‘package:tidyr’:\n",
      "\n",
      "    expand, pack, unpack\n",
      "\n",
      "\n"
     ]
    }
   ],
   "source": [
    "source(\"_common.R\")\n",
    "library(\"lavaan\")\n",
    "library(\"semPlot\")\n",
    "library(\"knitr\")\n",
    "library(\"markdown\")\n",
    "library(\"patchwork\")\n",
    "library(\"DT\")\n",
    "library(\"kableExtra\")\n",
    "library(\"lme4\")\n",
    "set.seed(12345)"
   ]
  },
  {
   "attachments": {},
   "cell_type": "markdown",
   "id": "a5cf888a",
   "metadata": {},
   "source": [
    "## Modelli a crescita latente e modelli misti\n",
    "\n",
    "I modelli di crescita latente (LGM) sono un caso speciale di analisi fattoriale confermativa (CFA) e corrispondono a un modello CFA a due fattori in cui le saturazioni fattoriali sono fissate a valori predefiniti. Nella loro forma più semplice, i modelli LGM sono equivalenti ai modelli a effetti misti nell’analisi di regressione. Pertanto, descrivere i modelli misti ci aiuterà a comprendere meglio i modelli LGM.\n",
    "\n",
    "In molti casi, la traiettoria nel tempo può essere modellata come una semplice funzione lineare o quadratica. Le differenze individuali vengono catturate dagli *effetti random* che sono convenientemente rappresentati da variabili latenti (continue), spesso chiamate *fattori di crescita* (*growth factors*). \n",
    "\n",
    "Supponiamo che la variabile misurata rappresenti una qualche dimensione psicologica $y$. Ci possiamo chiedere domande come le seguenti:\n",
    "\n",
    "- la $y$ tende ad aumentare nei termini di una relazione lineare?\n",
    "- se la $y$ tende ad aumentare nei termini di una relazione lineare, qual è in media la pendenza di questa retta?\n",
    "- in che misura questa pendenza varia tra i partecipanti?\n",
    "- in che misura questa pendenza dipende dall'effetto di qualche altra variabile $x$?\n",
    "- in che misura questa pendenza differisce tra gruppi di partecipanti?\n",
    "- in che misura la $y$ durante nella prima rilevazione temporale varia tra i partecipanti?\n",
    "- in che misura la $y$ nella prima rilevazione temporale dipende dall'effetto di qualche altra variabile $x$?\n",
    "\n",
    "Queste sono alcune delle domande a cui si può rispondere usando i modelli LGM. In questo capitolo verranno introdotti i modelli misti e verrà fatto un confronto tra modelli misti e modelli LGM.\n",
    "\n",
    "### Modelli misti\n",
    "\n",
    "Il modello lineare standard presuppone l’indipendenza delle osservazioni. Tuttavia, i modelli misti considerano la presenza di cluster di osservazioni, come ad esempio misure ripetute per lo stesso individuo nel tempo.\n",
    "\n",
    "Per gestire la correlazione tra le osservazioni raggruppate, si possono utilizzare i modelli a effetti misti. Questi modelli sono impiegati quando si hanno dati raccolti da più cluster, ognuno con caratteristiche uniche ma anche condivise. Un esempio comune di modello misto è quello utilizzato per analizzare dati longitudinali. In questo caso, il modello può includere un effetto fisso per il tempo e un effetto casuale per ogni unità.\n",
    "\n",
    "I modelli misti rappresentano un compromesso tra la modellizzazione pooled e quella separata. La modellizzazione pooled combina tutti i dati in un unico dataset, ma può portare a una perdita di informazioni sulle differenze tra i gruppi di osservazioni. La modellizzazione separata adatta un modello per ogni gruppo di osservazioni, ma può portare a problemi di sovrapparametrizzazione e scarsa generalizzazione ai nuovi dati.\n",
    "\n",
    "I modelli misti risolvono questi problemi combinando la modellizzazione pooled e quella separata. In questo modo, il modello tiene conto delle differenze tra i gruppi di dati e sfrutta l’informazione comune per migliorare la precisione delle stime dei parametri.\n",
    "\n",
    "Il caso seguente descrive un modello misto una struttura di raggruppamento annidata. I cluster che producono gli effetti casuali non devono necessariamente essere gerarchici, tuttavia utilizziamo qui una tale rappresentazione per semplicità.\n",
    "\n",
    "$$\n",
    "\\begin{equation}\n",
    "y_{k} = \\alpha + \\beta \\cdot x_{k} + \\varepsilon_{k}, \\quad k = 1, \\dots, K,\n",
    "\\end{equation}\n",
    "$$(eq-lgm-1)\n",
    "\n",
    "dove gli $\\{\\varepsilon_k\\}$ sono variabili casuali indipendenti e identicamente distribuite con varianza costante $\\sigma^2$.\n",
    "\n",
    "Nel caso delle misure ripetute viene violata l'assunzione che i dati siano variabili casuali indipendenti. Un modo per modellizzare una variabile casuale organizzata in maniera gerarchica è quello di assumere che ciascun ragruppamento sia dotato di una sua specifica intercetta.\n",
    "\n",
    "$$\n",
    "\\begin{equation}\n",
    "y_{ij} = \\alpha_i + \\beta \\cdot x_{ij} + \\varepsilon_{ij}, \\quad i = 1, \\dots, N, j = 1, \\dots, n_i.\n",
    "\\end{equation}\n",
    "$$(eq-lgm-2)\n",
    "\n",
    "Si noti che abbiamo usato due indici: $i$ corrisponde all'$i$-esimo ragruppamento, $j$ corrisponde alla osservazione $j$-esima nell'$i$-esimo ragruppamento, $n_i$ è il numero di osservazioni nell'$i$-esimo ragruppamento e $\\alpha_i$ è l'intercetta specifica al ragruppamento $i$-esimo. Il numero totale di osservazioni è $K = \\sum_{i=1}^N n_i$. Per quel che riguarda gli errori $\\{\\varepsilon_{ij}\\}$ assumiamo come in precedenza che siano iid  con varianza $\\sigma^2$.\n",
    "\n",
    "Il modello per dati ragruppati è più complesso del modello tradizionale e si riduce ad esso nel caso speciale nel quale $\\alpha_i = \\alpha$.\n",
    "\n",
    "L'assunzione centrale dei modelli misti è che le intercette $\\{\\alpha_i, i = 1, \\dots, N\\}$ siano variabili casuali che appartengono ad una popolazione che può essere descritta dalla seguente equazione:\n",
    "\n",
    "$$\n",
    "\\begin{equation}\n",
    "\\alpha_i = \\alpha + b_i,\n",
    "\\end{equation}\n",
    "$$(eq-lgm-3)\n",
    "\n",
    "dove $\\alpha$ è l'intercetta della popolazione e $b_i$ è l'effetto casuale, ovvero la deviazione di ciascun ragruppamento dal valore medio della popolazione. \n",
    "\n",
    "Sostituendo l'eq. {eq}eq-lgm-3 nella {eq}eq-lgm-2) otteniamo il modello ad effetti misti:\n",
    "\n",
    "$$\n",
    "\\begin{equation}\n",
    "y_{ij} = \\alpha + b_i + \\beta \\cdot x_{ij} + \\varepsilon_{ij}, \\quad i = 1, \\dots, N, j = 1, \\dots, n_i,\n",
    "\\end{equation}\n",
    "$$(eq-lgm-4)\n",
    "\n",
    "ovvero\n",
    "\n",
    "$$\n",
    "\\begin{equation}\n",
    "y_{ij} = \\alpha + \\beta \\cdot x_{ij} + \\eta_{ij}, \\quad i = 1, \\dots, N, j = 1, \\dots, n_i, \n",
    "\\end{equation}\n",
    "$$(eq-lgm-5)\n",
    "\n",
    "dove $\\eta_{ij} = \\varepsilon_{ij} + b_i$. Questo è un modello gerarchico, ovvero un modello ad intercetta casuale. \n",
    "\n",
    "In pratica, ciò che abbiamo ottenuto è un modello di regressione standard con una fonte aggiuntiva di varianza. In un modello misto ci sono dunque due fonti della varianza: la variazione all'interno di ciascun ragruppamento, $\\sigma^2$ e la variazione tra ragruppamenti, $\\sigma_b^2$. Ricordiamo che, invece, nel modello classico abbiamo un'unica fonte della varianza. \n",
    "\n",
    "Nel modello misto, le osservazioni all'interno di ciascun ragruppamento sono tra loro correlate con una correlazione uguale a\n",
    "\n",
    "$$\n",
    "\\begin{equation}\n",
    "\\rho = \\frac{\\mathbb{V}(b_i)}{\\mathbb{V}(b_i + \\varepsilon_{ij})} = \\frac{\\sigma_b^2}{\\sigma^2 + \\sigma_b^2}.\n",
    "\\end{equation}\n",
    "$$(eq-lgm-6)\n",
    "\n",
    "Dalla {eq}`eq-lgm-6` risulta che maggiore è la variazione tra i ragruppamenti, maggiore è la correlazione tra le osservazioni all'interno di ciascun ragruppamento. Se $\\sigma_b^2 = 0$, la correlazione è 0, $\\alpha_i = \\alpha$ e il modello si riduce a quello della regressione classica. \n",
    "\n",
    "Questa è solo una rappresentazione possibile dei modelli misti, in quanto è anche possibile consentire alla pendenza di variare, avere effetti casuali da più fonti di raggruppamento, aggiungere covariate a livello di ragruppamento, consentire alle intercette casuali e alle pendenze di correlare tra loro, ecc. \n",
    "\n",
    "Come abbiamo visto in precedenza, le variabili latenti sono assunte come distribuite normalmente, di solito con media zero e con una varianza stimata. Anche gli effetti casuali nei modelli misti lo sono e attraverso questo parallelo possiamo pensare agli effetti casuali come a delle variabili latenti (e viceversa). \n",
    "\n",
    "### Simulare effetti casuali\n",
    "\n",
    "Possiamo fornire una dimostrazione del funzionamento dei modelli misti con una simulazione. Ciò ci permetterà di meglio comprendere i modelli a crescita latente. Simuleremo dei dati bilanciati, con punteggi su quattro rilevazioni temporali per 500 individui (soggetti). Esamineremo il tasso di crescita ('growth') e consentiremo la presenza di intercette e pendenze specifiche per i diversi soggetti.\n",
    "\n",
    "Le istruzioni seguenti generano i dati (per i nostri scopi, non è importante capire i dettagli di questa porzione di codice)."
   ]
  },
  {
   "cell_type": "code",
   "execution_count": 2,
   "id": "1ec3e04e",
   "metadata": {
    "vscode": {
     "languageId": "r"
    }
   },
   "outputs": [],
   "source": [
    "set.seed(12345)\n",
    "n <- 500\n",
    "timepoints <- 4\n",
    "time <- rep(0:3, times = n)\n",
    "subject <- rep(1:n, each = 4)\n",
    "\n",
    "intercept <- .5\n",
    "slope <- .25\n",
    "randomEffectsCorr <- matrix(c(1, .2, .2, 1), ncol = 2)\n",
    "\n",
    "randomEffects <- MASS::mvrnorm(\n",
    "  n,\n",
    "  mu = c(0, 0), Sigma = randomEffectsCorr, empirical = T\n",
    ") %>%\n",
    "  data.frame()\n",
    "\n",
    "colnames(randomEffects) <- c(\"Int\", \"Slope\")"
   ]
  },
  {
   "attachments": {},
   "cell_type": "markdown",
   "id": "d2681239",
   "metadata": {},
   "source": [
    "La simulazione comprende gli effetti 'fissi', ovvero l'intercetta e la pendenza della regressione standard, impostati rispettivamente a 0.5 e 0.25. Verrà simulata una correlazione di 0.2 tra intercetta e pendenza specifiche per ciascun soggetto. Per questa ragione, i dati verranno estratti da una distribuzione normale multivariata. Porremo uguale a 1 la varianza per entrambi gli effetti.\n",
    "\n",
    "Esaminiamo i dati ottenuti."
   ]
  },
  {
   "cell_type": "code",
   "execution_count": 3,
   "id": "7789c487",
   "metadata": {
    "name": "inspectSimData",
    "tags": [
     "remove_input"
    ],
    "vscode": {
     "languageId": "r"
    }
   },
   "outputs": [
    {
     "data": {
      "text/plain": [
       "<table class=\"table\" style=\"width: auto !important; margin-left: auto; margin-right: auto;\">\n",
       " <thead>\n",
       "  <tr>\n",
       "   <th style=\"text-align:right;\"> Subject </th>\n",
       "   <th style=\"text-align:right;\"> time </th>\n",
       "   <th style=\"text-align:right;\"> Int </th>\n",
       "   <th style=\"text-align:right;\"> Slope </th>\n",
       "  </tr>\n",
       " </thead>\n",
       "<tbody>\n",
       "  <tr>\n",
       "   <td style=\"text-align:right;\"> 1 </td>\n",
       "   <td style=\"text-align:right;\"> 0 </td>\n",
       "   <td style=\"text-align:right;\"> -1.3323 </td>\n",
       "   <td style=\"text-align:right;\"> -0.9548 </td>\n",
       "  </tr>\n",
       "  <tr>\n",
       "   <td style=\"text-align:right;\"> 1 </td>\n",
       "   <td style=\"text-align:right;\"> 1 </td>\n",
       "   <td style=\"text-align:right;\"> -1.3323 </td>\n",
       "   <td style=\"text-align:right;\"> -0.9548 </td>\n",
       "  </tr>\n",
       "  <tr>\n",
       "   <td style=\"text-align:right;\"> 1 </td>\n",
       "   <td style=\"text-align:right;\"> 2 </td>\n",
       "   <td style=\"text-align:right;\"> -1.3323 </td>\n",
       "   <td style=\"text-align:right;\"> -0.9548 </td>\n",
       "  </tr>\n",
       "  <tr>\n",
       "   <td style=\"text-align:right;\"> 1 </td>\n",
       "   <td style=\"text-align:right;\"> 3 </td>\n",
       "   <td style=\"text-align:right;\"> -1.3323 </td>\n",
       "   <td style=\"text-align:right;\"> -0.9548 </td>\n",
       "  </tr>\n",
       "  <tr>\n",
       "   <td style=\"text-align:right;\"> 2 </td>\n",
       "   <td style=\"text-align:right;\"> 0 </td>\n",
       "   <td style=\"text-align:right;\"> -2.1262 </td>\n",
       "   <td style=\"text-align:right;\"> -1.7814 </td>\n",
       "  </tr>\n",
       "  <tr>\n",
       "   <td style=\"text-align:right;\"> 2 </td>\n",
       "   <td style=\"text-align:right;\"> 1 </td>\n",
       "   <td style=\"text-align:right;\"> -2.1262 </td>\n",
       "   <td style=\"text-align:right;\"> -1.7814 </td>\n",
       "  </tr>\n",
       "  <tr>\n",
       "   <td style=\"text-align:right;\"> 2 </td>\n",
       "   <td style=\"text-align:right;\"> 2 </td>\n",
       "   <td style=\"text-align:right;\"> -2.1262 </td>\n",
       "   <td style=\"text-align:right;\"> -1.7814 </td>\n",
       "  </tr>\n",
       "  <tr>\n",
       "   <td style=\"text-align:right;\"> 2 </td>\n",
       "   <td style=\"text-align:right;\"> 3 </td>\n",
       "   <td style=\"text-align:right;\"> -2.1262 </td>\n",
       "   <td style=\"text-align:right;\"> -1.7814 </td>\n",
       "  </tr>\n",
       "  <tr>\n",
       "   <td style=\"text-align:right;\"> 3 </td>\n",
       "   <td style=\"text-align:right;\"> 0 </td>\n",
       "   <td style=\"text-align:right;\"> 0.4606 </td>\n",
       "   <td style=\"text-align:right;\"> 0.3040 </td>\n",
       "  </tr>\n",
       "  <tr>\n",
       "   <td style=\"text-align:right;\"> 3 </td>\n",
       "   <td style=\"text-align:right;\"> 1 </td>\n",
       "   <td style=\"text-align:right;\"> 0.4606 </td>\n",
       "   <td style=\"text-align:right;\"> 0.3040 </td>\n",
       "  </tr>\n",
       "</tbody>\n",
       "</table>"
      ]
     },
     "metadata": {},
     "output_type": "display_data"
    }
   ],
   "source": [
    "data.frame(Subject = subject, time = time, randomEffects[subject, ]) %>%\n",
    "  # datatable(options=list(dom='t'), rownames=F, width='50%') %>% formatRound(~Int+Slope, 4) %>%\n",
    "  head(10) %>%\n",
    "  kable(format = \"html\", row.names = F, digits = 4) %>%\n",
    "  kable_styling(full_width = F)"
   ]
  },
  {
   "attachments": {},
   "cell_type": "markdown",
   "id": "0f2a6535",
   "metadata": {},
   "source": [
    "Per ottenere una variabile target, sommiamo semplicemente gli effetti casuali così ottenuti all’intercetta complessiva e facciamo lo stesso per le pendenze. Sommeremo ai dati un rumore gaussiano con deviazione standard uguale a $\\sigma$ = 0.5."
   ]
  },
  {
   "cell_type": "code",
   "execution_count": 4,
   "id": "c6741d37",
   "metadata": {
    "vscode": {
     "languageId": "r"
    }
   },
   "outputs": [],
   "source": [
    "set.seed(12345)\n",
    "sigma <- .5\n",
    "y1 <- (intercept + randomEffects$Int[subject]) + # random intercepts\n",
    "  (slope + randomEffects$Slope[subject]) * time + # random slopes\n",
    "  rnorm(n * timepoints, mean = 0, sd = sigma)\n",
    "\n",
    "d <- data.frame(subject, time, y1)"
   ]
  },
  {
   "cell_type": "code",
   "execution_count": 5,
   "id": "1092c2c2",
   "metadata": {
    "name": "inspectSimData2",
    "tags": [
     "remove_input"
    ],
    "vscode": {
     "languageId": "r"
    }
   },
   "outputs": [
    {
     "data": {
      "text/plain": [
       "<table class=\"table\" style=\"width: auto !important; margin-left: auto; margin-right: auto;\">\n",
       " <thead>\n",
       "  <tr>\n",
       "   <th style=\"text-align:right;\"> subject </th>\n",
       "   <th style=\"text-align:right;\"> time </th>\n",
       "   <th style=\"text-align:right;\"> y1 </th>\n",
       "  </tr>\n",
       " </thead>\n",
       "<tbody>\n",
       "  <tr>\n",
       "   <td style=\"text-align:right;\"> 1 </td>\n",
       "   <td style=\"text-align:right;\"> 0 </td>\n",
       "   <td style=\"text-align:right;\"> -0.5395 </td>\n",
       "  </tr>\n",
       "  <tr>\n",
       "   <td style=\"text-align:right;\"> 1 </td>\n",
       "   <td style=\"text-align:right;\"> 1 </td>\n",
       "   <td style=\"text-align:right;\"> -1.1824 </td>\n",
       "  </tr>\n",
       "  <tr>\n",
       "   <td style=\"text-align:right;\"> 1 </td>\n",
       "   <td style=\"text-align:right;\"> 2 </td>\n",
       "   <td style=\"text-align:right;\"> -2.2966 </td>\n",
       "  </tr>\n",
       "  <tr>\n",
       "   <td style=\"text-align:right;\"> 1 </td>\n",
       "   <td style=\"text-align:right;\"> 3 </td>\n",
       "   <td style=\"text-align:right;\"> -3.1735 </td>\n",
       "  </tr>\n",
       "  <tr>\n",
       "   <td style=\"text-align:right;\"> 2 </td>\n",
       "   <td style=\"text-align:right;\"> 0 </td>\n",
       "   <td style=\"text-align:right;\"> -1.3232 </td>\n",
       "  </tr>\n",
       "  <tr>\n",
       "   <td style=\"text-align:right;\"> 2 </td>\n",
       "   <td style=\"text-align:right;\"> 1 </td>\n",
       "   <td style=\"text-align:right;\"> -4.0665 </td>\n",
       "  </tr>\n",
       "  <tr>\n",
       "   <td style=\"text-align:right;\"> 2 </td>\n",
       "   <td style=\"text-align:right;\"> 2 </td>\n",
       "   <td style=\"text-align:right;\"> -4.3738 </td>\n",
       "  </tr>\n",
       "  <tr>\n",
       "   <td style=\"text-align:right;\"> 2 </td>\n",
       "   <td style=\"text-align:right;\"> 3 </td>\n",
       "   <td style=\"text-align:right;\"> -6.3583 </td>\n",
       "  </tr>\n",
       "  <tr>\n",
       "   <td style=\"text-align:right;\"> 3 </td>\n",
       "   <td style=\"text-align:right;\"> 0 </td>\n",
       "   <td style=\"text-align:right;\"> 0.8185 </td>\n",
       "  </tr>\n",
       "  <tr>\n",
       "   <td style=\"text-align:right;\"> 3 </td>\n",
       "   <td style=\"text-align:right;\"> 1 </td>\n",
       "   <td style=\"text-align:right;\"> 1.0549 </td>\n",
       "  </tr>\n",
       "</tbody>\n",
       "</table>"
      ]
     },
     "metadata": {},
     "output_type": "display_data"
    }
   ],
   "source": [
    "d %>%\n",
    "  head(10) %>%\n",
    "  kable(format = \"html\", row.names = F, digits = 4) %>%\n",
    "  kable_styling(full_width = F)"
   ]
  },
  {
   "attachments": {},
   "cell_type": "markdown",
   "id": "0dedd24e",
   "metadata": {},
   "source": [
    "Il grafico seguente mostra le rette di regressione per ciascuno dei 500 soggetti."
   ]
  },
  {
   "cell_type": "code",
   "execution_count": null,
   "id": "5f7f6a21",
   "metadata": {
    "name": "spaghetti",
    "tags": [
     "remove_input"
    ],
    "vscode": {
     "languageId": "r"
    }
   },
   "outputs": [],
   "source": [
    "ggplot(d, aes(x = time, y = y1)) +\n",
    "  geom_path(aes(group = subject), alpha = .05) +\n",
    "  geom_smooth(method = \"lm\", color = \"#ff5500\")"
   ]
  },
  {
   "attachments": {},
   "cell_type": "markdown",
   "id": "2e0f0a1a",
   "metadata": {},
   "source": [
    "Adattiamo ai dati un modello misto utilizzando la funzione `lmer` del pacchetto `lme4`. "
   ]
  },
  {
   "cell_type": "code",
   "execution_count": null,
   "id": "b003cad3",
   "metadata": {
    "vscode": {
     "languageId": "r"
    }
   },
   "outputs": [],
   "source": [
    "mix_mod <- lmer(y1 ~ time + (1 + time | subject), data = d)\n",
    "summary(mix_mod)"
   ]
  },
  {
   "attachments": {},
   "cell_type": "markdown",
   "id": "fa7b0314",
   "metadata": {},
   "source": [
    "Gli effetti fissi che abbiamo ottenuto ($\\alpha$ = 0.50159, $\\beta$ = 0.25157) sono simili ai valori che abbiamo impostato per l'intercetta e la pendenza complessiva. Le varianze degli effetti casuali stimati ($1.0122^2$, $1.0149^2$) sono molto simili al valore impostato di 1, la correlazione (0.15) è simile al valore impostato di 0.2 e la deviazione standard dei residui (0.4911) è simile al valore impostato di 0.5.\n",
    "\n",
    "## Modello di crescita latente\n",
    "\n",
    "<!-- https://github.com/m-clark/sem/blob/master/growth-curves.Rmd -->\n",
    "\n",
    "Analizziamo ora gli stessi dati con un modello LGM. Possiamo pensare ai modelli LGM come ad un'estensione del modello CFA dotato di `meanstructure`. Infatti, dobbiamo modellare la relazione tra le medie dei punteggi dei partecipanti in funzione del tempo.\n",
    "\n",
    "L'inclusione della `meanstructure` significa che non possiamo usare in input la matrice di covarianza campionaria, ma dobbiamo invece utilizzare i dati grezzi (ovvero, le singole osservazioni per ciascun partecipante). \n",
    "\n",
    "Come in precedenza, useremo `lavaan`, ma ora con una sintassi diversa, perché dobbiamo fissare le saturazioni fattoriali a valori specifici per implementare i vincoli del modello. Questo porta anche a un output non standard rispetto ad altri modelli SEM, poiché i parametri del modello saranno fissi non devono essere stimati.\n",
    "\n",
    "In particolare, avremo una variabile latente per le intercette casuali e una seconda variabile latente le pendenze casuali. Per il fattore che rappresenta le intercette, i valori delle saturazioni fattoriali sono fissati a 1. Le saturazioni per il fattore che specifica le pendenze casuali sono fissate ai valori che descrivono la variazione temporale: qui i valori $\\lambda$ da 0 a 3 (riflettono la spaziatura temporale tra le misurazioni $y$). Iniziare la codifica da 0 consente di assegnare allo 0 un’interpretazione dotata di significato.\n",
    "\n",
    "Il modello di crescita latente può dunque essere specificato dal seguente modello a variabili latenti:\n",
    "\n",
    "$$\n",
    "y_j = \\alpha_0 + \\alpha_1 \\lambda_j + \\zeta_{00} + \\zeta_{11} \\lambda_j + \\epsilon_j,\n",
    "$$\n",
    "dove \n",
    "\n",
    "- $y_j$ è la variabile di interesse che cambia nel tempo, con $j = 0, \\dots, 3$.\n",
    "- $\\alpha_0$ rappresenta l'intercetta della retta di regressione al tempo $t = 0$ (il punto di partenza della linea nera sopra).\n",
    "- $\\alpha_1 \\lambda_j$ è il tasso medio di crescita nel tempo (la pendenza della linea nera nel grafico sopra). Qui $\\lambda_j$ è solo l'indice dei punti temporali considerati (0, 1, 2, 3).\n",
    "- $\\zeta_{00}$ è la varianza tra i soggetti nel punto $t = 0$.\n",
    "- $\\zeta_{11} \\lambda_j$ è la varianza del tasso di crescita tra i soggetti.\n",
    "- $\\epsilon_j$ è la varianza di ciascun soggetto attorno alla sua retta di regressione.\n",
    "\n",
    "Tali relazioni statistiche vengono rappresentate dal modello di equazioni strutturali della figura \\@ref(fig:growth01). "
   ]
  },
  {
   "cell_type": "code",
   "execution_count": null,
   "id": "996a3ca0",
   "metadata": {
    "fig.cap": "Modello di crescita latente.",
    "name": "growth01",
    "out.width": "90%",
    "tags": [
     "remove_input"
    ],
    "vscode": {
     "languageId": "r"
    }
   },
   "outputs": [],
   "source": [
    "knitr::include_graphics(\"images/lgm.png\")"
   ]
  },
  {
   "attachments": {},
   "cell_type": "markdown",
   "id": "781e2e3c",
   "metadata": {},
   "source": [
    "Un requisito degli LGM è che i dati devono essere forniti del formato `wide` (mentre per il precedente modello misto abbiamo usato il formato *long*), il che significa che ogni colonna rappresenta la variabile di esito in un diverso momento nel tempo. Si presume che ogni osservazione o riga sia indipendente dalle altre; le colonne mostrano invece una dipendenza temporale. Trasformiamo dunque i dati nel formato richiesto."
   ]
  },
  {
   "cell_type": "code",
   "execution_count": null,
   "id": "50775c7b",
   "metadata": {
    "vscode": {
     "languageId": "r"
    }
   },
   "outputs": [],
   "source": [
    "dWide <- d %>%\n",
    "  spread(time, y1) %>%\n",
    "  rename_at(vars(-subject), function(x) paste0(\"y\", x))\n",
    "head(dWide)"
   ]
  },
  {
   "attachments": {},
   "cell_type": "markdown",
   "id": "3342cde4",
   "metadata": {},
   "source": [
    "Il modello misto che abbiamo descritto in precedenza corrisponde dunque ad un modello fattoriale con due variabili latenti: un fattore ($\\eta_0$) che rappresenta il \"punteggio vero\" delle intercette individuali e un fattore ($\\eta_1$) che rappresenta il \"punteggio vero\" delle pendenze delle rette di regressione per i singoli individui.\n",
    "\n",
    "Nella sintassi di `lavaan` il modello diventa:"
   ]
  },
  {
   "cell_type": "code",
   "execution_count": null,
   "id": "589c2761",
   "metadata": {
    "vscode": {
     "languageId": "r"
    }
   },
   "outputs": [],
   "source": [
    "model <- \"\n",
    "    i =~ 1*y0 + 1*y1 + 1*y2 + 1*y3\n",
    "    s =~ 0*y0 + 1*y1 + 2*y2 + 3*y3\n",
    "\""
   ]
  },
  {
   "attachments": {},
   "cell_type": "markdown",
   "id": "91025014",
   "metadata": {},
   "source": [
    "Possiamo adattare il modello ai dati usando una funzione specifica di `lavaan`, ovvero `growth`, che può essere usata per questa classe di modelli. "
   ]
  },
  {
   "cell_type": "code",
   "execution_count": null,
   "id": "5b746a4f",
   "metadata": {
    "vscode": {
     "languageId": "r"
    }
   },
   "outputs": [],
   "source": [
    "growth_curve_model <- growth(model, data = dWide)\n",
    "out <- summary(growth_curve_model)\n",
    "print(out)"
   ]
  },
  {
   "attachments": {},
   "cell_type": "markdown",
   "id": "e039c47c",
   "metadata": {},
   "source": [
    "Possiamo utilizzare l’oggetto creato da `growth` per creare un diagramma di percorso."
   ]
  },
  {
   "cell_type": "code",
   "execution_count": null,
   "id": "76aef843",
   "metadata": {
    "vscode": {
     "languageId": "r"
    }
   },
   "outputs": [],
   "source": [
    "semPaths(growth_curve_model, what = \"path\", whatLabels = \"par\")"
   ]
  },
  {
   "attachments": {},
   "cell_type": "markdown",
   "id": "04fdfc00",
   "metadata": {},
   "source": [
    "Nell'output, `Intercepts` corrisponde agli effetti fissi:\n",
    "\n",
    "```\n",
    "Intercepts:\n",
    "                   Estimate  Std.Err  z-value  P(>|z|)\n",
    "    i                 0.510    0.048   10.542    0.000\n",
    "    s                 0.234    0.046    5.133    0.000\n",
    "```\n",
    "\n",
    "Potrebbe sembrare strano chiamare gli effetti fissi 'intercette', ma ha senso se  pensiamo al modello a crescita latente come al modello misto descritto in precedenza. Si noti che le stime ottenute sono molto simili a quelle fornite dal modello misto"
   ]
  },
  {
   "cell_type": "code",
   "execution_count": null,
   "id": "e630077c",
   "metadata": {
    "name": "fixefs0",
    "vscode": {
     "languageId": "r"
    }
   },
   "outputs": [],
   "source": [
    "fixef(mix_mod)"
   ]
  },
  {
   "attachments": {},
   "cell_type": "markdown",
   "id": "c0336851",
   "metadata": {},
   "source": [
    "Si noti inoltre che le stime degli effetti fissi del modello misto sono identiche a quelle trovate dalla regressione standard:"
   ]
  },
  {
   "cell_type": "code",
   "execution_count": null,
   "id": "36dbc2fa",
   "metadata": {
    "name": "fixefs",
    "vscode": {
     "languageId": "r"
    }
   },
   "outputs": [],
   "source": [
    "lm(y1 ~ time, data = d)"
   ]
  },
  {
   "attachments": {},
   "cell_type": "markdown",
   "id": "28b3cfcf",
   "metadata": {},
   "source": [
    "Consideriamo ora le stime della varianza nel modello a crescita latente.\n",
    "\n",
    "```\n",
    "Covariances:\n",
    "                   Estimate  Std.Err  z-value  P(>|z|)\n",
    "  i ~~                                                \n",
    "    s                 0.220    0.050    4.371    0.000\n",
    "Variances:\n",
    "                   Estimate  Std.Err  z-value  P(>|z|)\n",
    "   .y0                0.310    0.042    7.308    0.000\n",
    "   .y1                0.220    0.021   10.338    0.000\n",
    "   .y2                0.230    0.029    7.935    0.000\n",
    "   .y3                0.275    0.064    4.295    0.000\n",
    "    i                 0.973    0.076   12.854    0.000\n",
    "    s                 0.986    0.066   14.889    0.000\n",
    "```\n",
    "\n",
    "Confrontiamo questi valori con quelli ottenuti dal modello misto."
   ]
  },
  {
   "cell_type": "code",
   "execution_count": null,
   "id": "ed7e23c1",
   "metadata": {
    "name": "ranefVAr",
    "vscode": {
     "languageId": "r"
    }
   },
   "outputs": [],
   "source": [
    "VarCorr(mix_mod)"
   ]
  },
  {
   "attachments": {},
   "cell_type": "markdown",
   "id": "75daee77",
   "metadata": {},
   "source": [
    "Si noti che il modello a crescita latente, per impostazione predefinita, assume una varianza eterogenea per ogni rilevazione temporale. I modelli misti per impostazione predefinita assumono la stessa varianza per ogni punto temporale ma, nella maggior parte dei pacchetti di modellizzazione, consentono di specificare una stima separata della varianza nelle diverse rilevazioni temporali.\n",
    "\n",
    "Se fissiamo le varianze come uguali, i due modelli producono stime identiche."
   ]
  },
  {
   "cell_type": "code",
   "execution_count": null,
   "id": "ed0ff88a",
   "metadata": {
    "name": "compareMixedLGC",
    "results": "hold",
    "vscode": {
     "languageId": "r"
    }
   },
   "outputs": [],
   "source": [
    "model <- \"\n",
    "    # intercept and slope with fixed coefficients\n",
    "    i =~ 1*y0 + 1*y1 + 1*y2 + 1*y3\n",
    "    s =~ 0*y0 + 1*y1 + 2*y2 + 3*y3\n",
    "    y0 ~~ resvar*y0\n",
    "    y1 ~~ resvar*y1\n",
    "    y2 ~~ resvar*y2\n",
    "    y3 ~~ resvar*y3\n",
    "\"\n",
    "\n",
    "growth_curve_model <- growth(model, data = dWide)\n",
    "summary(growth_curve_model)"
   ]
  },
  {
   "attachments": {},
   "cell_type": "markdown",
   "id": "87f87363",
   "metadata": {},
   "source": [
    "Per `lme4` abbiamo: "
   ]
  },
  {
   "cell_type": "code",
   "execution_count": null,
   "id": "d4905f9d",
   "metadata": {
    "echo": false,
    "name": "compareVar",
    "vscode": {
     "languageId": "r"
    }
   },
   "outputs": [],
   "source": [
    "print(VarCorr(mix_mod), comp = \"Var\")"
   ]
  },
  {
   "attachments": {},
   "cell_type": "markdown",
   "id": "f351bb54",
   "metadata": {},
   "source": [
    "In entrambi i casi, la varianza residua è uguale a 0.241 e la correlazione tra intercette e pendenze casuali è uguale a 0.154.\n",
    "\n",
    "Inoltre, le stime dei coefficienti casuali del modello misto sono identiche a quelle delle variabili latenti. "
   ]
  },
  {
   "cell_type": "code",
   "execution_count": null,
   "id": "4a6f5d7e",
   "metadata": {
    "lines_to_next_cell": 0,
    "name": "compareRandomeffects",
    "vscode": {
     "languageId": "r"
    }
   },
   "outputs": [],
   "source": [
    "ranef_latent <- data.frame(\n",
    "  coef(mix_mod)[[1]], lavPredict(growth_curve_model)\n",
    ") %>%\n",
    "  rename(\n",
    "    Int_mix = X.Intercept.,\n",
    "    Slope_mix = time,\n",
    "    Int_lgc = i,\n",
    "    Slope_lgc = s\n",
    "  )\n",
    "ranef_latent %>%\n",
    "  round(2) %>%\n",
    "  head()"
   ]
  },
  {
   "attachments": {},
   "cell_type": "markdown",
   "id": "e9bd2650",
   "metadata": {},
   "source": [
    "## Conclusioni\n",
    "\n",
    "In conclusione, abbiamo visto che, nel caso più semplice, i modelli LGM sono sostanzialente identici ai modelli misti. Tuttavia, la concettualizzazione del cambiamento nei termini di un modello a crescita latente offre molti vantaggi rispetto alla descrizione dei dati nei termini dei modelli misti in quanto i modelli LGM sono più flessibili dei modelli misti e consentono la verifica di ipotesi statistiche che non possono essere esaminate nel constesto dei modelli misti."
   ]
  }
 ],
 "metadata": {
  "jupytext": {
   "cell_metadata_filter": "tags,fig.cap,out.width,name,results,echo,-all",
   "main_language": "R",
   "notebook_metadata_filter": "-all"
  },
  "kernelspec": {
   "display_name": "R",
   "language": "R",
   "name": "ir"
  },
  "language_info": {
   "codemirror_mode": "r",
   "file_extension": ".r",
   "mimetype": "text/x-r-source",
   "name": "R",
   "pygments_lexer": "r",
   "version": "4.2.2"
  }
 },
 "nbformat": 4,
 "nbformat_minor": 5
}
