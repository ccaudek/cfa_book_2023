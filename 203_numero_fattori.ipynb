{
 "cells": [
  {
   "attachments": {},
   "cell_type": "markdown",
   "id": "0199fe1d",
   "metadata": {},
   "source": [
    "(number-factors-notebook)=\n",
    "# Il numero dei fattori "
   ]
  },
  {
   "attachments": {},
   "cell_type": "markdown",
   "id": "5cbd35ee",
   "metadata": {},
   "source": [
    "L’analisi fattoriale esplorativa (EFA) è uno dei modelli statistici più utilizzati in psicologia. È fondamentale per la validazione delle scale di misurazione, l’identificazione di dimensioni latenti  e la sintesi dei dati. Il problema chiave in un’EFA è la selezione del numero di fattori, che non è banale perché l’aggiunta di ulteriori fattori migliorerà sempre l’adattamento ai dati, anche se il vero numero di fattori è piccolo.\n",
    "\n",
    "La maggior parte dei metodi esistenti per selezionare il numero di fattori si divide in due categorie. \n",
    "\n",
    "- I metodi della prima categoria analizzano gli autovalori della matrice di covarianza per determinare il numero di fattori. \n",
    "- La seconda categoria affronta la stima del numero di fattori come un problema di selezione di modelli. Poiché il modello fattoriale con il maggior numero di fattori si adatta sempre meglio ai dati, la stima del numero di fattori nella popolazione richiede un compromesso tra adattamento del modello e complessità.\n",
    "\n",
    "Oltre a queste due categorie principali, esistono altri metodi come il metodo Very Simple Structure (VSS) (Revelle e Rocklin, 1979) che cerca di recuperare strutture semplici facilmente interpretabili, o l’analisi grafica esplorativa (EGA) recentemente proposta (Golino e Demetriou, 2017; Golino e Epskamp, 2017), che stima prima una matrice di correlazione parziale regolarizzata e successivamente applica un algoritmo di rilevamento della comunità per determinare il numero di fattori."
   ]
  },
  {
   "cell_type": "code",
   "execution_count": 8,
   "id": "832435d0",
   "metadata": {
    "tags": [
     "remove_cell"
    ],
    "vscode": {
     "languageId": "r"
    }
   },
   "outputs": [],
   "source": [
    "# library(devtools)\n",
    "# install_github(\"jmbh/fspe\")\n",
    "\n",
    "source(\"_common.R\")\n",
    "suppressPackageStartupMessages({\n",
    "    library(\"psych\")\n",
    "    library(\"paran\")\n",
    "    library(\"fspe\")\n",
    "})\n",
    "\n",
    "set.seed(42)"
   ]
  },
  {
   "attachments": {},
   "cell_type": "markdown",
   "id": "0ea319d2",
   "metadata": {},
   "source": [
    "## Metodi basati sugli autovalori\n",
    "\n",
    "Sono stati proposti quattro criteri basati sugli autovalori per determinare il numero $m$ di\n",
    "fattori da estrarre (Rencher, 2002).\n",
    "\n",
    "-   Scegliere $m$ tale per cui la varianza spiegata dal modello\n",
    "    fattoriale superi una soglia predeterminata, per esempio l'80% della\n",
    "    varianza totale, $tr(\\textbf{S})$ o $tr(\\textbf{R})$.\n",
    "-   Scegliere $m$ uguale al numero di autovalori aventi un valore\n",
    "    maggiore del valore medio degli autovalori. Per **R** il valore\n",
    "    medio degli autovalori è $1$; per **S** è $\\sum_{j=1}^p \\theta_j/p$.\n",
    "-   Usare lo *scree test*.\n",
    "-   Mediante la statistica $\\chi^2$, valutare l'ipotesi che $m$ sia il numero corretto di fattori,\n",
    "    $H_0: \\boldsymbol{\\Sigma} =  \\boldsymbol{\\Lambda}\n",
    "      \\boldsymbol{\\Lambda}^{\\mathsf{T}} +  \\boldsymbol{\\Psi}$,\n",
    "    dove $\\boldsymbol{\\Lambda}$ è di ordine $p \\times m$.\n",
    "\n",
    "### Quota di varianza spiegata\n",
    "\n",
    "Il primo criterio si applica soprattutto al metodo delle componenti\n",
    "principali. La proporzione della varianza capionaria spiegata dal\n",
    "fattore $j$-esimo estratto da **S** è uguale a\n",
    "\n",
    "$$\\sum_{i=i}^p \\hat{\\lambda}_{ij}^2 / tr(\\textbf{S}).$$ \n",
    "\n",
    "Nel caso in cui\n",
    "i fattori vengano estratti da **R** avremo\n",
    "\n",
    "$$\\sum_{i=i}^p \\hat{\\lambda}_{ij}^2 / p.$$\n",
    "\n",
    "Nel caso di fattori incorrelati, ciascun fattore contribuisce con una\n",
    "quota complessiva di varianza spiegata pari alla somma dei quadrati\n",
    "delle saturazioni fattoriali contenute nella matrice\n",
    "$\\hat{\\boldsymbol{\\Lambda}}$:\n",
    "$\\sum_{i=1}^p\\sum_{j=1}^m\\hat{\\lambda}_{ij}^2$. Nel caso del metodo\n",
    "delle componenti principali, tale somma è anche uguale alla somma dei\n",
    "primi $m$ autovalori, o alla somma di tutte le $p$ comunalità:\n",
    "\n",
    "$$\\sum_{i=1}^p\\sum_{j=1}^m\\hat{\\lambda}_{ij}^2= \\sum_{i=1}^p \\hat{h}_i^2\n",
    "= \\sum_{j=1}^m \\theta_j$$\n",
    "\n",
    "Sulla base di queste considerazioni, il numero $m$ di fattori viene\n",
    "scelto in modo da spiegare una quota sufficientemente grande di **S** o\n",
    "$p$.\n",
    "\n",
    "Il numero dei fattori può essere determinato in questo modo anche nel\n",
    "caso in cui l'analisi fattoriale venga eseguita con il metodo dei\n",
    "fattori principali (ovvero, nel caso in cui vengano usate le stime delle\n",
    "comunalità per generare la matrice ridotta $\\textbf{S} -\n",
    "\\hat{\\boldsymbol{\\Psi}}$ o $\\textbf{R} - \\hat{\\boldsymbol{\\Psi}}$). In\n",
    "questo caso, però, è possibile che alcuni autovalori della matrice\n",
    "$\\textbf{S} - \\hat{\\boldsymbol{\\Psi}}$ o $\\textbf{R} -\n",
    "\\hat{\\boldsymbol{\\Psi}}$ assumano valore negativo. In tali circostanze,\n",
    "è possibile che la proporzione cumulativa della varianza\n",
    "$\\sum_{j=1}^m \\theta_j / \\sum_{j=1}^p \\theta_j$ assuma un valore\n",
    "maggiore di $1.0$ per $j < p$.\n",
    "\n",
    "La proporzione cumulativa della varianza si riduce poi a $1.0$ quando\n",
    "vengono considerati anche i successivi autovalori negativi. Di\n",
    "conseguenza, può succedere che, utilizzando la matrice\n",
    "$\\textbf{S} - \\hat{\\boldsymbol{\\Psi}}$ o\n",
    "$\\textbf{R} - \\hat{\\boldsymbol{\\Psi}}$, il criterio definito in base\n",
    "alla quota della varianza spiegata venga raggiunto per un valore $m$\n",
    "minore di quello che verrebbe trovato utilizzando la matrice **S** o\n",
    "**R**.\n",
    "\n",
    "Nel caso del metodo dei fattori principali iterato, $m$ viene\n",
    "specificato precedentemente a ciascuna iterazione e $\\sum_{i}\n",
    "\\hat{h}^2_i$ viene ottenuto dopo ciascuna iterazione calcolando\n",
    "$\\text{tr}(\\textbf{S} - \\hat{\\boldsymbol{\\Psi}})$. Per scegliere $m$,\n",
    "come per il metodo delle componenti principali, possono essere usati gli\n",
    "autovalori di **S** o **R**.\n",
    "\n",
    "### Valore medio degli autovalori\n",
    "\n",
    "Il calcolo del valore medio degli autovalori è una procedura euristica\n",
    "implementata in molti software. In una variante di tale metodo, $m$\n",
    "viene scelto in modo tale da uguagliare il numero degli autovalori\n",
    "positivi della matrice ridotta $\\textbf{R} - \\hat{\\boldsymbol{\\Psi}}$ (in tale matrice vi sono solitamente degli autovalori negativi). Tale variante ha però lo svantaggio di produrre\n",
    "solitamente un numero di fattori troppo grande.\n",
    "\n",
    "### Scree test\n",
    "\n",
    "Lo scree test si basa su un grafico che rappresenta gli autovalori di **S** o **R** ordinati in modo decrescente in funzione del numero dei fattori. I punti che rappresentano gli autovalori vengono collegati con una spezzata. Il valore m viene determinato in corrispondenza del fattore oltre il quale il dislivello tra fattori successivi diventa esiguo e la spezzata tende a diventare orizzontale.\n",
    "\n",
    "### Parallel analysis\n",
    "\n",
    "La Parallel Analysis è un metodo alternativo allo scree test[^1]. Nella\n",
    "Parallel Analysis, il criterio usato per decidere il numero di fattori\n",
    "da estrarre viene determinato dal confronto con la media degli\n",
    "autovalori generati da un campione casuale di variabili standardizzate.\n",
    "Tale confronto ha lo scopo di controllare le variazioni dovute agli\n",
    "errori di campionamento. Anche se, nel caso di variabili incorrelate,\n",
    "tutti gli autovalori di una matrice di correlazione dovrebbero avere un\n",
    "valore pari a uno, come conseguenza della variabilità campionaria in\n",
    "qualunque campione finito vi sono comunque uno o più autovalori empirici\n",
    "maggiori di uno.\n",
    "\n",
    "La procedura può essere illustrata mediante la seguente\n",
    "simulazione di Monte Carlo. Si consideri una matrice di correlazione\n",
    "calcolata su $p=10$ variabili casuali mutuamente indipendenti, ciascuna\n",
    "costituita da $n=20$ osservazioni."
   ]
  },
  {
   "cell_type": "code",
   "execution_count": null,
   "id": "4c2848e4",
   "metadata": {
    "vscode": {
     "languageId": "r"
    }
   },
   "outputs": [],
   "source": [
    "n <- 20\n",
    "nsim <- 1000\n",
    "e1 <- rep(0, nsim)\n",
    "for (i in 1:nsim) {\n",
    "  Y <- cbind(\n",
    "    rnorm(n), rnorm(n), rnorm(n), rnorm(n), rnorm(n),\n",
    "    rnorm(n), rnorm(n), rnorm(n), rnorm(n), rnorm(n)\n",
    "  )\n",
    "  e <- eigen(cor(Y))\n",
    "  e1[i] <- e$values[1]\n",
    "}\n",
    "max(e1)"
   ]
  },
  {
   "attachments": {},
   "cell_type": "markdown",
   "id": "118365c9",
   "metadata": {},
   "source": [
    "Per i dati di questa simulazione, l'autovalore maggiore ha un valore\n",
    "pari a $3.53$, anche se i dati sono del tutto casuali. La Parallel\n",
    "Analysis tiene conto di questo fatto e determina $m$ confrontando gli\n",
    "autovalori empirici con le loro \"controparti casuali.\" Vanno a\n",
    "determinare $m$ solo gli autovalori empirici che hanno un valore\n",
    "superiore ai corrispondenti autovalori generati da una matrice di dati\n",
    "dello stesso ordine composta da colonne mutualmente incorrelate. Nel\n",
    "caso dell'esempio presente, per esempio, l'autovalore maggiore dovrà\n",
    "avere un valore maggiore di $3.53$."
   ]
  },
  {
   "attachments": {},
   "cell_type": "markdown",
   "id": "e9e09bd3",
   "metadata": {},
   "source": [
    "## Metodi basati sul confronto tra modelli\n",
    "\n",
    "Il confronto tra modelli può essere eseguito usando varie statistiche. Una scelta popolare per stimare il numero di fattori nella EFA è il Criterio d’Informazione Bayesiano (BIC; Schwarz, 1978), introdotto come un miglioramento rispetto al Criterio d’Informazione di Akaike (AIC; Akaike, 1973). Un’alternativa è l’indice RMSEA, che può essere considerato come una stima della mancanza di adattamento che tiene in considerazione i gradi di libertà del modello (Browne e Cudeck, 1992). Un altro metodo di questo tipo è il test Minimum Average Partial (MAP), che stima le correlazioni parziali residue medie per diversi numeri di fattori e seleziona quello con il valore più basso (Velicer, 1976). \n",
    "\n",
    "### Test del rapporto di verosimiglianze\n",
    "\n",
    "Consideriamo il confronto tra modelli più semplice, ovvero quello basato sulla statistica $\\chi^2$.\n",
    "Se si assume la normalità distributiva dei dati è possibile valutare la\n",
    "bontà di adattamento attraverso il test del rapporto di verosimiglianze.\n",
    "L'ipotesi nulla postula che la matrice di covarianza delle $Y$ abbia la\n",
    "forma specificata dal modello fattoriale, ossia\n",
    "\n",
    "$$\n",
    "H_0: \\boldsymbol{\\Sigma} =  \\boldsymbol{\\Lambda}\n",
    "  \\boldsymbol{\\Lambda}^{\\mathsf{T}} +  \\boldsymbol{\\Psi},\n",
    "$$\n",
    "  \n",
    "ovvero che $m$ fattori comuni siano sufficienti per spiegare la\n",
    "struttura di interdipendenza della variabile casuale $Y$ oggetto di\n",
    "osservazione campionaria. L'alternativa è che $m$ fattori comuni non\n",
    "siano sufficienti per riprodurre $\\boldsymbol{\\Sigma}$\n",
    "\n",
    "$$\n",
    "H_1: \\boldsymbol{\\Sigma} \\neq  \\boldsymbol{\\Lambda}\n",
    "  \\boldsymbol{\\Lambda}^{\\mathsf{T}} +  \\boldsymbol{\\Psi},\n",
    "$$\n",
    "  \n",
    "dove $\\boldsymbol{\\Lambda}$ è di ordine $p \\times m$. Se l'ipotesi nulla\n",
    "non viene rifiutata vuol dire che il modello fornisce un buon\n",
    "adattamento ai dati.\n",
    "\n",
    "Sotto l'ipotesi nulla, il test ha una distribuzione asintotica, per\n",
    "$n \\rightarrow \\infty$, di tipo chi quadrato con gradi di libertà pari\n",
    "a: \n",
    "\n",
    "$$\\nu=\\frac{1}{2}\\left[ (p-m)^2 - (p - m) \\right].$$ \n",
    "\n",
    "Il rifiuto di $H_0$ implica che $m$ è troppo piccolo e un numero maggiore di fattori è\n",
    "necessario. \n",
    "\n",
    "Solitamente si inizia l'analisi considerando un numero di\n",
    "fattori molto piccolo: $m^*=1$ e si prende come ipotesi per il test che\n",
    "il numero di fattori sia $m^*$. Se l'ipotesi nulla è accettata il\n",
    "procedimento si arresta, altrimenti si passa a considerare $m^* + 1$\n",
    "fattori e si prosegue con lo stesso ragionamento. Il procedimento si\n",
    "arresta non appena si verifica una delle seguenti situazioni: è stata\n",
    "accettata l'ipotesi $H_0$ per un certo valore di $m$, oppure,\n",
    "$\\nu=\\frac{1}{2}\\left[ (p-m)^2 - (p - m) \\right]=0$, ossia la variabile\n",
    "$\\chi^2$ dovrebbe avere zero gradi di libertà, che non è possibile. Per poter applicare il test che determina il buon grado di adattamento del modello fattoriale occorre che i gradi di libertà della statistica del chi-quadrato siano positivi. \n",
    "\n",
    "In pratica, quando $n$ è grande, il test basato sul rapporto di verosimiglianze rivela un numero di fattori maggiore degli altri metodi descritti in precedenza. Alcuni considerano\n",
    "dunque il valore $m$ indicato dal test quale limite superiore del numero\n",
    "dei fattori che rivestono una qualche importanza pratica.\n",
    "\n",
    "Un limite della procedura basata su $\\chi^2$ è che questa statistica è fortemente dipendente dalle dimensioni del campione.\n",
    "\n",
    "Se si usa lavaan, è possibile ricavare le statistiche AIC, BIC e RMSEA. Come per il $\\chi^2$ è possibile calcolare il valore di queste statistiche in funzione del numero dei fattori. Gli indici AIC, BIC e RMSEA non consentono un test statistico per il confronto tra modelli. Se si effettua una scelta in base a tali criteri, si sceglie la soluzione a cui è associato il valore più piccolo di AIC, BIC o RMSEA. \n",
    "\n",
    "### Minimizzazione dell'out-of-sample prediction error\n",
    "\n",
    "Recentemente è stato proposto un nuovo metodo per stimare il numero di fattori in EFA che affronta il problema come un problema di selezione del modello {cite:p}`haslbeck2022estimating`. L’obiettivo è confrontare i modelli con 1, 2, …, p fattori, dove $p$ è il numero di variabili, e selezionare il modello con l’errore di previsione atteso più basso nella popolazione. Tuttavia, questo è un compito non banale perché il modello che minimizza l’errore di previsione nel campione non minimizza sempre l’errore di previsione nella popolazione. \n",
    "\n",
    "Intuitivamente, questo problema viene affrontato suddividendo il campione di dati in due insiemi: un set di training e un set di test. Il set di training viene utilizzato per stimare i parametri del modello, le cui previsioni vengono poi verificate utilizzando i dati di test (non utilizzati per la stima dei parametri). Questo calcolo dell’errore di previsione fuori campione viene ripetuto diverse volte, suddividendo ogni volta in modo casuale il campione negli insiemi di training e test. Tale metodo per stimare il numero di fattori è implementato nel pacchetto R `fspe`."
   ]
  },
  {
   "attachments": {},
   "cell_type": "markdown",
   "id": "0cc49d65",
   "metadata": {},
   "source": [
    "**Esempio.** Per confrontare i quattro metodi discussi per la scelta del numero $m$\n",
    "di fattori usiamo qui una matrice di correlazioni calcolata sulle sottoscale della WAIS. Le 11 sottoscale del test sono le seguenti:\n",
    "\n",
    "- X1 = Information\n",
    "- X2 = Comprehension\n",
    "- X3 = Arithmetic\n",
    "- X4 = Similarities\n",
    "- X5 = Digit.span\n",
    "- X6 = Vocabulary\n",
    "- X7 = Digit.symbol\n",
    "- X8 = Picture.completion\n",
    "- X9 = Block.design\n",
    "- X10 = Picture.arrangement\n",
    "- X11 = Object.\n",
    "\n",
    "I dati sono stati ottenuti dal manuale della III edizione."
   ]
  },
  {
   "cell_type": "code",
   "execution_count": 3,
   "id": "ea9231ed",
   "metadata": {
    "vscode": {
     "languageId": "r"
    }
   },
   "outputs": [
    {
     "data": {
      "text/html": [
       "<table class=\"dataframe\">\n",
       "<caption>A matrix: 11 × 11 of type dbl</caption>\n",
       "<thead>\n",
       "\t<tr><th></th><th scope=col>IN</th><th scope=col>CO</th><th scope=col>AR</th><th scope=col>SI</th><th scope=col>DS</th><th scope=col>VO</th><th scope=col>SY</th><th scope=col>PC</th><th scope=col>BD</th><th scope=col>PA</th><th scope=col>OA</th></tr>\n",
       "</thead>\n",
       "<tbody>\n",
       "\t<tr><th scope=row>IN</th><td>1.00</td><td>0.67</td><td>0.62</td><td>0.66</td><td>0.47</td><td>0.81</td><td>0.47</td><td>0.60</td><td>0.49</td><td>0.51</td><td>0.41</td></tr>\n",
       "\t<tr><th scope=row>CO</th><td>0.67</td><td>1.00</td><td>0.54</td><td>0.60</td><td>0.39</td><td>0.72</td><td>0.40</td><td>0.54</td><td>0.45</td><td>0.49</td><td>0.38</td></tr>\n",
       "\t<tr><th scope=row>AR</th><td>0.62</td><td>0.54</td><td>1.00</td><td>0.51</td><td>0.51</td><td>0.58</td><td>0.41</td><td>0.46</td><td>0.48</td><td>0.43</td><td>0.37</td></tr>\n",
       "\t<tr><th scope=row>SI</th><td>0.66</td><td>0.60</td><td>0.51</td><td>1.00</td><td>0.41</td><td>0.68</td><td>0.49</td><td>0.56</td><td>0.50</td><td>0.50</td><td>0.41</td></tr>\n",
       "\t<tr><th scope=row>DS</th><td>0.47</td><td>0.39</td><td>0.51</td><td>0.41</td><td>1.00</td><td>0.45</td><td>0.45</td><td>0.42</td><td>0.39</td><td>0.42</td><td>0.31</td></tr>\n",
       "\t<tr><th scope=row>VO</th><td>0.81</td><td>0.72</td><td>0.58</td><td>0.68</td><td>0.45</td><td>1.00</td><td>0.49</td><td>0.57</td><td>0.46</td><td>0.52</td><td>0.40</td></tr>\n",
       "\t<tr><th scope=row>SY</th><td>0.47</td><td>0.40</td><td>0.41</td><td>0.49</td><td>0.45</td><td>0.49</td><td>1.00</td><td>0.50</td><td>0.50</td><td>0.52</td><td>0.46</td></tr>\n",
       "\t<tr><th scope=row>PC</th><td>0.60</td><td>0.54</td><td>0.46</td><td>0.56</td><td>0.42</td><td>0.57</td><td>0.50</td><td>1.00</td><td>0.61</td><td>0.59</td><td>0.51</td></tr>\n",
       "\t<tr><th scope=row>BD</th><td>0.49</td><td>0.45</td><td>0.48</td><td>0.50</td><td>0.39</td><td>0.46</td><td>0.50</td><td>0.61</td><td>1.00</td><td>0.54</td><td>0.59</td></tr>\n",
       "\t<tr><th scope=row>PA</th><td>0.51</td><td>0.49</td><td>0.43</td><td>0.50</td><td>0.42</td><td>0.52</td><td>0.52</td><td>0.59</td><td>0.54</td><td>1.00</td><td>0.46</td></tr>\n",
       "\t<tr><th scope=row>OA</th><td>0.41</td><td>0.38</td><td>0.37</td><td>0.41</td><td>0.31</td><td>0.40</td><td>0.46</td><td>0.51</td><td>0.59</td><td>0.46</td><td>1.00</td></tr>\n",
       "</tbody>\n",
       "</table>\n"
      ],
      "text/latex": [
       "A matrix: 11 × 11 of type dbl\n",
       "\\begin{tabular}{r|lllllllllll}\n",
       "  & IN & CO & AR & SI & DS & VO & SY & PC & BD & PA & OA\\\\\n",
       "\\hline\n",
       "\tIN & 1.00 & 0.67 & 0.62 & 0.66 & 0.47 & 0.81 & 0.47 & 0.60 & 0.49 & 0.51 & 0.41\\\\\n",
       "\tCO & 0.67 & 1.00 & 0.54 & 0.60 & 0.39 & 0.72 & 0.40 & 0.54 & 0.45 & 0.49 & 0.38\\\\\n",
       "\tAR & 0.62 & 0.54 & 1.00 & 0.51 & 0.51 & 0.58 & 0.41 & 0.46 & 0.48 & 0.43 & 0.37\\\\\n",
       "\tSI & 0.66 & 0.60 & 0.51 & 1.00 & 0.41 & 0.68 & 0.49 & 0.56 & 0.50 & 0.50 & 0.41\\\\\n",
       "\tDS & 0.47 & 0.39 & 0.51 & 0.41 & 1.00 & 0.45 & 0.45 & 0.42 & 0.39 & 0.42 & 0.31\\\\\n",
       "\tVO & 0.81 & 0.72 & 0.58 & 0.68 & 0.45 & 1.00 & 0.49 & 0.57 & 0.46 & 0.52 & 0.40\\\\\n",
       "\tSY & 0.47 & 0.40 & 0.41 & 0.49 & 0.45 & 0.49 & 1.00 & 0.50 & 0.50 & 0.52 & 0.46\\\\\n",
       "\tPC & 0.60 & 0.54 & 0.46 & 0.56 & 0.42 & 0.57 & 0.50 & 1.00 & 0.61 & 0.59 & 0.51\\\\\n",
       "\tBD & 0.49 & 0.45 & 0.48 & 0.50 & 0.39 & 0.46 & 0.50 & 0.61 & 1.00 & 0.54 & 0.59\\\\\n",
       "\tPA & 0.51 & 0.49 & 0.43 & 0.50 & 0.42 & 0.52 & 0.52 & 0.59 & 0.54 & 1.00 & 0.46\\\\\n",
       "\tOA & 0.41 & 0.38 & 0.37 & 0.41 & 0.31 & 0.40 & 0.46 & 0.51 & 0.59 & 0.46 & 1.00\\\\\n",
       "\\end{tabular}\n"
      ],
      "text/markdown": [
       "\n",
       "A matrix: 11 × 11 of type dbl\n",
       "\n",
       "| <!--/--> | IN | CO | AR | SI | DS | VO | SY | PC | BD | PA | OA |\n",
       "|---|---|---|---|---|---|---|---|---|---|---|---|\n",
       "| IN | 1.00 | 0.67 | 0.62 | 0.66 | 0.47 | 0.81 | 0.47 | 0.60 | 0.49 | 0.51 | 0.41 |\n",
       "| CO | 0.67 | 1.00 | 0.54 | 0.60 | 0.39 | 0.72 | 0.40 | 0.54 | 0.45 | 0.49 | 0.38 |\n",
       "| AR | 0.62 | 0.54 | 1.00 | 0.51 | 0.51 | 0.58 | 0.41 | 0.46 | 0.48 | 0.43 | 0.37 |\n",
       "| SI | 0.66 | 0.60 | 0.51 | 1.00 | 0.41 | 0.68 | 0.49 | 0.56 | 0.50 | 0.50 | 0.41 |\n",
       "| DS | 0.47 | 0.39 | 0.51 | 0.41 | 1.00 | 0.45 | 0.45 | 0.42 | 0.39 | 0.42 | 0.31 |\n",
       "| VO | 0.81 | 0.72 | 0.58 | 0.68 | 0.45 | 1.00 | 0.49 | 0.57 | 0.46 | 0.52 | 0.40 |\n",
       "| SY | 0.47 | 0.40 | 0.41 | 0.49 | 0.45 | 0.49 | 1.00 | 0.50 | 0.50 | 0.52 | 0.46 |\n",
       "| PC | 0.60 | 0.54 | 0.46 | 0.56 | 0.42 | 0.57 | 0.50 | 1.00 | 0.61 | 0.59 | 0.51 |\n",
       "| BD | 0.49 | 0.45 | 0.48 | 0.50 | 0.39 | 0.46 | 0.50 | 0.61 | 1.00 | 0.54 | 0.59 |\n",
       "| PA | 0.51 | 0.49 | 0.43 | 0.50 | 0.42 | 0.52 | 0.52 | 0.59 | 0.54 | 1.00 | 0.46 |\n",
       "| OA | 0.41 | 0.38 | 0.37 | 0.41 | 0.31 | 0.40 | 0.46 | 0.51 | 0.59 | 0.46 | 1.00 |\n",
       "\n"
      ],
      "text/plain": [
       "   IN   CO   AR   SI   DS   VO   SY   PC   BD   PA   OA  \n",
       "IN 1.00 0.67 0.62 0.66 0.47 0.81 0.47 0.60 0.49 0.51 0.41\n",
       "CO 0.67 1.00 0.54 0.60 0.39 0.72 0.40 0.54 0.45 0.49 0.38\n",
       "AR 0.62 0.54 1.00 0.51 0.51 0.58 0.41 0.46 0.48 0.43 0.37\n",
       "SI 0.66 0.60 0.51 1.00 0.41 0.68 0.49 0.56 0.50 0.50 0.41\n",
       "DS 0.47 0.39 0.51 0.41 1.00 0.45 0.45 0.42 0.39 0.42 0.31\n",
       "VO 0.81 0.72 0.58 0.68 0.45 1.00 0.49 0.57 0.46 0.52 0.40\n",
       "SY 0.47 0.40 0.41 0.49 0.45 0.49 1.00 0.50 0.50 0.52 0.46\n",
       "PC 0.60 0.54 0.46 0.56 0.42 0.57 0.50 1.00 0.61 0.59 0.51\n",
       "BD 0.49 0.45 0.48 0.50 0.39 0.46 0.50 0.61 1.00 0.54 0.59\n",
       "PA 0.51 0.49 0.43 0.50 0.42 0.52 0.52 0.59 0.54 1.00 0.46\n",
       "OA 0.41 0.38 0.37 0.41 0.31 0.40 0.46 0.51 0.59 0.46 1.00"
      ]
     },
     "metadata": {},
     "output_type": "display_data"
    }
   ],
   "source": [
    "varnames <- c(\"IN\", \"CO\", \"AR\", \"SI\", \"DS\", \"VO\", \"SY\", \"PC\", \n",
    "              \"BD\", \"PA\", \"OA\", \"AG\", \"ED\")\n",
    "temp <- matrix(c(\n",
    "\t1,0.67,0.62,0.66,0.47,0.81,0.47,0.60,0.49,0.51,0.41,\n",
    "\t-0.07,0.66,.67,1,0.54,0.60,0.39,0.72,0.40,0.54,0.45,\n",
    "\t0.49,0.38,-0.08,0.52,.62,.54,1,0.51,0.51,0.58,0.41,\n",
    "\t0.46,0.48,0.43,0.37,-0.08,0.49,.66,.60,.51,1,0.41,\n",
    "\t0.68,0.49,0.56,0.50,0.50,0.41,-0.19,0.55,.47,.39,.51,\n",
    "\t.41,1,0.45,0.45,0.42,0.39,0.42,0.31,-0.19,0.43,\n",
    "\t.81,.72,.58,.68,.45,1,0.49,0.57,0.46,0.52,0.40,-0.02,\n",
    "\t0.62,.47,.40,.41,.49,.45,.49,1,0.50,0.50,0.52,0.46,\n",
    "\t-0.46,0.57,.60,.54,.46,.56,.42,.57,.50,1,0.61,0.59,\n",
    "\t0.51,-0.28,0.48,.49,.45,.48,.50,.39,.46,.50,.61,1,\n",
    "\t0.54,0.59,-0.32,0.44,.51,.49,.43,.50,.42,.52,.52,.59,\n",
    "\t.54,1,0.46,-0.37,0.49,.41,.38,.37,.41,.31,.40,.46,.51,\n",
    "\t.59,.46,1,-0.28,0.40,-.07,-.08,-.08,-.19,-.19,-.02,\n",
    "\t-.46,-.28,-.32,-.37,-.28,1,-0.29,.66,.52,.49,.55,.43,\n",
    "\t.62,.57,.48,.44,.49,.40,-.29,1\n",
    "), nrow=13, ncol=13, byrow=TRUE)\n",
    "\n",
    "colnames(temp) <- varnames\n",
    "rownames(temp) <- varnames\n",
    "\n",
    "wais_cor <- temp[1:11, 1:11]\n",
    "wais_cor"
   ]
  },
  {
   "attachments": {},
   "cell_type": "markdown",
   "id": "0df94788",
   "metadata": {},
   "source": [
    "Il primo metodo per la determinazione di $m$ richiede di estrarre tanti\n",
    "fattori quanti sono necessari per spiegare una quota predeterminata\n",
    "della varianza totale. Supponiamo di porre il criterio pari all'80%\n",
    "della varianza totale. La soluzione ottenuta in questo modo ci\n",
    "porterebbe a mantenere $m=5$ fattori:"
   ]
  },
  {
   "cell_type": "code",
   "execution_count": 4,
   "id": "676e2006",
   "metadata": {
    "vscode": {
     "languageId": "r"
    }
   },
   "outputs": [
    {
     "data": {
      "text/html": [
       "0.765678107076221"
      ],
      "text/latex": [
       "0.765678107076221"
      ],
      "text/markdown": [
       "0.765678107076221"
      ],
      "text/plain": [
       "[1] 0.7656781"
      ]
     },
     "metadata": {},
     "output_type": "display_data"
    },
    {
     "data": {
      "text/html": [
       "0.811885250571924"
      ],
      "text/latex": [
       "0.811885250571924"
      ],
      "text/markdown": [
       "0.811885250571924"
      ],
      "text/plain": [
       "[1] 0.8118853"
      ]
     },
     "metadata": {},
     "output_type": "display_data"
    }
   ],
   "source": [
    "out <- eigen(wais_cor)\n",
    "sum(out$val[1:4]) / sum(out$val)\n",
    "sum(out$val[1:5]) / sum(out$val)"
   ]
  },
  {
   "attachments": {},
   "cell_type": "markdown",
   "id": "5aeac7f7",
   "metadata": {},
   "source": [
    "Il secondo metodo suggerisce di mantenere tutti gli autovalori superiori\n",
    "al valore medio degli autovalori (che, nel caso di **R** è uguale a\n",
    "$1$). Nel caso presente, $m=2$:"
   ]
  },
  {
   "cell_type": "code",
   "execution_count": 5,
   "id": "82b17d37",
   "metadata": {
    "vscode": {
     "languageId": "r"
    }
   },
   "outputs": [
    {
     "name": "stdout",
     "output_type": "stream",
     "text": [
      " [1] 6.074 1.015 0.746 0.587 0.508 0.431 0.423 0.377 0.351 0.310 0.177\n"
     ]
    }
   ],
   "source": [
    "print(round(out$values, 3))"
   ]
  },
  {
   "attachments": {},
   "cell_type": "markdown",
   "id": "9b501031",
   "metadata": {},
   "source": [
    "Il terzo metodo, lo scree test, può essere eseguito usando la funzione\n",
    "`VSS.scree()` contenuta nel pacchetto `psych`."
   ]
  },
  {
   "cell_type": "code",
   "execution_count": 6,
   "id": "4c5859eb",
   "metadata": {
    "vscode": {
     "languageId": "r"
    }
   },
   "outputs": [
    {
     "data": {
      "image/png": "[encoded data removed]",
      "text/plain": [
       "Plot with title “scree plot”"
      ]
     },
     "metadata": {
      "image/png": {
       "height": 420,
       "width": 420
      }
     },
     "output_type": "display_data"
    }
   ],
   "source": [
    "VSS.scree(wais_cor)"
   ]
  },
  {
   "attachments": {},
   "cell_type": "markdown",
   "id": "338c5f11",
   "metadata": {},
   "source": [
    "Lo scree test suggerisce una soluzione a $m=1$ fattori, come indicato\n",
    "nella figura precedente. \n",
    "\n",
    "Il terzo metodo, nella versione della Parallel Analysis, può essere eseguito usando la funzione `paran()` contenuta nel pacchetto `paran`. La Parallel Analysis indica una soluzione a $m=1$\n",
    "fattore."
   ]
  },
  {
   "cell_type": "code",
   "execution_count": null,
   "id": "751d586a",
   "metadata": {
    "lines_to_next_cell": 2,
    "vscode": {
     "languageId": "r"
    }
   },
   "outputs": [],
   "source": [
    "paran(wais_cor, graph = TRUE)"
   ]
  },
  {
   "attachments": {},
   "cell_type": "markdown",
   "id": "a540dd42",
   "metadata": {},
   "source": [
    "Il quarto metodo consiste nell'applicazione di un test inferenziale\n",
    "relativo al numero di fattori. Questo metodo indica una soluzione\n",
    "a sei fattori:"
   ]
  },
  {
   "cell_type": "code",
   "execution_count": 7,
   "id": "58cbb73e",
   "metadata": {
    "vscode": {
     "languageId": "r"
    }
   },
   "outputs": [
    {
     "data": {
      "text/plain": [
       "\n",
       "Call:\n",
       "factanal(factors = 4, covmat = wais_cor, n.obs = 933)\n",
       "\n",
       "Uniquenesses:\n",
       "   IN    CO    AR    SI    DS    VO    SY    PC    BD    PA    OA \n",
       "0.229 0.387 0.005 0.416 0.645 0.137 0.005 0.375 0.331 0.492 0.519 \n",
       "\n",
       "Loadings:\n",
       "   Factor1 Factor2 Factor3 Factor4\n",
       "IN 0.758   0.306   0.279   0.157  \n",
       "CO 0.672   0.312   0.229   0.107  \n",
       "AR 0.368   0.247   0.886   0.120  \n",
       "SI 0.602   0.376   0.193   0.207  \n",
       "DS 0.315   0.288   0.331   0.252  \n",
       "VO 0.851   0.242   0.208   0.192  \n",
       "SY 0.238   0.359   0.144   0.888  \n",
       "PC 0.432   0.623   0.143   0.172  \n",
       "BD 0.237   0.733   0.217   0.168  \n",
       "PA 0.367   0.539   0.150   0.245  \n",
       "OA 0.207   0.620   0.133   0.190  \n",
       "\n",
       "               Factor1 Factor2 Factor3 Factor4\n",
       "SS loadings      2.826   2.264   1.233   1.137\n",
       "Proportion Var   0.257   0.206   0.112   0.103\n",
       "Cumulative Var   0.257   0.463   0.575   0.678\n",
       "\n",
       "Test of the hypothesis that 4 factors are sufficient.\n",
       "The chi square statistic is 35.4 on 17 degrees of freedom.\n",
       "The p-value is 0.00551 "
      ]
     },
     "metadata": {},
     "output_type": "display_data"
    },
    {
     "data": {
      "text/plain": [
       "\n",
       "Call:\n",
       "factanal(factors = 5, covmat = wais_cor, n.obs = 933)\n",
       "\n",
       "Uniquenesses:\n",
       "   IN    CO    AR    SI    DS    VO    SY    PC    BD    PA    OA \n",
       "0.235 0.389 0.117 0.419 0.600 0.109 0.277 0.308 0.334 0.472 0.456 \n",
       "\n",
       "Loadings:\n",
       "   Factor1 Factor2 Factor3 Factor4 Factor5\n",
       "IN  0.745   0.264   0.301   0.192   0.118 \n",
       "CO  0.667   0.278   0.244   0.129   0.111 \n",
       "AR  0.378   0.236   0.814   0.145         \n",
       "SI  0.591   0.332   0.207   0.252   0.121 \n",
       "DS  0.288   0.208   0.366   0.341   0.155 \n",
       "VO  0.865   0.216   0.207   0.229         \n",
       "SY  0.251   0.364   0.153   0.708         \n",
       "PC  0.425   0.548   0.156   0.216   0.375 \n",
       "BD  0.246   0.708   0.230   0.201   0.107 \n",
       "PA  0.355   0.457   0.163   0.325   0.245 \n",
       "OA  0.211   0.664   0.128   0.205         \n",
       "\n",
       "               Factor1 Factor2 Factor3 Factor4 Factor5\n",
       "SS loadings      2.799   1.986   1.176   1.043   0.280\n",
       "Proportion Var   0.254   0.181   0.107   0.095   0.025\n",
       "Cumulative Var   0.254   0.435   0.542   0.637   0.662\n",
       "\n",
       "Test of the hypothesis that 5 factors are sufficient.\n",
       "The chi square statistic is 12.46 on 10 degrees of freedom.\n",
       "The p-value is 0.256 "
      ]
     },
     "metadata": {},
     "output_type": "display_data"
    }
   ],
   "source": [
    "factanal(covmat=wais_cor, factors=4, n.obs=933)\n",
    "factanal(covmat=wais_cor, factors=5, n.obs=933)"
   ]
  },
  {
   "attachments": {},
   "cell_type": "markdown",
   "id": "b28f7d6f",
   "metadata": {},
   "source": [
    "Considero qui un esempio del metodo basato sulla minimizzazione dell'errore di previsione. Non è possibile applicare tale metodo ai dati dell'esempio in quanto è necessario disporre dei dati grezzi )(la matrice di correlazioni non è sufficiente). Useremo dunque un set di dati diverso (`holzinger19`), allo scopo di illustrare la procedura."
   ]
  },
  {
   "cell_type": "code",
   "execution_count": 13,
   "id": "b9a55cc8",
   "metadata": {
    "vscode": {
     "languageId": "r"
    }
   },
   "outputs": [
    {
     "name": "stdout",
     "output_type": "stream",
     "text": [
      "  |----------------------------------------------------------------------| 100%"
     ]
    },
    {
     "data": {
      "text/html": [
       "4"
      ],
      "text/latex": [
       "4"
      ],
      "text/markdown": [
       "4"
      ],
      "text/plain": [
       "[1] 4"
      ]
     },
     "metadata": {},
     "output_type": "display_data"
    }
   ],
   "source": [
    "data(holzinger19)\n",
    "\n",
    "suppressWarnings(\n",
    "    fspe_out <- fspe(\n",
    "        data = holzinger19,\n",
    "        maxK = 10,\n",
    "        nfold = 10,\n",
    "        rep = 10,\n",
    "        method = \"PE\"\n",
    "    )\n",
    ")"
   ]
  },
  {
   "cell_type": "code",
   "execution_count": 14,
   "id": "0db26928",
   "metadata": {
    "vscode": {
     "languageId": "r"
    }
   },
   "outputs": [
    {
     "data": {
      "image/png": "[encoded data removed]",
      "text/plain": [
       "plot without title"
      ]
     },
     "metadata": {
      "image/png": {
       "height": 420,
       "width": 420
      }
     },
     "output_type": "display_data"
    }
   ],
   "source": [
    "par(mar=c(4,4,1,1))\n",
    "plot.new()\n",
    "plot.window(xlim=c(1, 10), ylim=c(.6, .8))\n",
    "axis(1, 1:10)\n",
    "axis(2, las=2)\n",
    "abline(h=min(fspe_out$PEs), col=\"grey\")\n",
    "lines(fspe_out$PEs, lty=2)\n",
    "points(fspe_out$PEs, pch=20, cex=1.5)\n",
    "title(xlab=\"Number of Factors\", ylab=\"Prediction Error\")"
   ]
  },
  {
   "attachments": {},
   "cell_type": "markdown",
   "id": "3608714f",
   "metadata": {},
   "source": [
    "Per i dati `holzinger19`, il metodo di {cite:t}`haslbeck2022estimating` produce dunque una soluzione a 4 fattori.\n",
    "\n",
    "## Considerazioni conclusive\n",
    "\n",
    "In conclusione, si noti che, per alcuni campioni di dati, la scelta del numero di fattori $m$ non è ovvia e questa indeterminazione costituisce un limite dell’analisi fattoriale. Solitamente, si utilizza un metodo per la scelta di $m$, come lo scree test, e si valuta la proporzione di varianza spiegata di ciascun item e l’interpretabilità della soluzione ottenuta dopo una rotazione appropriata. Se le comunalità o l’interpretabilità dei fattori non sembrano adeguati, si può procedere con un numero maggiore di fattori. Tuttavia, questa procedura è soggettiva e i limiti della soluzione ottenuta sono evidenti. In altri campioni di dati, la scelta di $m$ può essere più certa quando tutti i metodi forniscono la stessa risposta."
   ]
  }
 ],
 "metadata": {
  "jupytext": {
   "cell_metadata_filter": "tags,-all",
   "main_language": "R",
   "notebook_metadata_filter": "-all"
  },
  "kernelspec": {
   "display_name": "R",
   "language": "R",
   "name": "ir"
  },
  "language_info": {
   "codemirror_mode": "r",
   "file_extension": ".r",
   "mimetype": "text/x-r-source",
   "name": "R",
   "pygments_lexer": "r",
   "version": "4.2.2"
  }
 },
 "nbformat": 4,
 "nbformat_minor": 5
}
