{
 "cells": [
  {
   "attachments": {},
   "cell_type": "markdown",
   "id": "0199fe1d",
   "metadata": {},
   "source": [
    "(number-factors-notebook)=\n",
    "# Il numero dei fattori "
   ]
  },
  {
   "cell_type": "code",
   "execution_count": null,
   "id": "832435d0",
   "metadata": {
    "tags": [
     "remove_cell"
    ],
    "vscode": {
     "languageId": "r"
    }
   },
   "outputs": [],
   "source": [
    "source(\"_common.R\")\n",
    "library(\"psych\")"
   ]
  },
  {
   "attachments": {},
   "cell_type": "markdown",
   "id": "0ea319d2",
   "metadata": {},
   "source": [
    "Sono stati proposti quattro criteri per determinare il numero $m$ di\n",
    "fattori da estrarre (Rencher, 2002). Tali criteri sono elencati di\n",
    "seguito.\n",
    "\n",
    "-   Scegliere $m$ tale per cui la varianza spiegata dal modello\n",
    "    fattoriale superi una soglia predeterminata, per esempio l'80% della\n",
    "    varianza totale, $tr(\\textbf{S})$ o $tr(\\textbf{R})$.\n",
    "-   Scegliere $m$ uguale al numero di autovalori aventi un valore\n",
    "    maggiore del valore medio degli autovalori. Per **R** il valore\n",
    "    medio degli autovalori è $1$; per **S** è $\\sum_{j=1}^p \\theta_j/p$.\n",
    "-   Usare lo *scree test*.\n",
    "-   Valutare l'ipotesi che $m$ sia il numero corretto di fattori,\n",
    "    $H_0: \\boldsymbol{\\Sigma} =  \\boldsymbol{\\Lambda}\n",
    "      \\boldsymbol{\\Lambda}^{\\mathsf{T}} +  \\boldsymbol{\\Psi}$,\n",
    "    dove $\\boldsymbol{\\Lambda}$ è di ordine $p \\times m$.\n",
    "\n",
    "## Quota di varianza spiegata\n",
    "\n",
    "Il primo criterio si applica soprattutto al metodo delle componenti\n",
    "principali. La proporzione della varianza capionaria spiegata dal\n",
    "fattore $j$-esimo estratto da **S** è uguale a\n",
    "\n",
    "$$\\sum_{i=i}^p \\hat{\\lambda}_{ij}^2 / tr(\\textbf{S}).$$ \n",
    "\n",
    "Nel caso in cui\n",
    "i fattori vengano estratti da **R** avremo\n",
    "\n",
    "$$\\sum_{i=i}^p \\hat{\\lambda}_{ij}^2 / p.$$\n",
    "\n",
    "Nel caso di fattori incorrelati, ciascun fattore contribuisce con una\n",
    "quota complessiva di varianza spiegata pari alla somma dei quadrati\n",
    "delle saturazioni fattoriali contenute nella matrice\n",
    "$\\hat{\\boldsymbol{\\Lambda}}$:\n",
    "$\\sum_{i=1}^p\\sum_{j=1}^m\\hat{\\lambda}_{ij}^2$. Nel caso del metodo\n",
    "delle componenti principali, tale somma è anche uguale alla somma dei\n",
    "primi $m$ autovalori, o alla somma di tutte le $p$ comunalità:\n",
    "\n",
    "$$\\sum_{i=1}^p\\sum_{j=1}^m\\hat{\\lambda}_{ij}^2= \\sum_{i=1}^p \\hat{h}_i^2\n",
    "= \\sum_{j=1}^m \\theta_j$$\n",
    "\n",
    "Sulla base di queste considerazioni, il numero $m$ di fattori viene\n",
    "scelto in modo da spiegare una quota sufficientemente grande di **S** o\n",
    "$p$.\n",
    "\n",
    "Il numero dei fattori può essere determinato in questo modo anche nel\n",
    "caso in cui l'analisi fattoriale venga eseguita con il metodo dei\n",
    "fattori principali (ovvero, nel caso in cui vengano usate le stime delle\n",
    "comunalità per generare la matrice ridotta $\\textbf{S} -\n",
    "\\hat{\\boldsymbol{\\Psi}}$ o $\\textbf{R} - \\hat{\\boldsymbol{\\Psi}}$). In\n",
    "questo caso, però, è possibile che alcuni autovalori della matrice\n",
    "$\\textbf{S} - \\hat{\\boldsymbol{\\Psi}}$ o $\\textbf{R} -\n",
    "\\hat{\\boldsymbol{\\Psi}}$ assumano valore negativo. In tali circostanze,\n",
    "è possibile che la proporzione cumulativa della varianza\n",
    "$\\sum_{j=1}^m \\theta_j / \\sum_{j=1}^p \\theta_j$ assuma un valore\n",
    "maggiore di $1.0$ per $j < p$.\n",
    "\n",
    "La proporzione cumulativa della varianza si riduce poi a $1.0$ quando\n",
    "vengono considerati anche i successivi autovalori negativi. Di\n",
    "conseguenza, può succedere che, utilizzando la matrice\n",
    "$\\textbf{S} - \\hat{\\boldsymbol{\\Psi}}$ o\n",
    "$\\textbf{R} - \\hat{\\boldsymbol{\\Psi}}$, il criterio definito in base\n",
    "alla quota della varianza spiegata venga raggiunto per un valore $m$\n",
    "minore di quello che verrebbe trovato utilizzando la matrice **S** o\n",
    "**R**.\n",
    "\n",
    "Nel caso del metodo dei fattori principali iterato, $m$ viene\n",
    "specificato precedentemente a ciascuna iterazione e $\\sum_{i}\n",
    "\\hat{h}^2_i$ viene ottenuto dopo ciascuna iterazione calcolando\n",
    "$\\text{tr}(\\textbf{S} - \\hat{\\boldsymbol{\\Psi}})$. Per scegliere $m$,\n",
    "come per il metodo delle componenti principali, possono essere usati gli\n",
    "autovalori di **S** o **R**.\n",
    "\n",
    "## Valore medio degli autovalori\n",
    "\n",
    "Il calcolo del valore medio degli autovalori è una procedura euristica\n",
    "implementata in molti software. In una variante di tale metodo, $m$\n",
    "viene scelto in modo tale da uguagliare il numero degli autovalori\n",
    "positivi della matrice ridotta $\\textbf{R} - \\hat{\\boldsymbol{\\Psi}}$ (in tale matrice vi sono solitamente degli autovalori negativi). Tale variante ha però lo svantaggio di produrre\n",
    "solitamente un numero di fattori troppo grande.\n",
    "\n",
    "## Scree test\n",
    "\n",
    "Lo scree test è basato su una rappresentazione grafica degli autovalori\n",
    "di **S** o **R**. Si costruisce un grafico che rappresenta gli\n",
    "autovalori ordinati in maniera decrescente in funzione del numero dei\n",
    "fattori. I punti che rappresentano gli autovalori vengono collegati con\n",
    "una spezzata. Il valore $m$ viene determinato in corrispondenza di quel\n",
    "fattore oltre il quale il dislivello tra fattori successivi diventa\n",
    "esiguo e la spezzata tende a diventare orizzontale.\n",
    "\n",
    "## Parallel analysis\n",
    "\n",
    "La Parallel Analysis è un metodo alternativo allo scree test[^1]. Nella\n",
    "Parallel Analysis, il criterio usato per decidere il numero di fattori\n",
    "da estrarre viene determinato dal confronto con la media degli\n",
    "autovalori generati da un campione casuale di variabili standardizzate.\n",
    "Tale confronto ha lo scopo di controllare le variazioni dovute agli\n",
    "errori di campionamento. Anche se, nel caso di variabili incorrelate,\n",
    "tutti gli autovalori di una matrice di correlazione dovrebbero avere un\n",
    "valore pari a uno, come conseguenza della variabilità campionaria in\n",
    "qualunque campione finito vi sono comunque uno o più autovalori empirici\n",
    "maggiori di uno.\n",
    "\n",
    "Tale fatto può essere illustrato mediante la seguente\n",
    "simulazione di Monte Carlo. Si consideri una matrice di correlazione\n",
    "calcolata su $p=10$ variabili casuali mutuamente indipendenti, ciascuna\n",
    "costituita da $n=20$ osservazioni."
   ]
  },
  {
   "cell_type": "code",
   "execution_count": null,
   "id": "4c2848e4",
   "metadata": {
    "vscode": {
     "languageId": "r"
    }
   },
   "outputs": [],
   "source": [
    "n <- 20\n",
    "nsim <- 1000\n",
    "e1 <- rep(0, nsim)\n",
    "for (i in 1:nsim) {\n",
    "  Y <- cbind(\n",
    "    rnorm(n), rnorm(n), rnorm(n), rnorm(n), rnorm(n),\n",
    "    rnorm(n), rnorm(n), rnorm(n), rnorm(n), rnorm(n)\n",
    "  )\n",
    "  e <- eigen(cor(Y))\n",
    "  e1[i] <- e$values[1]\n",
    "}\n",
    "max(e1)"
   ]
  },
  {
   "attachments": {},
   "cell_type": "markdown",
   "id": "118365c9",
   "metadata": {},
   "source": [
    "Per i dati di questa simulazione, l'autovalore maggiore ha un valore\n",
    "pari a $3.53$, anche se i dati sono del tutto casuali. La Parallel\n",
    "Analysis tiene conto di questo fatto e determina $m$ confrontando gli\n",
    "autovalori empirici con le loro \"controparti casuali.\" Vanno a\n",
    "determinare $m$ solo gli autovalori empirici che hanno un valore\n",
    "superiore ai corrispondenti autovalori generati da una matrice di dati\n",
    "dello stesso ordine composta da colonne mutualmente incorrelate. Nel\n",
    "caso dell'esempio presente, per esempio, l'autovalore maggiore dovrà\n",
    "avere un valore maggiore di $3.53$ (anziché di $1.00$ o del punto di\n",
    "flesso della spezzata dello scree test).\n",
    "\n",
    "## Test di bontà di adattamento\n",
    "\n",
    "Se si assume la normalità distributiva dei dati è possibile valutare la\n",
    "bontà di adattamento attraverso il test del rapporto di verosimiglianze.\n",
    "L'ipotesi nulla postula che la matrice di covarianza delle $Y$ abbia la\n",
    "forma specificata dal modello fattoriale, ossia\n",
    "\n",
    "$$H_0: \\boldsymbol{\\Sigma} =  \\boldsymbol{\\Lambda}\n",
    "  \\boldsymbol{\\Lambda}^{\\mathsf{T}} +  \\boldsymbol{\\Psi},$$\n",
    "  \n",
    "ovvero che $m$ fattori comuni siano sufficienti per spiegare la\n",
    "struttura di interdipendenza della variabile casuale $Y$ oggetto di\n",
    "osservazione campionaria. L'alternativa è che $m$ fattori comuni non\n",
    "siano sufficienti a tale spiegazione\n",
    "\n",
    "$$H_1: \\boldsymbol{\\Sigma} \\neq  \\boldsymbol{\\Lambda}\n",
    "  \\boldsymbol{\\Lambda}^{\\mathsf{T}} +  \\boldsymbol{\\Psi},$$\n",
    "  \n",
    "dove $\\boldsymbol{\\Lambda}$ è di ordine $p \\times m$. Se l'ipotesi nulla\n",
    "non viene rifiutata vuol dire che il modello fornisce un buon\n",
    "adattamento ai dati.\n",
    "\n",
    "Sotto l'ipotesi nulla, il test ha una distribuzione asintotica, per\n",
    "$n \\rightarrow \\infty$, di tipo chi quadrato con gradi di libertà pari\n",
    "a: \n",
    "\n",
    "$$\\nu=\\frac{1}{2}\\left[ (p-m)^2 - (p - m) \\right].$$ \n",
    "\n",
    "Tale risultato di natura asintotica, valido per $n$ grande, può essere migliorato, per\n",
    "ottenere una approssimazione migliore, sostituendo $\\nu$ con:\n",
    "\n",
    "$$\\nu^* = n - 2 - \\frac{2p-1}{6}-\\frac{2}{3}m.$$ \n",
    "\n",
    "Il rifiuto di $H_0$ implica che $m$ è troppo piccolo e un numero maggiore di fattori è\n",
    "necessario. Solitamente si inizia l'analisi considerando un numero di\n",
    "fattori molto piccolo: $m^*=1$ e si prende come ipotesi per il test che\n",
    "il numero di fattori sia $m^*$. Se l'ipotesi nulla è accettata il\n",
    "procedimento si arresta, altrimenti si passa a considerare $m^* + 1$\n",
    "fattori e si prosegue con lo stesso ragionamento. Il procedimento si\n",
    "arresta non appena si verifica una delle seguenti situazioni: è stata\n",
    "accettata l'ipotesi $H_0$ per un certo valore di $m$, oppure,\n",
    "$\\nu=\\frac{1}{2}\\left[ (p-m)^2 - (p - m) \\right]=0$, ossia la variabile\n",
    "$\\chi^2$ dovrebbe avere zero gradi di libertà, che non è possibile.\n",
    "\n",
    "Per poter applicare il test che determina il buon grado di adattamento\n",
    "del modello fattoriale occorre che i gradi di libertà della statistica\n",
    "del chi-quadrato siano positivi. Questo sta a significare che il numero\n",
    "di fattori comuni non può superare il più grande numero intero che\n",
    "soddisfa la seguente equazione:\n",
    "\n",
    "$$m < \\frac{1}{2} \\left( 2p+1-\\sqrt{8p+1} \\right)$$ \n",
    "\n",
    "per un numero fissato $p$ di variabili manifeste. In pratica, quando $n$ è grande, il\n",
    "test basato sul rapporto di verosimiglianze rivela un numero di fattori\n",
    "maggiore degli altri metodi descritti in precedenza. Alcuni considerano\n",
    "dunque il valore $m$ indicato dal test quale limite superiore del numero\n",
    "dei fattori che rivestono una qualche importanza pratica.\n",
    "\n",
    "Per alcuni campioni di dati, la scelta di $m$ non è ovvia. Questa\n",
    "indeterminazione costituisce un limite dell'analisi fattoriale.\n",
    "Solitamente, si procede con utilizzando un certo metodo per la scelta di\n",
    "$m$ (diciamo lo scree test) e valuta la proporzione di varianza spiegata\n",
    "di ciascun item e, dopo un'appropriata rotazione, l'interpretabilità\n",
    "della soluzione ottenuta. Se le comunalità o l'interpretabilità dei\n",
    "fattori non sembrano adeguati, si procede con un numero maggiore di\n",
    "fattori. Tale procedura è certamente soggettiva e i limiti della\n",
    "soluzione che viene ottenuta sono evidenti.\n",
    "\n",
    "Per altri campioni di dati, la scelta di $m$ consente una maggiore\n",
    "certezza. Questo avviene quando tutti i metodi che abbiamo descritto\n",
    "prima forniscono la stessa risposta. In questi casi, possiamo essere più\n",
    "certi della soluzione dell'analisi fattoriale.\n",
    "\n",
    "**Esempio.** Per confrontare i quattro metodi discussi per la scelta del numero $m$\n",
    "di fattori usiamo qui una matrice di correlazioni calcolata sulla WAIS. Le 11 sottoscale sono le seguenti:\n",
    "\n",
    "- X1 = Information\n",
    "- X2 = Comprehension\n",
    "- X3 = Arithmetic\n",
    "- X4 = Similarities\n",
    "- X5 = Digit.span\n",
    "- X6 = Vocabulary\n",
    "- X7 = Digit.symbol\n",
    "- X8 = Picture.completion\n",
    "- X9 = Block.design\n",
    "- X10 = Picture.arrangement\n",
    "- X11 = Object.assembly"
   ]
  },
  {
   "cell_type": "code",
   "execution_count": null,
   "id": "ea9231ed",
   "metadata": {
    "vscode": {
     "languageId": "r"
    }
   },
   "outputs": [],
   "source": [
    "varnames <- c(\"IN\", \"CO\", \"AR\", \"SI\", \"DS\", \"VO\", \"SY\", \"PC\", \n",
    "              \"BD\", \"PA\", \"OA\", \"AG\", \"ED\")\n",
    "temp <- matrix(c(\n",
    "\t1,0.67,0.62,0.66,0.47,0.81,0.47,0.60,0.49,0.51,0.41,\n",
    "\t-0.07,0.66,.67,1,0.54,0.60,0.39,0.72,0.40,0.54,0.45,\n",
    "\t0.49,0.38,-0.08,0.52,.62,.54,1,0.51,0.51,0.58,0.41,\n",
    "\t0.46,0.48,0.43,0.37,-0.08,0.49,.66,.60,.51,1,0.41,\n",
    "\t0.68,0.49,0.56,0.50,0.50,0.41,-0.19,0.55,.47,.39,.51,\n",
    "\t.41,1,0.45,0.45,0.42,0.39,0.42,0.31,-0.19,0.43,\n",
    "\t.81,.72,.58,.68,.45,1,0.49,0.57,0.46,0.52,0.40,-0.02,\n",
    "\t0.62,.47,.40,.41,.49,.45,.49,1,0.50,0.50,0.52,0.46,\n",
    "\t-0.46,0.57,.60,.54,.46,.56,.42,.57,.50,1,0.61,0.59,\n",
    "\t0.51,-0.28,0.48,.49,.45,.48,.50,.39,.46,.50,.61,1,\n",
    "\t0.54,0.59,-0.32,0.44,.51,.49,.43,.50,.42,.52,.52,.59,\n",
    "\t.54,1,0.46,-0.37,0.49,.41,.38,.37,.41,.31,.40,.46,.51,\n",
    "\t.59,.46,1,-0.28,0.40,-.07,-.08,-.08,-.19,-.19,-.02,\n",
    "\t-.46,-.28,-.32,-.37,-.28,1,-0.29,.66,.52,.49,.55,.43,\n",
    "\t.62,.57,.48,.44,.49,.40,-.29,1\n",
    "), nrow=13, ncol=13, byrow=TRUE)\n",
    "\n",
    "colnames(temp) <- varnames\n",
    "rownames(temp) <- varnames\n",
    "\n",
    "wais_cor <- temp[1:11, 1:11]\n",
    "wais_cor"
   ]
  },
  {
   "attachments": {},
   "cell_type": "markdown",
   "id": "0df94788",
   "metadata": {},
   "source": [
    "Il primo metodo per la determinazione di $m$ richiede di estrarre tanti\n",
    "fattori quanti sono necessari per spiegare una quota predeterminata\n",
    "della varianza totale. Supponiamo di porre il criterio pari all'80%\n",
    "della varianza totale. La soluzione ottenuta in questo modo ci\n",
    "porterebbe a mantenere $m=5$ fattori:"
   ]
  },
  {
   "cell_type": "code",
   "execution_count": null,
   "id": "676e2006",
   "metadata": {
    "vscode": {
     "languageId": "r"
    }
   },
   "outputs": [],
   "source": [
    "out <- eigen(wais_cor)\n",
    "sum(out$val[1:4]) / sum(out$val)\n",
    "sum(out$val[1:5]) / sum(out$val)"
   ]
  },
  {
   "attachments": {},
   "cell_type": "markdown",
   "id": "5aeac7f7",
   "metadata": {},
   "source": [
    "Il secondo metodo suggerisce di mantenere tutti gli autovalori superiori\n",
    "al valore medio degli autovalori (che, nel caso di **R** è uguale a\n",
    "$1$). Nel caso presente, $m=2$:"
   ]
  },
  {
   "cell_type": "code",
   "execution_count": null,
   "id": "82b17d37",
   "metadata": {
    "vscode": {
     "languageId": "r"
    }
   },
   "outputs": [],
   "source": [
    "round(out$values, 3)"
   ]
  },
  {
   "attachments": {},
   "cell_type": "markdown",
   "id": "9b501031",
   "metadata": {},
   "source": [
    "Il terzo metodo, lo scree test, può essere eseguito usando la funzione\n",
    "`VSS.scree()` contenuta nel pacchetto `psych`."
   ]
  },
  {
   "cell_type": "code",
   "execution_count": null,
   "id": "4c5859eb",
   "metadata": {
    "vscode": {
     "languageId": "r"
    }
   },
   "outputs": [],
   "source": [
    "VSS.scree(wais_cor)"
   ]
  },
  {
   "attachments": {},
   "cell_type": "markdown",
   "id": "338c5f11",
   "metadata": {},
   "source": [
    "Lo scree test suggerisce una soluzione a $m=1$ fattori, come indicato\n",
    "nella figura precedente. Il terzo metodo, nella versione della Parallel\n",
    "Analysis, può essere eseguito usando la funzione `paran()` contenuta nel\n",
    "pacchetto `paran`. La Parallel Analysis indica una soluzione a $m=1$\n",
    "fattore."
   ]
  },
  {
   "cell_type": "code",
   "execution_count": null,
   "id": "751d586a",
   "metadata": {
    "lines_to_next_cell": 2,
    "vscode": {
     "languageId": "r"
    }
   },
   "outputs": [],
   "source": [
    "library(\"paran\")\n",
    "paran(wais_cor, graph = TRUE)"
   ]
  },
  {
   "attachments": {},
   "cell_type": "markdown",
   "id": "a540dd42",
   "metadata": {},
   "source": [
    "Il quarto metodo consiste nell'applicazione di un test inferenziale\n",
    "relativo al numero di fattori. Anche questo metodo indica una soluzione\n",
    "a sei fattori:"
   ]
  },
  {
   "cell_type": "code",
   "execution_count": null,
   "id": "58cbb73e",
   "metadata": {
    "vscode": {
     "languageId": "r"
    }
   },
   "outputs": [],
   "source": [
    "factanal(covmat=wais_cor, factors=5, n.obs=933)"
   ]
  },
  {
   "attachments": {},
   "cell_type": "markdown",
   "id": "3608714f",
   "metadata": {},
   "source": [
    "Le differenze tra i risultati ottenuti con i quattro metodi descritti\n",
    "sopra suggeriscono la presenza di una componente di arbitrarietà nella\n",
    "scelta della soluzione da adottare. \n",
    ":::\n"
   ]
  }
 ],
 "metadata": {
  "jupytext": {
   "cell_metadata_filter": "tags,-all",
   "main_language": "R",
   "notebook_metadata_filter": "-all"
  },
  "kernelspec": {
   "display_name": "R",
   "language": "R",
   "name": "ir"
  },
  "language_info": {
   "name": "R"
  }
 },
 "nbformat": 4,
 "nbformat_minor": 5
}
