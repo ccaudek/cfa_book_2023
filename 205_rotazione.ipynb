{
 "cells": [
  {
   "attachments": {},
   "cell_type": "markdown",
   "id": "3729a058",
   "metadata": {},
   "source": [
    "(rotazione-notebook)=\n",
    "# La rotazione fattoriale "
   ]
  },
  {
   "cell_type": "code",
   "execution_count": null,
   "id": "fedea705",
   "metadata": {
    "tags": [
     "remove_cell"
    ],
    "vscode": {
     "languageId": "r"
    }
   },
   "outputs": [],
   "source": [
    "source(\"_common.R\")\n",
    "suppressPackageStartupMessages({\n",
    "    library(\"lavaan\")\n",
    "    library(\"psych\")\n",
    "})\n",
    "\n",
    "set.seed(42)"
   ]
  },
  {
   "attachments": {},
   "cell_type": "markdown",
   "id": "17ef2479",
   "metadata": {},
   "source": [
    "Nel capitolo {ref}`extraction-notebook` abbiamo visto come sia possibile ottenere la\n",
    "soluzione fattoriale non ruotata per il numero di fattori comuni che\n",
    "meglio riassume l'informazione contenuta nella matrice di correlazioni\n",
    "(o covarianze). Tuttavia, questa soluzione non garantisce l’identificazione di gruppi omogenei e interpretabili di variabili osservate. Pertanto, si ricorre alla rotazione degli assi fattoriali per ottenere una soluzione più facilmente interpretabile rispetto a quella iniziale.\n",
    "\n",
    "\n",
    "## Indeterminatezza della soluzione fattoriale\n",
    "\n",
    "La necessità di effettuare la rotazione deriva dal fatto che la matrice delle saturazioni non ha un’unica soluzione. Attraverso trasformazioni matematiche, è possibile ottenere infinite matrici dello stesso ordine. Questo fenomeno è noto come indeterminatezza della soluzione fattoriale.\n",
    "\n",
    "La matrice delle saturazioni fattoriali $\\boldsymbol{\\Lambda}$ non è univocamente definita poiché non esiste una soluzione unica per determinare le saturazioni fattoriali. Una matrice di correlazioni $\\boldsymbol{R}$ può produrre diverse soluzioni fattoriali, ovvero matrici con lo stesso numero di fattori comuni ma con diverse configurazioni di saturazioni fattoriali, o matrici di saturazioni fattoriali corrispondenti a un diverso numero di fattori comuni.\n",
    "\n",
    "**Esempio.** Siano $\\boldsymbol{\\Lambda}_1$ e $\\boldsymbol{\\Lambda}_2$ due matrici\n",
    "aventi lo stesso numero di righe e colonne, ma contenenti saturazioni\n",
    "fattoriali diverse. $\\boldsymbol{\\Lambda}_1$ è definita dai valori\n",
    "seguenti"
   ]
  },
  {
   "cell_type": "code",
   "execution_count": null,
   "id": "4ec4ac23",
   "metadata": {
    "vscode": {
     "languageId": "r"
    }
   },
   "outputs": [],
   "source": [
    "l1 <- matrix(c(\n",
    "  0.766,  -0.232,\n",
    "  0.670,  -0.203,\n",
    "  0.574,  -0.174,\n",
    "  0.454,   0.533,\n",
    "  0.389,   0.457,\n",
    "  0.324,   0.381\n",
    "),\n",
    "byrow = TRUE, ncol = 2\n",
    ")"
   ]
  },
  {
   "attachments": {},
   "cell_type": "markdown",
   "id": "ac93f676",
   "metadata": {},
   "source": [
    "mentre per $\\boldsymbol{\\Lambda}_2$ abbiamo"
   ]
  },
  {
   "cell_type": "code",
   "execution_count": null,
   "id": "87db0193",
   "metadata": {
    "vscode": {
     "languageId": "r"
    }
   },
   "outputs": [],
   "source": [
    "l2 <- matrix(c(\n",
    "  0.783,  0.163,\n",
    "  0.685,  0.143,\n",
    "  0.587,  0.123,\n",
    "  0.143,  0.685,\n",
    "  0.123,  0.587,\n",
    "  0.102,  0.489\n",
    "),\n",
    "byrow = TRUE, ncol = 2\n",
    ")"
   ]
  },
  {
   "attachments": {},
   "cell_type": "markdown",
   "id": "df39d74b",
   "metadata": {},
   "source": [
    "Esaminiamo la matrice delle correlazioni riprodotte dalle due matrici di\n",
    "pesi fattoriali (con le comunalità sulla diagonale di $\\boldsymbol{R}$):"
   ]
  },
  {
   "cell_type": "code",
   "execution_count": null,
   "id": "911cb8dd",
   "metadata": {
    "vscode": {
     "languageId": "r"
    }
   },
   "outputs": [],
   "source": [
    "l1 %*% t(l1)"
   ]
  },
  {
   "cell_type": "code",
   "execution_count": null,
   "id": "6ab3ba92",
   "metadata": {
    "vscode": {
     "languageId": "r"
    }
   },
   "outputs": [],
   "source": [
    "l2 %*% t(l2)"
   ]
  },
  {
   "attachments": {},
   "cell_type": "markdown",
   "id": "904c63e3",
   "metadata": {},
   "source": [
    "Come si vede, viene ottenuto lo stesso risultato utilizzando matrici\n",
    "$\\boldsymbol{\\Lambda}$ con lo stesso numero $m$ di colonne ma\n",
    "saturazioni fattoriali diverse.\n",
    "\n",
    "Si consideri ora il caso di matrici $\\boldsymbol{\\Lambda}$\n",
    "corrispondenti a soluzioni fattoriali con un diverso numero di fattori\n",
    "comuni. Siano $\\boldsymbol{\\Lambda}_1$ e $\\boldsymbol{\\Lambda}_2$ due\n",
    "matrici aventi lo stesso numero di righe ma un numero diverso di\n",
    "colonne:"
   ]
  },
  {
   "cell_type": "code",
   "execution_count": null,
   "id": "a72e4a5e",
   "metadata": {
    "vscode": {
     "languageId": "r"
    }
   },
   "outputs": [],
   "source": [
    "l1 <- matrix(c(\n",
    "  0.9,\n",
    "  0.7,\n",
    "  0.5,\n",
    "  0.3\n",
    "),\n",
    "byrow = TRUE, ncol = 1\n",
    ")\n",
    "\n",
    "l2 <- matrix(c(\n",
    "  0.78, 0.45,\n",
    "  0.61, 0.35,\n",
    "  0.43, 0.25,\n",
    "  0.25, 0.15\n",
    "),\n",
    "byrow = TRUE, ncol = 2\n",
    ")"
   ]
  },
  {
   "attachments": {},
   "cell_type": "markdown",
   "id": "4f0f14f0",
   "metadata": {},
   "source": [
    "Si noti che la stessa matrice di correlazioni riprodotte (con le\n",
    "comunalità sulla diagonale principale) viene generata dalle saturazioni\n",
    "fattoriali corrispondenti ad un numero diverso di fattori comuni:"
   ]
  },
  {
   "cell_type": "code",
   "execution_count": null,
   "id": "fd547347",
   "metadata": {
    "vscode": {
     "languageId": "r"
    }
   },
   "outputs": [],
   "source": [
    "l1 %*% t(l1)"
   ]
  },
  {
   "cell_type": "code",
   "execution_count": null,
   "id": "06f83478",
   "metadata": {
    "lines_to_next_cell": 0,
    "vscode": {
     "languageId": "r"
    }
   },
   "outputs": [],
   "source": [
    "l2 %*% t(l2)"
   ]
  },
  {
   "attachments": {},
   "cell_type": "markdown",
   "id": "1d7d5ffa",
   "metadata": {},
   "source": [
    "## Parsimonia e semplicità\n",
    "\n",
    "Per ottenere risultati affidabili dall’analisi fattoriale, si affronta il problema dell’indeterminazione fattoriale scegliendo la soluzione che soddisfa due criteri: il criterio della parsimonia e il criterio della semplicità. Il criterio della parsimonia suggerisce di scegliere il modello con il minor numero di fattori comuni che può spiegare la covarianza tra le variabili. Il criterio della semplicità suggerisce di preferire le strutture più semplici della matrice $\\boldsymbol{\\Lambda}$ a parità di numero di fattori (Thurstone, 1947).\n",
    "\n",
    "Il criterio della parsimonia è facilmente applicabile: se due soluzioni fattoriali con un diverso numero di fattori riproducono allo stesso modo la matrice **S** o **R**, si sceglie quella con il minor numero di fattori. Se invece ci sono diverse soluzioni fattoriali con lo stesso numero m di fattori, il criterio della semplicità guida nella scelta della trasformazione più appropriata della matrice $\\boldsymbol{\\Lambda}$. Questa trasformazione è nota come rotazione. A seconda che i fattori ruotati siano o meno incorrelati, si distinguono metodi di rotazione ortogonale o obliqua dei fattori.\n",
    "\n",
    "### Il criterio della struttura semplice\n",
    "\n",
    "Attraverso la rotazione degli assi fattoriali, miriamo a ottenere una \"struttura semplice\" della matrice delle saturazioni fattoriali, caratterizzata da poche ma forti saturazioni diverse da zero e dall'assenza di variabili saturate da più di un fattore. Questo criterio è stato originariamente proposto da Thurstone (1947), secondo il quale viene raggiunto quando:\n",
    "\n",
    "- Nella matrice fattoriale ruotata, ogni variabile ha almeno un peso nullo;\n",
    "- Ogni fattore ha almeno $m$ saturazioni nulle ($m$: numero dei fattori comuni);\n",
    "- Per ciascuna coppia di fattori ci sono saturazioni basse su un fattore e saturazioni alte sull'altro;\n",
    "- Nel caso di molti fattori, per ciascuna coppia di fattori una grande proporzione di saturazioni dovrebbe essere nulla;\n",
    "- Per ciascuna coppia di fattori, ci dovrebbero essere solo poche saturazioni di entità non trascurabile su entrambi i fattori.\n",
    "\n",
    "Nella pratica, si cerca di massimizzare il numero di saturazioni nulle o quasi nulle nella matrice $\\hat{\\boldsymbol{\\Lambda}}$ per ottenere la struttura semplice. Uno dei vantaggi principali è la facilitazione nell'interpretazione dei fattori (Cattell, 1978).\n",
    "\n",
    "L'esame delle saturazioni fattoriali nella matrice ruotata $\\hat{\\boldsymbol{\\Lambda}}^*$ consente di fornire un'interpretazione ai fattori. Per interpretare un fattore, dobbiamo considerare quali variabili sono maggiormente associate con esso e quanto forti sono questi legami. Se i coefficienti di impatto di un fattore sono positivi e elevati su un sottoinsieme di variabili osservate, deduciamo che il fattore rappresenta ciò che hanno in comune le variabili che saturano sul fattore. L'interpretazione si complica nel caso di variabili che saturano su più fattori.\n",
    "\n",
    "\n",
    "## Rotazione nello spazio geometrico\n",
    "\n",
    "### Rotazione ortogonale\n",
    "\n",
    "Come è stato notato nella sezione precedente, la matrice\n",
    "$\\boldsymbol{\\Lambda}$ non è *identificabile* poiché non esiste una\n",
    "soluzione unica alla determinazione delle saturazioni fattoriali:\n",
    "qualunque matrice\n",
    "$\\hat{\\boldsymbol{\\Lambda}}^* = \\hat{\\boldsymbol{\\Lambda}}\n",
    "\\textbf{T}$, dove **T** è una matrice ortonormale di ordine $m$, è in\n",
    "grado di riprodurre la matrice di varianze-covarianze allo stesso modo\n",
    "di $\\hat{\\boldsymbol{\\Lambda}}$. La matrice $\\hat{\\boldsymbol{\\Lambda}}$\n",
    "è pertanto determinata a meno della moltiplicazione per una matrice\n",
    "ortonormale.\n",
    "\n",
    "Geometricamente, i pesi fattoriali rappresentano le coordinate di un punto (ci sono tanti punti quante sono le $p$ variabili manifeste) in uno spazio con un numero di dimensioni pari al numero $m$ dei fattori. Il problema dell’indeterminazione fattoriale può essere descritto geometricamente come una rotazione rigida dei punti che rappresentano le saturazioni fattoriali attorno all’origine del sistema di coordinate. Questa rotazione rigida mantiene invariate le distanze tra i punti (ed è equivalente a una rotazione contraria del sistema di assi cartesiani) e produce un nuovo insieme di valori per i pesi fattoriali. Ognuno di questi insiemi di pesi fattoriali produce la stessa matrice di correlazioni riprodotte dal modello fattoriale. L’indeterminazione fattoriale deriva dal fatto che sono possibili infinite rotazioni diverse degli assi.\n",
    "\n",
    "\n",
    "### Vincoli alla rotazione\n",
    "\n",
    "Il problema della non identificabilità di $\\hat{\\boldsymbol{\\Lambda}}$\n",
    "viene generalmente risolto imponendo dei vincoli alla rotazione. Il\n",
    "criterio che ci guida nella scelta di una delle possibili trasformazioni\n",
    "della matrice dei pesi fattoriali è quello della *semplicità* della\n",
    "matrice $\\hat{\\boldsymbol{\\Lambda}}$ (Thurstone, 1947), ovvero la\n",
    "vicinanza dei suoi elementi ai valori 0 e 1. Quanto più ciò si verifica\n",
    "tanto più risulta semplice l'interpretazione dei fattori comuni nei\n",
    "termini delle variabili. L'identificazione dei fattori risulta infatti\n",
    "semplificata se ciascuno di essi è fortemente correlato con un numero\n",
    "limitato di variabili ed è poco correlato con le altre.\n",
    "\n",
    "Le rotazioni ortogonali lasciano immutate le comunalità nel caso di\n",
    "fattori incorrelati. Questo accade perché qualunque rotazione rigida\n",
    "rispetto all'origine preserva le distanze tra i punti identificati dai\n",
    "pesi fattoriali e, nel caso di fattori incorrelati, la comunalità non è\n",
    "nient'altro che la distanza dall'origine (al quadrato):\n",
    "\n",
    "$$\\hat{h}^2_i = \\sum_{i=1}^m \\hat{\\lambda}_{ij}^2$$ \n",
    "\n",
    "Rotazioni non ortogonali, però, mutano la quota di varianza spiegata da ciascun\n",
    "fattore, essendo questa data da\n",
    "\n",
    "$$\\frac{\\sum_{i=1}^p \\hat{\\lambda}_{ij}^2}{\\text{tr}(\\textbf{S})}$$\n",
    "oppure da\n",
    "\n",
    "$$\\frac{\\sum_{i=1}^p \\hat{\\lambda}_{ij}^2}{\\text{tr}(\\textbf{R})}$$\n",
    "\n",
    "laddove $\\text{tr}(\\textbf{R})=p$, con $i=1, \\dots, p$ (numero di item)\n",
    "e $j=1, \\dots, m$ (numero di fattori).\n",
    "\n",
    "Diversi algoritmi sono stati proposti per la rotazione ortogonale dei\n",
    "fattori. Inizieremo ad esaminare una possibile soluzione al problema\n",
    "dell'indeterminazione fattoriale mediante il metodo grafico. Esamineremo\n",
    "poi i metodi Quartimax e Varimax.\n",
    "\n",
    "### Metodo grafico\n",
    "\n",
    "Per ruotare il sistema degli assi, se ci sono solo $m=2$ fattori, utilizziamo un sistema di coordinate bidimensionale per ottenere la loro rappresentazione geometrica. L'ispezione visiva del diagramma delle saturazioni fattoriali può guidare nella scelta della rotazione più appropriata. Le righe di $\\hat{\\boldsymbol{\\Lambda}}$ corrispondono a coppie di pesi fattoriali ($\\hat{\\lambda}_{i1}, \\hat{\\lambda}_{i2}$, con $i=1, \\dots, p$) che possono essere interpretate come le coordinate di $p$ punti (tanti quanti le variabili manifeste). Gli assi del diagramma vengono ruotati di un angolo $\\phi$ per avvicinarli il più possibile ai punti presenti nel grafico. Le nuove coordinate\n",
    "($\\hat{\\lambda}_{i1}^*, \\hat{\\lambda}_{i2}^*$) vengono calcolate come\n",
    "$\\hat{\\boldsymbol{\\Lambda}}^* = \\hat{\\boldsymbol{\\Lambda}} \\textbf{T}$,\n",
    "dove \n",
    "\n",
    "$$\n",
    "\\textbf{T} = \n",
    "\\left[\n",
    "  \\begin{array}{ c c }\n",
    "  \\cos{\\phi} & - \\sin{\\phi}\\\\\n",
    "  \\sin{\\phi} & \\cos{\\phi}\n",
    "  \\end{array} \n",
    "\\right] \n",
    "$$ \n",
    "\n",
    "è una matrice ortogonale $2 \\times 2$.\n",
    "\n",
    "**Esempio.** Si considerino i dati di Brown, Williams e Barlow (1984) discussi da\n",
    "Rencher (2002). Ad una bambina di dodici anni è stato chiesto di\n",
    "valutare sette dei suoi conoscenti su cinque variabili: *kind*,\n",
    "*intelligent*, *happy*, *likeable* e *just*. Per queste cinque\n",
    "variabili, la matrice di correlazioni è"
   ]
  },
  {
   "cell_type": "code",
   "execution_count": null,
   "id": "7214cc07",
   "metadata": {
    "vscode": {
     "languageId": "r"
    }
   },
   "outputs": [],
   "source": [
    "R <- matrix(c(\n",
    "  1.00, .296, .881, .995, .545,\n",
    "  .296, 1.000, -.022, .326, .837,\n",
    "  .881, -.022, 1.000, .867, .130,\n",
    "  .995, .326, .867, 1.000, .544,\n",
    "  .545, .837, .130, .544, 1.00\n",
    "),\n",
    "ncol = 5, byrow = TRUE, dimnames = list(\n",
    "  c(\"K\", \"I\", \"H\", \"L\", \"J\"), c(\"K\", \"I\", \"H\", \"L\", \"J\")\n",
    ")\n",
    ")"
   ]
  },
  {
   "attachments": {},
   "cell_type": "markdown",
   "id": "6beeb583",
   "metadata": {},
   "source": [
    "Dalla matrice **R** estraiamo due fattori con il metodo delle componenti\n",
    "principali:"
   ]
  },
  {
   "cell_type": "code",
   "execution_count": null,
   "id": "6b317c96",
   "metadata": {
    "vscode": {
     "languageId": "r"
    }
   },
   "outputs": [],
   "source": [
    "f.pc <- principal(R, 2, rotate = FALSE) \n",
    "f.pc"
   ]
  },
  {
   "attachments": {},
   "cell_type": "markdown",
   "id": "713fc702",
   "metadata": {},
   "source": [
    "Nella seguente figura, i punti rappresentano le cinque coppie di pesi\n",
    "fattoriali non ruotati:"
   ]
  },
  {
   "cell_type": "code",
   "execution_count": null,
   "id": "78e144bb",
   "metadata": {
    "vscode": {
     "languageId": "r"
    }
   },
   "outputs": [],
   "source": [
    "plot(\n",
    "  f.pc$load[,1], f.pc$load[,2], bty = 'n', xaxt = 'n', \n",
    "  xlab = \"Primo Fattore\", ylab = \"Secondo Fattore\",\n",
    "  ylim = c(-.6, 1), xlim = c(0,1), pch = 19, asp = 1)\n",
    "  axis(1, pos = c(0,0))\n",
    "  abline(0, 0)  "
   ]
  },
  {
   "attachments": {},
   "cell_type": "markdown",
   "id": "4de192b5",
   "metadata": {},
   "source": [
    "Rencher (2002) nota che, per questi dati, una rotazione ortogonale di\n",
    "$-35^{\\circ}$ ci porterebbe ad avvicinare gli assi ai punti nel\n",
    "diagramma. Per verificare questo, disegnamo sul diagramma i nuovi assi\n",
    "dopo una rotazione di $-35^{\\circ}$. Le istruzioni `R` sono le seguenti:"
   ]
  },
  {
   "cell_type": "code",
   "execution_count": null,
   "id": "d85c292e",
   "metadata": {
    "vscode": {
     "languageId": "r"
    }
   },
   "outputs": [],
   "source": [
    "plot(\n",
    "  f.pc$load[,1], f.pc$load[,2], bty = 'n', xaxt = 'n', \n",
    "  xlab = \"Primo Fattore\", ylab = \"Secondo Fattore\",\n",
    "  ylim = c(-.6, 1), xlim = c(0,1), pch = 19, asp = 1)\n",
    "  axis(1, pos = c(0,0))\n",
    "  abline(0, 0) \n",
    "  \n",
    "ar <- matrix(c(\n",
    "  0, 0,\n",
    "  0, 1,\n",
    "  0, 0,\n",
    "  1, 0\n",
    "), ncol = 2, byrow = TRUE)\n",
    "\n",
    "angle <- 35\n",
    "rad <- angle * pi / 180\n",
    "T <- matrix(c(\n",
    "  cos(rad), -sin(rad),\n",
    "  sin(rad),  cos(rad)\n",
    "), ncol = 2, byrow = TRUE)\n",
    "\n",
    "round(ar %*% T, 3)\n",
    "\n",
    "arrows(0, 0, 0.574,  0.819, lwd = 2)\n",
    "arrows(0, 0, 0.819, -0.574, lwd = 2)"
   ]
  },
  {
   "attachments": {},
   "cell_type": "markdown",
   "id": "a417dbd3",
   "metadata": {},
   "source": [
    "Nella figura precedente, le due frecce rappresentano gli assi ruotati. È\n",
    "chiaro come tale rotazione di $-35^{\\circ}$ ha effettivamente l'effetto\n",
    "di avvicinare gli assi ai punti del diagramma. Se usiamo dunque il\n",
    "valore $\\phi = -35^{\\circ}$ nella matrice di rotazione, possiamo\n",
    "calcolare le saturazioni fattoriali della soluzione ruotata\n",
    "$\\hat{\\boldsymbol{\\Lambda}}^* = \\hat{\\boldsymbol{\\Lambda}} \\textbf{T}$.\n",
    "Le saturazioni fattoriali ruotate non sono altro che la proiezione\n",
    "ortogonale dei punti sugli assi ruotati:"
   ]
  },
  {
   "cell_type": "code",
   "execution_count": null,
   "id": "e585adb0",
   "metadata": {
    "vscode": {
     "languageId": "r"
    }
   },
   "outputs": [],
   "source": [
    "angle <- -35\n",
    "rad <- angle * pi / 180\n",
    "T <- matrix(c(\n",
    "  cos(rad), -sin(rad),\n",
    "  sin(rad),  cos(rad)\n",
    "), ncol = 2, byrow = TRUE)\n",
    "round(f.pc$load %*% T, 3)"
   ]
  },
  {
   "attachments": {},
   "cell_type": "markdown",
   "id": "647864ff",
   "metadata": {},
   "source": [
    "La soluzione ottenuta in questo modo riproduce quella riportata da\n",
    "Rencher (2002).\n",
    "\n",
    "### Medodi di rotazione ortogonale\n",
    "\n",
    "Un tipo di rotazione ortogonale molto utilizzato è la rotazione Varimax\n",
    "(Kaiser, 1958). La matrice $\\hat{\\boldsymbol{\\Lambda}}$ è semplificata\n",
    "in modo tale che le varianze dei quadrati degli elementi $\\lambda_{ij}$\n",
    "appartenenti a colonne diverse di $\\hat{\\boldsymbol{\\Lambda}}$ siano\n",
    "massime. Se le saturazioni fattoriali in una colonna di\n",
    "$\\hat{\\boldsymbol{\\Lambda}}$ sono simili tra loro, la varianza sarà\n",
    "prossima a zero. Tale varianza è tanto più grande quanto più i quadrati\n",
    "degli elementi $\\lambda_{ij}$ assumono valori prossimi a $0$ e $1$.\n",
    "Amplificando le correlazioni più alte e riducendo quelle più basse, la\n",
    "rotazione Varimax agevola l'interpretazione di ciascun fattore.\n",
    "\n",
    "Usando la funzione `factanal()` del modulo base, la rotazione Varimax\n",
    "può essere applicata alla soluzione ottenuta mediante il metodo di\n",
    "massima verosimiglianza. Usando le funzioni `principal()` e\n",
    "`factor.pa()` disponibili nel pacchetto `psych`, la rotazione Varimax\n",
    "può essere applicata alle soluzioni ottenute mediante il metodo delle\n",
    "componenti principali e il metodo del fattore principale. Ad esempio, otteniamo:"
   ]
  },
  {
   "cell_type": "code",
   "execution_count": null,
   "id": "2f154cdc",
   "metadata": {
    "vscode": {
     "languageId": "r"
    }
   },
   "outputs": [],
   "source": [
    "f_pc <- principal(R, 2, n.obs = 7, rotate = \"varimax\")\n",
    "f_pc"
   ]
  },
  {
   "attachments": {},
   "cell_type": "markdown",
   "id": "d6f59f1d",
   "metadata": {},
   "source": [
    "Il metodo Quartimax (Neuhaus e Wringley, 1954) opera una semplificazione\n",
    "della matrice $\\hat{\\boldsymbol{\\Lambda}}$ massimizzando le covarianze\n",
    "tra i quadrati degli elementi $\\lambda_{ij}$ appartenenti a righe\n",
    "diverse, subordinatamente alla condizione che la varianza delle righe\n",
    "rimanga inalterata.\n",
    "\n",
    "### Metodi di rotazione obliqua\n",
    "\n",
    "Il termine “rotazione obliqua” è improprio poiché una rotazione implica una trasformazione ortogonale che preserva le distanze. Secondo Rencher (2002), un termine più appropriato sarebbe “trasformazione obliqua”. Tuttavia, il termine “rotazione obliqua” è di uso comune.\n",
    "\n",
    "Nella rotazione obliqua, gli assi della soluzione ruotata non devono rimanere ortogonali e quindi possono avvicinarsi più facilmente ai raggruppamenti di punti nello spazio delle saturazioni fattoriali (se esistono). Esistono vari metodi analitici per ottenere una rotazione obliqua. Per esempio, nel metodo Direct Oblimin (Jennrich e Sampson, 1966), il criterio usato è\n",
    "il seguente:\n",
    "\n",
    "$$\n",
    "\\sum_{ij} \\left(\\sum_v \\lambda_i^2 \\lambda_j^2 - w \\frac{1}{p} \\sum_v \\lambda_i^2\n",
    "\\sum_v \\lambda_j^2\\right)\n",
    "$$ \n",
    "\n",
    "dove $\\sum_{ij}$ si riferisce alla somma su tutte le coppie di fattori $ij$. In questo caso si procede ad una minimizzazione piuttosto che a una masssimizzazione."
   ]
  },
  {
   "attachments": {},
   "cell_type": "markdown",
   "id": "51af9e2b",
   "metadata": {},
   "source": [
    "## Matrice dei pesi fattoriali e matrice di struttura\n",
    "\n",
    "Nella rotazione ortogonale i fattori sono incorrelati. Si consideri la situazione presentata nella figura successiva, con due variabili latenti incorrelate\n",
    "($\\xi_1$ e $\\xi_2$) e quattro variabili manifeste ($y_1$, $y_2$, $y_3$,\n",
    "$y_4$). Siano $\\lambda_{11}$, $\\lambda_{12}$, $\\lambda_{13}$ e\n",
    "$\\lambda_{14}$ le saturazioni fattoriali delle variabili nel primo\n",
    "fattore; siano $\\lambda_{21}$, $\\lambda_{22}$, $\\lambda_{23}$ e\n",
    "$\\lambda_{24}$ le saturazioni fattoriali delle variabili nel secondo\n",
    "fattore.\n",
    "\n",
    "```{figure} images/rot_4.png\n",
    "---\n",
    "height: 300px\n",
    "name: orto-rot-fig\n",
    "---\n",
    "Rotazione ortogonale.\n",
    "```"
   ]
  },
  {
   "attachments": {},
   "cell_type": "markdown",
   "id": "e0ac8fe9",
   "metadata": {},
   "source": [
    "In un diagramma di percorso, la correlazione tra due variabili è uguale alla somma dei valori numerici di tutti i percorsi legittimi che le collegano. Se i fattori comuni sono incorrelati, c’è un unico percorso legittimo che collega ciascuna variabile manifesta a ciascun fattore comune in base alle regole di Wright. Le correlazioni tra variabili manifeste e fattori comuni sono quindi uguali alle saturazioni fattoriali. Nel caso di fattori comuni incorrelati, dunque, la matrice delle saturazioni fattoriali descrive le correlazioni tra variabili e fattori. Le saturazioni fattoriali possono essere interpretate come i pesi beta del modello di regressione multipla, ovvero come la stima del contributo specifico di ciascun fattore comune nella determinazione della varianza spiegata degli item (Tabachnick & Fidell, 2001).\n",
    "\n",
    "Nel caso della rotazione obliqua, la soluzione fattoriale ruotata produce un insieme di fattori comuni correlati tra loro. Di conseguenza, la matrice delle saturazioni fattoriali non descrive le correlazioni tra variabili e fattori. In un diagramma di percorso ci sono almeno due percorsi legittimi che collegano ciascuna variabile manifesta a ciascun fattore comune in base alle regole di Wright. Nel caso di una rotazione obliqua è quindi necessario specificare tre diverse matrici:\n",
    "\n",
    "-   la matrice delle saturazioni fattoriali, $\\hat{\\boldsymbol{\\Lambda}}$, detta\n",
    "    *matrice pattern* (*factor pattern matrix*, o \"configurazione,\" o\n",
    "    \"matrice dei modelli\");\n",
    "-   la matrice delle correlazioni tra variabili manifeste e fattori, detta *matrice di struttura* (*factor structure matrix*);\n",
    "-   la  matrice che esprime le correlazioni tra i fattori, $\\hat{\\boldsymbol{\\Phi}}$, detta *matrice di intercorrelazione fattoriale*.\n",
    "\n",
    "In questo caso, la matrice pattern rappresenta l'analogo dei coefficienti parziali di regressione della variabile sul fattore, al netto degli altri fattori. Nel caso\n",
    "della rotazione obliqua, è la matrice che viene usata per determinare in\n",
    "che grado è stata raggiunta la \"struttura semplice\".\n",
    "\n",
    "Esaminiamo in dettaglio la soluzione fattoriale prodotta da una rotazione obliqua. In questo caso, gli assi che rappresentano i fattori non sono ortogonali (ovvero, i fattori sono correlati) e, in un diagramma di percorso, le variabili manifeste sono collegate ai fattori attraverso due tipi distinti di percorsi che rappresentano l'effetto \"diretto\" e \"indiretto\" dei fattori sulle variabili. Nel caso di una rotazione obliqua, le saturazioni fattoriali non coincidono con le correlazioni tra variabili e fattori. Si consideri la figura \\@ref(fig:fact-rot5). Nel caso di una rotazione obliqua, la correlazione tra i due fattori comuni viene rappresentata mediante la freccia non direzionata $\\phi_{12}$ che collega $\\xi_1$ e $\\xi_2$. Nel diagramma di percorso della figura successiva ci sono due percorsi legittimi che, in base alle regole di Wright, consentono di collegare ciascuna variabile manifesta a un fattore comune.\n",
    "\n",
    "Ad esempio, per la variabile $y_1$ e il fattore $\\xi_1$, i percorsi sono: la freccia causale $\\lambda_{11}$ che rappresenta l'effetto diretto di $\\xi_1$ su $y_1$ e il percorso composto che rappresenta l'effetto indiretto di $\\xi_1$ su $y_1$, il cui valore numerico è uguale al prodotto $\\lambda_{21}\\phi_{12}$. Nell'analisi dei percorsi, la correlazione tra $\\xi_1$ e $y_1$ è uguale alla somma dei valori numerici dei percorsi legittimi che collegano $y_1$ a $\\xi_1$, ovvero $\\lambda_{11} + \\lambda_{21} \\phi_{12}$.\n",
    "\n",
    "```{figure} images/rot_5.png\n",
    "---\n",
    "height: 300px\n",
    "name: obl-rot-fig\n",
    "---\n",
    "Rotazione obliqua.\n",
    "```"
   ]
  },
  {
   "attachments": {},
   "cell_type": "markdown",
   "id": "3200ee6e",
   "metadata": {},
   "source": [
    "Per illustrare la rotazione obliqua, utilizziamo i dati discussi da\n",
    "Rencher (2002). Si consideri la matrice di correlazione presentata qui sotto."
   ]
  },
  {
   "cell_type": "code",
   "execution_count": null,
   "id": "3a4d2c34",
   "metadata": {
    "vscode": {
     "languageId": "r"
    }
   },
   "outputs": [],
   "source": [
    "R <- matrix(\n",
    "      c( \n",
    "        1.00,  0.735, 0.711, 0.704,\n",
    "        0.735, 1.00,  0.693, 0.709,\n",
    "        0.711, 0.693, 1.00,  0.839,\n",
    "        0.704, 0.709, 0.839, 1.00\n",
    "      ), \n",
    "      ncol = 4, \n",
    "      byrow = TRUE\n",
    "    ) \n",
    "R"
   ]
  },
  {
   "attachments": {},
   "cell_type": "markdown",
   "id": "f4b25085",
   "metadata": {},
   "source": [
    "Iniziamo calcolando la soluzione a due fattori mediante il metodo delle\n",
    "componenti principali e una rotazione Varimax (ovvero, ortogonale). Otteniamo le seguenti saturazioni fattoriali."
   ]
  },
  {
   "cell_type": "code",
   "execution_count": null,
   "id": "6c6c327c",
   "metadata": {
    "vscode": {
     "languageId": "r"
    }
   },
   "outputs": [],
   "source": [
    "f1_pc <- principal(R, 2, rotate = \"varimax\") \n",
    "f1_pc"
   ]
  },
  {
   "attachments": {},
   "cell_type": "markdown",
   "id": "5f1f2e24",
   "metadata": {},
   "source": [
    "Si noti che i due fattori non sono molto distinti. Consideriamo dunque la soluzione  prodotta da una rotazione obliqua. Usiamo qui l'algoritmo Oblimin."
   ]
  },
  {
   "cell_type": "code",
   "execution_count": null,
   "id": "1a6653c9",
   "metadata": {
    "vscode": {
     "languageId": "r"
    }
   },
   "outputs": [],
   "source": [
    "pr_oblimin <- principal(R, 2, rotate = \"oblimin\")"
   ]
  },
  {
   "attachments": {},
   "cell_type": "markdown",
   "id": "0b8562f1",
   "metadata": {},
   "source": [
    "La matrice $\\hat{\\boldsymbol{\\Lambda}}$ delle saturazioni fattoriali si ricava come indicato di seguito."
   ]
  },
  {
   "cell_type": "code",
   "execution_count": null,
   "id": "0eafd0fa",
   "metadata": {
    "vscode": {
     "languageId": "r"
    }
   },
   "outputs": [],
   "source": [
    "cbind(pr_oblimin$load[, 1], pr_oblimin$load[, 2])"
   ]
  },
  {
   "attachments": {},
   "cell_type": "markdown",
   "id": "9964ffce",
   "metadata": {},
   "source": [
    "La matrice $\\hat{\\boldsymbol{\\Phi}}$ di inter-correlazione fattoriale è la seguente."
   ]
  },
  {
   "cell_type": "code",
   "execution_count": null,
   "id": "b7c77120",
   "metadata": {
    "vscode": {
     "languageId": "r"
    }
   },
   "outputs": [],
   "source": [
    "pr_oblimin$Phi"
   ]
  },
  {
   "attachments": {},
   "cell_type": "markdown",
   "id": "60b37bec",
   "metadata": {},
   "source": [
    "La matrice di struttura, che riporta le correlazioni tra indicatori e fattori comuni, si ottiene pre-moltiplicando la matrice $\\boldsymbol{\\Lambda}$ delle saturazioni fattoriali alla matrice $\\boldsymbol{\\Phi}$ di inter-correlazione fattoriale.\n",
    "\n",
    "$$\n",
    "\\text{matrice di struttura} = \\boldsymbol{\\Lambda}\\boldsymbol{\\Phi}.\n",
    "$$\n",
    "\n",
    "Per esempio, la correlazione tra la prima variabile manifesta e il primo fattore si ottiene nel modo seguente."
   ]
  },
  {
   "cell_type": "code",
   "execution_count": null,
   "id": "9f82b2dd",
   "metadata": {
    "vscode": {
     "languageId": "r"
    }
   },
   "outputs": [],
   "source": [
    "pr_oblimin$load[1, 1] + pr_oblimin$load[1, 2] * pr_oblimin$Phi[2, 1]"
   ]
  },
  {
   "attachments": {},
   "cell_type": "markdown",
   "id": "d51991c0",
   "metadata": {},
   "source": [
    "L'intera matrice di struttura si può trovare eseguendo la moltiplicazione  $\\boldsymbol{\\Lambda}\\boldsymbol{\\Phi}$."
   ]
  },
  {
   "cell_type": "code",
   "execution_count": null,
   "id": "a8b899a8",
   "metadata": {
    "vscode": {
     "languageId": "r"
    }
   },
   "outputs": [],
   "source": [
    "pr_oblimin$load %*% pr_oblimin$Phi %>% \n",
    "  round(3)"
   ]
  },
  {
   "attachments": {},
   "cell_type": "markdown",
   "id": "4b315fd1",
   "metadata": {},
   "source": [
    "## Esempio con `semTools`\n",
    "\n",
    "Presento qui un esempio di uso di vari metodi di estrazione fattoriale. Tra tali  metodi, la rotazione obliqua Geomin è molto popolare ed è il default di M-Plus. \n",
    "\n",
    "Iniziamo a caricare il pacchetto `semTools`."
   ]
  },
  {
   "cell_type": "code",
   "execution_count": null,
   "id": "afc5c573",
   "metadata": {
    "vscode": {
     "languageId": "r"
    }
   },
   "outputs": [],
   "source": [
    "suppressPackageStartupMessages(library(\"semTools\")) "
   ]
  },
  {
   "attachments": {},
   "cell_type": "markdown",
   "id": "a79c92f7",
   "metadata": {},
   "source": [
    "Eseguiamo l'analisi fattoriale esplorativa del classico set di dati di Holzinger e Swineford (1939) il quale è costituito dai punteggi dei test di abilità mentale di bambini di seconda e terza media di due scuole diverse (Pasteur e Grant-White). Nel set di dati originale (disponibile nel pacchetto `MBESS`), sono forniti i punteggi di 26 test. Tuttavia, un sottoinsieme più piccolo con 9 variabili è più ampiamente utilizzato in letteratura. Questi sono i dati qui usati. \n",
    "\n",
    "Nel presente esempio, verrà eseguita l'analisi fattoriale esplorativa con l'estrazione di tre fattori. Il metodo di estrazione è `mlr`:\n",
    "\n",
    "> maximum likelihood estimation with robust (Huber-White) standard errors and a scaled test statistic that is (asymptotically) equal to the Yuan-Bentler test statistic. For both complete and incomplete data.\n",
    "\n",
    "La soluzione iniziale non è ruotata. "
   ]
  },
  {
   "cell_type": "code",
   "execution_count": null,
   "id": "9bce9e3a",
   "metadata": {
    "vscode": {
     "languageId": "r"
    }
   },
   "outputs": [],
   "source": [
    "unrotated <- efaUnrotate(HolzingerSwineford1939, nf=3, varList=paste0(\"x\", 1:9), estimator=\"mlr\")\n",
    "out = summary(unrotated)\n",
    "print(out)"
   ]
  },
  {
   "attachments": {},
   "cell_type": "markdown",
   "id": "57881716",
   "metadata": {},
   "source": [
    "Si noti che, in assenza di rotazione, è impossibile assegnare un significato ai fattori comuni.\n",
    "\n",
    "### Orthogonal varimax\n",
    "\n",
    "Utilizziamo ora la rotazione ortogonale Varimax."
   ]
  },
  {
   "cell_type": "code",
   "execution_count": null,
   "id": "f2621067",
   "metadata": {
    "vscode": {
     "languageId": "r"
    }
   },
   "outputs": [],
   "source": [
    "out_varimax <- orthRotate(unrotated, method=\"varimax\")\n",
    "out = summary(out_varimax, sort = FALSE, suppress = 0.3)\n",
    "print(out)"
   ]
  },
  {
   "attachments": {},
   "cell_type": "markdown",
   "id": "093029f1",
   "metadata": {},
   "source": [
    "### Orthogonal Quartimin\n",
    "\n",
    "Un metodo alternativo per la rotazione ortogonale è Quartimin."
   ]
  },
  {
   "cell_type": "code",
   "execution_count": null,
   "id": "396b048b",
   "metadata": {
    "vscode": {
     "languageId": "r"
    }
   },
   "outputs": [],
   "source": [
    "out_quartimin <- orthRotate(unrotated, method=\"quartimin\")\n",
    "out = summary(out_quartimin, sort = FALSE, suppress = 0.3)\n",
    "print(out)"
   ]
  },
  {
   "attachments": {},
   "cell_type": "markdown",
   "id": "ffa3169c",
   "metadata": {},
   "source": [
    "### Oblique Quartimin\n",
    "\n",
    "L'algoritmo Quartimin può anche essere usato per una soluzione obliqua."
   ]
  },
  {
   "cell_type": "code",
   "execution_count": null,
   "id": "b7fbbd83",
   "metadata": {
    "vscode": {
     "languageId": "r"
    }
   },
   "outputs": [],
   "source": [
    "out_oblq <- oblqRotate(unrotated, method=\"quartimin\")\n",
    "out = summary(out_oblq, sort = FALSE, suppress = 0.3)\n",
    "print(out)"
   ]
  },
  {
   "attachments": {},
   "cell_type": "markdown",
   "id": "f8dba577",
   "metadata": {},
   "source": [
    "### Orthogonal Geomin\n",
    "\n",
    "Consideriamo ora la rotazione Geomin. L'algoritmo Geomin fornisce un metodo di rotazione che riduce al minimo la media geometrica delle saturazioni fattoriali innalzate al quadrato. Qui è usato per ottenere una soluzione ortogonale."
   ]
  },
  {
   "cell_type": "code",
   "execution_count": null,
   "id": "ea68201e",
   "metadata": {
    "vscode": {
     "languageId": "r"
    }
   },
   "outputs": [],
   "source": [
    "out_geomin_orh <- orthRotate(unrotated, method=\"geomin\")\n",
    "out = summary(out_geomin_orh, sort=FALSE, suppress=0.3)\n",
    "print(out)"
   ]
  },
  {
   "attachments": {},
   "cell_type": "markdown",
   "id": "e7a1d249",
   "metadata": {},
   "source": [
    "### Oblique Geomin\n",
    "\n",
    "La rotazione Geomin può anche essere usata per ottenere una soluzione obliqua."
   ]
  },
  {
   "cell_type": "code",
   "execution_count": null,
   "id": "ab34852c",
   "metadata": {
    "vscode": {
     "languageId": "r"
    }
   },
   "outputs": [],
   "source": [
    "out_geomin_obl <- oblqRotate(unrotated, method=\"geomin\")\n",
    "out = summary(out_geomin_obl, sort = FALSE, suppress = 0.3)\n",
    "print(out)"
   ]
  },
  {
   "attachments": {},
   "cell_type": "markdown",
   "id": "9778991b",
   "metadata": {},
   "source": [
    "## Interpretazione \n",
    "\n",
    "Per interpretare i fattori comuni latenti, dobbiamo decidere se usare la matrice pattern o la matrice struttura. Un fattore individuato dall'analisi fattoriale è una caratteristica latente univariata che rappresenta l'essenza di un fenomeno psicologico. Dovrebbe essere interpretato come il significato semplice che si trova dietro l'intersezione dei significati delle variabili che saturano nel fattore.\n",
    "\n",
    "Nella rotazione obliqua, i fattori sono correlati ma vogliamo comunque interpretarli come dimensioni psicologiche distinte. L'etichetta che diamo al fattore $F_1$ dovrebbe aiutare a separare teoricamente il fenomeno psicologico corrispondente a $F_1$ dal fenomeno denotato dall'etichetta del fattore $F_2$, anche se sono correlati.\n",
    "\n",
    "Se questa è la strategia interpretativa, allora lo strumento principale per l'interpretazione è la matrice pattern. I coefficienti della matrice pattern mostrano l'influenza causale del fattore comune sulle variabili manifeste. La matrice struttura descrive le correlazioni tra variabili e fattori e dipende sia dai percorsi diretti che indiretti. Quindi, non descrive gli effetti diretti dei fattori comuni latenti sulle variabili manifeste ma solo la covariazione tra di loro.\n"
   ]
  }
 ],
 "metadata": {
  "jupytext": {
   "cell_metadata_filter": "tags,out.width,name,fig.cap,-all",
   "main_language": "R",
   "notebook_metadata_filter": "-all"
  },
  "kernelspec": {
   "display_name": "R",
   "language": "R",
   "name": "ir"
  },
  "language_info": {
   "name": "R"
  }
 },
 "nbformat": 4,
 "nbformat_minor": 5
}
