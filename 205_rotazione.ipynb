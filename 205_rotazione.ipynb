{
 "cells": [
  {
   "attachments": {},
   "cell_type": "markdown",
   "id": "3729a058",
   "metadata": {},
   "source": [
    "(rotazione-notebook)=\n",
    "# La rotazione fattoriale "
   ]
  },
  {
   "cell_type": "code",
   "execution_count": null,
   "id": "fedea705",
   "metadata": {
    "tags": [
     "remove_cell"
    ],
    "vscode": {
     "languageId": "r"
    }
   },
   "outputs": [],
   "source": [
    "source(\"_common.R\")\n",
    "library(\"lavaan\")\n",
    "library(\"psych\")"
   ]
  },
  {
   "attachments": {},
   "cell_type": "markdown",
   "id": "17ef2479",
   "metadata": {},
   "source": [
    "Nel capitolo {ref}`estrazione` abbiamo visto come sia possibile ottenere la\n",
    "soluzione fattoriale non ruotata per il numero di fattori comuni che\n",
    "meglio riassume l'informazione contenuta nella matrice di correlazioni\n",
    "(o covarianze). La soluzione non ruotata non garantisce\n",
    "l'identificazione di aggregati omogenei e interpretabili di variabili\n",
    "osservate. Si tende dunque a ricorrere alla rotazione degli assi\n",
    "fattoriali nella ricerca di una soluzione più facilmente interpretabile\n",
    "di quella ottenuta in prima istanza.\n",
    "\n",
    "## Indeterminatezza della soluzione fattoriale\n",
    "\n",
    "Il problema della rotazione si pone perché la matrice delle saturazioni\n",
    "non presenta un'unica soluzione e, attraverso la sua trasformazione\n",
    "matematica, si possono ottenere infinite matrici dello stesso ordine.\n",
    "Tale fatto va sotto il nome di *indeterminatezza della soluzione\n",
    "fattoriale*.\n",
    "\n",
    "La matrice delle saturazioni fattoriali $\\boldsymbol{\\Lambda}$ non\n",
    "risulta univocamente definita in quanto non esiste una soluzione unica\n",
    "alla determinazione delle saturazioni fattoriali. Una matrice di\n",
    "correlazioni $\\boldsymbol{R}$ consente di determinare soluzioni\n",
    "fattoriali diverse, ovvero matrici aventi lo stesso numero di fattori\n",
    "comuni ma una diversa configurazione di saturazioni fattoriali, oppure\n",
    "matrici di saturazioni fattoriali corrispondenti ad un diverso numero di\n",
    "fattori comuni.\n",
    "\n",
    "**Esempio.** Siano $\\boldsymbol{\\Lambda}_1$ e $\\boldsymbol{\\Lambda}_2$ due matrici\n",
    "aventi lo stesso numero di righe e colonne, ma contenenti saturazioni\n",
    "fattoriali diverse. $\\boldsymbol{\\Lambda}_1$ è definita dai valori\n",
    "seguenti"
   ]
  },
  {
   "cell_type": "code",
   "execution_count": null,
   "id": "4ec4ac23",
   "metadata": {
    "vscode": {
     "languageId": "r"
    }
   },
   "outputs": [],
   "source": [
    "l1 <- matrix(c(\n",
    "  0.766,  -0.232,\n",
    "  0.670,  -0.203,\n",
    "  0.574,  -0.174,\n",
    "  0.454,   0.533,\n",
    "  0.389,   0.457,\n",
    "  0.324,   0.381\n",
    "),\n",
    "byrow = TRUE, ncol = 2\n",
    ")"
   ]
  },
  {
   "attachments": {},
   "cell_type": "markdown",
   "id": "ac93f676",
   "metadata": {},
   "source": [
    "mentre per $\\boldsymbol{\\Lambda}_2$ abbiamo"
   ]
  },
  {
   "cell_type": "code",
   "execution_count": null,
   "id": "87db0193",
   "metadata": {
    "vscode": {
     "languageId": "r"
    }
   },
   "outputs": [],
   "source": [
    "l2 <- matrix(c(\n",
    "  0.783,  0.163,\n",
    "  0.685,  0.143,\n",
    "  0.587,  0.123,\n",
    "  0.143,  0.685,\n",
    "  0.123,  0.587,\n",
    "  0.102,  0.489\n",
    "),\n",
    "byrow = TRUE, ncol = 2\n",
    ")"
   ]
  },
  {
   "attachments": {},
   "cell_type": "markdown",
   "id": "df39d74b",
   "metadata": {},
   "source": [
    "Esaminiamo la matrice delle correlazioni riprodotte dalle due matrici di\n",
    "pesi fattoriali (con le comunalità sulla diagonale di $\\boldsymbol{R}$):"
   ]
  },
  {
   "cell_type": "code",
   "execution_count": null,
   "id": "911cb8dd",
   "metadata": {
    "vscode": {
     "languageId": "r"
    }
   },
   "outputs": [],
   "source": [
    "l1 %*% t(l1)\n",
    "l2 %*% t(l2)"
   ]
  },
  {
   "attachments": {},
   "cell_type": "markdown",
   "id": "904c63e3",
   "metadata": {},
   "source": [
    "Come si vede, viene ottenuto lo stesso risultato utilizzando matrici\n",
    "$\\boldsymbol{\\Lambda}$ con lo stesso numero $m$ di colonne ma\n",
    "saturazioni fattoriali diverse.\n",
    "\n",
    "Si consideri ora il caso di matrici $\\boldsymbol{\\Lambda}$\n",
    "corrispondenti a soluzioni fattoriali con un diverso numero di fattori\n",
    "comuni. Siano $\\boldsymbol{\\Lambda}_1$ e $\\boldsymbol{\\Lambda}_2$ due\n",
    "matrici aventi lo stesso numero di righe ma un numero diverso di\n",
    "colonne:"
   ]
  },
  {
   "cell_type": "code",
   "execution_count": null,
   "id": "a72e4a5e",
   "metadata": {
    "vscode": {
     "languageId": "r"
    }
   },
   "outputs": [],
   "source": [
    "l1 <- matrix(c(\n",
    "  0.9,\n",
    "  0.7,\n",
    "  0.5,\n",
    "  0.3\n",
    "),\n",
    "byrow = TRUE, ncol = 1\n",
    ")\n",
    "\n",
    "l2 <- matrix(c(\n",
    "  0.78, 0.45,\n",
    "  0.61, 0.35,\n",
    "  0.43, 0.25,\n",
    "  0.25, 0.15\n",
    "),\n",
    "byrow = TRUE, ncol = 2\n",
    ")"
   ]
  },
  {
   "attachments": {},
   "cell_type": "markdown",
   "id": "4f0f14f0",
   "metadata": {},
   "source": [
    "Si noti che la stessa matrice di correlazioni riprodotte (con le\n",
    "comunalità sulla diagonale principale) viene generata dalle saturazioni\n",
    "fattoriali corrispondenti ad un numero diverso di fattori comuni:"
   ]
  },
  {
   "cell_type": "code",
   "execution_count": null,
   "id": "fd547347",
   "metadata": {
    "vscode": {
     "languageId": "r"
    }
   },
   "outputs": [],
   "source": [
    "l1 %*% t(l1)"
   ]
  },
  {
   "cell_type": "code",
   "execution_count": null,
   "id": "06f83478",
   "metadata": {
    "lines_to_next_cell": 0,
    "vscode": {
     "languageId": "r"
    }
   },
   "outputs": [],
   "source": [
    "l2 %*% t(l2)"
   ]
  },
  {
   "attachments": {},
   "cell_type": "markdown",
   "id": "1d7d5ffa",
   "metadata": {},
   "source": [
    "## Parsimonia e semplicità\n",
    "\n",
    "Come si raggiunge allora una qualche certezza sui risultati dell'analisi\n",
    "fattoriale? Il problema dell'*indeterminazione fattoriale* si affronta\n",
    "scegliendo la soluzione che soddisfa i seguenti due criteri: *criterio\n",
    "della parsimonia*: se sia un modello ad un fattore comune sia un modello\n",
    "a due fattori comuni possono spiegare la covariazione tra le variabili\n",
    "si deve accettare quello ad un fattore; *criterio della semplicità*: a\n",
    "parità di numero di fattori, sono da preferire le strutture più semplici\n",
    "della matrice $\\boldsymbol{\\Lambda}$ (Thurstone, 1947).\n",
    "\n",
    "Il criterio della parsimonia è facilmente applicabile: se due soluzioni\n",
    "fattoriali aventi un numero diverso di fattori riproducono allo stesso\n",
    "modo la matrice **S** o **R**, si sceglie la soluzione con il numero\n",
    "minore di fattori. D'altra parte, se vi sono diverse soluzioni\n",
    "fattoriali con lo stesso numero $m$ di fattori, il criterio della\n",
    "semplicità ci guida nella scelta della trasformazione più appropriata\n",
    "della matrice $\\hat{\\boldsymbol{\\Lambda}}$. La trasformazione della\n",
    "matrice $\\hat{\\boldsymbol{\\Lambda}}$ va sotto il nome di *rotazione*. A\n",
    "seconda che i fattori ruotati risultino o meno incorrelati, si distingue\n",
    "tra metodi di rotazione ortogonale o obliqua dei fattori.\n",
    "\n",
    "### Il criterio della struttura semplice\n",
    "\n",
    "Tramite la rotazione degli assi fattoriali miriamo alla \"struttura\n",
    "semplice\" della matrice delle saturazioni fattoriali: poche ma forti\n",
    "saturazioni diverse da zero e assenza di variabili saturate da più di un\n",
    "fattore. Il criterio della \"struttura semplice\" è stato originariamente\n",
    "proposto da Thurstone (1947) secondo il quale tale criterio viene\n",
    "raggiunto quando:\n",
    "\n",
    "-   nella matrice fattoriale ruotata, ogni variabile deve avere almeno\n",
    "    un peso nullo;\n",
    "-   ogni fattore deve avere almeno $m$ saturazioni nulle ($m$: numero\n",
    "    dei fattori comuni);\n",
    "-   per ciascuna coppia di fattori vi devono essere saturazioni basse su\n",
    "    un fattore e saturazioni alte sull'altro;\n",
    "-   nel caso di molti fattori, per ciascuna coppia di fattori una grande\n",
    "    proporzione di saturazioni dovrebbe essere nulla;\n",
    "-   per ciascuna coppia di fattori, vi dovrebbero essere solo poche\n",
    "    saturazioni di entità non trascurabile su entrambi i fattori.\n",
    "\n",
    "Nella pratica, il requisito della struttura semplice viene perseguito,\n",
    "non tanto seguendo le indicazioni di Thursone, quanto bensì cercando di\n",
    "massimizzare il numero di saturazioni nulle o quasi nulle nella matrice\n",
    "$\\hat{\\boldsymbol{\\Lambda}}$. Uno dei grandi vantaggi che derivano\n",
    "dall'ottenimento della struttura semplice è la facilitazione\n",
    "nell'interpretazione dei fattori (Cattell, 1978).\n",
    "\n",
    "L'esame delle saturazioni fattoriali contenute nella matrice\n",
    "$\\hat{\\boldsymbol{\\Lambda}}^*$ ruotata consente infatti di fornire\n",
    "un'interpretazione ai fattori. Per poter interpretare un fattore,\n",
    "dobbiamo chiederci quali sono le variabili che risultano maggiormente\n",
    "associate con tale fattore e quanto forti siano tali legami. Se i\n",
    "coefficienti di impatto di un fattore sono positivi e piuttosto elevati\n",
    "su un sottoinsieme di variabili osservate, da ciò deduciamo che il\n",
    "fattore rappresenta ciò che hanno in comune le variabili che saturano\n",
    "sul fattore. Ovviamente, l'interpretazione si complica nel caso di\n",
    "variabili che saturano su più fattori.\n",
    "\n",
    "## Rotazione nello spazio geometrico\n",
    "\n",
    "### Rotazione ortogonale\n",
    "\n",
    "Come è stato notato nella sezione precedente, la matrice\n",
    "$\\boldsymbol{\\Lambda}$ non è *identificabile* poiché non esiste una\n",
    "soluzione unica alla determinazione delle saturazioni fattoriali:\n",
    "qualunque matrice\n",
    "$\\hat{\\boldsymbol{\\Lambda}}^* = \\hat{\\boldsymbol{\\Lambda}}\n",
    "\\textbf{T}$, dove **T** è una matrice ortonormale di ordine $m$, è in\n",
    "grado di riprodurre la matrice di varianze-covarianze allo stesso modo\n",
    "di $\\hat{\\boldsymbol{\\Lambda}}$. La matrice $\\hat{\\boldsymbol{\\Lambda}}$\n",
    "è pertanto determinata a meno della moltiplicazione per una matrice\n",
    "ortonormale.\n",
    "\n",
    "Geometricamente, i pesi fattoriali costituiscono le coordinate di un\n",
    "punto (ci sono tanti punti quante sono le $p$ variabili manifeste) in\n",
    "uno spazio avente un numero di dimensioni pari al numero $m$ dei\n",
    "fattori.\n",
    "\n",
    "Dal punto di vista geometrico, il problema dell'indeterminazione\n",
    "fattoriale si può descrivere facendo riferimento alla rotazione rigida\n",
    "dei punti che rappresentano le saturazioni fattoriali attorno l'origine\n",
    "del sistema di coordinate. Tale rotazione rigida lascia invariate le\n",
    "distanze tra i punti (ed è equivalente ad una rotazione (contraria) del\n",
    "sistema di assi cartesiani) e dà luogo ad un nuovo insieme di valori per\n",
    "i pesi fattoriali. Ciascuno di questi insiemi di pesi fattoriali così\n",
    "ottenuti produce la medesima matrice di correlazioni riprodotte dal\n",
    "modello fattoriale. L'indeterminazione fattoriale nasce dal fatto che\n",
    "sono possibili infinite rotazioni diverse degli assi.\n",
    "\n",
    "### Vincoli alla rotazione\n",
    "\n",
    "Il problema della non identificabilità di $\\hat{\\boldsymbol{\\Lambda}}$\n",
    "viene generalmente risolto imponendo dei vincoli alla rotazione. Il\n",
    "criterio che ci guida nella scelta di una delle possibili trasformazioni\n",
    "della matrice dei pesi fattoriali è quello della *semplicità* della\n",
    "matrice $\\hat{\\boldsymbol{\\Lambda}}$ (Thurstone, 1947), ovvero la\n",
    "vicinanza dei suoi elementi ai valori 0 e 1. Quanto più ciò si verifica\n",
    "tanto più risulta semplice l'interpretazione dei fattori comuni nei\n",
    "termini delle variabili. L'identificazione dei fattori risulta infatti\n",
    "semplificata se ciascuno di essi è fortemente correlato con un numero\n",
    "limitato di variabili ed è poco correlato con le altre.\n",
    "\n",
    "Le rotazioni ortogonali lasciano immutate le comunalità nel caso di\n",
    "fattori incorrelati. Questo accade perché qualunque rotazione rigida\n",
    "rispetto all'origine preserva le distanze tra i punti identificati dai\n",
    "pesi fattoriali e, nel caso di fattori incorrelati, la comunalità non è\n",
    "nient'altro che la distanza dall'origine (al quadrato):\n",
    "\n",
    "$$\\hat{h}^2_i = \\sum_{i=1}^m \\hat{\\lambda}_{ij}^2$$ \n",
    "\n",
    "Rotazioni non ortogonali, però, mutano la quota di varianza spiegata da ciascun\n",
    "fattore, essendo questa data da\n",
    "\n",
    "$$\\frac{\\sum_{i=1}^p \\hat{\\lambda}_{ij}^2}{\\text{tr}(\\textbf{S})}$$\n",
    "oppure da\n",
    "\n",
    "$$\\frac{\\sum_{i=1}^p \\hat{\\lambda}_{ij}^2}{\\text{tr}(\\textbf{R})}$$\n",
    "\n",
    "laddove $\\text{tr}(\\textbf{R})=p$, con $i=1, \\dots, p$ (numero di item)\n",
    "e $j=1, \\dots, m$ (numero di fattori).\n",
    "\n",
    "Diversi algoritmi sono stati proposti per la rotazione ortogonale dei\n",
    "fattori. Inizieremo ad esaminare una possibile soluzione al problema\n",
    "dell'indeterminazione fattoriale mediante il metodo grafico. Esamineremo\n",
    "poi i metodi Quartimax e Varimax.\n",
    "\n",
    "### Metodo grafico\n",
    "\n",
    "Come si può ruotare il sitema degli assi? Se ci sono solo $m=2$ fattori,\n",
    "per ottenere la loro rappresentazione geometrica utilizziamo un sistema\n",
    "di coordinate bidimensionale. L'ispezione visiva del diagramma delle\n",
    "saturazioni fattoriali ci può guidare alla scelta della rotazione più\n",
    "appropriata. Le righe di $\\hat{\\boldsymbol{\\Lambda}}$ corrispondono a\n",
    "coppie di pesi fattoriali ($\\hat{\\lambda}_{i1}, \\hat{\\lambda}_{i2}$, con\n",
    "$i=1, \\dots, p$) che possono essere interpretate come le coordinate di\n",
    "$p$ punti (tanti quanti le variabili manifeste). Gli assi del diagramma\n",
    "vengono ruotati di un angolo $\\phi$ in modo tale da portarli il più\n",
    "vicino possibile ai punti presenti nel grafico. Le nuove coordinate\n",
    "($\\hat{\\lambda}_{i1}^*, \\hat{\\lambda}_{i2}^*$) vengono calcolate come\n",
    "$\\hat{\\boldsymbol{\\Lambda}}^* = \\hat{\\boldsymbol{\\Lambda}} \\textbf{T}$,\n",
    "dove \n",
    "\n",
    "$$\n",
    "\\textbf{T} = \n",
    "\\left[\n",
    "  \\begin{array}{ c c }\n",
    "  \\cos{\\phi} & - \\sin{\\phi}\\\\\n",
    "  \\sin{\\phi} & \\cos{\\phi}\n",
    "  \\end{array} \n",
    "\\right] \n",
    "$$ \n",
    "\n",
    "è una matrice ortogonale $2 \\times 2$.\n",
    "\n",
    "**Esempio.** Si considerino i dati di Brown, Williams e Barlow (1984) discussi da\n",
    "Rencher (2002). Ad una bambina di dodici anni è stato chiesto di\n",
    "valutare sette dei suoi conoscenti su cinque variabili: *kind*,\n",
    "*intelligent*, *happy*, *likeable* e *just*. Per queste cinque\n",
    "variabili, la matrice di correlazioni è"
   ]
  },
  {
   "cell_type": "code",
   "execution_count": null,
   "id": "7214cc07",
   "metadata": {
    "vscode": {
     "languageId": "r"
    }
   },
   "outputs": [],
   "source": [
    "R <- matrix(c(\n",
    "  1.00, .296, .881, .995, .545,\n",
    "  .296, 1.000, -.022, .326, .837,\n",
    "  .881, -.022, 1.000, .867, .130,\n",
    "  .995, .326, .867, 1.000, .544,\n",
    "  .545, .837, .130, .544, 1.00\n",
    "),\n",
    "ncol = 5, byrow = TRUE, dimnames = list(\n",
    "  c(\"K\", \"I\", \"H\", \"L\", \"J\"), c(\"K\", \"I\", \"H\", \"L\", \"J\")\n",
    ")\n",
    ")"
   ]
  },
  {
   "attachments": {},
   "cell_type": "markdown",
   "id": "6beeb583",
   "metadata": {},
   "source": [
    "Dalla matrice **R** estraiamo due fattori con il metodo delle componenti\n",
    "principali:"
   ]
  },
  {
   "cell_type": "code",
   "execution_count": null,
   "id": "6b317c96",
   "metadata": {
    "vscode": {
     "languageId": "r"
    }
   },
   "outputs": [],
   "source": [
    "f.pc <- principal(R, 2, rotate = FALSE) \n",
    "f.pc"
   ]
  },
  {
   "attachments": {},
   "cell_type": "markdown",
   "id": "713fc702",
   "metadata": {},
   "source": [
    "Nella seguente figura, i punti rappresentano le cinque coppie di pesi\n",
    "fattoriali non ruotati:"
   ]
  },
  {
   "cell_type": "code",
   "execution_count": null,
   "id": "78e144bb",
   "metadata": {
    "vscode": {
     "languageId": "r"
    }
   },
   "outputs": [],
   "source": [
    "plot(\n",
    "  f.pc$load[,1], f.pc$load[,2], bty = 'n', xaxt = 'n', \n",
    "  xlab = \"Primo Fattore\", ylab = \"Secondo Fattore\",\n",
    "  ylim = c(-.6, 1), xlim = c(0,1), pch = 19)\n",
    "  axis(1, pos = c(0,0))\n",
    "  abline(0, 0)  "
   ]
  },
  {
   "attachments": {},
   "cell_type": "markdown",
   "id": "4de192b5",
   "metadata": {},
   "source": [
    "Rencher (2002) nota che, per questi dati, una rotazione ortogonale di\n",
    "$-35^{\\circ}$ ci porterebbe ad avvicinare gli assi ai punti nel\n",
    "diagramma. Per verificare questo, disegnamo sul diagramma i nuovi assi\n",
    "dopo una rotazione di $-35^{\\circ}$. Le istruzioni `R` sono le seguenti:"
   ]
  },
  {
   "cell_type": "code",
   "execution_count": null,
   "id": "d85c292e",
   "metadata": {
    "vscode": {
     "languageId": "r"
    }
   },
   "outputs": [],
   "source": [
    "plot(\n",
    "  f.pc$load[,1], f.pc$load[,2], bty = 'n', xaxt = 'n', \n",
    "  xlab = \"Primo Fattore\", ylab = \"Secondo Fattore\",\n",
    "  ylim = c(-.6, 1), xlim = c(0,1), pch = 19)\n",
    "  axis(1, pos = c(0,0))\n",
    "  abline(0, 0) \n",
    "  \n",
    "ar <- matrix(c(\n",
    "  0, 0,\n",
    "  0, 1,\n",
    "  0, 0,\n",
    "  1, 0\n",
    "), ncol = 2, byrow = TRUE)\n",
    "\n",
    "angle <- 35\n",
    "rad <- angle * pi / 180\n",
    "T <- matrix(c(\n",
    "  cos(rad), -sin(rad),\n",
    "  sin(rad),  cos(rad)\n",
    "), ncol = 2, byrow = TRUE)\n",
    "\n",
    "round(ar %*% T, 3)\n",
    "\n",
    "arrows(0, 0, 0.574,  0.819, lwd = 2)\n",
    "arrows(0, 0, 0.819, -0.574, lwd = 2)"
   ]
  },
  {
   "attachments": {},
   "cell_type": "markdown",
   "id": "a417dbd3",
   "metadata": {},
   "source": [
    "Nella figura precedente, le due frecce rappresentano gli assi ruotati. È\n",
    "chiaro come tale rotazione di $-35^{\\circ}$ ha effettivamente l'effetto\n",
    "di avvicinare gli assi ai punti del diagramma. Se usiamo dunque il\n",
    "valore $\\phi = -35^{\\circ}$ nella matrice di rotazione, possiamo\n",
    "calcolare le saturazioni fattoriali della soluzione ruotata\n",
    "$\\hat{\\boldsymbol{\\Lambda}}^* = \\hat{\\boldsymbol{\\Lambda}} \\textbf{T}$.\n",
    "Le saturazioni fattoriali ruotate non sono altro che la proiezione\n",
    "ortogonale dei punti sugli assi ruotati:"
   ]
  },
  {
   "cell_type": "code",
   "execution_count": null,
   "id": "e585adb0",
   "metadata": {
    "vscode": {
     "languageId": "r"
    }
   },
   "outputs": [],
   "source": [
    "angle <- -35\n",
    "rad <- angle * pi / 180\n",
    "T <- matrix(c(\n",
    "  cos(rad), -sin(rad),\n",
    "  sin(rad),  cos(rad)\n",
    "), ncol = 2, byrow = TRUE)\n",
    "round(f.pc$load %*% T, 3)"
   ]
  },
  {
   "attachments": {},
   "cell_type": "markdown",
   "id": "647864ff",
   "metadata": {},
   "source": [
    "La soluzione ottenuta in questo modo riproduce quella riportata da\n",
    "Rencher (2002).\n",
    "\n",
    "### Medodi di rotazione ortogonale\n",
    "\n",
    "Un tipo di rotazione ortogonale molto utilizzato è la rotazione Varimax\n",
    "(Kaiser, 1958). La matrice $\\hat{\\boldsymbol{\\Lambda}}$ è semplificata\n",
    "in modo tale che le varianze dei quadrati degli elementi $\\lambda_{ij}$\n",
    "appartenenti a colonne diverse di $\\hat{\\boldsymbol{\\Lambda}}$ siano\n",
    "massime. Se le saturazioni fattoriali in una colonna di\n",
    "$\\hat{\\boldsymbol{\\Lambda}}$ sono simili tra loro, la varianza sarà\n",
    "prossima a zero. Tale varianza è tanto più grande quanto più i quadrati\n",
    "degli elementi $\\lambda_{ij}$ assumono valori prossimi a $0$ e $1$.\n",
    "Amplificando le correlazioni più alte e riducendo quelle più basse, la\n",
    "rotazione Varimax agevola l'interpretazione di ciascun fattore.\n",
    "\n",
    "Usando la funzione `factanal()` del modulo base, la rotazione Varimax\n",
    "può essere applicata alla soluzione ottenuta mediante il metodo di\n",
    "massima verosimiglianza. Usando le funzioni `principal()` e\n",
    "`factor.pa()` disponibili nel pacchetto `psych`, la rotazione Varimax\n",
    "può essere applicata alle soluzioni ottenute mediante il metodo delle\n",
    "componenti principali e il metodo del fattore principale. Ad esempio, otteniamo:"
   ]
  },
  {
   "cell_type": "code",
   "execution_count": null,
   "id": "2f154cdc",
   "metadata": {
    "vscode": {
     "languageId": "r"
    }
   },
   "outputs": [],
   "source": [
    "f_pc <- principal(R, 2, n.obs = 7, rotate = \"varimax\")\n",
    "f_pc"
   ]
  },
  {
   "attachments": {},
   "cell_type": "markdown",
   "id": "d6f59f1d",
   "metadata": {},
   "source": [
    "Il metodo Quartimax (Neuhaus e Wringley, 1954) opera una semplificazione\n",
    "della matrice $\\hat{\\boldsymbol{\\Lambda}}$ massimizzando le covarianze\n",
    "tra i quadrati degli elementi $\\lambda_{ij}$ appartenenti a righe\n",
    "diverse, subordinatamente alla condizione che la varianza delle righe\n",
    "rimanga inalterata.\n",
    "\n",
    "### Metodi di rotazione obliqua\n",
    "\n",
    "Parlare di rotazione obliqua significa usare un termine improprio: per\n",
    "definizione, infatti, una rotazione implica una trasformazione\n",
    "ortogonale che preserva le distanze. Secondo Rencher (2002), un termine\n",
    "migliore sarebbe *trasformazione* obliqua. Il termine rotazione obliqua,\n",
    "comunque, fa parte dell'uso corrente.\n",
    "\n",
    "Nella rotazione obliqua, gli assi della soluzione ruotata non devono\n",
    "rimanere ortogonali e quindi possono più facilmente avvicinarsi ai\n",
    "raggruppamenti di punti nello spazio delle saturazioni fattoriali\n",
    "(assumendo che dei raggruppamenti esistano). Vari metodi analitici sono\n",
    "stati proposti per ottenere una rotazione obliqua. Qui esamineremo\n",
    "brevemente solo uno di essi, il metodo Direct Oblimin.\n",
    "\n",
    "Il criterio usato nel metodo Direct Oblimin (Jennrich e Sampson, 1966) è\n",
    "il seguente:\n",
    "\n",
    "$$\n",
    "\\sum_{ij} \\left(\\sum_v \\lambda_i^2 \\lambda_j^2 - w \\frac{1}{p} \\sum_v \\lambda_i^2\n",
    "\\sum_v \\lambda_j^2\\right)\n",
    "$$ \n",
    "\n",
    "dove $\\sum_{ij}$ si riferisce alla somma su tutte le coppie di fattori $ij$. In questo caso si procede ad una minimizzazione piuttosto che a una masssimizzazione."
   ]
  },
  {
   "attachments": {},
   "cell_type": "markdown",
   "id": "51af9e2b",
   "metadata": {},
   "source": [
    "## Matrice dei pesi fattoriali e matrice di struttura\n",
    "\n",
    "Nella rotazione ortogonale i fattori sono incorrelati. Si consideri la situazione presentata nella figura successiva, con due variabili latenti incorrelate\n",
    "($\\xi_1$ e $\\xi_2$) e quattro variabili manifeste ($y_1$, $y_2$, $y_3$,\n",
    "$y_4$). Siano $\\lambda_{11}$, $\\lambda_{12}$, $\\lambda_{13}$ e\n",
    "$\\lambda_{14}$ le saturazioni fattoriali delle variabili nel primo\n",
    "fattore; siano $\\lambda_{21}$, $\\lambda_{22}$, $\\lambda_{23}$ e\n",
    "$\\lambda_{24}$ le saturazioni fattoriali delle variabili nel secondo\n",
    "fattore.\n",
    "\n",
    "```{figure} images/rot_4.png\n",
    "---\n",
    "height: 300px\n",
    "name: orto-rot-fig\n",
    "---\n",
    "Rotazione ortogonale.\n",
    "```"
   ]
  },
  {
   "attachments": {},
   "cell_type": "markdown",
   "id": "e0ac8fe9",
   "metadata": {},
   "source": [
    "In un diagramma di percorso, la correlazione tra due variabili contenute\n",
    "è uguale alla somma dei valori numerici di tutti i percorsi legittimi\n",
    "che collegano le variabili. Se i fattori comuni sono incorrelati (come\n",
    "nella figura precedente), allora in un *path diagram* c'è un unico percorso legittimo che collega ciascuna variabile manifesta a ciascun fattore comune in base alle regole di Wright. Le correlazioni tra variabili manifeste e fattori comuni sono dunque uguali alle saturazioni fattoriali. Nel caso di fattori comuni sono incorrelati, dunque, la matrice delle saturazioni fattoriali descrive le correlazioni fra variabili e fattori. Si ricordi che le saturazioni fattoriali possono essere interpretate in maniera equivalente ai pesi beta del modello di regressione multipla, ovvero come la stima del contributo specifico di ciascun fattore comune nella determinazione della varianza spiegata degli item (Tabachnick & Fidell, 2001).\n",
    "\n",
    "Nel caso della rotazione obliqua, invece, la soluzione fattoriale\n",
    "ruotata produce un insieme di fattori comuni fra loro correlati. Di\n",
    "conseguenza, la matrice delle saturazioni fattoriali non descrive le correlazioni fra variabili e fattori. Infatti, in un *path diagram* ci sono almeno due percorsi legittimi che collegano ciascuna variabile manifesta a ciascun fattore comune in base alle regole di Wright. Nel caso di una rotazione obliqua è quindi necessario specificare tre diverse matrici:\n",
    "\n",
    "-   la matrice delle saturazioni fattoriali, $\\hat{\\boldsymbol{\\Lambda}}$, detta\n",
    "    *matrice pattern* (*factor pattern matrix*, o \"configurazione,\" o\n",
    "    \"matrice dei modelli\");\n",
    "-   la matrice delle correlazioni tra variabili manifeste e fattori, detta *matrice di struttura* (*factor structure matrix*);\n",
    "-   la  matrice che esprime le correlazioni tra i fattori, $\\hat{\\boldsymbol{\\Phi}}$, detta *matrice di intercorrelazione fattoriale*.\n",
    "\n",
    "In questo caso, la matrice pattern rappresenta l'analogo dei coefficienti parziali di regressione della variabile sul fattore, al netto degli altri fattori. Nel caso\n",
    "della rotazione obliqua, è la matrice che viene usata per determinare in\n",
    "che grado è stata raggiunta la \"struttura semplice\".\n",
    "\n",
    "Esaminiamo in dettaglio la soluzione fattoriale che viene prodotta da una\n",
    "rotazione obliqua. In tali circostanze, gli assi che rappresentano i fattori non sono\n",
    "ortogonali (ovvero, i fattori sono correlati) e, in un diagramma di\n",
    "percorso, le variabili manifeste sono collegate ai fattori attraverso\n",
    "due tipi distinti di percorsi. Tali percorsi rappresentano l'effetto \"diretto\" e\n",
    "\"indiretto\" dei fattori sulle variabili. Nel caso di una rotazione\n",
    "obliqua, come abbiamo detto sopra, le saturazioni fattoriali non\n",
    "coincidono con le correlazioni tra variabili e fattori. Si consideri la figura \\@ref(fig:fact-rot5). Nel caso di una rotazione obliqua, la\n",
    "correlazione tra i due fattori comuni viene rappresentata mediante la\n",
    "freccia non direzionata $\\phi_{12}$ che collega $\\xi_1$ e $\\xi_2$. Nel diagramma di percorso della figura successiva ci sono due percorsi legittimi che, in base alle regole di Wright, consentono di collegare ciascuna variabile manifesta ad un\n",
    "fattore comune. Ad esempio, nel caso della variabile $y_1$ e il fattore $\\xi_1$, i percorsi sono: la freccia causale $\\lambda_{11}$ che\n",
    "rappresenta l'effetto diretto di $\\xi_1$ su $y_1$ e il percorso composto\n",
    "che rappresenta l'effetto indiretto di $\\xi_1$ su $y_1$. Il valore\n",
    "numerico di tale percorso composto è uguale al prodotto\n",
    "$\\lambda_{21}\\phi_{12}$. Nei termini dell'analisi dei percorsi, dunque,\n",
    "la correlazione tra $\\xi_1$ e $y_1$ è uguale alla somma dei valori\n",
    "numerici dei percorsi legittimi che collegano $y_1$ a $\\xi_1$, ovvero\n",
    "$\\lambda_{11} + \\lambda_{21} \\phi_{12}$.\n",
    "\n",
    "```{figure} images/rot_5.png\n",
    "---\n",
    "height: 300px\n",
    "name: obl-rot-fig\n",
    "---\n",
    "Rotazione obliqua.\n",
    "```"
   ]
  },
  {
   "attachments": {},
   "cell_type": "markdown",
   "id": "3200ee6e",
   "metadata": {},
   "source": [
    "Per illustrare la rotazione obliqua, utilizziamo i dati discussi da\n",
    "Rencher (2002). Si consideri la matrice di correlazione presentata qui sotto."
   ]
  },
  {
   "cell_type": "code",
   "execution_count": null,
   "id": "3a4d2c34",
   "metadata": {
    "vscode": {
     "languageId": "r"
    }
   },
   "outputs": [],
   "source": [
    "R <- matrix(\n",
    "      c( \n",
    "        1.00,  0.735, 0.711, 0.704,\n",
    "        0.735, 1.00,  0.693, 0.709,\n",
    "        0.711, 0.693, 1.00,  0.839,\n",
    "        0.704, 0.709, 0.839, 1.00\n",
    "      ), \n",
    "      ncol = 4, \n",
    "      byrow = TRUE\n",
    "    ) \n",
    "R"
   ]
  },
  {
   "attachments": {},
   "cell_type": "markdown",
   "id": "f4b25085",
   "metadata": {},
   "source": [
    "Iniziamo calcolando la soluzione a due fattori mediante il metodo delle\n",
    "componenti principali e una rotazione Varimax (ovvero, ortogonale). Otteniamo le seguenti saturazioni fattoriali."
   ]
  },
  {
   "cell_type": "code",
   "execution_count": null,
   "id": "6c6c327c",
   "metadata": {
    "vscode": {
     "languageId": "r"
    }
   },
   "outputs": [],
   "source": [
    "f1_pc <- principal(R, 2, rotate = \"varimax\") \n",
    "f1_pc"
   ]
  },
  {
   "attachments": {},
   "cell_type": "markdown",
   "id": "5f1f2e24",
   "metadata": {},
   "source": [
    "Si noti che i due fattori non sono molto distinti. Consideriamo dunque la soluzione  prodotta da una rotazione obliqua. Usiamo qui l'algoritmo Oblimin."
   ]
  },
  {
   "cell_type": "code",
   "execution_count": null,
   "id": "1a6653c9",
   "metadata": {
    "vscode": {
     "languageId": "r"
    }
   },
   "outputs": [],
   "source": [
    "pr_oblimin <- principal(R, 2, rotate = \"oblimin\")"
   ]
  },
  {
   "attachments": {},
   "cell_type": "markdown",
   "id": "0b8562f1",
   "metadata": {},
   "source": [
    "La matrice $\\hat{\\boldsymbol{\\Lambda}}$ delle saturazioni fattoriali si ricava come indicato di seguito."
   ]
  },
  {
   "cell_type": "code",
   "execution_count": null,
   "id": "0eafd0fa",
   "metadata": {
    "vscode": {
     "languageId": "r"
    }
   },
   "outputs": [],
   "source": [
    "cbind(pr_oblimin$load[, 1], pr_oblimin$load[, 2])"
   ]
  },
  {
   "attachments": {},
   "cell_type": "markdown",
   "id": "9964ffce",
   "metadata": {},
   "source": [
    "La matrice $\\hat{\\boldsymbol{\\Phi}}$ di inter-correlazione fattoriale è la seguente."
   ]
  },
  {
   "cell_type": "code",
   "execution_count": null,
   "id": "b7c77120",
   "metadata": {
    "vscode": {
     "languageId": "r"
    }
   },
   "outputs": [],
   "source": [
    "pr_oblimin$Phi"
   ]
  },
  {
   "attachments": {},
   "cell_type": "markdown",
   "id": "60b37bec",
   "metadata": {},
   "source": [
    "La matrice di struttura, che riporta le correlazioni tra indicatori e fattori comuni, si ottiene pre-moltiplicando la matrice $\\boldsymbol{\\Lambda}$ delle saturazioni fattoriali alla matrice $\\boldsymbol{\\Phi}$ di inter-correlazione fattoriale.\n",
    "\n",
    "$$\n",
    "\\text{matrice di struttura} = \\boldsymbol{\\Lambda}\\boldsymbol{\\Phi}.\n",
    "$$\n",
    "\n",
    "Per esempio, la correlazione tra la prima variabile manifesta e il primo fattore si ottiene nel modo seguente."
   ]
  },
  {
   "cell_type": "code",
   "execution_count": null,
   "id": "9f82b2dd",
   "metadata": {
    "vscode": {
     "languageId": "r"
    }
   },
   "outputs": [],
   "source": [
    "pr_oblimin$load[1, 1] + pr_oblimin$load[1, 2] * pr_oblimin$Phi[2, 1]"
   ]
  },
  {
   "attachments": {},
   "cell_type": "markdown",
   "id": "d51991c0",
   "metadata": {},
   "source": [
    "L'intera matrice di struttura si può trovare eseguendo la moltiplicazione  $\\boldsymbol{\\Lambda}\\boldsymbol{\\Phi}$."
   ]
  },
  {
   "cell_type": "code",
   "execution_count": null,
   "id": "a8b899a8",
   "metadata": {
    "vscode": {
     "languageId": "r"
    }
   },
   "outputs": [],
   "source": [
    "pr_oblimin$load %*% pr_oblimin$Phi %>% \n",
    "  round(3)"
   ]
  },
  {
   "attachments": {},
   "cell_type": "markdown",
   "id": "4b315fd1",
   "metadata": {},
   "source": [
    "## Esempio con `semTools`\n",
    "\n",
    "Presento qui un esempio di uso di vari metodi di estrazione fattoriale. Tra tali  metodi, la rotazione obliqua Geomin è molto popolare ed è il default di M-Plus. \n",
    "\n",
    "Iniziamo a caricare il pacchetto `semTools`."
   ]
  },
  {
   "cell_type": "code",
   "execution_count": null,
   "id": "afc5c573",
   "metadata": {
    "vscode": {
     "languageId": "r"
    }
   },
   "outputs": [],
   "source": [
    "suppressPackageStartupMessages(library(\"semTools\")) "
   ]
  },
  {
   "attachments": {},
   "cell_type": "markdown",
   "id": "a79c92f7",
   "metadata": {},
   "source": [
    "Eseguiamo l'analisi fattoriale esplorativa del classico set di dati di Holzinger e Swineford (1939) il quale è costituito dai punteggi dei test di abilità mentale di bambini di seconda e terza media di due scuole diverse (Pasteur e Grant-White). Nel set di dati originale (disponibile nel pacchetto `MBESS`), sono forniti i punteggi di 26 test. Tuttavia, un sottoinsieme più piccolo con 9 variabili è più ampiamente utilizzato in letteratura. Questi sono i dati qui usati. \n",
    "\n",
    "Nel presente esempio, verrà eseguita l'analisi fattoriale esplorativa con l'estrazione di tre fattori. Il metodo di estrazione è `mlr`:\n",
    "\n",
    "> maximum likelihood estimation with robust (Huber-White) standard errors and a scaled test statistic that is (asymptotically) equal to the Yuan-Bentler test statistic. For both complete and incomplete data.\n",
    "\n",
    "La soluzione iniziale non è ruotata. "
   ]
  },
  {
   "cell_type": "code",
   "execution_count": null,
   "id": "9bce9e3a",
   "metadata": {
    "vscode": {
     "languageId": "r"
    }
   },
   "outputs": [],
   "source": [
    "unrotated <- efaUnrotate(HolzingerSwineford1939, nf=3, varList=paste0(\"x\", 1:9), estimator=\"mlr\")\n",
    "out = summary(unrotated)\n",
    "print(out)"
   ]
  },
  {
   "attachments": {},
   "cell_type": "markdown",
   "id": "57881716",
   "metadata": {},
   "source": [
    "Si noti che, in assenza di rotazione, è impossibile assegnare un significato ai fattori comuni.\n",
    "\n",
    "### Orthogonal varimax\n",
    "\n",
    "Utilizziamo ora la rotazione ortogonale Varimax."
   ]
  },
  {
   "cell_type": "code",
   "execution_count": null,
   "id": "f2621067",
   "metadata": {
    "vscode": {
     "languageId": "r"
    }
   },
   "outputs": [],
   "source": [
    "out_varimax <- orthRotate(unrotated, method=\"varimax\")\n",
    "out = summary(out_varimax, sort = FALSE, suppress = 0.3)\n",
    "print(out)"
   ]
  },
  {
   "attachments": {},
   "cell_type": "markdown",
   "id": "093029f1",
   "metadata": {},
   "source": [
    "### Orthogonal Quartimin\n",
    "\n",
    "Un metodo alternativo per la rotazione ortogonale è Quartimin."
   ]
  },
  {
   "cell_type": "code",
   "execution_count": null,
   "id": "396b048b",
   "metadata": {
    "vscode": {
     "languageId": "r"
    }
   },
   "outputs": [],
   "source": [
    "out_quartimin <- orthRotate(unrotated, method=\"quartimin\")\n",
    "out = summary(out_quartimin, sort = FALSE, suppress = 0.3)\n",
    "print(out)"
   ]
  },
  {
   "attachments": {},
   "cell_type": "markdown",
   "id": "ffa3169c",
   "metadata": {},
   "source": [
    "### Oblique Quartimin\n",
    "\n",
    "L'algoritmo Quartimin può anche essere usato per una soluzione obliqua."
   ]
  },
  {
   "cell_type": "code",
   "execution_count": null,
   "id": "b7fbbd83",
   "metadata": {
    "vscode": {
     "languageId": "r"
    }
   },
   "outputs": [],
   "source": [
    "out_oblq <- oblqRotate(unrotated, method=\"quartimin\")\n",
    "out = summary(out_oblq, sort = FALSE, suppress = 0.3)\n",
    "print(out)"
   ]
  },
  {
   "attachments": {},
   "cell_type": "markdown",
   "id": "f8dba577",
   "metadata": {},
   "source": [
    "### Orthogonal Geomin\n",
    "\n",
    "Consideriamo ora la rotazione Geomin. L'algoritmo Geomin fornisce un metodo di rotazione che riduce al minimo la media geometrica delle saturazioni fattoriali innalzate al quadrato. Qui è usato per ottenere una soluzione ortogonale."
   ]
  },
  {
   "cell_type": "code",
   "execution_count": null,
   "id": "ea68201e",
   "metadata": {
    "vscode": {
     "languageId": "r"
    }
   },
   "outputs": [],
   "source": [
    "out_geomin_orh <- orthRotate(unrotated, method=\"geomin\")\n",
    "out = summary(out_geomin_orh, sort=FALSE, suppress=0.3)\n",
    "print(out)"
   ]
  },
  {
   "attachments": {},
   "cell_type": "markdown",
   "id": "e7a1d249",
   "metadata": {},
   "source": [
    "### Oblique Geomin\n",
    "\n",
    "La rotazione Geomin può anche essere usata per ottenere una soluzione obliqua."
   ]
  },
  {
   "cell_type": "code",
   "execution_count": null,
   "id": "ab34852c",
   "metadata": {
    "vscode": {
     "languageId": "r"
    }
   },
   "outputs": [],
   "source": [
    "out_geomin_obl <- oblqRotate(unrotated, method=\"geomin\")\n",
    "out = summary(out_geomin_obl, sort = FALSE, suppress = 0.3)\n",
    "print(out)"
   ]
  },
  {
   "attachments": {},
   "cell_type": "markdown",
   "id": "9778991b",
   "metadata": {},
   "source": [
    "## Interpretazione \n",
    "\n",
    "Possiamo chiederci se, per fornire un'interpretazione ai fattori comuni latenti, sia più opportuno usare la matrice pattern o la matrice struttura.  Teoricamente, il fattore individuato dall'analisi fattoriale è una caratteristica latente univariata (una sorta di qualità che esprime l'\"essenza\" di un fenomeno psicologico). Poiché il fattore è una sorta di \"essenza\" univariata, dovrebbe essere interpretato come il significato (relativamente semplice) che giace sopra (o \"dietro\") l'intersezione dei significati/contenuti delle variabili che saturano nel fattore. Nella rotazione obliqua i fattori sono correlati. Vogliamo comunque interpretarli come dimensioni psicologiche distinte. L'etichetta che assegniamo al fattore $F_1$ dovrebbe contribuire a dissociare, in termini teorici, il fenomeno psicologico corrispondente a $F_1$ dal fenomeno denotato dall'etichetta del fattore $F_2$, anche in presenza di una correlazione tra i due, per sottolineare l'individualità di entrambi i fattori, pur riconoscendo il fatto che \"nella realtà esterna\" i due corrispondenti fenomeni psicologici tendono a covariare. \n",
    "\n",
    "Se è questa la strategia interpretativa, allora lo strumento principale per l'interpretazione corrisponde alla matrice pattern. Infatti, i coefficienti della matrice  pattern, in quanto interpretabili come coefficienti parziali di regressione, rivelano l'influenza \"causale\" del fattore comune nella determinazione delle variabili manifeste. La matrice struttura, invece, descrive le correlazioni tra variabili e fattori. Abbiamo visto che, all'interno di un diagramma di percorso, la correlazione dipende sia dai percorsi diretti (\"relazioni causali\") sia dai percorsi indiretti (che dipendono dalle correlazioni tra i fattori). Dunque la matrice struttura non descrive gli \"effetti diretti\", cioè \"causali\" dei fattori comuni latenti sulle variabili manifeste ma solo, appunto, la covariazione tra i fattori comuni e le variabili manifeste.\n",
    "\n",
    "Il punto debole della matrice pattern è che è meno stabile da un campione all'altro, come lo sono di solito i coefficienti di regressione rispetto ai coefficienti di correlazione. Di conseguenza, fare affidamento sulla matrice pattern per l'interpretazione richiede  uno studio ben pianificato e un'adeguata dimensione campionaria. Per uno studio pilota e un'interpretazione provvisoria, invece, la matrice struttura potrebbe essere la scelta migliore.\n"
   ]
  }
 ],
 "metadata": {
  "jupytext": {
   "cell_metadata_filter": "tags,out.width,name,fig.cap,-all",
   "main_language": "R",
   "notebook_metadata_filter": "-all"
  },
  "kernelspec": {
   "display_name": "R",
   "language": "R",
   "name": "ir"
  },
  "language_info": {
   "name": "R"
  }
 },
 "nbformat": 4,
 "nbformat_minor": 5
}
