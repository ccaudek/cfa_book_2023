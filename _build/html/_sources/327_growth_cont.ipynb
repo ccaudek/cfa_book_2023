{
 "cells": [
  {
   "attachments": {},
   "cell_type": "markdown",
   "id": "df5b0995",
   "metadata": {},
   "source": [
    "(time-cont-scale-notebook)=\n",
    "# Il tempo su una metrica continua\n",
    "\n",
    "Quando si cerca di comprendere il cambiamento all’interno della persona, una prima decisione importante è quella di scegliere una scala temporale appropriata per monitorare il cambiamento. Ad esempio, nell’esempio illustrativo discusso nel capitolo precedente, abbiamo scelto il grado scolastico come scala temporale e abbiamo organizzato le osservazioni attorno a questa metrica. Tuttavia, questa non è l’unica metrica del tempo possibile per questi dati. Altre metriche potenzialmente significative includono l’età e l’occasione di misurazione. Esistono metriche del tempo che rappresentano intervalli di tempo discreti, come l’occasione di misurazione o il grado scolastico, dove la metrica assume valori discreti comuni ai partecipanti. Ma non tutti i partecipanti devono essere valutati in ogni occasione di misurazione. Esistono anche metriche del tempo più continue, come l’età, dove i valori non sono comuni a più partecipanti. La stessa metrica può essere utilizzata in modo discreto o continuo. Ad esempio, l’età potrebbe essere arrotondata all’anno più vicino e il grado scolastico potrebbe essere misurato con precisione come anno scolastico più i giorni dall’inizio dell’anno. In questo capitolo discutiamo tecniche per adattare modelli di crescita con una metrica del tempo continua.\n",
    "\n",
    "## Una applicazione concreta\n",
    "\n",
    "L’approccio della finestra temporale è un metodo potenziale per analizzare dati con occasioni di misurazione individualmente variabili. In sostanza, l’approccio della finestra temporale mira ad approssimare la metrica del tempo individualmente variabile su una scala discreta. Ad esempio, ciò può essere ottenuto arrotondando il tempo/l’età al mezzo o al quarto d’anno più vicino.\n",
    "\n",
    "Questo metodo è ovviamente ancora un’approssimazione del tempo. Si può ottenere maggiore precisione utilizzando finestre più piccole, ma se la matrice dei dati diventa troppo sparsa, la stima diventa difficile.\n",
    "\n",
    "In questo esempio, le finestre temporali sono definite come semestri. Quindi, prendiamo i nostri dati in formato long, arrotondiamo l’età al semestre più vicino e convertiamo i dati in formato wide per l’utilizzo nel framework SEM."
   ]
  },
  {
   "cell_type": "code",
   "execution_count": null,
   "id": "b4ec73b6",
   "metadata": {
    "tags": [
     "remove_cell"
    ],
    "vscode": {
     "languageId": "r"
    }
   },
   "outputs": [],
   "source": [
    "source(\"_common.R\")\n",
    "suppressPackageStartupMessages({\n",
    "    library(\"lavaan\")\n",
    "    library(\"semPlot\")\n",
    "    library(\"knitr\")\n",
    "    library(\"markdown\")\n",
    "    library(\"patchwork\")\n",
    "    library(\"psych\")\n",
    "    library(\"DT\")\n",
    "    library(\"kableExtra\")\n",
    "    library(\"lme4\")\n",
    "})\n",
    "\n",
    "set.seed(42)"
   ]
  },
  {
   "attachments": {},
   "cell_type": "markdown",
   "id": "052c7263",
   "metadata": {},
   "source": [
    "Per questo esempio considereremo i dati di presrtazione matematica dal data set NLSY-CYA Long Data [si veda {cite:t}`grimm2016growth`]. Iniziamo a leggere i dati."
   ]
  },
  {
   "cell_type": "code",
   "execution_count": null,
   "id": "82f97aad",
   "metadata": {
    "vscode": {
     "languageId": "r"
    }
   },
   "outputs": [],
   "source": [
    "#set filepath for data file\n",
    "filepath <- \"https://raw.githubusercontent.com/LRI-2/Data/main/GrowthModeling/nlsy_math_long_R.dat\"\n",
    "#read in the text data file using the url() function\n",
    "dat <- read.table(file=url(filepath),\n",
    "                  na.strings = \".\")  #indicates the missing data designator\n",
    "#copy data with new name \n",
    "nlsy_math_long <- dat  \n",
    "\n",
    "#Add names the columns of the data set\n",
    "names(nlsy_math_long) = c('id'     , 'female', 'lb_wght', \n",
    "                          'anti_k1', 'math'  , 'grade'  ,\n",
    "                          'occ'    , 'age'   , 'men'    ,\n",
    "                          'spring' , 'anti')\n",
    "\n",
    "#subset to the variables of interest\n",
    "nlsy_math_long <- nlsy_math_long[ ,c(\"id\", \"math\", \"grade\", \"age\")]\n",
    "#view the first few observations in the data set \n",
    "head(nlsy_math_long, 10)"
   ]
  },
  {
   "cell_type": "code",
   "execution_count": null,
   "id": "c632c078",
   "metadata": {
    "vscode": {
     "languageId": "r"
    }
   },
   "outputs": [],
   "source": [
    "#intraindividual change trajetories\n",
    "ggplot(data=nlsy_math_long,                    #data set\n",
    "       aes(x = age, y = math, group = id)) + #setting variables\n",
    "  geom_point(size=.5) + #adding points to plot\n",
    "  geom_line() +  #adding lines to plot\n",
    "  theme_bw() +   #changing style/background\n",
    "  #setting the x-axis with breaks and labels\n",
    "  scale_x_continuous(#limits=c(2,8),\n",
    "                     #breaks = c(2,3,4,5,6,7,8), \n",
    "                     name = \"Age at Testing\") +    \n",
    "  #setting the y-axis with limits breaks and labels\n",
    "  scale_y_continuous(limits=c(10,90), \n",
    "                     breaks = c(10,30,50,70,90), \n",
    "                     name = \"PIAT Mathematics\")"
   ]
  },
  {
   "attachments": {},
   "cell_type": "markdown",
   "id": "a91e9887",
   "metadata": {},
   "source": [
    " Implementiamo il metodo della finestra temporale e ricodifichiamo i dati in formato wide."
   ]
  },
  {
   "cell_type": "code",
   "execution_count": null,
   "id": "d3ed5e2a",
   "metadata": {
    "vscode": {
     "languageId": "r"
    }
   },
   "outputs": [],
   "source": [
    "# creating new age variable scaled in years\n",
    "nlsy_math_long$ageyr <- (nlsy_math_long$age / 12)\n",
    "head(nlsy_math_long)"
   ]
  },
  {
   "cell_type": "code",
   "execution_count": null,
   "id": "6be5c330",
   "metadata": {
    "vscode": {
     "languageId": "r"
    }
   },
   "outputs": [],
   "source": [
    "# rounding to nearest half-year\n",
    "# multiplied by 10 to remove decimal for easy conversion to wide\n",
    "nlsy_math_long$agewindow <- plyr::round_any(nlsy_math_long$ageyr * 10, 5)\n",
    "head(nlsy_math_long)"
   ]
  },
  {
   "cell_type": "code",
   "execution_count": null,
   "id": "c457f256",
   "metadata": {
    "vscode": {
     "languageId": "r"
    }
   },
   "outputs": [],
   "source": [
    "# reshaping long to wide (just variables of interest)\n",
    "nlsy_math_wide <- reshape(\n",
    "  data = nlsy_math_long[, c(\"id\", \"math\", \"agewindow\")],\n",
    "  timevar = c(\"agewindow\"),\n",
    "  idvar = c(\"id\"),\n",
    "  v.names = c(\"math\"),\n",
    "  direction = \"wide\", sep = \"\"\n",
    ")\n",
    "\n",
    "# reordering columns for easy viewing\n",
    "nlsy_math_wide <- nlsy_math_wide[, c(\n",
    "  \"id\", \"math70\", \"math75\", \"math80\", \"math85\", \"math90\", \"math95\", \"math100\", \"math105\", \"math110\", \"math115\", \"math120\", \"math125\", \"math130\", \"math135\", \"math140\", \"math145\"\n",
    ")]\n",
    "# looking at the data\n",
    "head(nlsy_math_wide)"
   ]
  },
  {
   "attachments": {},
   "cell_type": "markdown",
   "id": "c6d45f22",
   "metadata": {},
   "source": [
    "Specifichiamo il modello SEM."
   ]
  },
  {
   "cell_type": "code",
   "execution_count": null,
   "id": "b7b75fbf",
   "metadata": {
    "vscode": {
     "languageId": "r"
    }
   },
   "outputs": [],
   "source": [
    "#writing out linear growth model in full SEM way \n",
    "lg_math_age_lavaan_model <- '\n",
    "  # latent variable definitions\n",
    "      #intercept (note intercept is a reserved term)\n",
    "      eta_1 =~ 1*math70 +\n",
    "                1*math75 +\n",
    "                1*math80 +\n",
    "                1*math85 +\n",
    "                1*math90 +\n",
    "                1*math95 +\n",
    "                1*math100 +\n",
    "                1*math105 +\n",
    "                1*math110 +\n",
    "                1*math115 +\n",
    "                1*math120 +\n",
    "                1*math125 +\n",
    "                1*math130 +\n",
    "                1*math135 +\n",
    "                1*math140 +\n",
    "                1*math145 \n",
    "\n",
    "      #linear slope (note intercept is a reserved term)\n",
    "      eta_2 =~ -1*math70 +\n",
    "                -0.5*math75 +\n",
    "                0*math80 +\n",
    "                0.5*math85 +\n",
    "                1*math90 +\n",
    "                1.5*math95 +\n",
    "                2*math100 +\n",
    "                2.5*math105 +\n",
    "                3*math110 +\n",
    "                3.5*math115 +\n",
    "                4*math120 +\n",
    "                4.5*math125 +\n",
    "                5*math130 +\n",
    "                5.5*math135 +\n",
    "                6*math140 +\n",
    "                6.5*math145\n",
    "\n",
    "  # factor variances\n",
    "      eta_1 ~~ start(65)*eta_1\n",
    "      eta_2 ~~ start(.75)*eta_2\n",
    "\n",
    "  # covariances among factors \n",
    "      eta_1 ~~ start(1.2)*eta_2\n",
    "\n",
    "  # manifest variances (made equivalent by naming theta)\n",
    "      math70 ~~ start(35)*theta*math70\n",
    "      math75 ~~ theta*math75\n",
    "      math80 ~~ theta*math80\n",
    "      math85 ~~ theta*math85\n",
    "      math90 ~~ theta*math90\n",
    "      math95 ~~ theta*math95\n",
    "      math100 ~~ theta*math100\n",
    "      math105 ~~ theta*math105\n",
    "      math110 ~~ theta*math110\n",
    "      math115 ~~ theta*math115\n",
    "      math120 ~~ theta*math120\n",
    "      math125 ~~ theta*math125\n",
    "      math130 ~~ theta*math130\n",
    "      math135 ~~ theta*math135\n",
    "      math140 ~~ theta*math140\n",
    "      math145 ~~ theta*math145\n",
    "      \n",
    "  # manifest means (fixed at zero)\n",
    "      math70 ~ 0*1\n",
    "      math75 ~ 0*1\n",
    "      math80 ~ 0*1\n",
    "      math85 ~ 0*1\n",
    "      math90 ~ 0*1\n",
    "      math95 ~ 0*1\n",
    "      math100 ~ 0*1\n",
    "      math105 ~ 0*1\n",
    "      math110 ~ 0*1\n",
    "      math115 ~ 0*1\n",
    "      math120 ~ 0*1\n",
    "      math125 ~ 0*1\n",
    "      math130 ~ 0*1\n",
    "      math135 ~ 0*1\n",
    "      math140 ~ 0*1\n",
    "      math145 ~ 0*1\n",
    "\n",
    "  # factor means (estimated freely)\n",
    "      eta_1 ~ start(35)*1\n",
    "      eta_2 ~ start(4)*1\n",
    "' #end of model definition"
   ]
  },
  {
   "attachments": {},
   "cell_type": "markdown",
   "id": "14b120d7",
   "metadata": {},
   "source": [
    "Adattiamo il modello ai dati."
   ]
  },
  {
   "cell_type": "code",
   "execution_count": null,
   "id": "a0e8d88a",
   "metadata": {
    "vscode": {
     "languageId": "r"
    }
   },
   "outputs": [],
   "source": [
    "#estimating the model using sem() function\n",
    "lg_math_age_lavaan_fit <- sem(lg_math_age_lavaan_model,\n",
    "  data = nlsy_math_wide,\n",
    "  meanstructure = TRUE,\n",
    "  estimator = \"ML\",\n",
    "  missing = \"fiml\"\n",
    ")"
   ]
  },
  {
   "attachments": {},
   "cell_type": "markdown",
   "id": "ba96644f",
   "metadata": {},
   "source": [
    "Esaminiamo la soluzione."
   ]
  },
  {
   "cell_type": "code",
   "execution_count": null,
   "id": "c5d69a70",
   "metadata": {
    "vscode": {
     "languageId": "r"
    }
   },
   "outputs": [],
   "source": [
    "out = summary(lg_math_age_lavaan_fit, fit.measures=TRUE)\n",
    "print(out)"
   ]
  },
  {
   "cell_type": "code",
   "execution_count": null,
   "id": "016ec02c",
   "metadata": {
    "vscode": {
     "languageId": "r"
    }
   },
   "outputs": [],
   "source": [
    "parameterEstimates(lg_math_age_lavaan_fit)"
   ]
  },
  {
   "cell_type": "code",
   "execution_count": null,
   "id": "14d47e00",
   "metadata": {
    "vscode": {
     "languageId": "r"
    }
   },
   "outputs": [],
   "source": [
    "inspect(lg_math_age_lavaan_fit, what=\"est\")"
   ]
  },
  {
   "attachments": {},
   "cell_type": "markdown",
   "id": "cfcc075e",
   "metadata": {},
   "source": [
    "Creiamo un diagramma di percorso."
   ]
  },
  {
   "cell_type": "code",
   "execution_count": null,
   "id": "fb6e8bd0",
   "metadata": {
    "lines_to_next_cell": 0,
    "vscode": {
     "languageId": "r"
    }
   },
   "outputs": [],
   "source": [
    "semPaths(lg_math_age_lavaan_fit,what = \"path\", whatLabels = \"par\")"
   ]
  },
  {
   "attachments": {},
   "cell_type": "markdown",
   "id": "6e9da129",
   "metadata": {},
   "source": []
  }
 ],
 "metadata": {
  "jupytext": {
   "cell_metadata_filter": "tags,-all",
   "main_language": "R",
   "notebook_metadata_filter": "-all"
  },
  "kernelspec": {
   "display_name": "R",
   "language": "R",
   "name": "ir"
  },
  "language_info": {
   "name": "R"
  }
 },
 "nbformat": 4,
 "nbformat_minor": 5
}
