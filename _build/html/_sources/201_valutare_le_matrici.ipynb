{
 "cells": [
  {
   "attachments": {},
   "cell_type": "markdown",
   "id": "577594aa",
   "metadata": {},
   "source": [
    "(evaluate-matrices-notebook)=\n",
    "# Valutazione della matrice di correlazione "
   ]
  },
  {
   "cell_type": "code",
   "execution_count": null,
   "id": "86de548a",
   "metadata": {
    "tags": [
     "remove_cell"
    ]
   },
   "outputs": [],
   "source": [
    "source(\"_common.R\")"
   ]
  },
  {
   "attachments": {},
   "cell_type": "markdown",
   "id": "7b609800",
   "metadata": {},
   "source": [
    "L'analisi fattoriale, essendo una tecnica di analisi multivariata,\n",
    "richiede la comprensione di almeno alcuni concetti di base dell'algebra\n",
    "matriciale. A livello minimale è necessario capire che cosa sono i\n",
    "vettori e le matrici, che cosa è il determinante di una matrice, e in\n",
    "che modo possano essere eseguite le operazioni algebriche su vettori e\n",
    "matrici (si veda l'Appendice).\n",
    "\n",
    "Dopo avere padroneggiato gli aspetti di base dell'algebra matriciale,\n",
    "possiamo valutare il determinante della matrice da fattorializzare: se\n",
    "il determinante è nullo non si può fare l'analisi. Se invece il\n",
    "determinante non è nullo, ci possiamo chiedere se le correlazioni\n",
    "campionarie siano sufficientemente grandi da giustificare l'analisi\n",
    "fattoriale. Se le correlazioni tra gli item sono di modesta entità,\n",
    "allora la soluzione fornita dall'analisi fattoriale non consentirà una\n",
    "descrizione parsimoniosa delle informazioni contenute nella matrice\n",
    "delle correlazioni. Per rispondere a questa domanda si ricorre\n",
    "all'ispezione visiva della matrice di correlazione e si possono svolgere\n",
    "due test: il test della sfericità di Bartlett e il Kaiser-Meyer-Olkin\n",
    "test.\n",
    "\n",
    "## Ispezione visiva della matrice di correlazione\n",
    "\n",
    "L'ispezione visiva della matrice di correlazione viene effettuata per\n",
    "vedere che vi siano blocchi di correlazioni alte fra loro e basse con le\n",
    "alte.\n",
    "\n",
    "## Sfericità di Bartlett\n",
    "\n",
    "Il test della sfericità di Bartlett verifica l'ipotesi\n",
    "$H_0 : \\boldsymbol{R} = \\boldsymbol{I}$ (ovvero che gli item siano tra\n",
    "loro incorrelati) tramite la formula:\n",
    "\n",
    "$$\\chi^2 = -\\bigg[n -1 -\\frac{1}{6} (2p +5)\\bigg] \\ln |\\boldsymbol{R}|,$$\n",
    "\n",
    "in cui $n$ è il numero dei soggetti, $p$ il numero delle variabili e\n",
    "$|\\boldsymbol{R}|$ il determinante della matrice di correlazione. La\n",
    "statistica del test della sfericità di Bartlett si distribuisce come\n",
    "$\\chi^2$ con $p(p - 1)/2$ gradi di libertà. Se il risultato del test è\n",
    "significativo (ovvero, se il valore della statistica test è\n",
    "sufficientemente grande), significa che $\\boldsymbol{R}$ ha correlazioni\n",
    "sufficientemente elevate da non essere paragonabili a 0; se è non\n",
    "significativo le correlazioni sono basse e non si distinguono da 0. Il\n",
    "limite di questo test è che dipende dal numero delle variabili e dalla\n",
    "numerosità del campione, quindi tende ad essere significativo\n",
    "all'aumentare del campione e del numero delle variabili anche se ci sono\n",
    "correlazioni basse.\n",
    "\n",
    "## Test di adeguatezza campionaria di Kaiser-Meyer-Olkin\n",
    "\n",
    "Henry Kaiser (1970) ha introdotto una misura di adeguatezza campionaria\n",
    "per le matrici sottoposte ad analisi fattoriale. In seguito, Kaiser and\n",
    "Rice (1974) hanno modificato questo indice che da allora è conosciuto\n",
    "come l'indice Kaiser-Meyer-Olkin (KMO). Il test di adeguatezza\n",
    "campionaria KMO è dato da\n",
    "\n",
    "$$\\text{KMO} = \\frac{\\sum_i\\sum_j r^2_{ij}}{\\sum_i\\sum_j r^2_{ij} +\\sum_i\\sum_jp^2_{ij}},$$\n",
    "\n",
    "dove $r_{ij}$ sono le correlazioni osservate e $p_{ij}$ sono le\n",
    "correlazioni parzializzate su tutte le altre. Se le correlazioni\n",
    "parzializzate sono piccole, KMO tende a 1. Secondo Kaiser (1970), se KMO\n",
    "\\> 0.90, l'adeguatezza campionaria è eccellente, fra .80 e .90 è buona,\n",
    "fra .70 e .80 è accettabile, fra .60 e .70 è mediocre, se è inferiore a\n",
    ".60 è meglio non fare l'analisi.\n",
    "\n",
    "### Matrice anti-immagine\n",
    "\n",
    "La matrice delle correlazioni parzializzate riporta il valore di ogni\n",
    "correlazione dopo aver eliminato il contributo di tutte le altre\n",
    "variabili non implicate. Una correlazione parzializzata alta significa\n",
    "che due variabili sono molto correlate fra loro, ma non hanno legami con\n",
    "nessun altra variabile. L'analisi fattoriale richiede invece che ci\n",
    "siano più di due variabili per fattore. La matrice anti-immagine\n",
    "contiene i complementi a 1 della correlazione parzializzata fra due\n",
    "variabili rispetto a tutte e altre. Valori alti indicano correlazioni\n",
    "parziali basse e viceversa."
   ]
  }
 ],
 "metadata": {
  "jupytext": {
   "cell_metadata_filter": "tags,-all",
   "main_language": "R",
   "notebook_metadata_filter": "-all"
  },
  "language_info": {
   "name": "python"
  }
 },
 "nbformat": 4,
 "nbformat_minor": 5
}
