{
 "cells": [
  {
   "attachments": {},
   "cell_type": "markdown",
   "id": "2f92eec8",
   "metadata": {},
   "source": [
    "(path-analysis-notebook)=\n",
    "# Visualizzare i modelli di equazioni strutturali \n",
    "\n",
    "<!-- https://stats.oarc.ucla.edu/r/seminars/rsem/ -->"
   ]
  },
  {
   "cell_type": "code",
   "execution_count": 66,
   "id": "ed967924",
   "metadata": {
    "tags": [
     "remove_cell"
    ],
    "vscode": {
     "languageId": "r"
    }
   },
   "outputs": [],
   "source": [
    "# devtools::install_github(\"alishinski/lavaanPlot\")\n",
    "source(\"_common.R\")\n",
    "suppressPackageStartupMessages({\n",
    "    library(\"lavaan\")\n",
    "    library(\"semPlot\")\n",
    "    library(\"lavaanPlot\")\n",
    "    library(\"DiagrammeRsvg\")\n",
    "    library(\"rsvg\")\n",
    "})\n",
    "\n",
    "set.seed(42)\n",
    "options(repr.plot.width=6, repr.plot.height=6)"
   ]
  },
  {
   "attachments": {},
   "cell_type": "markdown",
   "id": "4c87135e",
   "metadata": {},
   "source": [
    "Le visualizzazioni sono fondamentali per la comunicazione chiara e sintetica di relazioni complesse tra variabili. In particolare, quando si lavora con modelli di equazioni strutturali (SEM) che rappresentano una rete di relazioni tra variabili manifeste e latenti, i ricercatori utilizzano spesso strumenti grafici per facilitare la specificazione e l'espressione del modello, nonché per presentare i risultati in modo chiaro e comprensibile.\n",
    "\n",
    "La *path analysis* rappresenta un metodo per decomporre la correlazione o covarianza tra le variabili in componenti specifiche, al fine di descrivere le relazioni tra di esse. Questo approccio si basa sulla rappresentazione grafica delle interrelazioni tra le variabili e sulla scomposizione delle correlazioni o covarianze in termini dei parametri del modello. Wright (1920) è stato il primo a sviluppare i diagrammi di percorso per descrivere i modelli di equazioni strutturali.\n",
    "\n",
    "## Path diagram\n",
    "\n",
    "Il path diagram è uno strumento grafico che rappresenta le relazioni tra le variabili di interesse. Nel diagramma, le variabili non osservate o latenti sono rappresentate da un cerchio o ellisse, mentre le variabili osservate sono rappresentate da un quadrato o rettangolo. Ci sono due tipi di variabili rappresentate nel path diagram: quelle che non ricevono effetti causali da altre variabili e quelle che li ricevono. Una variabile esogena è una variabile esterna che agisce solo come variabile indipendente, ovvero causa di un effetto. Una variabile endogena può essere sia effetto di alcune variabili che causa per altre, o può svolgere solo il ruolo di variabile dipendente. Le fonti causali delle variabili endogene sono interne al path diagram, mentre quelle delle variabili esogene sono esterne al diagramma. La distinzione tra variabili esogene e endogene ha delle somiglianze con la distinzione tra variabili indipendenti e dipendenti nei modelli lineari.\n",
    "\n",
    "Il diagramma del percorso rappresenta le relazioni tra le variabili di interesse, evidenziando i legami causali o associativi tra di esse. Le frecce unidirezionali rappresentano un nesso causale tra le variabili coinvolte: la variabile finale dipende dalla variabile iniziale a cui la freccia è collegata. Al contrario, una freccia curva bidirezionale indica una relazione associativa non causale tra le variabili. L'assenza di una freccia tra due variabili nel diagramma corrisponde all'ipotesi che tali variabili siano incorrelate tra loro. Nella figura seguente, ad esempio, vengono illustrate le relazioni tra nove variabili manifeste e tre variabili latenti.\n",
    "\n",
    "```{figure} images/path_01.png\n",
    "---\n",
    "height: 450px\n",
    "name: path_01-fig\n",
    "---\n",
    "Diagramma di percorso per un modello a tre fattori comuni.\n",
    "```"
   ]
  },
  {
   "attachments": {},
   "cell_type": "markdown",
   "id": "b79070aa",
   "metadata": {},
   "source": [
    "## Analisi dei percorsi e regressione bivariata\n",
    "\n",
    "Iniziamo a descrivere l'analisi dei percorsi partendo dal caso più semplice, quello del modello di regressione lineare. Il modello di regressione bivariata è espresso dalla seguente equazione:\n",
    "\n",
    "$$\n",
    "y_1 = b_0 + b_1 x_1 + \\epsilon_1\n",
    "$$\n",
    "\n",
    "dove $y$ è la variabile dipendente, $b_0$ è l'intercetta, $b_1$ è la pendenza della retta di regressione, $x$ è la variabile indipendente e $\\epsilon$ è il residuo. \n",
    "\n",
    "Nella descrizione delle relazioni tra variabili manifeste e latenti, spesso viene adottata la notazione LISREL. In tale notazione, il modello presentato in precedenza può essere espresso come segue\n",
    "\n",
    "$$\n",
    "y_1 = \\alpha + \\gamma x_1 + \\zeta_1,\n",
    "$$\n",
    "\n",
    "dove\n",
    "\n",
    "- $x_1$: variabile esogena singola\n",
    "- $y_1$: variabile endogena singola\n",
    "- $\\alpha$: intercetta di $y_1$\n",
    "- $\\gamma_1$: coefficiente di regressione\n",
    "- $\\zeta_1$: residuo di $y_1$\n",
    "- $\\phi$: varianza o covarianza della variabile esogena\n",
    "- $\\psi$: varianza o covarianza residuale della variabile endogena\n",
    "\n",
    "Il diagramma di percorso per il modello di regressione bivariato è mostrato nella figura seguente.\n",
    "\n",
    "```{figure} images/lisrel_bivariate_reg.png\n",
    "---\n",
    "height: 225px\n",
    "name: lisrel_bivariate_reg-fig\n",
    "---\n",
    "Diagramma di percorso per il modello di regressione bivariato.\n",
    "```\n",
    "\n",
    "Facciamo un esempio numerico. Simuliamo tre variabili: x1, x2, y."
   ]
  },
  {
   "cell_type": "code",
   "execution_count": 24,
   "id": "9c256132",
   "metadata": {
    "vscode": {
     "languageId": "r"
    }
   },
   "outputs": [
    {
     "data": {
      "text/html": [
       "<table class=\"dataframe\">\n",
       "<caption>A matrix: 3 × 3 of type dbl</caption>\n",
       "<thead>\n",
       "\t<tr><th></th><th scope=col>x1</th><th scope=col>x2</th><th scope=col>y</th></tr>\n",
       "</thead>\n",
       "<tbody>\n",
       "\t<tr><th scope=row>x1</th><td>1.0000000</td><td>0.6244502</td><td>0.5493286</td></tr>\n",
       "\t<tr><th scope=row>x2</th><td>0.6244502</td><td>1.0000000</td><td>0.7992614</td></tr>\n",
       "\t<tr><th scope=row>y</th><td>0.5493286</td><td>0.7992614</td><td>1.0000000</td></tr>\n",
       "</tbody>\n",
       "</table>\n"
      ],
      "text/latex": [
       "A matrix: 3 × 3 of type dbl\n",
       "\\begin{tabular}{r|lll}\n",
       "  & x1 & x2 & y\\\\\n",
       "\\hline\n",
       "\tx1 & 1.0000000 & 0.6244502 & 0.5493286\\\\\n",
       "\tx2 & 0.6244502 & 1.0000000 & 0.7992614\\\\\n",
       "\ty & 0.5493286 & 0.7992614 & 1.0000000\\\\\n",
       "\\end{tabular}\n"
      ],
      "text/markdown": [
       "\n",
       "A matrix: 3 × 3 of type dbl\n",
       "\n",
       "| <!--/--> | x1 | x2 | y |\n",
       "|---|---|---|---|\n",
       "| x1 | 1.0000000 | 0.6244502 | 0.5493286 |\n",
       "| x2 | 0.6244502 | 1.0000000 | 0.7992614 |\n",
       "| y | 0.5493286 | 0.7992614 | 1.0000000 |\n",
       "\n"
      ],
      "text/plain": [
       "   x1        x2        y        \n",
       "x1 1.0000000 0.6244502 0.5493286\n",
       "x2 0.6244502 1.0000000 0.7992614\n",
       "y  0.5493286 0.7992614 1.0000000"
      ]
     },
     "metadata": {},
     "output_type": "display_data"
    }
   ],
   "source": [
    "set.seed(42)\n",
    "n <- 100\n",
    "x1 <- rnorm(n, 90, 20)\n",
    "x2 <- x1 + rnorm(n, 0, 30)\n",
    "y <- 25 + 0.5 * x1 + 1.0 * x2 + rnorm(n, 0, 30)\n",
    "\n",
    "cor(cbind(x1, x2, y))\n",
    "\n",
    "dat <- data.frame(\n",
    "    y, x1, x2\n",
    ")"
   ]
  },
  {
   "attachments": {},
   "cell_type": "markdown",
   "id": "4fb769ff",
   "metadata": {},
   "source": [
    "Consideriamo la relazione tra `x1` (variabile endogena) e `y` (variabile endogena). In R possiamo adattare ai dati un modello di regressione mediante la funzione `lm`."
   ]
  },
  {
   "cell_type": "code",
   "execution_count": 25,
   "id": "e64b3879",
   "metadata": {
    "vscode": {
     "languageId": "r"
    }
   },
   "outputs": [
    {
     "name": "stdout",
     "output_type": "stream",
     "text": [
      "\n",
      "Call:\n",
      "lm(formula = y ~ x1, data = dat)\n",
      "\n",
      "Residuals:\n",
      "    Min      1Q  Median      3Q     Max \n",
      "-82.462 -29.539  -3.437  29.200 122.234 \n",
      "\n",
      "Coefficients:\n",
      "            Estimate Std. Error t value Pr(>|t|)    \n",
      "(Intercept)  37.5974    18.9844   1.980   0.0505 .  \n",
      "x1            1.3286     0.2042   6.508 3.25e-09 ***\n",
      "---\n",
      "Signif. codes:  0 ‘***’ 0.001 ‘**’ 0.01 ‘*’ 0.05 ‘.’ 0.1 ‘ ’ 1\n",
      "\n",
      "Residual standard error: 42.31 on 98 degrees of freedom\n",
      "Multiple R-squared:  0.3018,\tAdjusted R-squared:  0.2946 \n",
      "F-statistic: 42.35 on 1 and 98 DF,  p-value: 3.251e-09\n",
      "\n"
     ]
    }
   ],
   "source": [
    "m1a <- lm(y ~ x1, data = dat)\n",
    "summary(m1a) |>\n",
    "    print()"
   ]
  },
  {
   "attachments": {},
   "cell_type": "markdown",
   "id": "219e3456",
   "metadata": {},
   "source": [
    "Usiamo ora lavaan per adattare lo stesso modello ai dati."
   ]
  },
  {
   "cell_type": "code",
   "execution_count": 43,
   "id": "17db7215",
   "metadata": {
    "vscode": {
     "languageId": "r"
    }
   },
   "outputs": [
    {
     "name": "stdout",
     "output_type": "stream",
     "text": [
      "  lhs op rhs      est      se      z pvalue ci.lower ci.upper\n",
      "1   y ~1       37.597  18.794  2.001  0.045    0.763   74.432\n",
      "2   y  ~  x1    1.329   0.202  6.574  0.000    0.933    1.725\n",
      "3  x1 ~~  x1  429.432  60.731  7.071  0.000  310.402  548.462\n",
      "4   y ~~   y 1754.100 248.067  7.071  0.000 1267.897 2240.303\n",
      "5  x1 ~1       90.650   2.072 43.744  0.000   86.589   94.712\n"
     ]
    }
   ],
   "source": [
    "m1b <- \"\n",
    "    y ~ 1 + x1\n",
    "    x1 ~~ x1\n",
    "\"\n",
    "fit1b <- sem(m1b, data = dat)\n",
    "parameterEstimates(fit1b) |>\n",
    "    print()\n"
   ]
  },
  {
   "attachments": {},
   "cell_type": "markdown",
   "id": "7afc816f",
   "metadata": {},
   "source": [
    "L'intercetta di `.y` (37.597) e il coefficiente di regressione di `y ~ x1` (1.329) corrispondono all'output di `lm()` con piccoli errori di arrotondamento. Si noti che il punto (.) davanti al parametro indica una variabile endogena sotto `Intercepts` e una varianza residua se sotto `Variances` o `Covariances`. L'intercetta per `x1` (90.650) non ha un punto (.) né la sua varianza (429.432), indicando che si tratta di una media ed una varianza esogena. La media ed la varianza esogene corrispondono alla media e alla varianza univariate come mostrato di seguito:"
   ]
  },
  {
   "cell_type": "code",
   "execution_count": 7,
   "id": "dcdb3fae",
   "metadata": {
    "vscode": {
     "languageId": "r"
    }
   },
   "outputs": [
    {
     "data": {
      "text/html": [
       "90.6502963122602"
      ],
      "text/latex": [
       "90.6502963122602"
      ],
      "text/markdown": [
       "90.6502963122602"
      ],
      "text/plain": [
       "[1] 90.6503"
      ]
     },
     "metadata": {},
     "output_type": "display_data"
    }
   ],
   "source": [
    "mean(dat$x1)"
   ]
  },
  {
   "cell_type": "code",
   "execution_count": 9,
   "id": "2035b212",
   "metadata": {
    "vscode": {
     "languageId": "r"
    }
   },
   "outputs": [
    {
     "data": {
      "text/html": [
       "429.432031274383"
      ],
      "text/latex": [
       "429.432031274383"
      ],
      "text/markdown": [
       "429.432031274383"
      ],
      "text/plain": [
       "[1] 429.432"
      ]
     },
     "metadata": {},
     "output_type": "display_data"
    }
   ],
   "source": [
    "var(dat$x1) * (length(dat$x1) - 1) / length(dat$x1)"
   ]
  },
  {
   "attachments": {},
   "cell_type": "markdown",
   "id": "3599623d",
   "metadata": {},
   "source": [
    "## Analisi dei percorsi e regressione multipla\n",
    "\n",
    "<!-- Vi è una stretta relazione tra path analysis e regressione multipla,\n",
    "tanto che la regressione può essere considerata un caso particolare di\n",
    "path analysis. Per semplicità, si supponga che le variabili siano state\n",
    "standardizzate, anche se la stessa analisi può essere condotta per\n",
    "variabili grezze. Il path diagram mostra la relazione tra tutte le\n",
    "variabili, comprendendo anche i fattori di disturbo, e fornisce dunque\n",
    "la rappresentazione grafica di un sistema di equazioni simultanee. Nel\n",
    "caso di due regressori, il modello di regressione multipla può essere\n",
    "rappresentato tramite il path diagram riportato nella\n",
    "figura seguente. -->\n",
    "\n",
    "La regressione semplice è limitata a una sola variabile esogena. Nella pratica, un ricercatore può essere interessato a studiare come un gruppo di variabili esogene possano predire una variabile di esito. Supponiamo di avere ancora una sola variabile di esito endogena ma due predittori esogeni; questo caso è noto come regressione multipla:\n",
    "\n",
    "$$\n",
    "y_1 = \\alpha_1 + \\gamma_1 x_1 + \\gamma_2 x_2 + \\zeta_1\n",
    "$$\n",
    "\n",
    "Il diagramma di percorso mostra la relazione tra tutte le variabili, comprendendo anche i fattori di disturbo, e fornisce dunque la rappresentazione grafica dell'equazione precedente.\n",
    "\n",
    "```{figure} images/lisrel_mr.png\n",
    "---\n",
    "height: 300px\n",
    "name: lisrel_mr-fig\n",
    "---\n",
    "Diagramma di percorso per il modello di regressione multipla.\n",
    "```\n",
    "\n",
    "I coefficienti di percorso associati alle frecce orientate esprimono la portata del nesso causale e corrispondono ai pesi beta (ovvero ai coefficienti parziali di regressione standardizzati). Le frecce non orientate esprimono la portata della pura associazione tra variabili e dunque corrispondono alle correlazioni/covarianze.\n",
    "\n",
    "In un diagramma di percorso, il numero di equazioni corrisponde al numero di variabili endogene del modello. Nel caso specifico, poiché vi è una sola variabile endogena (ovvero $y$), esiste un'unica equazione che descrive le relazioni causalitiche interne al path diagram. All'interno di ciascuna equazione, inoltre, il numero di termini corrisponde al numero di frecce orientate che puntano verso la variabile endogena. Nell'esempio sopra citato, pertanto, la sola equazione del modello contiene tre termini, ciascuno associato ad una freccia orientata.\n",
    "\n",
    "Usando `lm` otteniamo la seguente stima dei coefficienti:"
   ]
  },
  {
   "cell_type": "code",
   "execution_count": 27,
   "id": "c7a84d71",
   "metadata": {
    "vscode": {
     "languageId": "r"
    }
   },
   "outputs": [
    {
     "name": "stdout",
     "output_type": "stream",
     "text": [
      "\n",
      "Call:\n",
      "lm(formula = y ~ 1 + x1 + x2, data = dat)\n",
      "\n",
      "Residuals:\n",
      "    Min      1Q  Median      3Q     Max \n",
      "-77.299 -19.856  -2.476  19.112  75.617 \n",
      "\n",
      "Coefficients:\n",
      "            Estimate Std. Error t value Pr(>|t|)    \n",
      "(Intercept)  44.4537    13.6639   3.253  0.00157 ** \n",
      "x1            0.1991     0.1879   1.060  0.29179    \n",
      "x2            1.0853     0.1127   9.628 8.54e-16 ***\n",
      "---\n",
      "Signif. codes:  0 ‘***’ 0.001 ‘**’ 0.01 ‘*’ 0.05 ‘.’ 0.1 ‘ ’ 1\n",
      "\n",
      "Residual standard error: 30.41 on 97 degrees of freedom\n",
      "Multiple R-squared:  0.643,\tAdjusted R-squared:  0.6356 \n",
      "F-statistic: 87.34 on 2 and 97 DF,  p-value: < 2.2e-16\n",
      "\n"
     ]
    }
   ],
   "source": [
    "m2a <- lm(y ~ 1 + x1 + x2, data = dat)\n",
    "fit2a <- summary(m2a) |>\n",
    "    print()"
   ]
  },
  {
   "attachments": {},
   "cell_type": "markdown",
   "id": "fef0c481",
   "metadata": {},
   "source": [
    "Gli stessi risultati si ottengono con lavaan."
   ]
  },
  {
   "cell_type": "code",
   "execution_count": 50,
   "id": "1c19ef3a",
   "metadata": {
    "vscode": {
     "languageId": "r"
    }
   },
   "outputs": [
    {
     "name": "stdout",
     "output_type": "stream",
     "text": [
      "  lhs op rhs      est      se      z pvalue ci.lower ci.upper\n",
      "1   y ~1       44.454  13.457  3.303  0.001   18.078   70.830\n",
      "2   y  ~  x1    0.199   0.185  1.076  0.282   -0.164    0.562\n",
      "3   y  ~  x2    1.085   0.111  9.775  0.000    0.868    1.303\n",
      "4  x1 ~~  x1  429.432  60.731  7.071  0.000  310.402  548.462\n",
      "5  x2 ~~  x2 1192.840 168.693  7.071  0.000  862.208 1523.472\n",
      "6  x1 ~~  x2  446.927  84.379  5.297  0.000  281.546  612.307\n",
      "7   y ~~   y  896.963 126.850  7.071  0.000  648.342 1145.584\n",
      "8  x1 ~1       90.650   2.072 43.744  0.000   86.589   94.712\n",
      "9  x2 ~1       88.026   3.454 25.487  0.000   81.257   94.795\n"
     ]
    }
   ],
   "source": [
    "m2b <- \"\n",
    "    y ~ 1 + x1 + x2\n",
    "    x1 ~~ x1\n",
    "    x2 ~~ x2\n",
    "    x1 ~~ x2\n",
    "\"\n",
    "fit2b <- sem(m2b, data = dat)\n",
    "parameterEstimates(fit2b) |>\n",
    "    print()\n"
   ]
  },
  {
   "attachments": {},
   "cell_type": "markdown",
   "id": "78b4ee5b",
   "metadata": {},
   "source": [
    "La funzione `semPaths` consente di creare un diagramma di percorso a partire dall'oggetto creato da `sem`."
   ]
  },
  {
   "cell_type": "code",
   "execution_count": 57,
   "id": "2e9cfe81",
   "metadata": {
    "vscode": {
     "languageId": "r"
    }
   },
   "outputs": [
    {
     "data": {
      "image/png": "[encoded data removed]",
      "text/plain": [
       "plot without title"
      ]
     },
     "metadata": {
      "image/png": {
       "height": 360,
       "width": 360
      }
     },
     "output_type": "display_data"
    }
   ],
   "source": [
    "semPaths(\n",
    "    fit2b,\n",
    "    whatLabels = \"est\",\n",
    "    sizeMan = 10,\n",
    "    edge.label.cex = 1.15,\n",
    "    style = \"ram\",\n",
    "    nCharNodes = 0, nCharEdges = 0\n",
    ")\n"
   ]
  },
  {
   "attachments": {},
   "cell_type": "markdown",
   "id": "c90a68ad",
   "metadata": {},
   "source": [
    "## Effetti diretti e indiretti\n",
    "\n",
    "La path analysis fornisce un metodo per distinguere tra i diversi tipi di effetti che influenzano le variabili: l'effetto diretto, l'effetto indiretto e l'effetto totale. Gli effetti diretti sono quelli non mediati da altre variabili. Gli effetti indiretti operano attraverso l'intervento di almeno una variabile. L'effetto totale è la somma di tutti gli effetti diretti e indiretti.\n",
    "\n",
    "Nella figura seguente, la variable $y_1$ ha un effetto diretto sulla $y_2$. La variabile $y_1$ ha un effetto indiretto sulla $y_3$ in quanto non c'è una freccia causale che colleghi direttamente la\n",
    "variabile $y_1$ alla $y_3$. La variabile $y_1$ è una variabile esogena e le varibili $y_2$ e $y_3$ sono variabili endogene.\n",
    "\n",
    "```{figure} images/path_03.png\n",
    "---\n",
    "height: 100px\n",
    "name: path_03-fig\n",
    "---\n",
    "Diagramma di percorso per un modello a catena.\n",
    "```"
   ]
  },
  {
   "attachments": {},
   "cell_type": "markdown",
   "id": "86cc1164",
   "metadata": {},
   "source": [
    "## Le regole di Wright\n",
    "\n",
    "Lo scopo della path analysis è quello di decomporre la correlazione (o la covarianza) nei termini della somma di tutti i percorsi (diretti e indiretti) che legano le due variabili tramite i coefficienti detti path coefficients. Usando il path diagram, Sewall Wright (1921, 1934) enunciò le regole che, attraverso le cosiddette tracing rules, legano le correlazioni (o covarianze) delle variabili ai parametri del modello. Le tracing rules possono essere espresse nei termini seguenti:\n",
    "\n",
    "- è possibile procedere prima all’indietro lungo una freccia e poi in avanti, seguendo la direzione di una freccia, ma non si può andare prima avanti e poi tornare indietro;\n",
    "- un percorso composto non deve transitare due volte per la stessa variabile (non devono esserci loop);\n",
    "- un percorso non può comprendere più di una linea curva.\n",
    "\n",
    "Si chiama “percorso” il tracciato che unisce due variabili; è costituito da sequenze di frecce direzionali e di curve non direzionali. A ciascun percorso legittimo (ovvero, che soddisfa le regole di Wright) viene assegnato un valore numerico pari al prodotto dei coefficienti incontrati sul percorso medesimo. I coefficienti di percorso possono essere o coefficienti parziali di regressione standardizzati, se il legame ha una direzione, oppure coefficienti di correlazione, se il legame è bidirezionale.\n",
    "\n",
    "## Scomposizione delle correlazioni/covarianze\n",
    "\n",
    "Il principio di base è stato espresso da Sewall Wright (1934) nel modo seguente: \n",
    "\n",
    "> Any correlation between variables in a network of sequential relations can be analyzed into contributions from all the paths (direct or through common factors) by which the two variables are connected, such that the value of each contribution is the product of the coefficients pertaining to the elementary paths. If residual correlations are present (represented by bidirectional arrows) one (but never more than one) of the coefficients thus multiplied together to give the contribution of the connecting path, may be a correlation coefficient. The others are all path coefficients.\n",
    "\n",
    "Possiamo così enunciare la regola di scomposizione della correlazione: la correlazione o covarianza tra due variabili può essere scomposta in tanti termini quanti sono i percorsi che le collegano, dove ciascun termine è dato dal prodotto dei coefficienti delle variabili incontrati lungo il percorso. In altre parole, si può decomporre la correlazione o covarianza tra due variabili in tanti contributi quanti sono i cammini possibili che connettono le due variabili.\n",
    "\n",
    "### Scomposizione della varianza\n",
    "\n",
    "La varianza di una variabile endogena può essere suddivisa in una parte spiegata dalle variabili che influenzano causalmente tale variabile e in una parte non spiegata. La varianza spiegata è determinata dalla somma degli effetti delle varie variabili che si collegano alla variabile endogena rispettando le regole di tracciamento di Wright. Il numero degli addendi corrisponde al numero di percorsi che connettono la variabile endogena a sé stessa."
   ]
  },
  {
   "attachments": {},
   "cell_type": "markdown",
   "id": "fe0e367a",
   "metadata": {},
   "source": [
    "**Esempio.** Consideriamo nuovamente il modello di regressione multipla con due variabili esogene e una sola variabile endogena che è stato presentato sopra. \n",
    "\n",
    "La calcoliamo la covarianza tra `y` e `x1` "
   ]
  },
  {
   "cell_type": "code",
   "execution_count": 62,
   "id": "8a045839",
   "metadata": {
    "vscode": {
     "languageId": "r"
    }
   },
   "outputs": [
    {
     "data": {
      "text/html": [
       "570.56471345413"
      ],
      "text/latex": [
       "570.56471345413"
      ],
      "text/markdown": [
       "570.56471345413"
      ],
      "text/plain": [
       "[1] 570.5647"
      ]
     },
     "metadata": {},
     "output_type": "display_data"
    }
   ],
   "source": [
    "cov(dat$y, dat$x1) * 99 / 100\n"
   ]
  },
  {
   "attachments": {},
   "cell_type": "markdown",
   "id": "b0b364a3",
   "metadata": {},
   "source": [
    "può essere ricavata usando le regole di Wright nel modo seguente:"
   ]
  },
  {
   "cell_type": "code",
   "execution_count": 64,
   "id": "321e0173",
   "metadata": {
    "vscode": {
     "languageId": "r"
    }
   },
   "outputs": [
    {
     "data": {
      "text/html": [
       "570.37562"
      ],
      "text/latex": [
       "570.37562"
      ],
      "text/markdown": [
       "570.37562"
      ],
      "text/plain": [
       "[1] 570.3756"
      ]
     },
     "metadata": {},
     "output_type": "display_data"
    }
   ],
   "source": [
    "0.199 * 429.43 + 1.085 * 446.93\n"
   ]
  },
  {
   "attachments": {},
   "cell_type": "markdown",
   "id": "3856f0ec",
   "metadata": {},
   "source": [
    "La quota di varianza non spiegata della variabile endogena è:"
   ]
  },
  {
   "cell_type": "code",
   "execution_count": 65,
   "id": "b6da4f21",
   "metadata": {
    "lines_to_next_cell": 0,
    "vscode": {
     "languageId": "r"
    }
   },
   "outputs": [
    {
     "data": {
      "text/html": [
       "897.936130308472"
      ],
      "text/latex": [
       "897.936130308472"
      ],
      "text/markdown": [
       "897.936130308472"
      ],
      "text/plain": [
       "[1] 897.9361"
      ]
     },
     "metadata": {},
     "output_type": "display_data"
    }
   ],
   "source": [
    "(var(dat$y) * 99 / 100) - (\n",
    "    0.199^2 * 429.43 + (1.085)^2 * 1192.84 + 2 * (0.199 * 1.085 * 446.93)\n",
    ")\n"
   ]
  },
  {
   "attachments": {},
   "cell_type": "markdown",
   "id": "98d3ea16",
   "metadata": {},
   "source": [
    "## Oltre la regressione multipla\n",
    "\n",
    "In generale, lo psicologo ha a che fare con diagrammi di percorso nei\n",
    "quali sono presenti variabili non osservabili (latenti) e quindi\n",
    "l'approccio della regressione multipla non può essere applicato. È\n",
    "necessario invece descrivere il diagramma di percorso mediante un\n",
    "insieme di equazioni strutturali, definendo un numero di equazioni\n",
    "almeno altrettanto grande quanto il numero delle incognite. Tale\n",
    "soluzione viene solitamente fornita da un software. Consideriamo di\n",
    "seguito alcuni esempi in cui vengono applicate le regole di Wright per\n",
    "diagrammi di percorso che non possono essere descritti nei termini di un\n",
    "modello di regressione multipla. Un esempio di path diagram che non si\n",
    "riduce al modello di regressione multipla è quello del modello con tre fattori comuni esaminato in precedenza.\n",
    "\n",
    "La path analysis è anche usata in quel campo della psicologia\n",
    "interessato alla misurazione dei costrutti psicologici quali i tratti\n",
    "della personalità, le capacità cognitive e i disturbi psicopatologici.\n",
    "Questa è la ragione per cui la discutiamo qui.\n",
    "\n",
    "**Esercizio.** In questo primo esempio, l'analisi dei percorsi verrà utilizzata per testare un\n",
    "modello a priori che si basa sul quadro teorico della *Self Determination Theory* (SDT; Deci & Ryan, 2000), una delle principali teorie della motivazione umana. Questo modello concettuale applicherà la SDT per esaminare i principali determinanti psicologici e comportamentali dei sintomi bulimici in un campione di giovani donne adulte. Più specificamente, esamineremo come l'appagamento (soddisfazione) e l'esaurimento (frustrazione) delle risorse psicologiche essenziali, o bisogni psicologici (ad esempio, per l'autonomia, la competenza e la relazionalità), possono prevedere in modo differenziale i sintomi bulimici nelle donne attraverso due mediatori chiave, l'approvazione degli ideali culturali sulla magrezza e inflessibilità delle opinioni sul proprio corpo. Secondo la SDT, i bisogni psicologici influenzano la capacità di un individuo di autoregolarsi e far fronte alle richieste della vita quotidiana e possono rendere gli individui vulnerabili al malessere psicologico se i bisogni psicologici vengono frustrati\n",
    "(Vansteenkiste & Ryan, 2013). La frustrazione dei bisogni può essere\n",
    "psicologicamente più depauperante della mancanza di soddisfazione dei bisogni. \n",
    "\n",
    "Gli individui i cui bisogni vengono frustrati possono impegnarsi in attività malsane e comportamenti compensatori al fine di riconquistare una soddisfazione dei bisogni a breve termine. La frustrazione dei bisogni rende gli individui più vulnerabili agli ideali culturali, in quanto le risorse personali per rifiutare questi ideali sono esaurite (Pelletier & Dion, 2007).\n",
    "\n",
    "Il modello che verrà testato propone che le donne i cui bisogni psicologici sono frustrati avalleranno ideali sociali più problematici sulla magrezza rispetto alle donne i cui bisogni psicologici sono soddisfatti. La frustrazione dei bisogni sarà anche predittiva dell'inflessibilità degli schemi corporei, poiché è stato dimostrato che la frustrazione dei bisogni porta a disturbi dell'immagine corporea e a comportamenti alimentari patologici (Boone, Vansteenkiste, Soenens, Van der Kaap-Deeder e Verstuyf, 2014). Il modello propone inoltre che una maggiore approvazione degli ideali culturali sulla sarà predittiva di una maggiore inflessibilità sugli schemi corporei che, di per sé, è predittiva dei sintomi bulimici.\n",
    "\n",
    "Il campione include 192 partecipanti, in maggioranza donne, di età media 21.2 anni (SD = 6.89). Sono stati somministrati i seguenti strumenti:\n",
    "\n",
    "- Body Image-Acceptance and Action Questionnaire (Sandoz, Wilson, Merwin, & Kellum, 2013), per misurare l'inflessibilità relativa alla propria immagine corporea,\n",
    "- Endorsement of Society’s Beliefs Related to Thinness and Obesity (Boyer, 1991), per valutare l'internalizzazione degli ideali di magrezza, \n",
    "- Basic Psychological Needs Satisfaction and Frustration Scale (Chen et al., 2015), per misurare la soddisfazione e la frustrazione dei bisogni,\n",
    "- Eating Disorders Inventory-2 – Bulimic Symptomology Subscale (Garner, 1991), per misurare i sintomi bulimici.\n",
    "\n",
    "I dati sono i seguenti."
   ]
  },
  {
   "cell_type": "code",
   "execution_count": 7,
   "id": "7b79415e",
   "metadata": {
    "vscode": {
     "languageId": "r"
    }
   },
   "outputs": [],
   "source": [
    "upper <- '\n",
    "  1 0.44 -0.41 0.55 0.63\n",
    "  1 -0.37 0.45 0.44\n",
    "  1 -0.71 -0.39\n",
    "  1 0.47\n",
    "  1\n",
    "'"
   ]
  },
  {
   "cell_type": "code",
   "execution_count": 8,
   "id": "b46b57fb",
   "metadata": {
    "vscode": {
     "languageId": "r"
    }
   },
   "outputs": [],
   "source": [
    "# BFLX – Body Inflexibility,\n",
    "# END – Endorsement of Societal Beliefs about Thinness and Obesity,\n",
    "# MNS – Mean Need Satisfaction, \n",
    "# MNF – Mean Need Frustration, \n",
    "# BULS – Bulimic Symptoms\n",
    "dat_cov <- lavaan::getCov(\n",
    "  upper,\n",
    "  lower = FALSE,\n",
    "  names = c(\"BFLX\", \"END\", \"MNS\", \"MNF\", \"BULS\")\n",
    ")"
   ]
  },
  {
   "attachments": {},
   "cell_type": "markdown",
   "id": "29655e84",
   "metadata": {},
   "source": [
    "Un primo modello di mediazione considera BFLX quale variabile endogena, MNF quale variable esogena e END quale mediatore. Usando Mplus, Barbeau, Boileau, Sarr &  Smith (2019) trovano i seguenti coefficienti di percorso: $a$ = 0.37, $b$ = =.29, e $c$ = 0.34. \n",
    "\n",
    "Svolgiamo l'analisi con `lavaan`. Definiamo il modello."
   ]
  },
  {
   "cell_type": "code",
   "execution_count": 9,
   "id": "e4fd3ad1",
   "metadata": {
    "vscode": {
     "languageId": "r"
    }
   },
   "outputs": [],
   "source": [
    "mod <- '\n",
    "  # direct effect\n",
    "  BFLX ~ c*MNF\n",
    "  # mediator\n",
    "  BFLX ~ b*END\n",
    "  END ~ a*MNF\n",
    "  \n",
    "  # indirect effect (a*b)\n",
    "  ab := a*b\n",
    "  # total effect\n",
    "  total := c + (a*b)\n",
    "'"
   ]
  },
  {
   "attachments": {},
   "cell_type": "markdown",
   "id": "0adcf626",
   "metadata": {},
   "source": [
    "Adattiamo il modello ai dati."
   ]
  },
  {
   "cell_type": "code",
   "execution_count": 10,
   "id": "5104308d",
   "metadata": {
    "vscode": {
     "languageId": "r"
    }
   },
   "outputs": [],
   "source": [
    "fit <- sem(\n",
    "  mod,\n",
    "  sample.cov = dat_cov,\n",
    "  sample.nobs = 192\n",
    ")"
   ]
  },
  {
   "attachments": {},
   "cell_type": "markdown",
   "id": "a135a119",
   "metadata": {},
   "source": [
    "Esaminiamo i risultati"
   ]
  },
  {
   "cell_type": "code",
   "execution_count": 11,
   "id": "33621eeb",
   "metadata": {
    "vscode": {
     "languageId": "r"
    }
   },
   "outputs": [
    {
     "name": "stdout",
     "output_type": "stream",
     "text": [
      "lavaan 0.6.15 ended normally after 1 iteration\n",
      "\n",
      "  Estimator                                         ML\n",
      "  Optimization method                           NLMINB\n",
      "  Number of model parameters                         5\n",
      "\n",
      "  Number of observations                           192\n",
      "\n",
      "Model Test User Model:\n",
      "                                                      \n",
      "  Test statistic                                 0.000\n",
      "  Degrees of freedom                                 0\n",
      "\n",
      "Model Test Baseline Model:\n",
      "\n",
      "  Test statistic                               125.849\n",
      "  Degrees of freedom                                 3\n",
      "  P-value                                        0.000\n",
      "\n",
      "User Model versus Baseline Model:\n",
      "\n",
      "  Comparative Fit Index (CFI)                    1.000\n",
      "  Tucker-Lewis Index (TLI)                       1.000\n",
      "\n",
      "Loglikelihood and Information Criteria:\n",
      "\n",
      "  Loglikelihood user model (H0)               -480.945\n",
      "  Loglikelihood unrestricted model (H1)       -480.945\n",
      "                                                      \n",
      "  Akaike (AIC)                                 971.890\n",
      "  Bayesian (BIC)                               988.178\n",
      "  Sample-size adjusted Bayesian (SABIC)        972.339\n",
      "\n",
      "Root Mean Square Error of Approximation:\n",
      "\n",
      "  RMSEA                                          0.000\n",
      "  90 Percent confidence interval - lower         0.000\n",
      "  90 Percent confidence interval - upper         0.000\n",
      "  P-value H_0: RMSEA <= 0.050                       NA\n",
      "  P-value H_0: RMSEA >= 0.080                       NA\n",
      "\n",
      "Standardized Root Mean Square Residual:\n",
      "\n",
      "  SRMR                                           0.000\n",
      "\n",
      "Parameter Estimates:\n",
      "\n",
      "  Standard errors                             Standard\n",
      "  Information                                 Expected\n",
      "  Information saturated (h1) model          Structured\n",
      "\n",
      "Regressions:\n",
      "                   Estimate  Std.Err  z-value  P(>|z|)   Std.lv  Std.all\n",
      "  BFLX ~                                                                \n",
      "    MNF        (c)    0.441    0.065    6.769    0.000    0.441    0.441\n",
      "    END        (b)    0.241    0.065    3.702    0.000    0.241    0.241\n",
      "  END ~                                                                 \n",
      "    MNF        (a)    0.450    0.064    6.982    0.000    0.450    0.450\n",
      "\n",
      "Variances:\n",
      "                   Estimate  Std.Err  z-value  P(>|z|)   Std.lv  Std.all\n",
      "   .BFLX              0.648    0.066    9.798    0.000    0.648    0.651\n",
      "   .END               0.793    0.081    9.798    0.000    0.793    0.797\n",
      "\n",
      "R-Square:\n",
      "                   Estimate\n",
      "    BFLX              0.349\n",
      "    END               0.203\n",
      "\n",
      "Defined Parameters:\n",
      "                   Estimate  Std.Err  z-value  P(>|z|)   Std.lv  Std.all\n",
      "    ab                0.109    0.033    3.271    0.001    0.109    0.109\n",
      "    total             0.550    0.060    9.125    0.000    0.550    0.550\n",
      "\n"
     ]
    }
   ],
   "source": [
    "summary(fit, fit.measures = TRUE, standardized = TRUE, rsquare = TRUE) |>\n",
    "    print()"
   ]
  },
  {
   "attachments": {},
   "cell_type": "markdown",
   "id": "e410f4af",
   "metadata": {},
   "source": [
    "Generiamo un diagramma di percorso."
   ]
  },
  {
   "cell_type": "code",
   "execution_count": 12,
   "id": "9849cb60",
   "metadata": {
    "vscode": {
     "languageId": "r"
    }
   },
   "outputs": [
    {
     "data": {
      "image/png": "[encoded data removed]",
      "text/plain": [
       "plot without title"
      ]
     },
     "metadata": {
      "image/png": {
       "height": 360,
       "width": 360
      }
     },
     "output_type": "display_data"
    }
   ],
   "source": [
    "semPlot::semPaths(\n",
    "    fit, \"std\",\n",
    "    layout = \"tree\", sizeMan = 7, sizeInt = 4, style = \"ram\",\n",
    "    residuals = TRUE, rotation = 1, intAtSide = FALSE,\n",
    "    whatLabels = \"est\", nCharNodes = 0, curvature = 3,\n",
    "    posCol = c(\"black\"), edge.label.cex = 1.2\n",
    ")"
   ]
  },
  {
   "attachments": {},
   "cell_type": "markdown",
   "id": "e9a78f4c",
   "metadata": {},
   "source": [
    "I coefficienti di percorso sono simili, ma non identici, a quelli trovati con Mplus. \n",
    "\n",
    "L'effetto diretto di MNF (Need Frustration) su  BFLX (Body Inflexibility) è uguale a 0.44.  Ma l'effetto totale è $0.44 + 0.45*0.24 = 0.55$. L'effetto di mediazione è uguale a $0.45*0.24 = 0.109$. L'outout di lavaan fornisce anche gli errori standard e il test che tali effetti siano uguali a zero.\n",
    "\n",
    "Le correlazioni tra le variabili sono esprimibili nei termini dei coefficienti di percorso.  Per esempio la correlazionetra BFLX e MNF è"
   ]
  },
  {
   "cell_type": "code",
   "execution_count": null,
   "id": "debe4207",
   "metadata": {
    "vscode": {
     "languageId": "r"
    }
   },
   "outputs": [],
   "source": [
    ".44 + .45*.24"
   ]
  },
  {
   "attachments": {},
   "cell_type": "markdown",
   "id": "9460db2d",
   "metadata": {},
   "source": [
    "La correlazione tra BFLX e END è"
   ]
  },
  {
   "cell_type": "code",
   "execution_count": null,
   "id": "868ef0ff",
   "metadata": {
    "vscode": {
     "languageId": "r"
    }
   },
   "outputs": [],
   "source": [
    ".24 + .44*.45"
   ]
  },
  {
   "attachments": {},
   "cell_type": "markdown",
   "id": "15837ace",
   "metadata": {},
   "source": [
    "L'output di lavaan fornisce anche la porzione di varianza che viene spiegata dalle variabili esogene per le due variabili endogene nel modello.\n",
    "\n",
    "Per esempio, la varianza spiegata di `END` è"
   ]
  },
  {
   "cell_type": "code",
   "execution_count": null,
   "id": "a8fd9189",
   "metadata": {
    "lines_to_next_cell": 0,
    "vscode": {
     "languageId": "r"
    }
   },
   "outputs": [],
   "source": [
    "0.45^2"
   ]
  },
  {
   "attachments": {},
   "cell_type": "markdown",
   "id": "dc8a656c",
   "metadata": {},
   "source": [
    "come riportato dall'output di lavaan.  \n",
    "\n",
    ":::\n",
    "\n",
    "::: exercise\n",
    "Continuiamo con l'esempio precedente, discusso da Barbeau, Boileau, Sarr &  Smith (2019) e esaminiamo ora un modello di path analisi più complesso (Fig. 4 di Barbeau et al., 2019). Usando la sintassi di lavaan, il modello diventa"
   ]
  },
  {
   "cell_type": "code",
   "execution_count": null,
   "id": "97889b34",
   "metadata": {
    "vscode": {
     "languageId": "r"
    }
   },
   "outputs": [],
   "source": [
    "# BFLX – Body Inflexibility,\n",
    "# END – Endorsement of Societal Beliefs about Thinness and Obesity,\n",
    "# MNS – Mean Need Satisfaction, \n",
    "# MNF – Mean Need Frustration, \n",
    "# BULS – Bulimic Symptoms\n",
    "mod <- \"\n",
    "  BULS ~ MNF + BFLX\n",
    "  BFLX ~ END + MNF\n",
    "  END ~ MNS + MNF\n",
    "\""
   ]
  },
  {
   "attachments": {},
   "cell_type": "markdown",
   "id": "a422ca0e",
   "metadata": {},
   "source": [
    "Adattiamo il modello ai dati."
   ]
  },
  {
   "cell_type": "code",
   "execution_count": null,
   "id": "68998fc4",
   "metadata": {
    "vscode": {
     "languageId": "r"
    }
   },
   "outputs": [],
   "source": [
    "fit <- sem(\n",
    "  mod,\n",
    "  sample.cov = dat_cov,\n",
    "  sample.nobs = 192\n",
    ")"
   ]
  },
  {
   "attachments": {},
   "cell_type": "markdown",
   "id": "a5d6c755",
   "metadata": {},
   "source": [
    "Esaminiamo la soluzione ottenuta."
   ]
  },
  {
   "cell_type": "code",
   "execution_count": null,
   "id": "b63e4fa8",
   "metadata": {
    "vscode": {
     "languageId": "r"
    }
   },
   "outputs": [],
   "source": [
    "summary(fit, fit.measures = TRUE, standardized = TRUE, rsquare = TRUE) |>\n",
    "    print()"
   ]
  },
  {
   "attachments": {},
   "cell_type": "markdown",
   "id": "06e25012",
   "metadata": {},
   "source": [
    "Generiamo il diagramma di percorso."
   ]
  },
  {
   "cell_type": "code",
   "execution_count": null,
   "id": "282185ce",
   "metadata": {
    "vscode": {
     "languageId": "r"
    }
   },
   "outputs": [],
   "source": [
    "semPlot::semPaths(\n",
    "    fit, \"std\",\n",
    "    layout = \"tree\", sizeMan = 7, sizeInt = 4, \n",
    "    residuals = TRUE, rotation = 1, intAtSide = FALSE,\n",
    "    whatLabels = \"est\", nCharNodes = 0, curvature = 3,\n",
    "    posCol = c(\"black\"), edge.label.cex = 1.2\n",
    ")"
   ]
  },
  {
   "attachments": {},
   "cell_type": "markdown",
   "id": "bce6dfff",
   "metadata": {},
   "source": [
    "Anche in questo caso i coefficienti di percorso sono simili, ma non identici, a quelli riportati da Barbeau et al. (2019). Gli autori riportano una varianza spiegata di END pari a 0.209; con lavaan si ottiene 0.208.  Per BFLX gli autori riportano 0.292; lavaan ottiene 0.349. Per BULS gli autori riportano 0.478; con lavaan si ottiene 0.419. "
   ]
  },
  {
   "attachments": {},
   "cell_type": "markdown",
   "id": "9ad07d15",
   "metadata": {},
   "source": [
    "** Esercizio.** Weiss,  Forkus,  Contractor, e Schick (2018) esaminano con una path analisi la relazione tra la difficiltà di regolare le emozioni positive e l'abuso di alcol e di sostanze. \n",
    "\n",
    "- La difficoltà di regolare le emozioni positive viene misurata con la  *Difficulties in Emotion Regulation Scale – Positive* (DERS-P; Weiss, Gratz, & Lavender, 2015), che comprende le sottoscale di Acceptance, Impulse, e Goals.\n",
    "- L'abuso di sostanze viene misurato con la *Drug Abuse Screening Test* (DAST; Skinner, 1982).\n",
    "- L'abuso di alcol viene misurato con la *Alcohol Use Disorder Identification Test* (AUDIT; Saunders, Aasland, Babor, De la Fuente, & Grant, 1993), con le sottoscale di Hazardous Consumption, Dependence, e Consequences. \n",
    "\n",
    "I dati di un campione di 284 partecipanti sono riportati nella forma di una matrice di correlazione."
   ]
  },
  {
   "cell_type": "code",
   "execution_count": null,
   "id": "2024cd45",
   "metadata": {
    "vscode": {
     "languageId": "r"
    }
   },
   "outputs": [],
   "source": [
    "lower <- '\n",
    "   1\n",
    "   .38 1\n",
    "   .41 .64 1\n",
    "   .34 .44 .30 1\n",
    "   .29 .12 .27 .06 1\n",
    "   .29 .22 .20 .17 .54 1\n",
    "   .30 .15 .23 .09 .73 .69 1\n",
    "'"
   ]
  },
  {
   "cell_type": "code",
   "execution_count": null,
   "id": "cb7fa711",
   "metadata": {
    "vscode": {
     "languageId": "r"
    }
   },
   "outputs": [],
   "source": [
    "dat_cov <- lavaan::getCov(\n",
    "  lower, \n",
    "  names=c(\"dmis\",\"con\", \"dep\", \"consu\", \"acc\", \"goal\", \"imp\"))\n",
    "dat_cov"
   ]
  },
  {
   "attachments": {},
   "cell_type": "markdown",
   "id": "91def24c",
   "metadata": {},
   "source": [
    "I dati vengono analizzati con due modelli di path analysis. Nel primo modello si ipotizza che la difficoltà di regolare le emozioni positive sia una variabile esogena che influenza sia l'abuso di sostanze sia l'abuso di alcol. Si ipotizza inoltre che abuso di sostanze e abuso di alcol siano correlate.\n",
    "\n",
    "La difficoltà di regolare le emozioni positive è indicata da `drpe`; l'abuso di alcolo è denotato da `amis`; l'abuso di sostanze è denotato da `dmis`. "
   ]
  },
  {
   "cell_type": "code",
   "execution_count": null,
   "id": "ea7ee1cb",
   "metadata": {
    "vscode": {
     "languageId": "r"
    }
   },
   "outputs": [],
   "source": [
    "mod <- '\n",
    "  drpe =~ NA*acc + goal + imp\n",
    "  amis =~ NA*con + dep + consu\n",
    "  amis ~ drpe\n",
    "  dmis ~ drpe\n",
    "  dmis ~~ amis\n",
    "  drpe ~~ 1*drpe\n",
    "  amis ~~ 1*amis\n",
    "'"
   ]
  },
  {
   "attachments": {},
   "cell_type": "markdown",
   "id": "05db3079",
   "metadata": {},
   "source": [
    "Svolgiamo l'analisi statistica con `sem()`."
   ]
  },
  {
   "cell_type": "code",
   "execution_count": null,
   "id": "62de12b3",
   "metadata": {
    "vscode": {
     "languageId": "r"
    }
   },
   "outputs": [],
   "source": [
    "fit <- lavaan::sem(mod, sample.cov = dat_cov, sample.nobs = 284)"
   ]
  },
  {
   "attachments": {},
   "cell_type": "markdown",
   "id": "e0474dce",
   "metadata": {},
   "source": [
    "Esaminiamo i risultati."
   ]
  },
  {
   "cell_type": "code",
   "execution_count": null,
   "id": "d19694d6",
   "metadata": {
    "vscode": {
     "languageId": "r"
    }
   },
   "outputs": [],
   "source": [
    "summary(fit, fit.measures = TRUE, standardized = TRUE, rsquare = TRUE) |>\n",
    "    print()"
   ]
  },
  {
   "attachments": {},
   "cell_type": "markdown",
   "id": "c21b1525",
   "metadata": {},
   "source": [
    "Creiamo un path diagram."
   ]
  },
  {
   "cell_type": "code",
   "execution_count": null,
   "id": "9a8f2cc7",
   "metadata": {
    "vscode": {
     "languageId": "r"
    }
   },
   "outputs": [],
   "source": [
    "semPlot::semPaths(\n",
    "    fit, \"std\",\n",
    "    layout = \"tree\", sizeMan = 7, sizeInt = 4, \n",
    "    residuals = TRUE, rotation = 1, intAtSide = FALSE,\n",
    "    whatLabels = \"est\", nCharNodes = 0, curvature = 3,\n",
    "    posCol = c(\"black\"), edge.label.cex = 1.2\n",
    ")"
   ]
  },
  {
   "attachments": {},
   "cell_type": "markdown",
   "id": "22f926b3",
   "metadata": {},
   "source": [
    "Gli autori esplorano un modello alternativo nel quale le relazioni causali vengono rovesciate: in questo caso è la difficoltà di regolazione delle emozioni positive ad essere la variabile esogena, e l'abuso di sostanze e l'abuso di alcol sono le variabili esogene."
   ]
  },
  {
   "cell_type": "code",
   "execution_count": null,
   "id": "ba36bca9",
   "metadata": {
    "vscode": {
     "languageId": "r"
    }
   },
   "outputs": [],
   "source": [
    "mod_alt <- '\n",
    "  drpe =~ NA*acc + goal + imp\n",
    "  amis =~ NA*con + dep + consu\n",
    "  drpe ~ amis + dmis\n",
    "  dmis ~~ amis\n",
    "  drpe ~~ 1*drpe\n",
    "  amis ~~ 1*amis\n",
    "'"
   ]
  },
  {
   "attachments": {},
   "cell_type": "markdown",
   "id": "1a2547c6",
   "metadata": {},
   "source": [
    "Adattiamo il modello ai dati."
   ]
  },
  {
   "cell_type": "code",
   "execution_count": 5,
   "id": "ebe40520",
   "metadata": {
    "vscode": {
     "languageId": "r"
    }
   },
   "outputs": [
    {
     "ename": "ERROR",
     "evalue": "Error in eval(mc, parent.frame()): object 'mod_alt' not found\n",
     "output_type": "error",
     "traceback": [
      "Error in eval(mc, parent.frame()): object 'mod_alt' not found\nTraceback:\n",
      "1. sem(mod_alt, sample.cov = dat_cov, sample.nobs = 311)",
      "2. eval(mc, parent.frame())",
      "3. eval(mc, parent.frame())",
      "4. lavaan::lavaan(model = mod_alt, sample.cov = dat_cov, sample.nobs = 311, \n .     model.type = \"sem\", int.ov.free = TRUE, int.lv.free = FALSE, \n .     auto.fix.first = TRUE, auto.fix.single = TRUE, auto.var = TRUE, \n .     auto.cov.lv.x = TRUE, auto.cov.y = TRUE, auto.th = TRUE, \n .     auto.delta = TRUE, auto.efa = TRUE)"
     ]
    }
   ],
   "source": [
    "fit_alt <- sem(mod_alt, sample.cov = dat_cov, sample.nobs = 311)"
   ]
  },
  {
   "attachments": {},
   "cell_type": "markdown",
   "id": "131f57b0",
   "metadata": {},
   "source": [
    "Esaminiamo i risultati."
   ]
  },
  {
   "cell_type": "code",
   "execution_count": null,
   "id": "6fa4173d",
   "metadata": {
    "vscode": {
     "languageId": "r"
    }
   },
   "outputs": [],
   "source": [
    "summary(fit_alt, fit.measures = TRUE, standardized = TRUE, rsquare = TRUE) |>\n",
    "    print()"
   ]
  },
  {
   "attachments": {},
   "cell_type": "markdown",
   "id": "c70579a0",
   "metadata": {},
   "source": [
    "Creiamo il diagramma di percorso."
   ]
  },
  {
   "cell_type": "code",
   "execution_count": 4,
   "id": "ad0e7ac6",
   "metadata": {
    "lines_to_next_cell": 2,
    "vscode": {
     "languageId": "r"
    }
   },
   "outputs": [
    {
     "ename": "ERROR",
     "evalue": "Error in eval(expr, envir, enclos): object 'lg_math_ticZERO_lavaan_fit' not found\n",
     "output_type": "error",
     "traceback": [
      "Error in eval(expr, envir, enclos): object 'lg_math_ticZERO_lavaan_fit' not found\nTraceback:\n",
      "1. semPaths(lg_math_ticZERO_lavaan_fit, \"std\", what = \"path\", whatLabels = \"par\")",
      "2. \"semPlotModel\" %in% class(object)"
     ]
    }
   ],
   "source": [
    "semPlot::semPaths(\n",
    "    fit_alt, \"std\",\n",
    "    layout = \"tree\", sizeMan = 7, sizeInt = 4, \n",
    "    residuals = TRUE, rotation = 1, intAtSide = FALSE,\n",
    "    whatLabels = \"est\", nCharNodes = 0, curvature = 3,\n",
    "    posCol = c(\"black\"), edge.label.cex = 1.2\n",
    ")\n"
   ]
  },
  {
   "attachments": {},
   "cell_type": "markdown",
   "id": "44d6dffa",
   "metadata": {},
   "source": [
    "In entrambi i casi i risultati replicano quanto riportato dagli autori.\n"
   ]
  }
 ],
 "metadata": {
  "jupytext": {
   "cell_metadata_filter": "tags,out.width,name,fig.cap,-all",
   "main_language": "R",
   "notebook_metadata_filter": "-all"
  },
  "kernelspec": {
   "display_name": "R",
   "language": "R",
   "name": "ir"
  },
  "language_info": {
   "codemirror_mode": "r",
   "file_extension": ".r",
   "mimetype": "text/x-r-source",
   "name": "R",
   "pygments_lexer": "r",
   "version": "4.3.0"
  }
 },
 "nbformat": 4,
 "nbformat_minor": 5
}
