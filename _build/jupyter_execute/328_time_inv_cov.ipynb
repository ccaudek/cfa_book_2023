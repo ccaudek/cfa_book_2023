{
 "cells": [
  {
   "attachments": {},
   "cell_type": "markdown",
   "id": "915ec55f",
   "metadata": {},
   "source": [
    "(cov-ind-time-notebook)=\n",
    "# Covariate indipendenti dal tempo\n",
    "\n",
    "Partendo dai modelli di crescita lineare descritti nei capitoli precedenti, ci chiediamo se le differenze individuali nelle traiettorie di cambiamento siano associate ad altre variabili. Questo capitolo introduce modelli che esaminano se la variabilità nell’intercetta e nella pendenza del modello di crescita lineare può essere spiegata da covariate invarianti nel tempo. Queste sono variabili a livello di persona che non cambiano nel tempo, come il genere, le condizioni sperimentali e lo stato socio-economico. Nel contesto dei modelli a crescita latente, tali variabili vengono considerate come variabili indipendenti in un modello di regressione multipla in cui l’intercetta e la pendenza del modello di crescita lineare sono le variabili dipendenti. Le covariate invarianti nel tempo possono essere continue, ordinali o categoriche.\n",
    "\n",
    "Studiando come le differenze individuali nell’intercetta e nella pendenza sono correlate ad altre variabili a livello della persona, possiamo comprendere le possibili ragioni per cui gli individui cambiano in modi diversi. Tuttavia, i risultati di questi modelli non forniscono ulteriori inferenze sulla causalità rispetto ai tipici modelli di regressione. Gli utenti dovrebbero essere cauti quando discutono tali effetti e tenere presente se la covariata invariante nel tempo è stata assegnata in maniera casuale nel contesto di un protocollo sperimentale, oppure se i dati provengono da ricerche osservazionali."
   ]
  },
  {
   "cell_type": "code",
   "execution_count": 1,
   "id": "9ffc5bf9",
   "metadata": {
    "tags": [
     "remove_cell"
    ],
    "vscode": {
     "languageId": "r"
    }
   },
   "outputs": [
    {
     "ename": "ERROR",
     "evalue": "Error in library(\"patchwork\"): there is no package called ‘patchwork’\n",
     "output_type": "error",
     "traceback": [
      "Error in library(\"patchwork\"): there is no package called ‘patchwork’\nTraceback:\n",
      "1. source(\"_common.R\")",
      "2. withVisible(eval(ei, envir))",
      "3. eval(ei, envir)",
      "4. eval(ei, envir)",
      "5. suppressPackageStartupMessages({\n .     library(\"here\")\n .     library(\"tidyverse\")\n .     library(\"scales\")\n .     library(\"patchwork\")\n .     library(\"bayesplot\")\n .     library(\"ggExtra\")\n .     library(\"ggpubr\")\n .     library(\"viridis\")\n .     library(\"ggokabeito\")\n . })",
      "6. withCallingHandlers(expr, packageStartupMessage = function(c) tryInvokeRestart(\"muffleMessage\"))",
      "7. library(\"patchwork\")"
     ]
    }
   ],
   "source": [
    "source(\"_common.R\")\n",
    "suppressPackageStartupMessages({\n",
    "    library(\"lavaan\")\n",
    "    library(\"semPlot\")\n",
    "    library(\"knitr\")\n",
    "    library(\"markdown\")\n",
    "    library(\"patchwork\")\n",
    "    library(\"psych\")\n",
    "    library(\"DT\")\n",
    "    library(\"kableExtra\")\n",
    "    library(\"lme4\")\n",
    "})\n",
    "\n",
    "set.seed(42)"
   ]
  },
  {
   "attachments": {},
   "cell_type": "markdown",
   "id": "b8c32d22",
   "metadata": {},
   "source": [
    "Per questo esempio considereremo i dati di prestazione matematica dal data set NLSY-CYA Long Data [si veda {cite:t}`grimm2016growth`]. Iniziamo a leggere i dati."
   ]
  },
  {
   "cell_type": "code",
   "execution_count": null,
   "id": "b4232959",
   "metadata": {
    "vscode": {
     "languageId": "r"
    }
   },
   "outputs": [],
   "source": [
    "# set filepath for data file\n",
    "filepath <- \"https://raw.githubusercontent.com/LRI-2/Data/main/GrowthModeling/nlsy_math_long_R.dat\"\n",
    "# read in the text data file using the url() function\n",
    "dat <- read.table(\n",
    "  file = url(filepath),\n",
    "  na.strings = \".\"\n",
    ") # indicates the missing data designator\n",
    "# copy data with new name\n",
    "nlsy_math_long <- dat\n",
    "\n",
    "# Add names the columns of the data set\n",
    "names(nlsy_math_long) <- c(\n",
    "  \"id\", \"female\", \"lb_wght\",\n",
    "  \"anti_k1\", \"math\", \"grade\",\n",
    "  \"occ\", \"age\", \"men\",\n",
    "  \"spring\", \"anti\"\n",
    ")\n",
    "\n",
    "# view the first few observations in the data set\n",
    "head(nlsy_math_long, 10)"
   ]
  },
  {
   "cell_type": "code",
   "execution_count": null,
   "id": "c8d032e3",
   "metadata": {
    "vscode": {
     "languageId": "r"
    }
   },
   "outputs": [],
   "source": [
    "# intraindividual change trajetories\n",
    "ggplot(\n",
    "  data = nlsy_math_long, # data set\n",
    "  aes(x = grade, y = math, group = id)\n",
    ") + # setting variables\n",
    "  geom_point(size = .5) + # adding points to plot\n",
    "  geom_line(aes(linetype = factor(lb_wght), alpha = anti_k1)) + # adding lines to plot\n",
    "  theme_bw() + # changing style/background\n",
    "  # setting the x-axis with breaks and labels\n",
    "  scale_x_continuous(\n",
    "    limits = c(2, 8),\n",
    "    breaks = c(2, 3, 4, 5, 6, 7, 8),\n",
    "    name = \"Grade at Testing\"\n",
    "  ) +\n",
    "  # setting the y-axis with limits breaks and labels\n",
    "  scale_y_continuous(\n",
    "    limits = c(10, 90),\n",
    "    breaks = c(10, 30, 50, 70, 90),\n",
    "    name = \"PIAT Mathematics\"\n",
    "  )"
   ]
  },
  {
   "attachments": {},
   "cell_type": "markdown",
   "id": "66148321",
   "metadata": {},
   "source": [
    "Per semplicità, leggiamo gli stessi dati in formato wide da un file."
   ]
  },
  {
   "cell_type": "code",
   "execution_count": null,
   "id": "12e56e18",
   "metadata": {
    "vscode": {
     "languageId": "r"
    }
   },
   "outputs": [],
   "source": [
    "# set filepath for data file\n",
    "filepath <- \"https://raw.githubusercontent.com/LRI-2/Data/main/GrowthModeling/nlsy_math_wide_R.dat\"\n",
    "# read in the text data file using the url() function\n",
    "dat <- read.table(\n",
    "  file = url(filepath),\n",
    "  na.strings = \".\"\n",
    ") # indicates the missing data designator\n",
    "# copy data with new name\n",
    "nlsy_math_wide <- dat\n",
    "\n",
    "# Give the variable names\n",
    "names(nlsy_math_wide) <- c(\n",
    "  \"id\", \"female\", \"lb_wght\", \"anti_k1\",\n",
    "  \"math2\", \"math3\", \"math4\", \"math5\", \"math6\", \"math7\", \"math8\",\n",
    "  \"age2\", \"age3\", \"age4\", \"age5\", \"age6\", \"age7\", \"age8\",\n",
    "  \"men2\", \"men3\", \"men4\", \"men5\", \"men6\", \"men7\", \"men8\",\n",
    "  \"spring2\", \"spring3\", \"spring4\", \"spring5\", \"spring6\", \"spring7\", \"spring8\",\n",
    "  \"anti2\", \"anti3\", \"anti4\", \"anti5\", \"anti6\", \"anti7\", \"anti8\"\n",
    ")\n",
    "\n",
    "\n",
    "# view the first few observations (and columns) in the data set\n",
    "head(nlsy_math_wide[, 1:11], 10)"
   ]
  },
  {
   "attachments": {},
   "cell_type": "markdown",
   "id": "75590b62",
   "metadata": {},
   "source": [
    "Specifichiamo il modello SEM."
   ]
  },
  {
   "cell_type": "code",
   "execution_count": null,
   "id": "6fb5fb06",
   "metadata": {
    "vscode": {
     "languageId": "r"
    }
   },
   "outputs": [],
   "source": [
    "#writing out linear growth model with tic in full SEM way \n",
    "lg_math_tic_lavaan_model <- '\n",
    "    #latent variable definitions\n",
    "            #intercept\n",
    "              eta1 =~ 1*math2+\n",
    "                      1*math3+\n",
    "                      1*math4+\n",
    "                      1*math5+\n",
    "                      1*math6+\n",
    "                      1*math7+\n",
    "                      1*math8\n",
    "            #linear slope\n",
    "              eta2 =~ 0*math2+\n",
    "                      1*math3+\n",
    "                      2*math4+\n",
    "                      3*math5+\n",
    "                      4*math6+\n",
    "                      5*math7+\n",
    "                      6*math8\n",
    "\n",
    "          #factor variances\n",
    "            eta1 ~~ eta1\n",
    "            eta2 ~~ eta2\n",
    "\n",
    "          #factor covariance\n",
    "            eta1 ~~ eta2\n",
    "\n",
    "          #manifest variances (set equal by naming theta)\n",
    "            math2 ~~ theta*math2\n",
    "            math3 ~~ theta*math3\n",
    "            math4 ~~ theta*math4\n",
    "            math5 ~~ theta*math5\n",
    "            math6 ~~ theta*math6\n",
    "            math7 ~~ theta*math7\n",
    "            math8 ~~ theta*math8\n",
    "\n",
    "          #latent means (freely estimated)\n",
    "            eta1 ~ 1\n",
    "            eta2 ~ 1\n",
    "\n",
    "          #manifest means (fixed to zero)\n",
    "            math2 ~ 0*1\n",
    "            math3 ~ 0*1\n",
    "            math4 ~ 0*1\n",
    "            math5 ~ 0*1\n",
    "            math6 ~ 0*1\n",
    "            math7 ~ 0*1\n",
    "            math8 ~ 0*1\n",
    "\n",
    "        #Time invariant covaraite\n",
    "          #regression of time-invariant covariate on intercept and slope factors\n",
    "            eta1~lb_wght+anti_k1\n",
    "            eta2~lb_wght+anti_k1\n",
    "\n",
    "        #variance of TIV covariates\n",
    "            lb_wght ~~ lb_wght\n",
    "            anti_k1 ~~ anti_k1\n",
    "\n",
    "        #covariance of TIV covaraites\n",
    "            lb_wght ~~ anti_k1\n",
    "\n",
    "        #means of TIV covariates (freely estimated)\n",
    "            lb_wght ~ 1\n",
    "            anti_k1 ~ 1\n",
    "' #end of model definition"
   ]
  },
  {
   "attachments": {},
   "cell_type": "markdown",
   "id": "ec09992a",
   "metadata": {},
   "source": [
    "Adattiamo il modello ai dati."
   ]
  },
  {
   "cell_type": "code",
   "execution_count": null,
   "id": "30d1146e",
   "metadata": {
    "vscode": {
     "languageId": "r"
    }
   },
   "outputs": [],
   "source": [
    "lg_math_tic_lavaan_fit <- sem(lg_math_tic_lavaan_model,\n",
    "  data = nlsy_math_wide,\n",
    "  meanstructure = TRUE,\n",
    "  estimator = \"ML\",\n",
    "  missing = \"fiml\"\n",
    ")"
   ]
  },
  {
   "attachments": {},
   "cell_type": "markdown",
   "id": "126b7e60",
   "metadata": {},
   "source": [
    "Esaminiamo la soluzione ottenuta."
   ]
  },
  {
   "cell_type": "code",
   "execution_count": null,
   "id": "29855236",
   "metadata": {
    "vscode": {
     "languageId": "r"
    }
   },
   "outputs": [],
   "source": [
    "out = summary(lg_math_tic_lavaan_fit, fit.measures=TRUE)\n",
    "print(out)"
   ]
  },
  {
   "attachments": {},
   "cell_type": "markdown",
   "id": "96967422",
   "metadata": {},
   "source": [
    "Creiamo un diagramma di percorso."
   ]
  },
  {
   "cell_type": "code",
   "execution_count": null,
   "id": "d947d0c0",
   "metadata": {
    "vscode": {
     "languageId": "r"
    }
   },
   "outputs": [],
   "source": [
    "semPaths(lg_math_tic_lavaan_fit,what = \"path\", whatLabels = \"par\")"
   ]
  },
  {
   "attachments": {},
   "cell_type": "markdown",
   "id": "0be41b86",
   "metadata": {},
   "source": [
    "### Valutare il contributo delle covariate\n",
    "\n",
    "Per valutare se le covariate considerate forniscono un contributo sostanziale al modello confronteremo il modello precedente con un modello vincolato in cui l'effetto delle covariate viene fissato come uguale a zero."
   ]
  },
  {
   "cell_type": "code",
   "execution_count": null,
   "id": "04b1be42",
   "metadata": {
    "vscode": {
     "languageId": "r"
    }
   },
   "outputs": [],
   "source": [
    "#writing out linear growth model with tic in full SEM way \n",
    "lg_math_ticZERO_lavaan_model <- '\n",
    "    #latent variable definitions\n",
    "            #intercept\n",
    "              eta1 =~ 1*math2+\n",
    "                      1*math3+\n",
    "                      1*math4+\n",
    "                      1*math5+\n",
    "                      1*math6+\n",
    "                      1*math7+\n",
    "                      1*math8\n",
    "            #linear slope\n",
    "              eta2 =~ 0*math2+\n",
    "                      1*math3+\n",
    "                      2*math4+\n",
    "                      3*math5+\n",
    "                      4*math6+\n",
    "                      5*math7+\n",
    "                      6*math8\n",
    "\n",
    "          #factor variances\n",
    "            eta1 ~~ eta1\n",
    "            eta2 ~~ eta2\n",
    "\n",
    "          #factor covariance\n",
    "            eta1 ~~ eta2\n",
    "\n",
    "          #manifest variances (set equal by naming theta)\n",
    "            math2 ~~ theta*math2\n",
    "            math3 ~~ theta*math3\n",
    "            math4 ~~ theta*math4\n",
    "            math5 ~~ theta*math5\n",
    "            math6 ~~ theta*math6\n",
    "            math7 ~~ theta*math7\n",
    "            math8 ~~ theta*math8\n",
    "\n",
    "          #latent means (freely estimated)\n",
    "            eta1 ~ 1\n",
    "            eta2 ~ 1\n",
    "\n",
    "          #manifest means (fixed to zero)\n",
    "            math2 ~ 0*1\n",
    "            math3 ~ 0*1\n",
    "            math4 ~ 0*1\n",
    "            math5 ~ 0*1\n",
    "            math6 ~ 0*1\n",
    "            math7 ~ 0*1\n",
    "            math8 ~ 0*1\n",
    "\n",
    "        #Time invariant covaraite\n",
    "          #regression of time-invariant covariate on intercept and slope factors\n",
    "          #FIXED to 0\n",
    "            eta1~0*lb_wght+0*anti_k1\n",
    "            eta2~0*lb_wght+0*anti_k1\n",
    "\n",
    "        #variance of TIV covariates\n",
    "            lb_wght ~~ lb_wght\n",
    "            anti_k1 ~~ anti_k1\n",
    "\n",
    "        #covariance of TIV covaraites\n",
    "            lb_wght ~~ anti_k1\n",
    "\n",
    "        #means of TIV covariates (freely estimated)\n",
    "            lb_wght ~ 1\n",
    "            anti_k1 ~ 1\n",
    "' #end of model definition"
   ]
  },
  {
   "attachments": {},
   "cell_type": "markdown",
   "id": "69a4efe9",
   "metadata": {},
   "source": [
    "Adattiamo il modello ai dati."
   ]
  },
  {
   "cell_type": "code",
   "execution_count": null,
   "id": "e31f8e0e",
   "metadata": {
    "vscode": {
     "languageId": "r"
    }
   },
   "outputs": [],
   "source": [
    "lg_math_ticZERO_lavaan_fit <- sem(lg_math_ticZERO_lavaan_model,\n",
    "  data = nlsy_math_wide,\n",
    "  meanstructure = TRUE,\n",
    "  estimator = \"ML\",\n",
    "  missing = \"fiml\"\n",
    ")"
   ]
  },
  {
   "attachments": {},
   "cell_type": "markdown",
   "id": "9ef65bc0",
   "metadata": {},
   "source": [
    "Esaminiamo il risultato ottenuto."
   ]
  },
  {
   "cell_type": "code",
   "execution_count": null,
   "id": "68c1ff27",
   "metadata": {
    "vscode": {
     "languageId": "r"
    }
   },
   "outputs": [],
   "source": [
    "out = summary(lg_math_ticZERO_lavaan_fit, fit.measures=TRUE)\n",
    "print(out)"
   ]
  },
  {
   "attachments": {},
   "cell_type": "markdown",
   "id": "a9587e78",
   "metadata": {},
   "source": [
    "Generiamo il diagramma di percorso."
   ]
  },
  {
   "cell_type": "code",
   "execution_count": null,
   "id": "84508aa6",
   "metadata": {
    "vscode": {
     "languageId": "r"
    }
   },
   "outputs": [],
   "source": [
    "semPaths(lg_math_ticZERO_lavaan_fit,what = \"path\", whatLabels = \"par\")"
   ]
  },
  {
   "attachments": {},
   "cell_type": "markdown",
   "id": "7e5a4d2d",
   "metadata": {},
   "source": [
    "Eseguiamo il confronto tra i due modelli mediante il test del rapporto tra verosimiglianze."
   ]
  },
  {
   "cell_type": "code",
   "execution_count": null,
   "id": "91eba56a",
   "metadata": {
    "vscode": {
     "languageId": "r"
    }
   },
   "outputs": [],
   "source": [
    "anova(lg_math_tic_lavaan_fit,lg_math_ticZERO_lavaan_fit)"
   ]
  },
  {
   "attachments": {},
   "cell_type": "markdown",
   "id": "6ce72092",
   "metadata": {},
   "source": [
    "Il valore-p associato alla statistica chi-quadrato relativa alla differenza tra i due modelli è piccolo. Questo significa che i vincoli aggiuntivi hanno impattato in maniera sostanziale la bontà di adattamento del modello ai dati. Da ciò concludiamo che le covariate forniscono un contributo utile al modello.\n",
    "\n",
    "\n",
    "\n"
   ]
  }
 ],
 "metadata": {
  "jupytext": {
   "cell_metadata_filter": "tags,-all",
   "main_language": "R",
   "notebook_metadata_filter": "-all"
  },
  "kernelspec": {
   "display_name": "R",
   "language": "R",
   "name": "ir"
  },
  "language_info": {
   "codemirror_mode": "r",
   "file_extension": ".r",
   "mimetype": "text/x-r-source",
   "name": "R",
   "pygments_lexer": "r",
   "version": "4.3.0"
  }
 },
 "nbformat": 4,
 "nbformat_minor": 5
}