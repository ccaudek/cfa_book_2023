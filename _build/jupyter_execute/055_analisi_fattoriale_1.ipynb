{
 "cells": [
  {
   "attachments": {},
   "cell_type": "markdown",
   "id": "79a2941d",
   "metadata": {},
   "source": [
    "(fa-model-1-notebook)=\n",
    "# Il modello unifattoriale "
   ]
  },
  {
   "cell_type": "code",
   "execution_count": 1,
   "id": "c4c84481",
   "metadata": {
    "tags": [
     "remove_cell"
    ],
    "vscode": {
     "languageId": "r"
    }
   },
   "outputs": [],
   "source": [
    "source(\"_common.R\")\n",
    "options(repr.plot.width=6, repr.plot.height=6)\n"
   ]
  },
  {
   "attachments": {},
   "cell_type": "markdown",
   "id": "39f85889",
   "metadata": {},
   "source": [
    "Questo capitolo presenta le nozioni fondamentali dell'analisi fattoriale, un modello statistico che consente di spiegare le correlazioni tra variabili osservate mediante la loro saturazione in uno o più fattori generali. In questo modello, le $p$ variabili osservate (item) sono considerate condizionalmente indipendenti rispetto a $m$ variabili latenti chiamate fattori. L'obiettivo dell'analisi fattoriale è di interpretare questi fattori come costrutti teorici inosservabili. Ad esempio, l'analisi fattoriale può essere utilizzata per spiegare le correlazioni tra le prestazioni di un gruppo di individui in una serie di compiti mediante il concetto di intelligenza. In questo modo, l'analisi fattoriale aiuta a identificare i costrutti cui gli item si riferiscono e a stabilire in che misura ciascun item rappresenta il costrutto. Il modello può essere unifattoriale ($m = 1$) o multifattoriale ($m > 1$), e in questo capitolo si introdurrà il modello unifattoriale che assume l'esistenza di un unico fattore comune latente.\n",
    "\n",
    "## Modello monofattoriale\n",
    "\n",
    "Con $p$ variabili manifeste $y_i$, il caso più semplice è quello di un\n",
    "solo fattore comune: \n",
    "\n",
    "$$\n",
    "\\begin{equation}\n",
    "y_i = \\mu_i + \\lambda_{i} \\xi +  1 \\cdot \\varepsilon_i \\qquad i=1, \\dots, p,\n",
    "\\end{equation}\n",
    "$$ (eq-mod-unifattoriale)\n",
    "\n",
    "dove $\\xi$ rappresenta il fattore comune a tutte le $y_i$, $\\varepsilon_i$ sono i fattori specifici o unici di ogni variabile osservata e $\\lambda_i$ sono le saturazioni (o pesi) fattoriali le quali stabiliscono il peso del\n",
    "fattore latente su ciascuna variabile osservata.\n",
    "\n",
    "Il modello di analisi fattoriale e il modello di regressione possono sembrare simili, ma presentano alcune differenze importanti. In primo luogo, sia il fattore comune $\\xi$ sia i fattori specifici $\\varepsilon_i$ sono inosservabili, il che rende tutto ciò che si trova a destra dell'uguaglianza incognito. In secondo luogo, l'analisi di regressione e l'analisi fattoriale hanno obiettivi diversi. L'analisi di regressione mira a individuare le variabili esplicative, osservabili direttamente, che sono in grado di spiegare la maggior parte della varianza della variabile dipendente. Al contrario, il problema dell'analisi unifattoriale consiste nell'identificare la variabile esplicativa inosservabile che è in grado di spiegare la maggior parte della covarianza tra le variabili osservate.\n",
    "\n",
    "Solitamente, per comodità, si assume che la media delle variabili osservate $y_i$ sia zero, ovvero $\\mu_i=0$. Ciò equivale a considerare gli scarti delle variabili rispetto alle rispettive medie. Il modello unifattoriale assume che le variabili osservate siano il risultato della combinazione lineare di un fattore comune $\\xi$ e dei fattori specifici $\\varepsilon_i$, ovvero:\n",
    "\n",
    "$$\n",
    "\\begin{equation}\n",
    "y_i -\\mu_i = \\lambda_i \\xi + 1 \\cdot \\varepsilon_i,\n",
    "\\end{equation}\n",
    "$$(eq-mod-monofattoriale)\n",
    "\n",
    "dove $\\lambda_i$ è la saturazione o il peso della variabile $i$-esima sul fattore comune e $\\varepsilon_i$ rappresenta il fattore specifico della variabile $i$-esima. Si assume che il fattore comune abbia media zero e varianza unitaria, mentre i fattori specifici abbiano media zero, varianza $\\psi_{i}$ e siano incorrelati tra loro e con il fattore comune. Nel modello unifattoriale, l'interdipendenza tra le variabili è completamente spiegata dal fattore comune.\n",
    "\n",
    "Le ipotesi precedenti consentono di ricavare la covarianza tra la variabile osservata $y_i$ e il fattore comune, la varianza della variabile osservata $y_i$ e la covarianza tra due variabili osservate $y_i$ e $y_k$. L'obiettivo della discussione in questo capitolo è appunto quello di analizzare tali grandezze statistiche.\n",
    "\n",
    "## Correlazione parziale\n",
    "\n",
    "Prima di entrare nel dettaglio del modello statistico dell'analisi fattoriale, è importante chiarire il concetto di correlazione parziale. Si attribuisce spesso a Charles Spearman la nascita dell'analisi fattoriale. Nel 1904, Spearman pubblicò un articolo intitolato \"General Intelligence, Objectively Determined and Measured\" in cui propose la Teoria dei Due Fattori. In questo articolo, dimostrò come fosse possibile identificare un fattore inosservabile a partire da una matrice di correlazioni, utilizzando il metodo dell'annullamento della tetrade (tetrad differences). L'annullamento della tetrade è un'applicazione della teoria della correlazione parziale, che mira a stabilire se, controllando un insieme di variabili inosservabili chiamate fattori $\\xi_j$, le correlazioni tra le variabili osservabili $Y_i$, al netto degli effetti lineari delle $\\xi_j$, diventino statisticamente nulle.\n",
    "\n",
    "Possiamo considerare un esempio con tre variabili: $Y_1$, $Y_2$ e $F$. La correlazione tra $Y_1$ e $Y_2$, $r_{1,2}$, può essere influenzata dalla presenza di $F$. Per calcolare la correlazione parziale tra $Y_1$ e $Y_2$ al netto dell'effetto lineare di $F$, dobbiamo trovare le componenti di $Y_1$ e $Y_2$ che sono linearmente indipendenti da $F$.\n",
    "\n",
    "Per fare ciò, dobbiamo trovare la componente di $Y_1$ che è ortogonale a $F$. Possiamo calcolare i residui $E_1$ del modello:\n",
    "\n",
    "$$\n",
    "Y_1 = b_{01} + b_{11}F + E_1.\n",
    "$$\n",
    "\n",
    "La componente di $Y_1$ linearmente indipendente da $F$ è quindi data dai residui $E_1$. Possiamo eseguire un'operazione analoga per $Y_2$ per trovare la sua componente ortogonale a $F$. Calcolando la correlazione tra le due componenti così ottenute si ottiene la correlazione parziale tra $Y_1$ e $Y_2$ al netto dell'effetto lineare di $F$.\n",
    "\n",
    "L'eq. {eq}`eq-corr-parz` consente di calcolare la correlazione parziale tra $Y_1$ e $Y_2$ al netto dell'effetto di $F$ a partire dalle correlazioni semplici tra le tre variabili $Y_1$, $Y_2$ e $F$. \n",
    "\n",
    "$$\n",
    "\\begin{equation}\n",
    "r_{1,2 \\mid F} = \\frac{r_{12} - r_{1F}r_{2F}}{\\sqrt{(1-r_{1F}^2)(1-r_{2F}^2)}}\n",
    "\\end{equation}\n",
    "$$(eq-corr-parz)\n",
    "\n",
    "In particolare, la correlazione parziale $r_{1,2 \\mid F}$ è data dalla differenza tra la correlazione $r_{12}$ tra $Y_1$ e $Y_2$ e il prodotto tra le correlazioni $r_{1F}$ e $r_{2F}$ tra ciascuna delle due variabili e $F$, il tutto diviso per la radice quadrata del prodotto delle differenze tra 1 e i quadrati delle correlazioni tra $Y_1$ e $F$ e tra $Y_2$ e $F$. In altre parole, la formula tiene conto dell'effetto di $F$ sulle correlazioni tra $Y_1$ e $Y_2$ per ottenere una stima della relazione diretta tra le due variabili, eliminando l'effetto del fattore comune.\n",
    "\n",
    "Consideriamo un esempio numerico. Sia $f$ una variabile su cui misuriamo $n$ valori"
   ]
  },
  {
   "cell_type": "code",
   "execution_count": 2,
   "id": "16a3e5dd",
   "metadata": {
    "vscode": {
     "languageId": "r"
    }
   },
   "outputs": [],
   "source": [
    "set.seed(123)\n",
    "n <- 1000\n",
    "f <- rnorm(n, 24, 12)"
   ]
  },
  {
   "attachments": {},
   "cell_type": "markdown",
   "id": "d4ff07fe",
   "metadata": {},
   "source": [
    "Siano $y_1$ e $y_2$ funzioni lineari di $f$, a cui viene aggiunta una componente d'errore gaussiano:"
   ]
  },
  {
   "cell_type": "code",
   "execution_count": 3,
   "id": "478e6995",
   "metadata": {
    "vscode": {
     "languageId": "r"
    }
   },
   "outputs": [],
   "source": [
    "y1 <- 10 + 7 * f + rnorm(n, 0, 50)\n",
    "y2 <- 3  + 2 * f + rnorm(n, 0, 50)"
   ]
  },
  {
   "attachments": {},
   "cell_type": "markdown",
   "id": "8e354d51",
   "metadata": {},
   "source": [
    "La correlazione tra $y_1$ e $y_2$ ($r_{12}= 0.355$) deriva dal fatto che $\\hat{y}_1$ e $\\hat{y}_2$ sono entrambe funzioni lineari di $f$:"
   ]
  },
  {
   "cell_type": "code",
   "execution_count": 4,
   "id": "5d8a7e54",
   "metadata": {
    "vscode": {
     "languageId": "r"
    }
   },
   "outputs": [
    {
     "data": {
      "text/html": [
       "<table class=\"dataframe\">\n",
       "<caption>A matrix: 3 × 3 of type dbl</caption>\n",
       "<thead>\n",
       "\t<tr><th></th><th scope=col>y1</th><th scope=col>y2</th><th scope=col>f</th></tr>\n",
       "</thead>\n",
       "<tbody>\n",
       "\t<tr><th scope=row>y1</th><td>1.000</td><td>0.380</td><td>0.867</td></tr>\n",
       "\t<tr><th scope=row>y2</th><td>0.380</td><td>1.000</td><td>0.423</td></tr>\n",
       "\t<tr><th scope=row>f</th><td>0.867</td><td>0.423</td><td>1.000</td></tr>\n",
       "</tbody>\n",
       "</table>\n"
      ],
      "text/latex": [
       "A matrix: 3 × 3 of type dbl\n",
       "\\begin{tabular}{r|lll}\n",
       "  & y1 & y2 & f\\\\\n",
       "\\hline\n",
       "\ty1 & 1.000 & 0.380 & 0.867\\\\\n",
       "\ty2 & 0.380 & 1.000 & 0.423\\\\\n",
       "\tf & 0.867 & 0.423 & 1.000\\\\\n",
       "\\end{tabular}\n"
      ],
      "text/markdown": [
       "\n",
       "A matrix: 3 × 3 of type dbl\n",
       "\n",
       "| <!--/--> | y1 | y2 | f |\n",
       "|---|---|---|---|\n",
       "| y1 | 1.000 | 0.380 | 0.867 |\n",
       "| y2 | 0.380 | 1.000 | 0.423 |\n",
       "| f | 0.867 | 0.423 | 1.000 |\n",
       "\n"
      ],
      "text/plain": [
       "   y1    y2    f    \n",
       "y1 1.000 0.380 0.867\n",
       "y2 0.380 1.000 0.423\n",
       "f  0.867 0.423 1.000"
      ]
     },
     "metadata": {},
     "output_type": "display_data"
    }
   ],
   "source": [
    "Y <- cbind(y1, y2, f)\n",
    "R <- cor(Y)\n",
    "round(R, 3)"
   ]
  },
  {
   "attachments": {},
   "cell_type": "markdown",
   "id": "b2bbef72",
   "metadata": {},
   "source": [
    "Eseguiamo le regressioni di $y_1$ su $f$ e di $y_2$ su $F$:"
   ]
  },
  {
   "cell_type": "code",
   "execution_count": 5,
   "id": "3003c8fd",
   "metadata": {
    "vscode": {
     "languageId": "r"
    }
   },
   "outputs": [],
   "source": [
    "fm1 <- lm(y1 ~ f)\n",
    "fm2 <- lm(y2 ~ f)"
   ]
  },
  {
   "attachments": {},
   "cell_type": "markdown",
   "id": "92a7fb82",
   "metadata": {},
   "source": [
    "Nella regressione, ciascuna osservazione $y_{i1}$ viene scomposta in due componenti linearmente indipendenti, i valori adattati $\\hat{y}_{i}$ e i residui, $e_{i}$: $y_i = \\hat{y}_i + e_1$. Nel caso di $y_1$ abbiamo"
   ]
  },
  {
   "cell_type": "code",
   "execution_count": 6,
   "id": "b0776c11",
   "metadata": {
    "vscode": {
     "languageId": "r"
    }
   },
   "outputs": [
    {
     "data": {
      "text/html": [
       "<table class=\"dataframe\">\n",
       "<caption>A matrix: 6 × 4 of type dbl</caption>\n",
       "<thead>\n",
       "\t<tr><th></th><th scope=col>y1</th><th scope=col>y1.hat</th><th scope=col>e</th><th scope=col></th></tr>\n",
       "</thead>\n",
       "<tbody>\n",
       "\t<tr><th scope=row>1</th><td> 81.130</td><td>130.505</td><td> -49.375</td><td> 81.130</td></tr>\n",
       "\t<tr><th scope=row>2</th><td>106.667</td><td>159.704</td><td> -53.037</td><td>106.667</td></tr>\n",
       "\t<tr><th scope=row>3</th><td>308.032</td><td>317.846</td><td>  -9.813</td><td>308.032</td></tr>\n",
       "\t<tr><th scope=row>4</th><td>177.314</td><td>186.285</td><td>  -8.971</td><td>177.314</td></tr>\n",
       "\t<tr><th scope=row>5</th><td> 61.393</td><td>191.482</td><td>-130.089</td><td> 61.393</td></tr>\n",
       "\t<tr><th scope=row>6</th><td>374.094</td><td>331.668</td><td>  42.426</td><td>374.094</td></tr>\n",
       "</tbody>\n",
       "</table>\n"
      ],
      "text/latex": [
       "A matrix: 6 × 4 of type dbl\n",
       "\\begin{tabular}{r|llll}\n",
       "  & y1 & y1.hat & e & \\\\\n",
       "\\hline\n",
       "\t1 &  81.130 & 130.505 &  -49.375 &  81.130\\\\\n",
       "\t2 & 106.667 & 159.704 &  -53.037 & 106.667\\\\\n",
       "\t3 & 308.032 & 317.846 &   -9.813 & 308.032\\\\\n",
       "\t4 & 177.314 & 186.285 &   -8.971 & 177.314\\\\\n",
       "\t5 &  61.393 & 191.482 & -130.089 &  61.393\\\\\n",
       "\t6 & 374.094 & 331.668 &   42.426 & 374.094\\\\\n",
       "\\end{tabular}\n"
      ],
      "text/markdown": [
       "\n",
       "A matrix: 6 × 4 of type dbl\n",
       "\n",
       "| <!--/--> | y1 | y1.hat | e | <!----> |\n",
       "|---|---|---|---|---|\n",
       "| 1 |  81.130 | 130.505 |  -49.375 |  81.130 |\n",
       "| 2 | 106.667 | 159.704 |  -53.037 | 106.667 |\n",
       "| 3 | 308.032 | 317.846 |   -9.813 | 308.032 |\n",
       "| 4 | 177.314 | 186.285 |   -8.971 | 177.314 |\n",
       "| 5 |  61.393 | 191.482 | -130.089 |  61.393 |\n",
       "| 6 | 374.094 | 331.668 |   42.426 | 374.094 |\n",
       "\n"
      ],
      "text/plain": [
       "  y1      y1.hat  e               \n",
       "1  81.130 130.505  -49.375  81.130\n",
       "2 106.667 159.704  -53.037 106.667\n",
       "3 308.032 317.846   -9.813 308.032\n",
       "4 177.314 186.285   -8.971 177.314\n",
       "5  61.393 191.482 -130.089  61.393\n",
       "6 374.094 331.668   42.426 374.094"
      ]
     },
     "metadata": {},
     "output_type": "display_data"
    }
   ],
   "source": [
    "round(head(cbind(y1, y1.hat=fm1$fit, e=fm1$res, fm1$fit+fm1$res)), 3)"
   ]
  },
  {
   "attachments": {},
   "cell_type": "markdown",
   "id": "f87975cb",
   "metadata": {},
   "source": [
    "Lo stesso può dirsi di $y_2$. La correlazione parziale $r_{12 \\mid f}$\n",
    "tra $y_1$ e $y_2$ dato $f$ è uguale alla correlazione di Pearson tra i\n",
    "residui $e_1$ e $e_2$ calcolati mediante i due modelli di regressione\n",
    "descritti sopra:"
   ]
  },
  {
   "cell_type": "code",
   "execution_count": 7,
   "id": "2be5e6f5",
   "metadata": {
    "vscode": {
     "languageId": "r"
    }
   },
   "outputs": [
    {
     "data": {
      "text/html": [
       "0.0282861771586006"
      ],
      "text/latex": [
       "0.0282861771586006"
      ],
      "text/markdown": [
       "0.0282861771586006"
      ],
      "text/plain": [
       "[1] 0.02828618"
      ]
     },
     "metadata": {},
     "output_type": "display_data"
    }
   ],
   "source": [
    "cor(fm1$res, fm2$res)"
   ]
  },
  {
   "attachments": {},
   "cell_type": "markdown",
   "id": "6a8f0400",
   "metadata": {},
   "source": [
    "La correlazione parziale tra $y_1$ e $y_2$ al netto di $f$ è .02829.\n",
    "\n",
    "Per i dati esaminati sopra, dunque, la correlazione parziale tra le\n",
    "variabili $y_1$ e $y_2$ diventa uguale a zero se la variabile $f$ viene\n",
    "controllata (ovvero, se escludiamo da $y_1$ e da $y_2$ l'effetto lineare\n",
    "di $f$). Il fatto che la correlazione parziale sia zero significa che la\n",
    "correlazione che abbiamo osservato tra $y_1$ e $y_2$ ($r = 0.355$) non\n",
    "dipendeva dall'effetto che una variabile $y$ esercitava sull'altra, ma\n",
    "bensì dal fatto che c'era una terza variabile, $f$, che influenzava sia\n",
    "$y_1$ sia $y_2$. In altre parole, le variabili $y_1$ e $y_2$ sono\n",
    "condizionalmente indipendenti dato $f$. Ciò significa, come abbiamo\n",
    "visto sopra, che la componente di $y_1$ linearmente indipendente da $f$\n",
    "è incorrelata con la componente di $y_2$ linearmente indipendente da\n",
    "$f$.\n",
    "\n",
    "La correlazione che abbiamo calcolato tra i residui di due modelli di\n",
    "regressione è identica alla correlazione che viene calcolata\n",
    "applicando l'eq. {eq}`eq-corr-parz`:"
   ]
  },
  {
   "cell_type": "code",
   "execution_count": 8,
   "id": "9bec6d14",
   "metadata": {
    "vscode": {
     "languageId": "r"
    }
   },
   "outputs": [
    {
     "data": {
      "text/html": [
       "0.0282751285315647"
      ],
      "text/latex": [
       "0.0282751285315647"
      ],
      "text/markdown": [
       "0.0282751285315647"
      ],
      "text/plain": [
       "[1] 0.02827513"
      ]
     },
     "metadata": {},
     "output_type": "display_data"
    }
   ],
   "source": [
    "(R[1, 2] - R[1, 3] * R[2, 3]) / \n",
    "  sqrt((1 - R[1, 3]^2) * (1- R[2, 3]^2)) %>% \n",
    "  round(3)"
   ]
  },
  {
   "attachments": {},
   "cell_type": "markdown",
   "id": "9b0e0496",
   "metadata": {},
   "source": [
    "In conclusione, possiamo attribuire all'eq. {eq}`eq-corr-parz` la seguente interpretazione: la correlazione parziale tra le variabili $y_1$ e $y_2$ condizionata alla variabile $f$ rappresenta la correlazione tra le componenti di $y_1$ e $y_2$ da cui è stato rimosso l'effetto lineare di $f$. Ricordiamo il ragionamento che abbiamo svolto in precedenza per fornire un'interpretazione al coefficiente parziale del modello di regressione.\n",
    "\n",
    "## Principio base dell'analisi fattoriale\n",
    "\n",
    "Nell'attuale pratica dell'inferenza statistica nell'analisi fattoriale, spesso si utilizzano stime della massima verosimiglianza, calcolate attraverso procedure iterative come l'algoritmo EM (Rubin & Thayer, 1982). Tuttavia, all'inizio dell'analisi fattoriale, la procedura di estrazione dei fattori si basava sulle relazioni invarianti che il modello fattoriale imponeva agli elementi della matrice di covarianza delle variabili osservate. Uno dei più noti tra questi invarianti è la *tetrade*, presente nei modelli ad un fattore.\n",
    "\n",
    "La tetrade consiste in una combinazione di quattro correlazioni. Se l'associazione tra le variabili osservate dipende dal fatto che queste sono state generate causalmente da un fattore comune inosservabile, allora è possibile generare una combinazione delle correlazioni che annulla la tetrade. In altre parole, l'analisi fattoriale si propone di individuare un insieme di sole $m<p$ variabili latenti che, al netto dei fattori comuni, annullano significativamente tutte le correlazioni parziali tra le $p$ variabili osservate. Se il metodo della correlazione parziale consente di identificare $m$ variabili latenti, allora lo psicologo può concludere che tali fattori corrispondono agli $m$ costrutti che intende misurare.\n",
    "\n",
    "Per illustrare il metodo dell'annullamento della tetrade, consideriamo la matrice di correlazioni riportata nella Tabella seguente. \n",
    "\n",
    "  |         |   $\\xi$    |  $y_1$  | $y_2$  | $y_3$  | $y_4$ |  $y_5$ |\n",
    "  | ------- | ---------- | ------- | ------ | ------ |------ | ------ |\n",
    "  |  $\\xi$  |  **1.00**  |         |        |         |        |          |\n",
    "  |  $y_1$  |  **0.90**  |   1.00  |        |          |         |         |\n",
    "  |  $y_2$  |  **0.80**  |   0.72  |    1.00 |         |         |         |\n",
    "  |  $y_3$  |  **0.70**  |   0.63  |    0.56 |    1.00 |         |         |\n",
    "  |  $y_4$  |  **0.60**  |   0.54  |    0.48 |    0.42 |    1.00 |         |\n",
    "  |  $y_5$  |  **0.50**  |   0.45  |    0.40 |    0.35 |    0.30 |    1.00 |\n",
    "\n",
    "Matrice di correlazioni nella quale tutte le correlazioni parziali\n",
    "  tra le variabili $Y$ al netto dell'effetto di $\\xi$ sono nulle.\n",
    "\n",
    "Nella tabella, la correlazione parziale tra ciascuna coppia di variabili $y_i$, $y_j$ (con $i \\neq j$) dato $\\xi$ è sempre pari a zero. Ad esempio, la correlazione parziale tra $y_3$ e $y_5$ condizionata a $\\xi$ è:\n",
    "\n",
    "$$\n",
    "\\begin{equation}\n",
    "\\begin{aligned}\n",
    "  r_{35 \\mid \\xi} &= \\frac{r_{35} - r_{3\\xi}r_{5\\xi}}\n",
    "  {\\sqrt{(1-r_{3\\xi}^2)(1-r_{5\\xi}^2)}} \\notag \\\\[12pt]\n",
    "  &= \\frac{0.35 - 0.7 \\times 0.5}\n",
    "  {\\sqrt{(1-0.7^2)(1-0.5^2)}} = 0. \\notag\n",
    "  \\end{aligned}\n",
    "\\end{equation}\n",
    "$$\n",
    "\n",
    "Lo stesso risultato si trova per qualunque altra coppia di variabili $y_i$ e\n",
    "$y_j$, ovvero $r_{ij \\mid \\xi} = 0$. Possiamo dunque dire che, per la matrice di correlazioni della Tabella, esiste un'unica variabile $\\xi$ la\n",
    "quale, quando viene controllata, spiega tutte le\n",
    "\n",
    "$$\n",
    "p(p-1)/2 = 5(5-1)/2=10\n",
    "$$\n",
    "\n",
    "correlazioni tra le variabili $y$. Questo risultato non è sorprendente, in quanto la matrice di correlazioni è stata costruita in modo tale da possedere tale proprietà.\n",
    "\n",
    "Immaginiamo invece di trovarci in una situazione diversa, ovvero di avere a disposizione solo le variabili $y_i$ senza conoscere $\\xi$. In questo caso, ci poniamo la domanda: \"Esiste una variabile latente $\\xi$ tale che, se fosse osservabile, renderebbe nulle tutte le correlazioni parziali tra le variabili $y$?\". Se esiste una tale variabile latente che spiega tutte le correlazioni tra le variabili osservate $y$, allora viene chiamata *fattore latente*.\n",
    "\n",
    "Un fattore è una variabile inosservabile in grado di rendere significativamente nulle tutte le correlazioni parziali tra le variabili manifeste.\n",
    "\n",
    "\n",
    "### Vincoli sulle correlazioni\n",
    "\n",
    "Come si può stabilire se esiste una variabile inosservabile in grado di\n",
    "rendere nulle tutte le correlazioni parziali tra le variabili osservate?\n",
    "Riscriviamo l'eq. {eq}`eq-corr-parz` per specificare la correlazione parziale tra\n",
    "le variabili $y_i$ e $y_j$ dato $\\xi$:\n",
    "\n",
    "$$\n",
    "  r_{ij \\mid \\xi} = \\frac{r_{ij} - r_{i\\xi}r_{j\\xi}}\n",
    "  {\\sqrt{(1-r_{i\\xi}^2)(1-r_{j\\xi}^2)}}\n",
    "$$\n",
    "\n",
    "Affinché $r_{ij \\mid \\xi}$ sia uguale a zero è necessario che\n",
    "\n",
    "$$\n",
    "r_{ij} - r_{i\\xi}r_{j\\xi}=0\n",
    "$$\n",
    "\n",
    "ovvero\n",
    "\n",
    "$$\n",
    "r_{ij} = r_{i\\xi}r_{j\\xi}.\n",
    "$$\n",
    "\n",
    "In altri termini, se esiste un fattore non osservato $\\xi$ in grado di\n",
    "rendere uguali a zero tutte le correlazioni parziali $r_{ih \\mid \\xi}$,\n",
    "allora la correlazione tra ciascuna coppia di variabili $y$ deve essere\n",
    "uguale al prodotto delle correlazioni tra ciascuna $y$ e il fattore\n",
    "latente $\\xi$. Questo è il principio base dell'analisi fattoriale.\n",
    "\n",
    "### Teoria dei Due Fattori\n",
    "\n",
    "Per fornire un esempio concreto del metodo dell'annullamento della tetrade, possiamo esaminare la matrice di correlazioni utilizzata da Spearman (1904) nella sua ricerca sulle capacità intellettuali di alcuni studenti di una scuola superiore. In particolare, sono state considerate le prestazioni degli studenti in tre materie scolastiche (studio dei classici, letteratura inglese, abilità matematiche) e in un compito di discriminazione dell'altezza di suoni. Secondo la Teoria dei Due Fattori di Spearman, le prestazioni in ogni compito intellettuale sono costituite da due componenti: un fattore generale comune a tutte le attività intellettuali (fattore \"g\") e un fattore specifico relativo al compito in questione (fattore \"s\"). In questo modello, il fattore \"g\" rappresenta la componente invariante dell'abilità intellettiva, mentre il fattore \"s\" è una componente che varia da condizione a condizione.\n",
    "\n",
    "Per verificare l'esistenza di una variabile latente in grado di spiegare le correlazioni tra le variabili osservate da Spearman, è stato proposto uno strumento chiamato \"annullamento della tetrade\". Tale strumento si basa sui vincoli sulle correlazioni derivanti dalla definizione di correlazione parziale. Come abbiamo visto in precedenza, la correlazione parziale tra le variabili $y$ indicizzate da $i$ e $j$, al netto dell'effetto di $\\xi$, è nulla se la seguente relazione è soddisfatta:\n",
    "\n",
    "$$\n",
    "r_{ij} = r_{i\\xi}r_{j\\xi}.\n",
    "$$ \n",
    "\n",
    "In altre parole, se la correlazione tra due variabili osservate può essere spiegata dall'effetto di una terza variabile latente, allora la correlazione parziale tra tali variabili sarà nulla una volta che si tiene conto dell'effetto della variabile latente. Utilizzando questo strumento, Spearman ha dimostrato che le correlazioni tra le prestazioni degli studenti nei vari compiti intellettuali possono essere spiegate da due fattori: un fattore generale comune a tutti i compiti (fattore \"g\") e un fattore specifico a ciascun compito (fattore \"s\").\n",
    "\n",
    "Nel caso dei dati di Spearman, le correlazioni parziali sono nulle quando la correlazione tra \"studi classici\" e \"letteratura inglese\" è pari al prodotto della correlazione tra \"studi classici\" e la variabile latente $\\xi$ e della correlazione tra \"letteratura inglese\" e la variabile latente $\\xi$. Inoltre, la correlazione tra \"studi classici\" e \"abilità matematica\" deve essere uguale al prodotto della correlazione tra \"studi classici\" e la variabile latente $\\xi$ e della correlazione tra \"abilità matematica\" e la variabile latente $\\xi$, e così via per tutte le altre coppie di variabili.\n",
    "\n",
    "Le correlazioni tra le variabili manifeste e il fattore latente sono\n",
    "dette *saturazioni fattoriali* e vengono denotate con la lettera\n",
    "$\\lambda$. Se il modello di Spearman è corretto, avremo che\n",
    "\n",
    "$$\n",
    "r_{ec}=\\lambda_e \\times \\lambda_{c},\n",
    "$$\n",
    "\n",
    "dove $r_{ec}$ è la correlazione tra \"letteratura inglese\" (e) e \"studi classici\" (c), $\\lambda_e$ è la correlazione tra \"letteratura inglese\" e $\\xi$, e $\\lambda_{c}$ è la\n",
    "correlazione tra \"studi classici\" e $\\xi$.\n",
    "\n",
    "Allo stesso modo, la correlazione tra \"studi classici\" e \"matematica\"\n",
    "(m) dovrà essere uguale a\n",
    "\n",
    "$$\n",
    "\\lambda_c \\times \\lambda_m,\n",
    "$$\n",
    "\n",
    "eccetera.\n",
    "\n",
    "### Annullamento della tetrade\n",
    "\n",
    "Utilizzando il metodo dell'annullamento della tetrade è possibile stimare i valori delle saturazioni fattoriali $\\lambda$, partendo dalle correlazioni tra le tre coppie di variabili manifeste $c$, $m$ ed $e$. In particolare, si possono scrivere tre equazioni in tre incognite, che consentono di calcolare le saturazioni $\\lambda$. Ad esempio, per le tre variabili sopracitate, tali equazioni possono essere espresse nel seguente modo:\n",
    "\n",
    "$$\n",
    "\\begin{equation}\n",
    "\\begin{aligned}\n",
    "  r_{cm} &= \\lambda_c \\times \\lambda_m, \\notag \\\\\n",
    "  r_{em} &= \\lambda_e \\times \\lambda_m,  \\\\\n",
    "  r_{ce} &= \\lambda_c \\times \\lambda_e. \\notag\n",
    "\\end{aligned}\n",
    "\\end{equation}\n",
    "$$\n",
    "\n",
    "Calcolando il determinante del sistema di equazioni lineari composto dalle correlazioni tra le variabili manifeste $c$, $m$ ed $e$, possiamo ottenere il valore della saturazione fattoriale $\\lambda$ e, in particolare, il coefficiente di saturazione $\\lambda_m$ della variabile $y_m$ nel fattore comune $\\xi$. In altre parole, risolvendo il sistema di equazioni lineari, possiamo stimare il valore delle saturazioni fattoriali, compreso il coefficiente di saturazione $\\lambda_m$, a partire dalle correlazioni tra le variabili manifeste:\n",
    "\n",
    "$$\n",
    "\\begin{equation}\n",
    "\\lambda_m = \\sqrt{ \\frac{r_{cm} r_{em}}{r_{ce}}}.\n",
    "\\end{equation}\n",
    "$$(eq-tetradi)\n",
    "\n",
    "Lo stesso vale per le altre due saturazioni $\\lambda_c$ e $\\lambda_e$.\n",
    "\n",
    "Nel suo articolo del 1904, Spearman osservò le seguenti correlazioni tra\n",
    "le variabili $Y_c$, $Y_e$, $Y_m$ e $Y_p$:\n",
    "\n",
    "$$\n",
    "\\begin{array}{ccccc}\n",
    "  \\hline\n",
    "    & Y_C & Y_E & Y_M & Y_P \\\\\n",
    "  \\hline\n",
    "  Y_C & 1.00 & 0.78 & 0.70 & 0.66 \\\\\n",
    "  Y_E &   & 1.00 & 0.64 & 0.54 \\\\\n",
    "  Y_M &   &   & 1.00 & 0.45 \\\\\n",
    "  Y_P &   &   &   & 1.00 \\\\\n",
    "  \\hline\n",
    "\\end{array}\n",
    "$$\n",
    "\n",
    "Utilizzando l'eq. {eq}`eq-tetradi`, mediante le correlazioni $r_{cm}$, $r_{em}$, e\n",
    "$r_{ce}$ fornite dalla tabella precedente, la saturazione $\\lambda_m$\n",
    "diventa uguale a:\n",
    "\n",
    "$$\n",
    "  \\hat{\\lambda}_m = \\sqrt{ \\frac{r_{cm} r_{em}}{r_{ce}} } = \\sqrt{\n",
    "    \\frac{0.70 \\times 0.64}{0.78} } = 0.76.\n",
    "$$\n",
    "\n",
    "È importante notare che il metodo dell'annullamento della tetrade\n",
    "produce risultati falsificabili. Infatti, ci sono modi diversi per\n",
    "calcolare la stessa saturazione fattoriale. Se il modello fattoriale è\n",
    "corretto si deve ottenere lo stesso risultato in tutti i casi. Nel caso\n",
    "presente, la saturazione fattoriale $\\lambda_m$ può essere calcolata in\n",
    "altri due modi:\n",
    "\n",
    "$$\n",
    "\\begin{equation}\n",
    "\\begin{aligned}\n",
    "  \\hat{\\lambda}_m &= \\sqrt{ \\frac{r_{cm} r_{mp}}{r_{cp}} } = \\sqrt{ \\frac{0.78 \\times 0.45}{0.66} } = 0.69, \\notag \\\\\n",
    "  \\hat{\\lambda}_m &= \\sqrt{ \\frac{r_{em} r_{mp}}{r_{ep}} } = \\sqrt{\n",
    "    \\frac{0.64 \\times 0.45}{0.54} } = 0.73. \\notag\\end{aligned}\n",
    "\\end{equation}\n",
    "$$\n",
    "\n",
    "I tre valori che sono stati ottenuti sono molto simili. Qual è allora la stima\n",
    "migliore di $\\lambda_m$?\n",
    "\n",
    "### Metodo del centroide\n",
    "\n",
    "La soluzione più semplice è quella di fare la media di questi tre valori\n",
    "($\\bar{\\lambda}_m = 0.73$). Un metodo migliore (meno vulnerabile ai\n",
    "valori anomali) è dato dal rapporto tra la somma dei numeratori e dei\n",
    "denominatori:\n",
    "\n",
    "$$\n",
    "  \\hat{\\lambda}_m = \\sqrt{ \\frac{0.70 \\times 0.64 + 0.78 \\times 0.45 + 0.64\n",
    "      \\times 0.45}{0.78+0.66+0.54} } = 0.73\n",
    "$$\n",
    "\n",
    "In questo caso, i due metodi danno lo stesso risultato. Le altre tre\n",
    "saturazioni fattoriali trovate mediante il metodo del centroide sono:\n",
    "\n",
    "$$\n",
    "\\hat{\\lambda}_c = 0.97, \\quad \\hat{\\lambda}_e = 0.84, \\quad\n",
    "\\hat{\\lambda}_p = 0.65.\n",
    "$$\n",
    "\n",
    "In conclusione,\n",
    "\n",
    "$$\n",
    "\\boldsymbol{\\hat{\\Lambda}}^\\prime=\n",
    "(\\hat{\\lambda}_c, \\hat{\\lambda}_e, \\hat{\\lambda}_m, \\hat{\\lambda}_p) = (0.97, 0.84, 0.73, 0.65).\n",
    "$$\n"
   ]
  },
  {
   "attachments": {},
   "cell_type": "markdown",
   "id": "5a9af86e",
   "metadata": {},
   "source": [
    "<!-- Il calcolo delle saturazioni fattoriali con il metodo del centroide aveva prodotto il risultato: $\\boldsymbol{\\hat{\\Lambda}}'= (0.97, 0.84, 0.73, 0.65)$. Si noti che i due metodi producono risultati simili. -->\n",
    "\n",
    "## Introduzione a `lavaan`\n",
    "\n",
    "### Sintassi del modello\n",
    "\n",
    "Al cuore del pacchetto lavaan si trova la \"sintassi del modello\". La sintassi del modello è una descrizione del modello da stimare. In questa sezione, spieghiamo brevemente gli elementi della sintassi del modello lavaan. \n",
    "\n",
    "Nell'ambiente R, una formula di regressione ha la seguente forma:\n",
    "\n",
    "```\n",
    "y ~ x1 + x2 + x3 + x4\n",
    "```\n",
    "\n",
    "In questa formula, la tilde (\"~\") è l'operatore di regressione. Sul lato sinistro dell'operatore, abbiamo la variabile dipendente (y), e sul lato destro abbiamo le variabili indipendenti, separate dall'operatore \"+\" . In lavaan, un modello tipico è semplicemente un insieme (o sistema) di formule di regressione, in cui alcune variabili (che iniziano con una 'f' qui sotto) possono essere latenti. Ad esempio:\n",
    "\n",
    "```\n",
    "y ~ f1 + f2 + x1 + x2\n",
    "f1 ~ f2 + f3\n",
    "f2 ~ f3 + x1 + x2\n",
    "```\n",
    "\n",
    "Se abbiamo variabili latenti in una qualsiasi delle formule di regressione, dobbiamo \"definirle\" elencando i loro indicatori (manifesti o latenti). Lo facciamo utilizzando l'operatore speciale \"=~\", che può essere letto come \"è misurato da\". Ad esempio, per definire le tre variabili latenti f1, f2 e f3, possiamo usare qualcosa del genere:\n",
    "\n",
    "```\n",
    "f1 =~ y1 + y2 + y3\n",
    "f2 =~ y4 + y5 + y6\n",
    "f3 =~ y7 + y8 + y9 + y10\n",
    "```\n",
    "\n",
    "Inoltre, le varianze e le covarianze sono specificate utilizzando un operatore \"doppia tilde\", ad esempio:\n",
    "\n",
    "```\n",
    "y1 ~~ y1 # varianza\n",
    "y1 ~~ y2 # covarianza\n",
    "f1 ~~ f2 # covarianza\n",
    "```\n",
    "\n",
    "E infine, le intercette per le variabili osservate e latenti sono semplici formule di regressione con solo una intercetta (esplicitamente indicato dal numero \"1\") come unico predittore:\n",
    "\n",
    "```\n",
    "y1 ~ 1\n",
    "f1 ~ 1\n",
    "```\n",
    "\n",
    "Utilizzando questi quattro tipi di formule, è possibile descrivere una vasta gamma di modelli di variabili latenti. L'attuale insieme di tipi di formula è riassunto nella tabella sottostante.\n",
    "\n",
    "| tipo di formula | operatore |  mnemonic |\n",
    "| --------------- | --------- | --------- |\n",
    "| definizione variabile latente | =~ | è misurato da |\n",
    "| regressione | ~ | viene regredito su |\n",
    "| (co)varianza (residuale) | ~~  |è correlato con |\n",
    "| intercetta | ~ 1 | intercetta |\n",
    "\n",
    "Una sintassi completa del modello lavaan è semplicemente una combinazione di questi tipi di formule, racchiusi tra virgolette singole. Ad esempio:\n",
    "\n",
    "```\n",
    "my_model <- ' \n",
    "  # regressions\n",
    "  y1 + y2 ~ f1 + f2 + x1 + x2\n",
    "  f1 ~ f2 + f3\n",
    "  f2 ~ f3 + x1 + x2\n",
    "\n",
    "  # latent variable definitions \n",
    "  f1 =~ y1 + y2 + y3 \n",
    "  f2 =~ y4 + y5 + y6 \n",
    "  f3 =~ y7 + y8 + y9\n",
    "  \n",
    "  # variances and covariances \n",
    "  y1 ~~ y1 \n",
    "  y1 ~~ y2 \n",
    "  f1 ~~ f2\n",
    "\n",
    "  # intercepts \n",
    "  y1 ~ 1 \n",
    "  f1 ~ 1\n",
    "'\n",
    "```\n",
    "\n",
    "Per adattare il modello ai dati usiamo la seguente sintassi.\n",
    "\n",
    "```\n",
    "fit <- cfa(model = my_model, data = my_data)\n",
    "```\n",
    "\n",
    "### Un esempio concreto\n",
    "\n",
    "Analizziamo nuovamente i dati di Spearman che abbiamo esaminato in precedenza usando `lavaan`. La matrice completa dei dati di Spearman è messa a disposizione da @kan2019extending. Iniziamo a caricare i pacchetti necessari:"
   ]
  },
  {
   "cell_type": "code",
   "execution_count": 9,
   "id": "20b467fe",
   "metadata": {
    "vscode": {
     "languageId": "r"
    }
   },
   "outputs": [
    {
     "name": "stderr",
     "output_type": "stream",
     "text": [
      "This is lavaan 0.6-15\n",
      "lavaan is FREE software! Please report any bugs.\n",
      "\n"
     ]
    },
    {
     "name": "stderr",
     "output_type": "stream",
     "text": [
      "\n",
      "Attaching package: ‘kableExtra’\n",
      "\n",
      "\n"
     ]
    },
    {
     "name": "stderr",
     "output_type": "stream",
     "text": [
      "The following object is masked from ‘package:dplyr’:\n",
      "\n",
      "    group_rows\n",
      "\n",
      "\n"
     ]
    },
    {
     "name": "stderr",
     "output_type": "stream",
     "text": [
      "corrplot 0.92 loaded\n",
      "\n"
     ]
    }
   ],
   "source": [
    "library(\"lavaan\")\n",
    "library(\"semPlot\")\n",
    "library(\"knitr\")\n",
    "library(\"kableExtra\")\n",
    "library(\"tidyr\")\n",
    "library(\"corrplot\")"
   ]
  },
  {
   "attachments": {},
   "cell_type": "markdown",
   "id": "70691e1a",
   "metadata": {},
   "source": [
    "Specifichiamo il nome delle variabili manifeste"
   ]
  },
  {
   "cell_type": "code",
   "execution_count": 10,
   "id": "5fa6eca5",
   "metadata": {
    "vscode": {
     "languageId": "r"
    }
   },
   "outputs": [],
   "source": [
    "varnames <- c(\n",
    "  \"Classics\", \"French\", \"English\", \"Math\", \"Pitch\", \"Music\"\n",
    ")"
   ]
  },
  {
   "attachments": {},
   "cell_type": "markdown",
   "id": "ce85964a",
   "metadata": {},
   "source": [
    "e il loro numero"
   ]
  },
  {
   "cell_type": "code",
   "execution_count": 11,
   "id": "449f6ff1",
   "metadata": {
    "vscode": {
     "languageId": "r"
    }
   },
   "outputs": [],
   "source": [
    "ny <- length (varnames)"
   ]
  },
  {
   "attachments": {},
   "cell_type": "markdown",
   "id": "0551b005",
   "metadata": {},
   "source": [
    "Creiamo la matrice di correlazione:"
   ]
  },
  {
   "cell_type": "code",
   "execution_count": 12,
   "id": "1f03c05b",
   "metadata": {
    "vscode": {
     "languageId": "r"
    }
   },
   "outputs": [],
   "source": [
    "spearman_cor_mat <- matrix(\n",
    "  c(\n",
    "    1.00,  .83,  .78,  .70,  .66,  .63,\n",
    "     .83, 1.00,  .67,  .67,  .65,  .57,\n",
    "     .78,  .67, 1.00,  .64,  .54,  .51,\n",
    "     .70,  .67,  .64, 1.00,  .45,  .51,\n",
    "     .66,  .65,  .54,  .45, 1.00,  .40,\n",
    "     .63,  .57,  .51,  .51,  .40, 1.00\n",
    "  ),\n",
    "  ny, ny,\n",
    "  byrow = TRUE,\n",
    "  dimnames = list(varnames, varnames)\n",
    ")"
   ]
  },
  {
   "attachments": {},
   "cell_type": "markdown",
   "id": "bf3f6d50",
   "metadata": {},
   "source": [
    "Specifichiamo l'ampiezza campionaria:"
   ]
  },
  {
   "cell_type": "code",
   "execution_count": 13,
   "id": "66b32f18",
   "metadata": {
    "vscode": {
     "languageId": "r"
    }
   },
   "outputs": [],
   "source": [
    "n <- 33"
   ]
  },
  {
   "attachments": {},
   "cell_type": "markdown",
   "id": "3c20fd1b",
   "metadata": {},
   "source": [
    "Definiamo il modello unifattoriale in `lavaan`. L'operatore `=~` si può leggere dicendo che la variabile latente a sinistra dell'operatore viene identificata dalle variabili manifeste elencate a destra dell'operatore e separate dal segno `+`. Per il caso presente, il modello dei due fattori di Spearman può essere specificato come segue."
   ]
  },
  {
   "cell_type": "code",
   "execution_count": 14,
   "id": "53148702",
   "metadata": {
    "vscode": {
     "languageId": "r"
    }
   },
   "outputs": [],
   "source": [
    "spearman_mod <- \"\n",
    "  g =~ Classics + French + English + Math + Pitch + Music\n",
    "\""
   ]
  },
  {
   "attachments": {},
   "cell_type": "markdown",
   "id": "ba33abdd",
   "metadata": {},
   "source": [
    "Adattiamo il modello ai dati con la funzione `cfa()`:"
   ]
  },
  {
   "cell_type": "code",
   "execution_count": 15,
   "id": "f3539fdd",
   "metadata": {
    "vscode": {
     "languageId": "r"
    }
   },
   "outputs": [],
   "source": [
    "fit1 <- lavaan::cfa(\n",
    "  spearman_mod,\n",
    "  sample.cov = spearman_cor_mat,\n",
    "  sample.nobs = n,\n",
    "  std.lv = TRUE\n",
    ")"
   ]
  },
  {
   "attachments": {},
   "cell_type": "markdown",
   "id": "86a12462",
   "metadata": {},
   "source": [
    "La funzione cfa() è una funzione dedicata per adattare modelli di analisi fattoriale confermativa. Il primo argomento è il modello specificato dall'utente. Il secondo argomento è il dataset che contiene le variabili osservate. L'argomento `std.lv = TRUE` specifica che imponiamo una varianza pari a 1 a tutte le variabili latenti comuni (nel caso presente, solo una). Ciò consente di  stimare le saturazioni fattoriali.\n",
    "\n",
    "Una volta adattato il modello, la funzione summary() ci consente di esaminare la soluzione ottenuta:"
   ]
  },
  {
   "cell_type": "code",
   "execution_count": 16,
   "id": "fde9a30a",
   "metadata": {
    "vscode": {
     "languageId": "r"
    }
   },
   "outputs": [
    {
     "name": "stdout",
     "output_type": "stream",
     "text": [
      "lavaan 0.6.15 ended normally after 23 iterations\n",
      "\n",
      "  Estimator                                         ML\n",
      "  Optimization method                           NLMINB\n",
      "  Number of model parameters                        12\n",
      "\n",
      "  Number of observations                            33\n",
      "\n",
      "Model Test User Model:\n",
      "                                                      \n",
      "  Test statistic                                 2.913\n",
      "  Degrees of freedom                                 9\n",
      "  P-value (Chi-square)                           0.968\n",
      "\n",
      "Model Test Baseline Model:\n",
      "\n",
      "  Test statistic                               133.625\n",
      "  Degrees of freedom                                15\n",
      "  P-value                                        0.000\n",
      "\n",
      "User Model versus Baseline Model:\n",
      "\n",
      "  Comparative Fit Index (CFI)                    1.000\n",
      "  Tucker-Lewis Index (TLI)                       1.086\n",
      "\n",
      "Loglikelihood and Information Criteria:\n",
      "\n",
      "  Loglikelihood user model (H0)               -212.547\n",
      "  Loglikelihood unrestricted model (H1)       -211.091\n",
      "                                                      \n",
      "  Akaike (AIC)                                 449.094\n",
      "  Bayesian (BIC)                               467.052\n",
      "  Sample-size adjusted Bayesian (SABIC)        429.622\n",
      "\n",
      "Root Mean Square Error of Approximation:\n",
      "\n",
      "  RMSEA                                          0.000\n",
      "  90 Percent confidence interval - lower         0.000\n",
      "  90 Percent confidence interval - upper         0.000\n",
      "  P-value H_0: RMSEA <= 0.050                    0.976\n",
      "  P-value H_0: RMSEA >= 0.080                    0.016\n",
      "\n",
      "Standardized Root Mean Square Residual:\n",
      "\n",
      "  SRMR                                           0.025\n",
      "\n",
      "Parameter Estimates:\n",
      "\n",
      "  Standard errors                             Standard\n",
      "  Information                                 Expected\n",
      "  Information saturated (h1) model          Structured\n",
      "\n",
      "Latent Variables:\n",
      "                   Estimate  Std.Err  z-value  P(>|z|)   Std.lv  Std.all\n",
      "  g =~                                                                  \n",
      "    Classics          0.942    0.129    7.314    0.000    0.942    0.956\n",
      "    French            0.857    0.137    6.239    0.000    0.857    0.871\n",
      "    English           0.795    0.143    5.545    0.000    0.795    0.807\n",
      "    Math              0.732    0.149    4.923    0.000    0.732    0.743\n",
      "    Pitch             0.678    0.153    4.438    0.000    0.678    0.689\n",
      "    Music             0.643    0.155    4.142    0.000    0.643    0.653\n",
      "\n",
      "Variances:\n",
      "                   Estimate  Std.Err  z-value  P(>|z|)   Std.lv  Std.all\n",
      "   .Classics          0.083    0.051    1.629    0.103    0.083    0.086\n",
      "   .French            0.234    0.072    3.244    0.001    0.234    0.242\n",
      "   .English           0.338    0.094    3.610    0.000    0.338    0.349\n",
      "   .Math              0.434    0.115    3.773    0.000    0.434    0.447\n",
      "   .Pitch             0.510    0.132    3.855    0.000    0.510    0.526\n",
      "   .Music             0.556    0.143    3.893    0.000    0.556    0.573\n",
      "    g                 1.000                               1.000    1.000\n",
      "\n"
     ]
    }
   ],
   "source": [
    "out = summary(\n",
    "  fit1, \n",
    "  fit.measures = TRUE, \n",
    "  standardized = TRUE\n",
    ")\n",
    "print(out)"
   ]
  },
  {
   "attachments": {},
   "cell_type": "markdown",
   "id": "b818fe9f",
   "metadata": {},
   "source": [
    "L'output consiste in tre parti. Le prime nove righe sono chiamate intestazione. L'intestazione contiene le seguenti informazioni:\n",
    "\n",
    "- il numero di versione di lavaan\n",
    "- se l'ottimizzazione è terminata normalmente o meno e quante iterazioni sono state necessarie\n",
    "- lo stimatore utilizzato (qui: ML, per la massima verosimiglianza)\n",
    "- l'ottimizzatore utilizzato per trovare i valori dei parametri di adattamento migliori per questo stimatore (qui: NLMINB)\n",
    "- il numero di parametri del modello (qui: 12)\n",
    "- il numero di osservazioni che sono state effettivamente utilizzate nell'analisi (qui: 33)\n",
    "- una sezione chiamata \"Model Test User Model\": che fornisce una statistica di test, i gradi di libertà e un valore p per il modello specificato dall'utente.\n",
    "\n",
    "La sezione successiva contiene ulteriori misure di adattamento e viene mostrata solo se si utilizza l'argomento opzionale fit.measures = TRUE. Inizia con la riga Model Test Baseline Model: e termina con il valore per l'SRMR. L'ultima sezione contiene le stime dei parametri. Inizia con informazioni (tecniche) sul metodo utilizzato per calcolare gli errori standard. Quindi, vengono elencati tutti i parametri liberi (e fissati) inclusi nel modello. Di solito, prima vengono mostrate le variabili latenti, seguite dalle covarianze e dalle varianze (residui). La prima colonna (Stima) contiene il valore del parametro (stimato o fisso) per ogni parametro del modello; la seconda colonna (Std.err) contiene l'errore standard per ogni parametro stimato; la terza colonna (Z-value) contiene la statistica di Wald (che viene semplicemente ottenuta dividendo il valore del parametro per il suo errore standard), e l'ultima colonna (P(>|z|)) contiene il valore p per testare l'ipotesi nulla che il valore del parametro sia uguale a zero nella popolazione.\n",
    "\n",
    "Si noti che nella sezione Varianze: c'è un punto prima dei nomi delle variabili osservate. Ciò perché sono variabili dipendenti (o endogene) (predette dalle variabili latenti) e quindi il valore della varianza stampato in output è una stima della varianza residua: la varianza rimanente che non è spiegata dal/i predittore/i. Al contrario, non c'è un punto prima dei nomi delle variabili latenti, perché in questo modello sono variabili esogene. I valori delle varianze qui sono le varianze totali stimate delle variabili latenti.\n",
    "\n",
    "È possibile semplificare l'output dalla funzione `summary()` in maniera tale da stampare solo la tabella completa delle stime dei parametri e degli errori standard. Qui usiamo `coef(fit1)`."
   ]
  },
  {
   "cell_type": "code",
   "execution_count": 17,
   "id": "ae2a4eed",
   "metadata": {
    "vscode": {
     "languageId": "r"
    }
   },
   "outputs": [
    {
     "name": "stdout",
     "output_type": "stream",
     "text": [
      "       g=~Classics          g=~French         g=~English            g=~Math \n",
      "              0.94               0.86               0.79               0.73 \n",
      "          g=~Pitch           g=~Music Classics~~Classics     French~~French \n",
      "              0.68               0.64               0.08               0.23 \n",
      "  English~~English         Math~~Math       Pitch~~Pitch       Music~~Music \n",
      "              0.34               0.43               0.51               0.56 \n"
     ]
    }
   ],
   "source": [
    "print(round(coef(fit1), 2))"
   ]
  },
  {
   "attachments": {},
   "cell_type": "markdown",
   "id": "e0e40a0e",
   "metadata": {},
   "source": [
    "Usando `parameterEstimates`, l'output diventa il seguente."
   ]
  },
  {
   "cell_type": "code",
   "execution_count": 18,
   "id": "23326b9f",
   "metadata": {
    "vscode": {
     "languageId": "r"
    }
   },
   "outputs": [
    {
     "name": "stdout",
     "output_type": "stream",
     "text": [
      "        lhs op      rhs   est    se     z pvalue ci.lower ci.upper std.lv\n",
      "1         g =~ Classics 0.942 0.129 7.314  0.000    0.689    1.194  0.942\n",
      "2         g =~   French 0.857 0.137 6.239  0.000    0.588    1.127  0.857\n",
      "3         g =~  English 0.795 0.143 5.545  0.000    0.514    1.076  0.795\n",
      "4         g =~     Math 0.732 0.149 4.923  0.000    0.441    1.024  0.732\n",
      "5         g =~    Pitch 0.678 0.153 4.438  0.000    0.379    0.978  0.678\n",
      "6         g =~    Music 0.643 0.155 4.142  0.000    0.339    0.948  0.643\n",
      "7  Classics ~~ Classics 0.083 0.051 1.629  0.103   -0.017    0.183  0.083\n",
      "8    French ~~   French 0.234 0.072 3.244  0.001    0.093    0.376  0.234\n",
      "9   English ~~  English 0.338 0.094 3.610  0.000    0.154    0.522  0.338\n",
      "10     Math ~~     Math 0.434 0.115 3.773  0.000    0.208    0.659  0.434\n",
      "11    Pitch ~~    Pitch 0.510 0.132 3.855  0.000    0.251    0.769  0.510\n",
      "12    Music ~~    Music 0.556 0.143 3.893  0.000    0.276    0.836  0.556\n",
      "13        g ~~        g 1.000 0.000    NA     NA    1.000    1.000  1.000\n",
      "   std.all std.nox\n",
      "1    0.956   0.956\n",
      "2    0.871   0.871\n",
      "3    0.807   0.807\n",
      "4    0.743   0.743\n",
      "5    0.689   0.689\n",
      "6    0.653   0.653\n",
      "7    0.086   0.086\n",
      "8    0.242   0.242\n",
      "9    0.349   0.349\n",
      "10   0.447   0.447\n",
      "11   0.526   0.526\n",
      "12   0.573   0.573\n",
      "13   1.000   1.000\n"
     ]
    }
   ],
   "source": [
    "out = parameterEstimates(fit1, standardized = TRUE)\n",
    "print(out)"
   ]
  },
  {
   "attachments": {},
   "cell_type": "markdown",
   "id": "d33c9175",
   "metadata": {},
   "source": [
    "Con opportuni parametri possiamo semplificare l'output nel modo seguente."
   ]
  },
  {
   "cell_type": "code",
   "execution_count": 19,
   "id": "69fdde8a",
   "metadata": {
    "vscode": {
     "languageId": "r"
    }
   },
   "outputs": [
    {
     "name": "stdout",
     "output_type": "stream",
     "text": [
      "  Latent.Factor Indicator     B    SE     Z p.value  Beta\n",
      "1             g  Classics 0.942 0.129 7.314       0 0.956\n",
      "2             g    French 0.857 0.137 6.239       0 0.871\n",
      "3             g   English 0.795 0.143 5.545       0 0.807\n",
      "4             g      Math 0.732 0.149 4.923       0 0.743\n",
      "5             g     Pitch 0.678 0.153 4.438       0 0.689\n",
      "6             g     Music 0.643 0.155 4.142       0 0.653\n"
     ]
    }
   ],
   "source": [
    "out = parameterEstimates(fit1, standardized = TRUE) %>%\n",
    "  dplyr::filter(op == \"=~\") %>%\n",
    "  dplyr::select(\n",
    "    \"Latent Factor\" = lhs,\n",
    "    Indicator = rhs,\n",
    "    B = est,\n",
    "    SE = se,\n",
    "    Z = z,\n",
    "    \"p-value\" = pvalue,\n",
    "    Beta = std.all\n",
    "  )\n",
    "print(out)"
   ]
  },
  {
   "attachments": {},
   "cell_type": "markdown",
   "id": "b33e5b1c",
   "metadata": {},
   "source": [
    "Esaminiamo la matrice delle correlazioni residue:"
   ]
  },
  {
   "cell_type": "code",
   "execution_count": 20,
   "id": "594935c4",
   "metadata": {
    "vscode": {
     "languageId": "r"
    }
   },
   "outputs": [
    {
     "name": "stdout",
     "output_type": "stream",
     "text": [
      "         Clsscs French Englsh   Math  Pitch  Music\n",
      "Classics  0.000                                   \n",
      "French   -0.003  0.000                            \n",
      "English   0.008 -0.033  0.000                     \n",
      "Math     -0.011  0.023  0.040  0.000              \n",
      "Pitch     0.001  0.050 -0.016 -0.062  0.000       \n",
      "Music     0.005  0.001 -0.017  0.024 -0.050  0.000\n"
     ]
    }
   ],
   "source": [
    "cor_table <- residuals(fit1, type = \"cor\")$cov\n",
    "print(cor_table)"
   ]
  },
  {
   "attachments": {},
   "cell_type": "markdown",
   "id": "7e75eefb",
   "metadata": {},
   "source": [
    "Creiamo un qq-plot dei residui:"
   ]
  },
  {
   "cell_type": "code",
   "execution_count": 21,
   "id": "6eec6fc6",
   "metadata": {
    "vscode": {
     "languageId": "r"
    }
   },
   "outputs": [
    {
     "data": {
      "image/png": "[encoded data removed]",
      "text/plain": [
       "plot without title"
      ]
     },
     "metadata": {
      "image/png": {
       "height": 360,
       "width": 360
      }
     },
     "output_type": "display_data"
    }
   ],
   "source": [
    "res1 <- residuals(fit1, type = \"cor\")$cov\n",
    "res1[upper.tri(res1, diag = TRUE)] <- NA\n",
    "v1 <- as.vector(res1)\n",
    "v2 <- v1[!is.na(v1)]\n",
    "\n",
    "tibble(v2) %>% \n",
    "  ggplot(aes(sample = v2)) + \n",
    "  stat_qq() + \n",
    "  stat_qq_line()"
   ]
  },
  {
   "attachments": {},
   "cell_type": "markdown",
   "id": "482c85cc",
   "metadata": {},
   "source": [
    "### Diagrammi di percorso\n",
    "\n",
    "Il pacchetto `semPlot` consente di disegnare diagrammi di percorso per vari modelli SEM. La funzione `semPaths` prende in input un oggetto creato da `lavaan` e disegna il diagramma, con diverse opzioni disponibili. Il diagramma prodotto controlla le dimensioni dei caratteri/etichette, la visualizzazione dei residui e il colore dei percorsi/coefficienti. Sono disponibili queste e molte altre opzioni di controllo. "
   ]
  },
  {
   "cell_type": "code",
   "execution_count": 22,
   "id": "fa860897",
   "metadata": {
    "vscode": {
     "languageId": "r"
    }
   },
   "outputs": [
    {
     "data": {
      "image/png": "[encoded data removed]",
      "text/plain": [
       "plot without title"
      ]
     },
     "metadata": {
      "image/png": {
       "height": 360,
       "width": 360
      }
     },
     "output_type": "display_data"
    }
   ],
   "source": [
    "semPaths(\n",
    "  fit1,\n",
    "  \"std\", \n",
    "  posCol = c(\"black\"),\n",
    "  edge.label.cex = 1.2, \n",
    "  sizeMan = 7\n",
    "  )"
   ]
  },
  {
   "attachments": {},
   "cell_type": "markdown",
   "id": "9ef0536f",
   "metadata": {},
   "source": [
    "Il calcolo delle saturazioni fattoriali con il metodo del centroide aveva prodotto il seguente risultato: \n",
    "\n",
    "- classici (Cls): 0.97\n",
    "- inglese (Eng): 0.84\n",
    "- matematica (Mth): 0.73\n",
    "- pitch discrimination (Ptc): 0.65\n",
    "\n",
    "Si noti la somiglianza con i valori ottenuti mediante il metodo di massima verosimiglianza riportati nella figura."
   ]
  },
  {
   "attachments": {},
   "cell_type": "markdown",
   "id": "115a590f",
   "metadata": {},
   "source": [
    "### Analisi fattoriale esplorativa\n",
    "\n",
    "Quando abbiamo un'unica variabile latente, l'analisi fattoriale confermativa si riduce al caso dell'analisi fattoriale esplorativa. Esaminiamo qui sotto la sintassi per l'analisi fattoriale esplorativa in `lavaan`. \n",
    "\n",
    "Specifichiamo il modello."
   ]
  },
  {
   "cell_type": "code",
   "execution_count": 23,
   "id": "c1509408",
   "metadata": {
    "vscode": {
     "languageId": "r"
    }
   },
   "outputs": [],
   "source": [
    "efa_model <- '\n",
    "    efa(\"efa\")*g =~ Classics + French + English + Math + Pitch + Music\n",
    "'"
   ]
  },
  {
   "attachments": {},
   "cell_type": "markdown",
   "id": "2769e70e",
   "metadata": {},
   "source": [
    "Adattiamo il modello ai dati."
   ]
  },
  {
   "cell_type": "code",
   "execution_count": 24,
   "id": "aebca6aa",
   "metadata": {
    "vscode": {
     "languageId": "r"
    }
   },
   "outputs": [],
   "source": [
    "fit2 <- lavaan::cfa(\n",
    "  efa_model,\n",
    "  sample.cov = spearman_cor_mat,\n",
    "  sample.nobs = n,\n",
    "  std.lv = TRUE\n",
    ")"
   ]
  },
  {
   "attachments": {},
   "cell_type": "markdown",
   "id": "d8a7dd9b",
   "metadata": {},
   "source": [
    "Esaminiamo la soluzione ottenuta."
   ]
  },
  {
   "cell_type": "code",
   "execution_count": 25,
   "id": "5456cd7a",
   "metadata": {
    "lines_to_next_cell": 2,
    "vscode": {
     "languageId": "r"
    }
   },
   "outputs": [
    {
     "name": "stdout",
     "output_type": "stream",
     "text": [
      "lavaan 0.6.15 ended normally after 3 iterations\n",
      "\n",
      "  Estimator                                         ML\n",
      "  Optimization method                           NLMINB\n",
      "  Number of model parameters                        12\n",
      "\n",
      "  Rotation method                       GEOMIN OBLIQUE\n",
      "  Geomin epsilon                                 0.001\n",
      "  Rotation algorithm (rstarts)                GPA (30)\n",
      "  Standardized metric                             TRUE\n",
      "  Row weights                                     None\n",
      "\n",
      "  Number of observations                            33\n",
      "\n",
      "Model Test User Model:\n",
      "                                                      \n",
      "  Test statistic                                 2.913\n",
      "  Degrees of freedom                                 9\n",
      "  P-value (Chi-square)                           0.968\n",
      "\n",
      "Parameter Estimates:\n",
      "\n",
      "  Standard errors                             Standard\n",
      "  Information                                 Expected\n",
      "  Information saturated (h1) model          Structured\n",
      "\n",
      "Latent Variables:\n",
      "                   Estimate  Std.Err  z-value  P(>|z|)   Std.lv  Std.all\n",
      "  g =~ efa                                                              \n",
      "    Classics          0.942    0.129    7.314    0.000    0.942    0.956\n",
      "    French            0.857    0.137    6.239    0.000    0.857    0.871\n",
      "    English           0.795    0.143    5.545    0.000    0.795    0.807\n",
      "    Math              0.732    0.149    4.923    0.000    0.732    0.743\n",
      "    Pitch             0.678    0.153    4.438    0.000    0.678    0.689\n",
      "    Music             0.643    0.155    4.142    0.000    0.643    0.653\n",
      "\n",
      "Variances:\n",
      "                   Estimate  Std.Err  z-value  P(>|z|)   Std.lv  Std.all\n",
      "   .Classics          0.083    0.051    1.629    0.103    0.083    0.086\n",
      "   .French            0.234    0.072    3.244    0.001    0.234    0.242\n",
      "   .English           0.338    0.094    3.610    0.000    0.338    0.349\n",
      "   .Math              0.434    0.115    3.773    0.000    0.434    0.447\n",
      "   .Pitch             0.510    0.132    3.855    0.000    0.510    0.526\n",
      "   .Music             0.556    0.143    3.893    0.000    0.556    0.573\n",
      "    g                 1.000                               1.000    1.000\n",
      "\n"
     ]
    }
   ],
   "source": [
    "out = summary(fit2, standardized = TRUE)\n",
    "print(out)"
   ]
  },
  {
   "attachments": {},
   "cell_type": "markdown",
   "id": "ab10f910",
   "metadata": {},
   "source": [
    "## Conclusioni\n",
    "\n",
    "Nel presente capitolo abbiamo introdotto il metodo dell'annullamento\n",
    "della tetrade che consente di stimare le saturazioni di un modello\n",
    "monofattoriale. Abbiamo anche visto che il metodo dell'annullamento\n",
    "della tetrade non è altro che un'applicazione della correlazione\n",
    "parziale.\n",
    "\n",
    "Possiamo dire che un tema cruciale nella costruzione dei test\n",
    "psicologici è quello di stabilire il numero di fattori/tratti che sono\n",
    "soggiacenti all'insieme degli indicatori che vengono considerati. La\n",
    "teoria classica dei test richiede che il test sia monofattoriale, ovvero\n",
    "che gli indicatori considerati siano l'espressione di un unico tratto\n",
    "latente. La violazione della monodimensionalità rende problematica\n",
    "l'applicazione dei principi della teoria classica dei test ai punteggi\n",
    "di un test che non possiede tale proprietà. L'esame della dimensionalità\n",
    "di un gruppo di indicatori rappresenta dunque una fase cruciale nel\n",
    "processo di costruzione di un test e, solitamente, questo esame è\n",
    "affrontato mediante l'analisi fattoriale. In questo capitolo abbiamo\n",
    "presentato le proprietà di base del modello unifattoriale.\n",
    "\n"
   ]
  }
 ],
 "metadata": {
  "jupytext": {
   "cell_metadata_filter": "tags,-all",
   "main_language": "R",
   "notebook_metadata_filter": "-all"
  },
  "kernelspec": {
   "display_name": "R",
   "language": "R",
   "name": "ir"
  },
  "language_info": {
   "codemirror_mode": "r",
   "file_extension": ".r",
   "mimetype": "text/x-r-source",
   "name": "R",
   "pygments_lexer": "r",
   "version": "4.3.0"
  }
 },
 "nbformat": 4,
 "nbformat_minor": 5
}