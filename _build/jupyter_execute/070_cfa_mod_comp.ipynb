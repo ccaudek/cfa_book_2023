{
 "cells": [
  {
   "attachments": {},
   "cell_type": "markdown",
   "id": "5e8c4874",
   "metadata": {},
   "source": [
    "(model-comparison-notebook)=\n",
    "# CFA: confronto tra modelli "
   ]
  },
  {
   "cell_type": "code",
   "execution_count": 1,
   "id": "f8e6c52d",
   "metadata": {
    "tags": [
     "remove_cell"
    ]
   },
   "outputs": [
    {
     "ename": "NameError",
     "evalue": "name 'source' is not defined",
     "output_type": "error",
     "traceback": [
      "\u001b[0;31m---------------------------------------------------------------------------\u001b[0m",
      "\u001b[0;31mNameError\u001b[0m                                 Traceback (most recent call last)",
      "Cell \u001b[0;32mIn[1], line 1\u001b[0m\n\u001b[0;32m----> 1\u001b[0m \u001b[43msource\u001b[49m(\u001b[38;5;124m\"\u001b[39m\u001b[38;5;124m_common.R\u001b[39m\u001b[38;5;124m\"\u001b[39m)\n\u001b[1;32m      2\u001b[0m library(\u001b[38;5;124m\"\u001b[39m\u001b[38;5;124mpsych\u001b[39m\u001b[38;5;124m\"\u001b[39m)\n",
      "\u001b[0;31mNameError\u001b[0m: name 'source' is not defined"
     ]
    }
   ],
   "source": [
    "source(\"_common.R\")\n",
    "library(\"psych\")"
   ]
  },
  {
   "attachments": {},
   "cell_type": "markdown",
   "id": "4586001c",
   "metadata": {},
   "source": [
    "In un modello CFA, i parametri  possono essere stimati senza vincoli, possono essere fissi o possono essre stimati sulla base di alcuni vincoli. Un parametro libero è sconosciuto e il ricercatore consente all'algoritmo di stima di trovare il suo valore ottimale che, insime agli altri parametri del modello, riduce al minimo le differenze tra le matrici di varianze-covarianze osservate e quelle predette dal modello. Un parametro fisso è pre-specificato dal ricercatore ad un valore specifico, più comunemente 1.0 (ad esempio, per definire la metrica di una variabile latente) o 0 (ad esempio, l'assenza di saturazionoi fattoriali o di covarianze di errore). Come per un parametro libero, anche un parametro vincolato è sconosciuto; tuttavia, un tale parametro non può assumere un valore qualsiasi, ma deve rispettare le restrizioni su suoi valori che il ricercatore ha imposto. I vincoli più comuni sono i vincoli di uguaglianza, in cui i parametri non standardizzati devono assumere valori uguali (ad esempio, in diversi gruppi).\n",
    "\n",
    "Consideriamo un esempio discusso da {cite:t}`brown2015confirmatory`. Viene qui considerato un set di dati in cui le prime tre misure osservate (X1, X2, X3) sono indicatori di un costrutto latente corrispondente alla Memoria uditiva e il secondo insieme di misure (X4, X5, X6) sono indicatori di un altro costrutto latente, Memoria visiva. Le tre misure usate quali indicatori del costrutto di memoria uditiva sono: X1 = memoria logica, X2 = associazione verbale a coppie, X3 = liste di parole; le tre misure usate come indicatori del costrutto di memoria visiva sono: X4 = immagini di facce, X5 = foto di famiglia, X6 = generiche riproduzioni visive. I dati sono i seguenti:"
   ]
  },
  {
   "cell_type": "code",
   "execution_count": null,
   "id": "8eb37d22",
   "metadata": {},
   "outputs": [],
   "source": [
    "sds <- '2.610  2.660  2.590  1.940  2.030  2.050'\n",
    "\n",
    "cors <-'\n",
    "  1.000\n",
    "  0.661  1.000\n",
    "  0.630  0.643  1.000\n",
    "  0.270  0.300  0.268  1.000\n",
    "  0.297  0.265  0.225  0.805  1.000\n",
    "  0.290  0.287  0.248  0.796  0.779  1.000'\n",
    "\n",
    "covs <- getCov(cors, sds = sds, names = paste(\"x\", 1:6, sep = \"\"))"
   ]
  },
  {
   "attachments": {},
   "cell_type": "markdown",
   "id": "c3f41906",
   "metadata": {},
   "source": [
    "Adattiamo i cinque modelli discussi da @brown2015confirmatory.\n",
    "\n",
    "## Modello congenerico "
   ]
  },
  {
   "cell_type": "code",
   "execution_count": null,
   "id": "ae82fb53",
   "metadata": {},
   "outputs": [],
   "source": [
    "model.congeneric <- '\n",
    "  auditorymemory =~ x1 + x2 + x3\n",
    "  visualmemory   =~ x4 + x5 + x6\n",
    "'"
   ]
  },
  {
   "cell_type": "code",
   "execution_count": null,
   "id": "eca8c2bb",
   "metadata": {},
   "outputs": [],
   "source": [
    "fit.congeneric <- cfa(\n",
    "  model.congeneric, \n",
    "  sample.cov = covs, \n",
    "  sample.nobs = 200, \n",
    "  std.lv = TRUE\n",
    ")"
   ]
  },
  {
   "attachments": {},
   "cell_type": "markdown",
   "id": "7c53545e",
   "metadata": {},
   "source": [
    "L'output (qui non fornito) si ottiene con:"
   ]
  },
  {
   "cell_type": "code",
   "execution_count": null,
   "id": "709fb182",
   "metadata": {
    "eval": false
   },
   "outputs": [],
   "source": [
    "summary(\n",
    "  fit.congeneric, \n",
    "  fit.measures = TRUE, \n",
    "  standardized = TRUE, \n",
    "  rsquare = TRUE\n",
    ")"
   ]
  },
  {
   "attachments": {},
   "cell_type": "markdown",
   "id": "43a70ad2",
   "metadata": {},
   "source": [
    "## Modello tau-equivalente\n",
    "\n",
    "Solo memoria auditiva:"
   ]
  },
  {
   "cell_type": "code",
   "execution_count": null,
   "id": "506a1c10",
   "metadata": {},
   "outputs": [],
   "source": [
    "model.tau.a <- '\n",
    "  auditorymemory =~ x1 + v1*x1 + v1*x2 + v1*x3\n",
    "  visualmemory   =~ x4 + x5 + x6\n",
    "'"
   ]
  },
  {
   "cell_type": "code",
   "execution_count": null,
   "id": "6998fb6a",
   "metadata": {},
   "outputs": [],
   "source": [
    "fit.tau.a <- cfa(\n",
    "  model.tau.a, \n",
    "  sample.cov = covs, \n",
    "  sample.nobs = 200, \n",
    "  std.lv = TRUE\n",
    ")"
   ]
  },
  {
   "attachments": {},
   "cell_type": "markdown",
   "id": "19ee330c",
   "metadata": {},
   "source": [
    "Memoria auditiva e visiva:"
   ]
  },
  {
   "cell_type": "code",
   "execution_count": null,
   "id": "67a65d7c",
   "metadata": {},
   "outputs": [],
   "source": [
    "model.tau.av <- '\n",
    "  auditorymemory =~ x1 + v1*x1 + v1*x2 + v1*x3\n",
    "  visualmemory   =~ x4 + v2*x4 + v2*x5 + v2*x6\n",
    "'"
   ]
  },
  {
   "cell_type": "code",
   "execution_count": null,
   "id": "56094815",
   "metadata": {},
   "outputs": [],
   "source": [
    "fit.tau.av <- cfa(\n",
    "  model.tau.av, \n",
    "  sample.cov = covs, \n",
    "  sample.nobs = 200, \n",
    "  std.lv = TRUE\n",
    ")"
   ]
  },
  {
   "attachments": {},
   "cell_type": "markdown",
   "id": "87a063a2",
   "metadata": {},
   "source": [
    "## Modello parallelo\n",
    "\n",
    "Solo memoria auditiva:"
   ]
  },
  {
   "cell_type": "code",
   "execution_count": null,
   "id": "8bf090b7",
   "metadata": {},
   "outputs": [],
   "source": [
    "model.parallel.a <- '\n",
    "  auditorymemory =~ x1 + v1*x1 + v1*x2 + v1*x3\n",
    "  visualmemory   =~ x4 + v2*x4 + v2*x5 + v2*x6\n",
    "  x1 ~~ v3 * x1\n",
    "  x2 ~~ v3 * x2\n",
    "  x3 ~~ v3 * x3\n",
    "'"
   ]
  },
  {
   "cell_type": "code",
   "execution_count": null,
   "id": "4f738e5b",
   "metadata": {
    "lines_to_next_cell": 2
   },
   "outputs": [],
   "source": [
    "fit.parallel.a <- cfa(\n",
    "  model.parallel.a, \n",
    "  sample.cov = covs, \n",
    "  sample.nobs = 200, \n",
    "  std.lv = TRUE\n",
    ")"
   ]
  },
  {
   "attachments": {},
   "cell_type": "markdown",
   "id": "60865139",
   "metadata": {},
   "source": [
    "Memoria auditiva e visiva:"
   ]
  },
  {
   "cell_type": "code",
   "execution_count": null,
   "id": "e8502ca3",
   "metadata": {},
   "outputs": [],
   "source": [
    "model.parallel.av <- '\n",
    "  auditorymemory =~ x1 + v1*x1 + v1*x2 + v1*x3\n",
    "  visualmemory   =~ x4 + v2*x4 + v2*x5 + v2*x6\n",
    "  x1 ~~ v3 * x1\n",
    "  x2 ~~ v3 * x2\n",
    "  x3 ~~ v3 * x3\n",
    " \n",
    "  x4 ~~ v4 * x4\n",
    "  x5 ~~ v4 * x5\n",
    "  x6 ~~ v4 * x6\n",
    "'"
   ]
  },
  {
   "cell_type": "code",
   "execution_count": null,
   "id": "2043284b",
   "metadata": {},
   "outputs": [],
   "source": [
    "fit.parallel.av <- cfa(\n",
    "  model.parallel.av, \n",
    "  sample.cov = covs, \n",
    "  sample.nobs = 200, \n",
    "  std.lv = TRUE\n",
    ")"
   ]
  },
  {
   "attachments": {},
   "cell_type": "markdown",
   "id": "4f606291",
   "metadata": {},
   "source": [
    "## Il test del $\\chi^2$\n",
    "\n",
    "Il confronto tra modelli nidificati procede attraverso il test $\\chi^2$. Tale test si basa su una proprietà delle variabili casuali distribuite come $\\chi^2$: la differenza tra due v.c. $X_1$ e $X_2$ che seguono la distribuzione $\\chi^2$, rispettivamente con $\\nu_1$ e $\\nu_2$, con $\\nu_1 > \\nu_2$, è una variabile causale che segue la distribuzione $\\chi^2$ con gradi di libertà pari a $\\nu_1 - \\nu_2$.\n",
    "\n",
    "Un modello nidificato è un modello che impone dei vincoli sui parametri del modello di partenza. L'imposizione di vincoli sui parametri ha la conseguenza che vi sarà un numero minore di parametri da stimare. Il confronto tra i modelli si esegue valutando in maniera relativa la bontà di adattamento di ciascun modello per mezzo della statistica chi-quadrato. La statistica così calcolata avrà un numero di gradi di libertà uguale alla differenza tra i gradi di libertà dei due modelli. \n",
    "\n",
    "Nel caso dell'esempio in dicussione, abbiamo"
   ]
  },
  {
   "cell_type": "code",
   "execution_count": null,
   "id": "bcd0a9e1",
   "metadata": {},
   "outputs": [],
   "source": [
    "anova(\n",
    "  fit.congeneric, \n",
    "  fit.tau.a, \n",
    "  fit.tau.av, \n",
    "  fit.parallel.a, \n",
    "  fit.parallel.av, \n",
    "  test = \"chisq\"\n",
    ")"
   ]
  },
  {
   "attachments": {},
   "cell_type": "markdown",
   "id": "cdd2646b",
   "metadata": {},
   "source": [
    "I test precedenti indicano come non vi sia una perdita di adattamento passando dal modello congenerico al modello più restrittivo (ovvero, il modello parallelo per entrambi i fattori). Per questi dati, dunque, può essere adottato il modello più semplice, cioè il modello parallelo.\n",
    "\n"
   ]
  }
 ],
 "metadata": {
  "jupytext": {
   "cell_metadata_filter": "tags,eval,-all",
   "main_language": "R",
   "notebook_metadata_filter": "-all"
  },
  "language_info": {
   "codemirror_mode": {
    "name": "ipython",
    "version": 3
   },
   "file_extension": ".py",
   "mimetype": "text/x-python",
   "name": "python",
   "nbconvert_exporter": "python",
   "pygments_lexer": "ipython3",
   "version": "3.11.0"
  }
 },
 "nbformat": 4,
 "nbformat_minor": 5
}