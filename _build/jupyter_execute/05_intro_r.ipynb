{
 "cells": [
  {
   "attachments": {},
   "cell_type": "markdown",
   "metadata": {},
   "source": [
    "# Linguaggio di programmazione R\n",
    "\n",
    "$\\mathsf{R}$ è un linguaggio di programmazione orientato all'analisi dei dati, il\n",
    "calcolo e la visualizzazione grafica. $\\mathsf{R}$ è un sistema di analisi dei dati open source ed estensibile. Ciò significa che il codice sorgente del software è disponibile per chiunque lo esamini e lo riutilizzi, entro i limiti della GPL 2.0 (GNU General Public License, 1991). $\\mathsf{R}$ può essere scaricato gratuitamente dal Comprehensive R Archive Network (CRAN) all’indirizzo https://cran.r-project.org ed è disponibile per PC, MacOS e sistemi operativi Linux/Unix. Gran parte del core-R è scritto in Fortran o C++, ma la maggior parte dei pacchetti per $\\mathsf{R}$ sono scritti in $\\mathsf{R}$ stesso. Infatti $\\mathsf{R}$ è più di un sistema statistico, è un linguaggio di programmazione. Ciò significa che $\\mathsf{R}$ è estensibile in quanto chiunque può aggiungere pacchetti al CRAN così come ad altri repository come GitHub o BioConductor. CRAN ha determinati test di garanzia della qualità che garantiscono che i programmi contribuiti abbiano una documentazione coerente e non falliscano durante l’esecuzione degli esempi forniti. Al momento della stesura di questo testo, diverse migliaia di contributori hanno aggiunto più di 11.000 pacchetti a core-R e questo numero aumenta quotidianamente.\n",
    "\n",
    "Per programmare in $\\mathsf{R}$, è importante seguire le regole sintattiche del linguaggio. Queste regole sono rigide e non ammettono eccezioni. Se una riga di codice non è scritta correttamente, l'interprete di $\\mathsf{R}$ segnalerà un errore. Questo può essere difficile per chi non ha familiarità con la programmazione, poiché richiede precisione nella scrittura del codice.\n",
    "\n",
    "Tuttavia, ci sono due vantaggi nell'atto di scrivere codice. Il primo riguarda l'importanza dell'analisi del problema che si vuole risolvere: prima di poterlo formalizzare attraverso il linguaggio di programmazione, è necessario comprenderlo e analizzarlo in modo preciso. Questo aiuta a sviluppare una comprensione più profonda del problema e a identificare soluzioni efficaci.\n",
    "\n",
    "Il secondo vantaggio riguarda la responsabilità personale del programmatore. Salvo rarissimi errori nel linguaggio, se un programma non funziona correttamente, l'unico responsabile è il programmatore che lo ha scritto. Questo aiuta i programmatori a sviluppare una maggiore autoconsapevolezza e responsabilità nei confronti del proprio lavoro.\n",
    "\n",
    "Inoltre, su Internet è disponibile una vasta gamma di materiali utili per avvicinarsi all'ambiente $\\mathsf{R}$ e aiutare l'utente nell'apprendimento di questo software statistico. Tra le tante introduzioni al linguaggio $\\mathsf{R}$, si veda ad esempio, [Introduction to R](https://cran.r-project.org/doc/manuals/r-release/R-intro.pdf) di Venables, Smith, and the R development core team (2023)."
   ]
  }
 ],
 "metadata": {
  "language_info": {
   "codemirror_mode": {
    "name": "ipython",
    "version": 3
   },
   "file_extension": ".py",
   "mimetype": "text/x-python",
   "name": "python",
   "nbconvert_exporter": "python",
   "pygments_lexer": "ipython3",
   "version": "3.11.0"
  }
 },
 "nbformat": 4,
 "nbformat_minor": 2
}