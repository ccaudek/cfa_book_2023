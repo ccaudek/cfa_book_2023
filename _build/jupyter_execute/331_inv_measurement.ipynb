{
 "cells": [
  {
   "attachments": {},
   "cell_type": "markdown",
   "id": "b4ac21a8",
   "metadata": {},
   "source": [
    "(inv-meas-lgm-notebook)=\n",
    "# Invarianza di misurazione\n",
    "\n",
    "In questo capitolo, esaminiamo come il modello a fattore comune possa essere utilizzato nell’analisi dei dati longitudinali per studiare i cambiamenti nei fattori comuni attraverso l’uso di modelli di crescita latente. Ci concentriamo sui fattori comuni misurati da variabili osservate con punteggio continuo. La modellizzazione del cambiamento nei fattori comuni è un’estensione logica delle nostre precedenti discussioni nel framework di modellizzazione delle equazioni strutturali, dove i dati sono organizzati in forma multivariata (wide).\n",
    "\n",
    "Un concetto chiave quando si studia il cambiamento nelle variabili latenti è stabilire una metrica comune per le variabili latenti nel tempo. A differenza delle variabili osservate analizzate nei capitoli precedenti, le variabili latenti non hanno una scala intrinseca e longitudinalmente è necessario che quella scala sia la stessa nel tempo. Questo viene tipicamente fatto testando l’invarianza fattoriale. L’invarianza fattoriale corrisponde al concetto per cui la variabile latente stia misurando lo stesso costrutto nel tempo, in modo che una differenza di un’unità nel punteggio del fattore in un momento significhi la stessa cosa in tutti i momenti.\n",
    "\n",
    "In questo tutorial, introduciamo il test di invarianza di misura nel contesto di un modello a fattore longitudinale e come un modello di crescita latente di secondo ordine possa essere utilizzato per descrivere il cambiamento in un fattore latente.\n",
    "\n",
    "Questo tutorial segue l’esempio fornito nel Capitolo 14 {cite:t}`grimm2016growth`. Utilizzando dati con tre misurazioni temporali succesive dall’ECLS-K, testiamo l’invarianza fattoriale e quindi utilizziamo un modello di crescita di secondo ordine per descrivere il cambiamento nei punteggi del fattore nel tempo.\n",
    "\n",
    "## Invarianza fattoriale longitudinale\n",
    "\n",
    "L’invarianza fattoriale longitudinale si riferisce all’equivalenza di alcuni parametri del modello a fattore comune nel tempo. Avere una struttura fattoriale invariante è un aspetto importante dell’utilizzo dell’analisi fattoriale come strumento di indagine scientifica. I fattori non hanno un'unità di misura o un significato intrinseco; la loro interpretazione deriva dalle loro relazioni con l’insieme delle variabili osservate. Se un fattore deve essere trattato come lo stesso in diverse occasioni temporali di misurazione, l’associazione di quel fattore con altre variabili deve rimanere costante nel tempo. Poiché tutti i parametri coinvolti nell’analisi dei fattori hanno il loro proprio significato intrinseco, quali parametri vengono mantenuti costanti nel tempo influisce su come interpretiamo il cambiamento nei fattori comuni.\n",
    "\n",
    "Il test di invarianza fattoriale è una procedura multi-step che spesso comporta l’adattamento di quattro modelli con un numero crescente di vincoli. I quattro modelli sono: (1) il modello di invarianza configurale, (2) il modello di invarianza debole, (3) il modello di invarianza forte e (4) il modello di invarianza rigorosa. Ognuno di questi modelli e le loro interpretazioni vengono discussi di seguito.\n",
    "\n",
    "Il modello di invarianza configurale richiede che il numero di fattori e la struttura delle saturazioni fattoriali siano uguali nelle diverse occasioni di misurazione. Altre caratteristiche come le varianze dei fattori e le medie dei fattori possono variare. I fattori estratti in ogni occasione possono essere interpretati in modo simile, ma non possono essere considerati come misure di costrutti identici o sulla stessa scala. Le differenze longitudinali nelle medie osservate, nelle varianze e nelle covarianze potrebbero essere dovute a cambiamenti nelle variabili osservate indipendenti dai fattori.\n",
    "\n",
    "I modelli di invarianza configurale sono usati come punto di partenza per confrontare altri modelli con vincoli maggiori. Questi modelli presuppongono che lo stesso numero di fattori sia presente in ogni occasione di misurazione, ma questa ipotesi potrebbe non essere vera. I fattori possono cambiare nel tempo e non essere rilevabili in certe occasioni. I ricercatori dovrebbero verificare che le ipotesi dell’invarianza configurale siano soddisfatte prima di procedere con i successivi test di invarianza.\n",
    "\n",
    "L’invarianza fattoriale debole è il modello meno vincolato tra i tre modelli di invarianza metrica descritti da Meredith (1993). Questo modello richiede che la matrice delle saturazioni fattoriali sia uguale in tutte le rilevazioni temporali, ma non impone altre restrizioni. Poiché la matrice delle saturazioni fattoriali definisce le covarianze tra le variabili osservate, l’invarianza fattoriale debole crea strutture di covarianza proporzionali nel tempo. La grandezza delle covarianze può aumentare o diminuire con la varianza dei fattori comuni, ma questo aumento o diminuzione influisce su tutte le covarianze delle variabili osservate in egual misura. Le intercette delle variabili osservate rimangono libere di variare nelle diverse occasioni temporali, quindi i cambiamenti longitudinali nelle medie delle variabili osservate non sono spiegati dal fattore(i) comune(i). Mentre il fattore(i) comune(i) è sufficientemente invariante per testare le regressioni o le covarianze tra i fattori e ulteriori variabili, i test del cambiamento longitudinale nei fattori richiedono una forma più forte di invarianza.\n",
    "\n",
    "L’invarianza forte fornisce un livello più elevato di invarianza di misura vincolando le intercette delle variabili osservate ad essere uguali nelle diverse occasioni di misurazione e consentendo al contempo al vettore delle medie delle variabili latenti di variare nel tempo. Ciò significa che tutti i cambiamenti longitudinali nelle medie e covarianze delle variabili osservate dipendono dalle medie, varianze e covarianze tra i fattori comuni. In altre parole, i cambiamenti nelle variabili osservate sono causati da cambiamenti nei fattori comuni, il che consente l’analisi del cambiamento nel fattore comune. Poiché tutti i cambiamenti a livello medio nelle variabili osservate sono attribuibili ai fattori, l’invarianza forte è sufficiente per assumere che la scala della variabile latente non differisca nelle diverse occasioni di misurazione.\n",
    "\n",
    "L’invarianza fattoriale rigorosa è il modello di fattore longitudinale con i vincoli più forti. Oltre ai vincoli sulle saturazioni fattoriali e sulle intercette delle variabili osservate, questo modello richiede che le varianze uniche siano uguali nelle diverse occasioni di misurazione. In questo modello, tutti i cambiamenti longitudinali nelle medie osservate, nelle varianze e nelle covarianze sono attribuiti ai cambiamenti nei fattori comuni nel tempo.\n",
    "\n",
    "## Un esempio concreto\n",
    "\n",
    "Questo tutorial segue l’esempio del Capitolo 14 di {cite:t}`grimm2016growth`. Utilizzando dati relativi a 3 misurazioni dell’ECLS-K, testiamo l’invarianza fattoriale e poi usiamo un modello di crescita latente di secondo ordine per descrivere il cambiamento nei punteggi fattoriali nel tempo.\n",
    "\n",
    "Carichiamo i pacchetti necessari."
   ]
  },
  {
   "cell_type": "code",
   "execution_count": 1,
   "id": "b5abfda6",
   "metadata": {
    "tags": [
     "remove_cell"
    ],
    "vscode": {
     "languageId": "r"
    }
   },
   "outputs": [
    {
     "ename": "ERROR",
     "evalue": "Error in library(\"patchwork\"): there is no package called ‘patchwork’\n",
     "output_type": "error",
     "traceback": [
      "Error in library(\"patchwork\"): there is no package called ‘patchwork’\nTraceback:\n",
      "1. source(\"_common.R\")",
      "2. withVisible(eval(ei, envir))",
      "3. eval(ei, envir)",
      "4. eval(ei, envir)",
      "5. suppressPackageStartupMessages({\n .     library(\"here\")\n .     library(\"tidyverse\")\n .     library(\"scales\")\n .     library(\"patchwork\")\n .     library(\"bayesplot\")\n .     library(\"ggExtra\")\n .     library(\"ggpubr\")\n .     library(\"viridis\")\n .     library(\"ggokabeito\")\n . })",
      "6. withCallingHandlers(expr, packageStartupMessage = function(c) tryInvokeRestart(\"muffleMessage\"))",
      "7. library(\"patchwork\")"
     ]
    }
   ],
   "source": [
    "source(\"_common.R\")\n",
    "suppressPackageStartupMessages({\n",
    "    library(\"lavaan\")\n",
    "    library(\"semPlot\")\n",
    "    library(\"knitr\")\n",
    "    library(\"markdown\")\n",
    "    library(\"patchwork\")\n",
    "    library(\"psych\")\n",
    "    library(\"DT\")\n",
    "    library(\"kableExtra\")\n",
    "    library(\"lme4\")\n",
    "    library(\"corrplot\")\n",
    "})\n",
    "\n",
    "set.seed(42)"
   ]
  },
  {
   "attachments": {},
   "cell_type": "markdown",
   "id": "312e9258",
   "metadata": {},
   "source": [
    "Leggiamo i dati."
   ]
  },
  {
   "cell_type": "code",
   "execution_count": null,
   "id": "c0f88b6a",
   "metadata": {
    "vscode": {
     "languageId": "r"
    }
   },
   "outputs": [],
   "source": [
    "filepath <- \"https://raw.githubusercontent.com/LRI-2/Data/main/GrowthModeling/ECLS_Science.dat\"\n",
    "# read in the text data file using the url() function\n",
    "dat <- read.table(file = url(filepath), na.strings = \".\")\n",
    "\n",
    "names(dat) <- c(\n",
    "  \"id\", \"s_g3\", \"r_g3\", \"m_g3\", \"s_g5\", \"r_g5\", \"m_g5\", \"s_g8\",\n",
    "  \"r_g8\", \"m_g8\", \"st_g3\", \"rt_g3\", \"mt_g3\", \"st_g5\", \"rt_g5\",\n",
    "  \"mt_g5\", \"st_g8\", \"rt_g8\", \"mt_g8\"\n",
    ")\n",
    "\n",
    "# selecting only the variables of interest\n",
    "dat <- dat[, c(\n",
    "  \"id\", \"s_g3\", \"r_g3\", \"m_g3\", \"s_g5\", \"r_g5\", \"m_g5\", \"s_g8\",\n",
    "  \"r_g8\", \"m_g8\"\n",
    ")]\n",
    "head(dat, 10)"
   ]
  },
  {
   "attachments": {},
   "cell_type": "markdown",
   "id": "cf7c0239",
   "metadata": {},
   "source": [
    "Otteniamo le statistiche descrittive."
   ]
  },
  {
   "cell_type": "code",
   "execution_count": null,
   "id": "47b56e65",
   "metadata": {
    "vscode": {
     "languageId": "r"
    }
   },
   "outputs": [],
   "source": [
    "psych::describe(dat[, -1]) #-1 to remove the id column"
   ]
  },
  {
   "attachments": {},
   "cell_type": "markdown",
   "id": "6c9e5832",
   "metadata": {},
   "source": [
    "Calcoliamo le correlazioni."
   ]
  },
  {
   "cell_type": "code",
   "execution_count": null,
   "id": "8ed0386e",
   "metadata": {
    "vscode": {
     "languageId": "r"
    }
   },
   "outputs": [],
   "source": [
    "round(cor(dat[, -1], use = \"pairwise.complete\"), 2)"
   ]
  },
  {
   "cell_type": "code",
   "execution_count": null,
   "id": "999567b3",
   "metadata": {
    "lines_to_next_cell": 2,
    "vscode": {
     "languageId": "r"
    }
   },
   "outputs": [],
   "source": [
    "corrplot(cor(dat[, -1], use = \"pairwise.complete\"), order = \"original\", tl.col = \"black\", tl.cex = .75)"
   ]
  },
  {
   "attachments": {},
   "cell_type": "markdown",
   "id": "420a4890",
   "metadata": {},
   "source": [
    "### Modello di invarianza configurale\n",
    "\n",
    "Il modello di invarianza configurale impone pochi vincoli sulla struttura del fattore nel tempo. L’unico vincolo è che il numero di fattori e la struttura delle saturazioni fattoriali siano uguali nelle diverse occasioni di misurazione. Definiamo un fattore “rendimento accademico” per ciascuna delle 3 occasioni, utilizzando le variabili di matematica, scienze e lettura relative a quella misurazione temporale.\n",
    "\n",
    "Anche se il fattore comune può essere interpretato in modo simile in ciascuna occasione di misurazione (ad esempio, chiamato “rendimento accademico”), questo modello non impone o assume che i fattori specifici per il tempo misurino lo stesso costrutto o che siano misurati sulla stessa scala.\n",
    "\n",
    "Definiamo il modello nella sintassi di lavaan."
   ]
  },
  {
   "cell_type": "code",
   "execution_count": null,
   "id": "c7deb3fd",
   "metadata": {
    "vscode": {
     "languageId": "r"
    }
   },
   "outputs": [],
   "source": [
    "configural_invar <- \" #opening quote\n",
    "#factor loadings\n",
    "  eta1 =~ lambda_S*s_g3+ #for identification\n",
    "          lambda_R3*r_g3+\n",
    "          lambda_M3*m_g3\n",
    "  eta2 =~ lambda_S*s_g5+ #for identification\n",
    "          lambda_R5*r_g5+\n",
    "          lambda_M5*m_g5\n",
    "  eta3 =~ lambda_S*s_g8+ #for identification\n",
    "          lambda_R8*r_g8+\n",
    "          lambda_M8*m_g8\n",
    "\n",
    "#latent variable variances\n",
    "   eta1~~1*eta1 #for scaling\n",
    "   eta2~~eta2\n",
    "   eta3~~eta3\n",
    "\n",
    "#latent variable covariances\n",
    "   eta1~~eta2\n",
    "   eta1~~eta3\n",
    "   eta2~~eta3\n",
    "\n",
    "#unique variances\n",
    "   s_g3~~s_g3\n",
    "   s_g5~~s_g5\n",
    "   s_g8~~s_g8\n",
    "   r_g3~~r_g3\n",
    "   r_g5~~r_g5\n",
    "   r_g8~~r_g8\n",
    "   m_g3~~m_g3\n",
    "   m_g5~~m_g5\n",
    "   m_g8~~m_g8\n",
    "#unique covariances\n",
    "   s_g3~~s_g5\n",
    "   s_g3~~s_g8\n",
    "   s_g5~~s_g8\n",
    "   r_g3~~r_g5\n",
    "   r_g3~~r_g8\n",
    "   r_g5~~r_g8\n",
    "   m_g3~~m_g5\n",
    "   m_g3~~m_g8\n",
    "   m_g5~~m_g8\n",
    "\n",
    "#latent variable intercepts\n",
    "   eta1~0*1 #for scaling\n",
    "   eta2~1\n",
    "   eta3~1\n",
    "\n",
    "#observed variable intercepts\n",
    "   s_g3~tau_S*1\n",
    "   s_g5~tau_S*1\n",
    "   s_g8~tau_S*1\n",
    "   r_g3~tau_R3*1\n",
    "   r_g5~tau_R5*1\n",
    "   r_g8~tau_R8*1\n",
    "   m_g3~tau_M3*1\n",
    "   m_g5~tau_M5*1\n",
    "   m_g8~tau_M8*1\n",
    "\" # closing quote"
   ]
  },
  {
   "attachments": {},
   "cell_type": "markdown",
   "id": "05062c73",
   "metadata": {},
   "source": [
    "Adattiamo il modello ai dati."
   ]
  },
  {
   "cell_type": "code",
   "execution_count": null,
   "id": "1ed534df",
   "metadata": {
    "vscode": {
     "languageId": "r"
    }
   },
   "outputs": [],
   "source": [
    "fit_configural <- lavaan(configural_invar, data = dat, mimic = \"mplus\")"
   ]
  },
  {
   "attachments": {},
   "cell_type": "markdown",
   "id": "b29e4707",
   "metadata": {},
   "source": [
    "Esaminiamo la soluzione."
   ]
  },
  {
   "cell_type": "code",
   "execution_count": null,
   "id": "69d03bb6",
   "metadata": {
    "vscode": {
     "languageId": "r"
    }
   },
   "outputs": [],
   "source": [
    "out = summary(fit_configural, fit.measures = TRUE)\n",
    "print(out)"
   ]
  },
  {
   "attachments": {},
   "cell_type": "markdown",
   "id": "c0b9e11c",
   "metadata": {},
   "source": [
    "Generiamo il diagramma di percorso."
   ]
  },
  {
   "cell_type": "code",
   "execution_count": null,
   "id": "a3f242d1",
   "metadata": {
    "vscode": {
     "languageId": "r"
    }
   },
   "outputs": [],
   "source": [
    "semPaths(fit_configural,\n",
    "  what = \"est\",\n",
    "  sizeLat = 7, sizeMan = 7, edge.label.cex = .75\n",
    ")"
   ]
  },
  {
   "attachments": {},
   "cell_type": "markdown",
   "id": "223d0d80",
   "metadata": {},
   "source": [
    "### Modello di invarianza debole\n",
    "\n",
    "Il modello di invarianza debole impone che la matrice di saturazioni fattoriali sia identica in tutte le occasioni di misurazione. Questo implica che le strutture di covarianza nel tempo siano proporzionali. Tuttavia, il modello permette che le intercette delle variabili osservate possano variare nel tempo e quindi non consente di esaminare il cambiamento longitudinale del fattore.\n",
    "\n",
    "Definiamo il modello usando la sintassi di lavaan."
   ]
  },
  {
   "cell_type": "code",
   "execution_count": null,
   "id": "46706869",
   "metadata": {
    "vscode": {
     "languageId": "r"
    }
   },
   "outputs": [],
   "source": [
    "weak_invar <- \" #opening quote\n",
    "#factor loadings\n",
    "  eta1 =~ lambda_S*s_g3+ #removed time-specific subscripts\n",
    "          lambda_R*r_g3+\n",
    "          lambda_M*m_g3\n",
    "  eta2 =~ lambda_S*s_g5+\n",
    "          lambda_R*r_g5+\n",
    "          lambda_M*m_g5\n",
    "  eta3 =~ lambda_S*s_g8+\n",
    "          lambda_R*r_g8+\n",
    "          lambda_M*m_g8\n",
    "\n",
    "#latent variable variances\n",
    "   eta1~~1*eta1\n",
    "   eta2~~eta2\n",
    "   eta3~~eta3\n",
    "\n",
    "#latent variable covariances\n",
    "   eta1~~eta2\n",
    "   eta1~~eta3\n",
    "   eta2~~eta3\n",
    "\n",
    "#unique variances\n",
    "   s_g3~~s_g3\n",
    "   s_g5~~s_g5\n",
    "   s_g8~~s_g8\n",
    "   r_g3~~r_g3\n",
    "   r_g5~~r_g5\n",
    "   r_g8~~r_g8\n",
    "   m_g3~~m_g3\n",
    "   m_g5~~m_g5\n",
    "   m_g8~~m_g8\n",
    "#unique covariances\n",
    "   s_g3~~s_g5\n",
    "   s_g3~~s_g8\n",
    "   s_g5~~s_g8\n",
    "   r_g3~~r_g5\n",
    "   r_g3~~r_g8\n",
    "   r_g5~~r_g8\n",
    "   m_g3~~m_g5\n",
    "   m_g3~~m_g8\n",
    "   m_g5~~m_g8\n",
    "\n",
    "#latent variable intercepts\n",
    "   eta1~0*1\n",
    "   eta2~1\n",
    "   eta3~1\n",
    "\n",
    "#observed variable intercepts\n",
    "   s_g3~tau_S*1\n",
    "   s_g5~tau_S*1\n",
    "   s_g8~tau_S*1\n",
    "   r_g3~tau_R3*1\n",
    "   r_g5~tau_R5*1\n",
    "   r_g8~tau_R8*1\n",
    "   m_g3~tau_M3*1\n",
    "   m_g5~tau_M5*1\n",
    "   m_g8~tau_M8*1\n",
    "\" # closing quote"
   ]
  },
  {
   "attachments": {},
   "cell_type": "markdown",
   "id": "64e6e1fd",
   "metadata": {},
   "source": [
    "Adattiamo il modello ai dati."
   ]
  },
  {
   "cell_type": "code",
   "execution_count": null,
   "id": "b9a495f3",
   "metadata": {
    "vscode": {
     "languageId": "r"
    }
   },
   "outputs": [],
   "source": [
    "fit_weak <- lavaan(weak_invar, data = dat, mimic = \"mplus\")"
   ]
  },
  {
   "attachments": {},
   "cell_type": "markdown",
   "id": "9f47846b",
   "metadata": {},
   "source": [
    "Esaminiamo la soluzione."
   ]
  },
  {
   "cell_type": "code",
   "execution_count": null,
   "id": "b832c580",
   "metadata": {
    "vscode": {
     "languageId": "r"
    }
   },
   "outputs": [],
   "source": [
    "out = summary(fit_weak, fit.measures = TRUE)\n",
    "print(out)"
   ]
  },
  {
   "attachments": {},
   "cell_type": "markdown",
   "id": "25adc9f3",
   "metadata": {},
   "source": [
    "Generiamo diagramma di percorso."
   ]
  },
  {
   "cell_type": "code",
   "execution_count": null,
   "id": "b2598ed6",
   "metadata": {
    "vscode": {
     "languageId": "r"
    }
   },
   "outputs": [],
   "source": [
    "semPaths(fit_weak,\n",
    "  what = \"est\",\n",
    "  sizeLat = 7, sizeMan = 7, edge.label.cex = .75\n",
    ")"
   ]
  },
  {
   "attachments": {},
   "cell_type": "markdown",
   "id": "5621598a",
   "metadata": {},
   "source": [
    "### Modello di invarianza forte"
   ]
  },
  {
   "attachments": {},
   "cell_type": "markdown",
   "id": "eafe1727",
   "metadata": {},
   "source": [
    "Il modello di invarianza forte impone che le intercette delle variabili osservate siano uguali nel tempo, mentre le medie delle variabili latenti possono variare nelle diverse occasioni. Poiché tutti i cambiamenti nelle medie delle variabili osservate sono attribuiti ai fattori, la scala delle variabili latenti è uguale nelle diverse occasioni di misurazione.\n",
    "\n",
    "Scriviamo il modello nella sintassi di lavaan."
   ]
  },
  {
   "cell_type": "code",
   "execution_count": null,
   "id": "b1371083",
   "metadata": {
    "vscode": {
     "languageId": "r"
    }
   },
   "outputs": [],
   "source": [
    "strong_invar <- \" #opening quote\n",
    "#factor loadings\n",
    "  eta1 =~ lambda_S*s_g3+ #removed time-specific subscripts\n",
    "          lambda_R*r_g3+\n",
    "          lambda_M*m_g3\n",
    "  eta2 =~ lambda_S*s_g5+\n",
    "          lambda_R*r_g5+\n",
    "          lambda_M*m_g5\n",
    "  eta3 =~ lambda_S*s_g8+\n",
    "          lambda_R*r_g8+\n",
    "          lambda_M*m_g8\n",
    "\n",
    "#latent variable variances\n",
    "   eta1~~1*eta1\n",
    "   eta2~~eta2\n",
    "   eta3~~eta3\n",
    "\n",
    "#latent variable covariances\n",
    "   eta1~~eta2\n",
    "   eta1~~eta3\n",
    "   eta2~~eta3\n",
    "\n",
    "#unique variances\n",
    "   s_g3~~s_g3\n",
    "   s_g5~~s_g5\n",
    "   s_g8~~s_g8\n",
    "   r_g3~~r_g3\n",
    "   r_g5~~r_g5\n",
    "   r_g8~~r_g8\n",
    "   m_g3~~m_g3\n",
    "   m_g5~~m_g5\n",
    "   m_g8~~m_g8\n",
    "#unique covariances\n",
    "   s_g3~~s_g5\n",
    "   s_g3~~s_g8\n",
    "   s_g5~~s_g8\n",
    "   r_g3~~r_g5\n",
    "   r_g3~~r_g8\n",
    "   r_g5~~r_g8\n",
    "   m_g3~~m_g5\n",
    "   m_g3~~m_g8\n",
    "   m_g5~~m_g8\n",
    "\n",
    "#latent variable intercepts\n",
    "   eta1~0*1\n",
    "   eta2~1\n",
    "   eta3~1\n",
    "\n",
    "#observed variable intercepts\n",
    "   s_g3~tau_S*1 #removed time-specific subscripts\n",
    "   s_g5~tau_S*1\n",
    "   s_g8~tau_S*1\n",
    "   r_g3~tau_R*1\n",
    "   r_g5~tau_R*1\n",
    "   r_g8~tau_R*1\n",
    "   m_g3~tau_M*1\n",
    "   m_g5~tau_M*1\n",
    "   m_g8~tau_M*1\n",
    "\" # closing quote"
   ]
  },
  {
   "attachments": {},
   "cell_type": "markdown",
   "id": "3dfd8ead",
   "metadata": {},
   "source": [
    "Adattiamo il modello ai dati."
   ]
  },
  {
   "cell_type": "code",
   "execution_count": null,
   "id": "264721c8",
   "metadata": {
    "vscode": {
     "languageId": "r"
    }
   },
   "outputs": [],
   "source": [
    "fit_strong <- lavaan(strong_invar, data = dat, mimic = \"mplus\")"
   ]
  },
  {
   "attachments": {},
   "cell_type": "markdown",
   "id": "f8def7cb",
   "metadata": {},
   "source": [
    "Esaminiamo la soluzione."
   ]
  },
  {
   "cell_type": "code",
   "execution_count": null,
   "id": "c0044db1",
   "metadata": {
    "vscode": {
     "languageId": "r"
    }
   },
   "outputs": [],
   "source": [
    "out = summary(fit_strong, fit.measures = TRUE)\n",
    "print(out)"
   ]
  },
  {
   "attachments": {},
   "cell_type": "markdown",
   "id": "0c490b1a",
   "metadata": {},
   "source": [
    "Generiamo il diagramma di percorso."
   ]
  },
  {
   "cell_type": "code",
   "execution_count": null,
   "id": "9ce262c8",
   "metadata": {
    "vscode": {
     "languageId": "r"
    }
   },
   "outputs": [],
   "source": [
    "semPaths(fit_strong,\n",
    "  what = \"est\",\n",
    "  sizeLat = 7, sizeMan = 7, edge.label.cex = .75\n",
    ")"
   ]
  },
  {
   "attachments": {},
   "cell_type": "markdown",
   "id": "1f7583b5",
   "metadata": {},
   "source": [
    "### Invarianza stretta\n",
    "\n",
    "Il modello di invarianza rigorosa impone vincoli aggiuntivi sulle saturazioni fattoriali, sulle intercette delle variabili osservate e sulle varianze uniche. Quando l’invarianza fattoriale rigorosa è soddisfatta, i cambiamenti longitudinali nelle medie osservate, nelle varianze e nelle covarianze ci informano sui cambiamenti longitudinali dei fattori.\n",
    "\n",
    "Definiamo il modello con la sintassi di lavaan."
   ]
  },
  {
   "cell_type": "code",
   "execution_count": null,
   "id": "8bbc14bb",
   "metadata": {
    "vscode": {
     "languageId": "r"
    }
   },
   "outputs": [],
   "source": [
    "strict_invar <- \" #opening quote\n",
    "#factor loadings\n",
    "  eta1 =~ lambda_S*s_g3+ #removed time-specific subscripts\n",
    "          lambda_R*r_g3+\n",
    "          lambda_M*m_g3\n",
    "  eta2 =~ lambda_S*s_g5+\n",
    "          lambda_R*r_g5+\n",
    "          lambda_M*m_g5\n",
    "  eta3 =~ lambda_S*s_g8+\n",
    "          lambda_R*r_g8+\n",
    "          lambda_M*m_g8\n",
    "\n",
    "#latent variable variances\n",
    "   eta1~~1*eta1\n",
    "   eta2~~eta2\n",
    "   eta3~~eta3\n",
    "\n",
    "#latent variable covariances\n",
    "   eta1~~eta2\n",
    "   eta1~~eta3\n",
    "   eta2~~eta3\n",
    "\n",
    "#unique variances\n",
    "   s_g3~~theta_S*s_g3 #adding constraints with names\n",
    "   s_g5~~theta_S*s_g5\n",
    "   s_g8~~theta_S*s_g8\n",
    "   r_g3~~theta_R*r_g3\n",
    "   r_g5~~theta_R*r_g5\n",
    "   r_g8~~theta_R*r_g8\n",
    "   m_g3~~theta_M*m_g3\n",
    "   m_g5~~theta_M*m_g5\n",
    "   m_g8~~theta_M*m_g8\n",
    "#unique covariances\n",
    "   s_g3~~s_g5\n",
    "   s_g3~~s_g8\n",
    "   s_g5~~s_g8\n",
    "   r_g3~~r_g5\n",
    "   r_g3~~r_g8\n",
    "   r_g5~~r_g8\n",
    "   m_g3~~m_g5\n",
    "   m_g3~~m_g8\n",
    "   m_g5~~m_g8\n",
    "\n",
    "#latent variable intercepts\n",
    "   eta1~0*1\n",
    "   eta2~1\n",
    "   eta3~1\n",
    "\n",
    "#observed variable intercepts\n",
    "   s_g3~tau_S*1 #removed time-specific subscripts\n",
    "   s_g5~tau_S*1\n",
    "   s_g8~tau_S*1\n",
    "   r_g3~tau_R*1\n",
    "   r_g5~tau_R*1\n",
    "   r_g8~tau_R*1\n",
    "   m_g3~tau_M*1\n",
    "   m_g5~tau_M*1\n",
    "   m_g8~tau_M*1\n",
    "\" # closing quote"
   ]
  },
  {
   "attachments": {},
   "cell_type": "markdown",
   "id": "481c3ecc",
   "metadata": {},
   "source": [
    "Adattiamo il modello ai dati."
   ]
  },
  {
   "cell_type": "code",
   "execution_count": null,
   "id": "ef9baaeb",
   "metadata": {
    "vscode": {
     "languageId": "r"
    }
   },
   "outputs": [],
   "source": [
    "fit_strict <- lavaan(strict_invar, data = dat, mimic = \"mplus\")"
   ]
  },
  {
   "attachments": {},
   "cell_type": "markdown",
   "id": "308d7b95",
   "metadata": {},
   "source": [
    "Esaminiamo la soluzione ottenuta."
   ]
  },
  {
   "cell_type": "code",
   "execution_count": null,
   "id": "6fbd5334",
   "metadata": {
    "vscode": {
     "languageId": "r"
    }
   },
   "outputs": [],
   "source": [
    "out = summary(fit_strict, fit.measures = TRUE)\n",
    "print(out)"
   ]
  },
  {
   "attachments": {},
   "cell_type": "markdown",
   "id": "4a7b6ade",
   "metadata": {},
   "source": [
    "Generiamo il diagramma di percorso."
   ]
  },
  {
   "cell_type": "code",
   "execution_count": null,
   "id": "73532309",
   "metadata": {
    "vscode": {
     "languageId": "r"
    }
   },
   "outputs": [],
   "source": [
    "semPaths(fit_strict,\n",
    "  what = \"est\",\n",
    "  sizeLat = 7, sizeMan = 7, edge.label.cex = .75\n",
    ")"
   ]
  },
  {
   "attachments": {},
   "cell_type": "markdown",
   "id": "d5c979c4",
   "metadata": {},
   "source": [
    "## Confronto tra modelli\n",
    "\n",
    "È possibile valutare il tipo di invarianza fattoriale longitudinale giustificata dai dati mediante un confronto tra modelli."
   ]
  },
  {
   "cell_type": "code",
   "execution_count": null,
   "id": "fd638a95",
   "metadata": {
    "vscode": {
     "languageId": "r"
    }
   },
   "outputs": [],
   "source": [
    "round(cbind(\n",
    "  configural = inspect(fit_configural, \"fit.measures\"),\n",
    "  weak = inspect(fit_weak, \"fit.measures\"),\n",
    "  strong = inspect(fit_strong, \"fit.measures\"),\n",
    "  strict = inspect(fit_strict, \"fit.measures\")\n",
    "), 3)"
   ]
  },
  {
   "cell_type": "code",
   "execution_count": null,
   "id": "b61deb32",
   "metadata": {
    "vscode": {
     "languageId": "r"
    }
   },
   "outputs": [],
   "source": [
    "# Chi-square difference test for nested models\n",
    "anova(fit_configural, fit_weak)"
   ]
  },
  {
   "cell_type": "code",
   "execution_count": null,
   "id": "cbb1afde",
   "metadata": {
    "vscode": {
     "languageId": "r"
    }
   },
   "outputs": [],
   "source": [
    "anova(fit_weak, fit_strong)"
   ]
  },
  {
   "cell_type": "code",
   "execution_count": null,
   "id": "ec102b2d",
   "metadata": {
    "vscode": {
     "languageId": "r"
    }
   },
   "outputs": [],
   "source": [
    "anova(fit_strong, fit_strict)"
   ]
  },
  {
   "attachments": {},
   "cell_type": "markdown",
   "id": "75cb0139",
   "metadata": {},
   "source": [
    "Nel caso presente, solo l'invarianza configurale è giustificata dal test di verosimiglianze. L'esame degli indici di bontà di adattamento, comunque, suggerisce che l'invarianza debole sembra giustificata per questi dati. @grimm2016growth concludono invece che anche l'invarianza forte è giustificata per questi dati.\n",
    "\n",
    "## Second-Order Growth Model\n",
    "\n",
    "Una volta che abbiamo dimostrato che l’invarianza forte o rigorosa è supportata per il modello di crescita latente, possiamo esaminare i cambiamenti nei punteggi  fattoriali.\n",
    "\n",
    "In questo esempio, imponiamo l’invarianza fattoriale rigorosa e modelliamo il cambiamento nei punteggi fattoriali del rendimento accademico dei bambini utilizzando un Second-Order Growth Model. Si noti che devono essere apportate alcune altre modifiche per l’identificazione e la scala. \n"
   ]
  },
  {
   "cell_type": "code",
   "execution_count": null,
   "id": "37e8c9f2",
   "metadata": {
    "vscode": {
     "languageId": "r"
    }
   },
   "outputs": [],
   "source": [
    "growth_strict_invar <- \" #opening quote\n",
    "#factor loadings\n",
    "  eta1 =~ 15.176*s_g3+ #constrained for identification and scaling\n",
    "          lambda_R*r_g3+\n",
    "          lambda_M*m_g3\n",
    "  eta2 =~ 15.176*s_g5+\n",
    "          lambda_R*r_g5+\n",
    "          lambda_M*m_g5\n",
    "  eta3 =~ 15.176*s_g8+\n",
    "          lambda_R*r_g8+\n",
    "          lambda_M*m_g8\n",
    "\n",
    "#latent variable variances\n",
    "   eta1~~psi*eta1\n",
    "   eta2~~psi*eta2\n",
    "   eta3~~psi*eta3\n",
    "\n",
    "#latent variable covariances\n",
    "   eta1~~0*eta2 #constrained to zero\n",
    "   eta1~~0*eta3\n",
    "   eta2~~0*eta3\n",
    "\n",
    "#unique variances\n",
    "   s_g3~~theta_S*s_g3 #adding constraints with names\n",
    "   s_g5~~theta_S*s_g5\n",
    "   s_g8~~theta_S*s_g8\n",
    "   r_g3~~theta_R*r_g3\n",
    "   r_g5~~theta_R*r_g5\n",
    "   r_g8~~theta_R*r_g8\n",
    "   m_g3~~theta_M*m_g3\n",
    "   m_g5~~theta_M*m_g5\n",
    "   m_g8~~theta_M*m_g8\n",
    "#unique covariances\n",
    "   s_g3~~s_g5\n",
    "   s_g3~~s_g8\n",
    "   s_g5~~s_g8\n",
    "   r_g3~~r_g5\n",
    "   r_g3~~r_g8\n",
    "   r_g5~~r_g8\n",
    "   m_g3~~m_g5\n",
    "   m_g3~~m_g8\n",
    "   m_g5~~m_g8\n",
    "\n",
    "#latent variable intercepts\n",
    "   eta1~0*1  #fixed to zero\n",
    "   eta2~0*1\n",
    "   eta3~0*1\n",
    "\n",
    "#observed variable intercepts\n",
    "   s_g3~tau_S*1 #removed time-specific subscripts\n",
    "   s_g5~tau_S*1\n",
    "   s_g8~tau_S*1\n",
    "   r_g3~tau_R*1\n",
    "   r_g5~tau_R*1\n",
    "   r_g8~tau_R*1\n",
    "   m_g3~tau_M*1\n",
    "   m_g5~tau_M*1\n",
    "   m_g8~tau_M*1\n",
    "\n",
    "#second-order latent basis growth\n",
    "  #growth factors\n",
    "   xi_1 =~ 1*eta1+ #intercept factor\n",
    "           1*eta2+\n",
    "           1*eta3\n",
    "   xi_2 =~ 0*eta1  #latent basis slope factor\n",
    "           +start(0.5)*eta2\n",
    "           +1*eta3\n",
    "  #factor variances & covariance\n",
    "    xi_1~~start(.8)*xi_1\n",
    "    xi_2~~start(.5)*xi_2\n",
    "    xi_1~~start(0)*xi_2\n",
    "  #factor intercepts\n",
    "    xi_1~0*1\n",
    "    xi_2~1\n",
    "\" # closing quote"
   ]
  },
  {
   "attachments": {},
   "cell_type": "markdown",
   "id": "c7506c28",
   "metadata": {},
   "source": [
    "Adattiamo il modello ai dati."
   ]
  },
  {
   "cell_type": "code",
   "execution_count": null,
   "id": "cc62ee5e",
   "metadata": {
    "vscode": {
     "languageId": "r"
    }
   },
   "outputs": [],
   "source": [
    "fit_growth <- lavaan(growth_strict_invar, data = dat, mimic = \"mplus\")"
   ]
  },
  {
   "attachments": {},
   "cell_type": "markdown",
   "id": "820cbe2f",
   "metadata": {},
   "source": [
    "Esaminiamo la soluzione."
   ]
  },
  {
   "cell_type": "code",
   "execution_count": null,
   "id": "819798bf",
   "metadata": {
    "vscode": {
     "languageId": "r"
    }
   },
   "outputs": [],
   "source": [
    "out = summary(fit_growth, fit.measures = TRUE)\n",
    "print(out)"
   ]
  },
  {
   "attachments": {},
   "cell_type": "markdown",
   "id": "0a1be950",
   "metadata": {},
   "source": [
    "Generiamo il diagramma di percorso."
   ]
  },
  {
   "cell_type": "code",
   "execution_count": null,
   "id": "ddb4fd93",
   "metadata": {
    "vscode": {
     "languageId": "r"
    }
   },
   "outputs": [],
   "source": [
    "semPaths(fit_growth,\n",
    "  what = \"est\",\n",
    "  sizeLat = 7, sizeMan = 7, edge.label.cex = .75\n",
    ")"
   ]
  },
  {
   "attachments": {},
   "cell_type": "markdown",
   "id": "67c8a914",
   "metadata": {},
   "source": [
    "## Traiettorie di sviluppo\n",
    "\n",
    "Possiamo visualizzare le traiettorie previste dei punteggi fattoriali nel modo seguente."
   ]
  },
  {
   "cell_type": "code",
   "execution_count": null,
   "id": "583f0f9d",
   "metadata": {
    "lines_to_next_cell": 2,
    "vscode": {
     "languageId": "r"
    }
   },
   "outputs": [],
   "source": [
    "# extract predicted factor scores\n",
    "pred <- as.data.frame(lavPredict(fit_growth))\n",
    "\n",
    "# define function to fit factor trajectories\n",
    "fit.line <- function(xi1, xi2, t) {\n",
    "  xi1 + xi2 * t\n",
    "}\n",
    "time <- c(0, .524, 1)\n",
    "\n",
    "# fit trajectories using estimated factor scores\n",
    "out <- NULL\n",
    "temp <- NULL\n",
    "for (i in 1:nrow(pred)) {\n",
    "  temp <- fit.line(pred$xi_1[i], pred$xi_2[i], time)\n",
    "  out <- rbind(out, temp)\n",
    "}\n",
    "out <- as.data.frame(out)\n",
    "colnames(out) <- c(\"pred3\", \"pred5\", \"pred8\")\n",
    "out$ID <- dat$id\n",
    "\n",
    "# reshape estimated scores to long format (for plotting)\n",
    "outlong <- reshape(out,\n",
    "  varying = c(\"pred3\", \"pred5\", \"pred8\"),\n",
    "  timevar = \"grade\",\n",
    "  idvar = \"ID\",\n",
    "  direction = \"long\", sep = \"\"\n",
    ")\n",
    "outlong <- outlong[order(outlong$ID, outlong$grade), ]\n",
    "\n",
    "# fit average trajectory (for plotting)\n",
    "avg <- as.data.frame(fit.line(0, 1.947, time))\n",
    "avg$grade <- c(3, 5, 8)\n",
    "avg$ID <- 1\n",
    "colnames(avg) <- c(\"fit\", \"grade\", \"ID\")\n",
    "\n",
    "# plot predicted common factor trajectories (average in red)\n",
    "ggplot(data = outlong, aes(x = grade, y = pred, group = ID)) +\n",
    "  ggtitle(\"Predicted Trajectories: Second Order Growth Model\") +\n",
    "  xlab(\"Grade\") +\n",
    "  ylab(\"Predicted Academic Achievement Factor Score\") +\n",
    "  geom_line() +\n",
    "  geom_line(data = avg, aes(x = grade, y = fit, group = ID), color = \"red\", size = 2)"
   ]
  },
  {
   "attachments": {},
   "cell_type": "markdown",
   "id": "f438f43f",
   "metadata": {},
   "source": [
    "## Conclusione\n",
    "\n",
    "Utilizzando più indicatori all’interno del framework di analisi dei fattori longitudinali, possiamo descrivere il cambiamento con maggiore precisione. Questo perché siamo in grado di filtrare il rumore di misura utilizzando un modello di misura multivariato. In questo modo, possiamo espandere le possibilità di indagine e studio delle differenze interindividuali nel cambiamento intra-individuale."
   ]
  }
 ],
 "metadata": {
  "jupytext": {
   "cell_metadata_filter": "tags,-all",
   "main_language": "R",
   "notebook_metadata_filter": "-all"
  },
  "kernelspec": {
   "display_name": "R",
   "language": "R",
   "name": "ir"
  },
  "language_info": {
   "codemirror_mode": "r",
   "file_extension": ".r",
   "mimetype": "text/x-r-source",
   "name": "R",
   "pygments_lexer": "r",
   "version": "4.3.0"
  }
 },
 "nbformat": 4,
 "nbformat_minor": 5
}