{
 "cells": [
  {
   "attachments": {},
   "cell_type": "markdown",
   "id": "577594aa",
   "metadata": {},
   "source": [
    "(evaluate-matrices-notebook)=\n",
    "# Valutazione della matrice di correlazione "
   ]
  },
  {
   "cell_type": "code",
   "execution_count": 1,
   "id": "86de548a",
   "metadata": {
    "tags": [
     "remove_cell"
    ]
   },
   "outputs": [
    {
     "ename": "NameError",
     "evalue": "name 'source' is not defined",
     "output_type": "error",
     "traceback": [
      "\u001b[0;31m---------------------------------------------------------------------------\u001b[0m",
      "\u001b[0;31mNameError\u001b[0m                                 Traceback (most recent call last)",
      "Cell \u001b[0;32mIn[1], line 1\u001b[0m\n\u001b[0;32m----> 1\u001b[0m \u001b[43msource\u001b[49m(\u001b[38;5;124m\"\u001b[39m\u001b[38;5;124m_common.R\u001b[39m\u001b[38;5;124m\"\u001b[39m)\n",
      "\u001b[0;31mNameError\u001b[0m: name 'source' is not defined"
     ]
    }
   ],
   "source": [
    "source(\"_common.R\")"
   ]
  },
  {
   "attachments": {},
   "cell_type": "markdown",
   "id": "7b609800",
   "metadata": {},
   "source": [
    "Prima di eseguire un’analisi fattoriale, è importante esaminare la matrice di correlazione tra le variabili. Se il determinante della matrice è nullo, l’analisi fattoriale non può essere eseguita. In caso contrario, è necessario valutare se le correlazioni campionarie sono sufficientemente grandi da giustificare l’analisi fattoriale. Se le correlazioni tra gli item sono modeste, la soluzione fornita dall’analisi fattoriale potrebbe non essere parsimoniosa. Per valutare questo, si può ispezionare visivamente la matrice di correlazione e utilizzare due test: il test della sfericità di Bartlett e il test Kaiser-Meyer-Olkin.\n",
    "\n",
    "## Ispezione visiva della matrice di correlazione\n",
    "\n",
    "L’ispezione visiva della matrice di correlazione viene effettuata per verificare la presenza di blocchi di correlazioni alte tra loro e basse con le altre variabili. Ciò suggerisce la presenza di più fattori comuni.\n",
    "\n",
    "## Sfericità di Bartlett\n",
    "\n",
    "Il test della sfericità di Bartlett verifica l'ipotesi $H_0 : \\boldsymbol{R} = \\boldsymbol{I}$ (ovvero che gli item sono tra loro incorrelati) tramite la formula:\n",
    "\n",
    "$$\n",
    "\\chi^2 = -\\bigg[n -1 -\\frac{1}{6} (2p +5)\\bigg] \\ln |\\boldsymbol{R}|,\n",
    "$$\n",
    "\n",
    "in cui $n$ è il numero dei soggetti, $p$ il numero delle variabili e\n",
    "$|\\boldsymbol{R}|$ il determinante della matrice di correlazione. La\n",
    "statistica del test della sfericità di Bartlett si distribuisce come\n",
    "$\\chi^2$ con $p(p - 1)/2$ gradi di libertà. Se il valore della statistica test è\n",
    "sufficientemente grande, questo significa che $\\boldsymbol{R}$ include valori di correlazione\n",
    "sufficientemente diversi da 0; se la statistica test è piccola, questo significa che le correlazioni sono basse e non si distinguono da 0. \n",
    "\n",
    "Il limite di questo test è che dipende dal numero delle variabili e dalla\n",
    "numerosità del campione, quindi tende a produrre un risultato statisticamente significativo\n",
    "all'aumentare del campione e del numero delle variabili, anche se le\n",
    "correlazioni sono piccole.\n",
    "\n",
    "## Test di adeguatezza campionaria di Kaiser-Meyer-Olkin\n",
    "\n",
    "Henry Kaiser (1970) ha introdotto una misura di adeguatezza campionaria\n",
    "per le matrici sottoposte ad analisi fattoriale. In seguito, Kaiser and\n",
    "Rice (1974) hanno modificato questo indice che da allora è conosciuto\n",
    "come l'indice Kaiser-Meyer-Olkin (KMO). Il test di adeguatezza\n",
    "campionaria KMO è dato da\n",
    "\n",
    "$$\\text{KMO} = \\frac{\\sum_i\\sum_j r^2_{ij}}{\\sum_i\\sum_j r^2_{ij} +\\sum_i\\sum_jp^2_{ij}},$$\n",
    "\n",
    "dove $r_{ij}$ sono le correlazioni osservate e $p_{ij}$ sono le\n",
    "correlazioni parzializzate su tutte le altre. Se le correlazioni\n",
    "parzializzate sono piccole, KMO tende a 1. Secondo Kaiser (1970), se KMO\n",
    "\\> 0.90, l'adeguatezza campionaria è eccellente, fra .80 e .90 è buona,\n",
    "fra .70 e .80 è accettabile, fra .60 e .70 è mediocre, se è inferiore a\n",
    ".60 è meglio non eseguire l'analisi fattoriale.\n"
   ]
  }
 ],
 "metadata": {
  "jupytext": {
   "cell_metadata_filter": "tags,-all",
   "main_language": "R",
   "notebook_metadata_filter": "-all"
  },
  "language_info": {
   "codemirror_mode": {
    "name": "ipython",
    "version": 3
   },
   "file_extension": ".py",
   "mimetype": "text/x-python",
   "name": "python",
   "nbconvert_exporter": "python",
   "pygments_lexer": "ipython3",
   "version": "3.11.0"
  }
 },
 "nbformat": 4,
 "nbformat_minor": 5
}