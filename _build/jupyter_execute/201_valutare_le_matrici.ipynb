{
 "cells": [
  {
   "attachments": {},
   "cell_type": "markdown",
   "id": "577594aa",
   "metadata": {},
   "source": [
    "(evaluate-matrices-notebook)=\n",
    "# Valutazione della matrice di correlazione "
   ]
  },
  {
   "cell_type": "code",
   "execution_count": 1,
   "id": "86de548a",
   "metadata": {
    "tags": [
     "remove_cell"
    ],
    "vscode": {
     "languageId": "r"
    }
   },
   "outputs": [],
   "source": [
    "source(\"_common.R\")\n",
    "suppressPackageStartupMessages({\n",
    "    library(tidyverse)\n",
    "    library(corrr)\n",
    "    library(psych)\n",
    "    library(lavaan)\n",
    "})\n",
    "\n",
    "set.seed(42)"
   ]
  },
  {
   "attachments": {},
   "cell_type": "markdown",
   "id": "4e0fe944",
   "metadata": {},
   "source": [
    "Prima di eseguire un’analisi fattoriale, è importante esaminare la matrice di correlazione tra le variabili. Se il determinante della matrice è nullo, l’analisi fattoriale non può essere eseguita. In caso contrario, è necessario valutare se le correlazioni campionarie sono sufficientemente grandi da giustificare l’analisi fattoriale. Se le correlazioni tra gli item sono modeste, la soluzione fornita dall’analisi fattoriale potrebbe non essere parsimoniosa. Per valutare questo, si può ispezionare visivamente la matrice di correlazione e utilizzare due test: il test della sfericità di Bartlett e il test Kaiser-Meyer-Olkin.\n",
    "\n",
    "## Ispezione visiva della matrice di correlazione\n",
    "\n",
    "L’ispezione visiva della matrice di correlazione viene effettuata per verificare la presenza di blocchi di correlazioni alte tra loro e basse con le altre variabili. Ciò suggerisce la presenza di più fattori comuni.\n",
    "\n",
    "Per fare un esempio, consideriamo il dataset `HolzingerSwineford1939`. Tale dataset contiene 301 osservazioni di punteggi di abilità mentale. Consideriao qui le variabili `x1` -- `x9`."
   ]
  },
  {
   "cell_type": "code",
   "execution_count": 2,
   "id": "b28e6ee0",
   "metadata": {
    "vscode": {
     "languageId": "r"
    }
   },
   "outputs": [
    {
     "name": "stdout",
     "output_type": "stream",
     "text": [
      "Rows: 301\n",
      "Columns: 15\n",
      "$ id     \u001b[3m\u001b[90m<int>\u001b[39m\u001b[23m 1, 2, 3, 4, 5, 6, 7, 8, 9, 11, 12, 13, 14, 15, 16, 17, 18, 19, …\n",
      "$ sex    \u001b[3m\u001b[90m<int>\u001b[39m\u001b[23m 1, 2, 2, 1, 2, 2, 1, 2, 2, 2, 1, 1, 2, 2, 1, 2, 2, 1, 2, 2, 1, …\n",
      "$ ageyr  \u001b[3m\u001b[90m<int>\u001b[39m\u001b[23m 13, 13, 13, 13, 12, 14, 12, 12, 13, 12, 12, 12, 12, 12, 12, 12,…\n",
      "$ agemo  \u001b[3m\u001b[90m<int>\u001b[39m\u001b[23m 1, 7, 1, 2, 2, 1, 1, 2, 0, 5, 2, 11, 7, 8, 6, 1, 11, 5, 8, 3, 1…\n",
      "$ school \u001b[3m\u001b[90m<fct>\u001b[39m\u001b[23m Pasteur, Pasteur, Pasteur, Pasteur, Pasteur, Pasteur, Pasteur, …\n",
      "$ grade  \u001b[3m\u001b[90m<int>\u001b[39m\u001b[23m 7, 7, 7, 7, 7, 7, 7, 7, 7, 7, 7, 7, 7, 7, 7, 7, 7, 7, 7, 7, 7, …\n",
      "$ x1     \u001b[3m\u001b[90m<dbl>\u001b[39m\u001b[23m 3.333333, 5.333333, 4.500000, 5.333333, 4.833333, 5.333333, 2.8…\n",
      "$ x2     \u001b[3m\u001b[90m<dbl>\u001b[39m\u001b[23m 7.75, 5.25, 5.25, 7.75, 4.75, 5.00, 6.00, 6.25, 5.75, 5.25, 5.7…\n",
      "$ x3     \u001b[3m\u001b[90m<dbl>\u001b[39m\u001b[23m 0.375, 2.125, 1.875, 3.000, 0.875, 2.250, 1.000, 1.875, 1.500, …\n",
      "$ x4     \u001b[3m\u001b[90m<dbl>\u001b[39m\u001b[23m 2.333333, 1.666667, 1.000000, 2.666667, 2.666667, 1.000000, 3.3…\n",
      "$ x5     \u001b[3m\u001b[90m<dbl>\u001b[39m\u001b[23m 5.75, 3.00, 1.75, 4.50, 4.00, 3.00, 6.00, 4.25, 5.75, 5.00, 3.5…\n",
      "$ x6     \u001b[3m\u001b[90m<dbl>\u001b[39m\u001b[23m 1.2857143, 1.2857143, 0.4285714, 2.4285714, 2.5714286, 0.857142…\n",
      "$ x7     \u001b[3m\u001b[90m<dbl>\u001b[39m\u001b[23m 3.391304, 3.782609, 3.260870, 3.000000, 3.695652, 4.347826, 4.6…\n",
      "$ x8     \u001b[3m\u001b[90m<dbl>\u001b[39m\u001b[23m 5.75, 6.25, 3.90, 5.30, 6.30, 6.65, 6.20, 5.15, 4.65, 4.55, 5.7…\n",
      "$ x9     \u001b[3m\u001b[90m<dbl>\u001b[39m\u001b[23m 6.361111, 7.916667, 4.416667, 4.861111, 5.916667, 7.500000, 4.8…\n"
     ]
    }
   ],
   "source": [
    "data(HolzingerSwineford1939)\n",
    "glimpse(HolzingerSwineford1939)"
   ]
  },
  {
   "cell_type": "code",
   "execution_count": 3,
   "id": "19f1d4b7",
   "metadata": {
    "vscode": {
     "languageId": "r"
    }
   },
   "outputs": [
    {
     "data": {
      "text/html": [
       "<table class=\"dataframe\">\n",
       "<caption>A data.frame: 5 × 9</caption>\n",
       "<thead>\n",
       "\t<tr><th scope=col>x1</th><th scope=col>x2</th><th scope=col>x3</th><th scope=col>x4</th><th scope=col>x5</th><th scope=col>x6</th><th scope=col>x7</th><th scope=col>x8</th><th scope=col>x9</th></tr>\n",
       "\t<tr><th scope=col>&lt;dbl&gt;</th><th scope=col>&lt;dbl&gt;</th><th scope=col>&lt;dbl&gt;</th><th scope=col>&lt;dbl&gt;</th><th scope=col>&lt;dbl&gt;</th><th scope=col>&lt;dbl&gt;</th><th scope=col>&lt;dbl&gt;</th><th scope=col>&lt;dbl&gt;</th><th scope=col>&lt;dbl&gt;</th></tr>\n",
       "</thead>\n",
       "<tbody>\n",
       "\t<tr><td>3.333333</td><td>7.75</td><td>0.375</td><td>2.333333</td><td>5.75</td><td>1.2857143</td><td>3.391304</td><td>5.75</td><td>6.361111</td></tr>\n",
       "\t<tr><td>5.333333</td><td>5.25</td><td>2.125</td><td>1.666667</td><td>3.00</td><td>1.2857143</td><td>3.782609</td><td>6.25</td><td>7.916667</td></tr>\n",
       "\t<tr><td>4.500000</td><td>5.25</td><td>1.875</td><td>1.000000</td><td>1.75</td><td>0.4285714</td><td>3.260870</td><td>3.90</td><td>4.416667</td></tr>\n",
       "\t<tr><td>5.333333</td><td>7.75</td><td>3.000</td><td>2.666667</td><td>4.50</td><td>2.4285714</td><td>3.000000</td><td>5.30</td><td>4.861111</td></tr>\n",
       "\t<tr><td>4.833333</td><td>4.75</td><td>0.875</td><td>2.666667</td><td>4.00</td><td>2.5714286</td><td>3.695652</td><td>6.30</td><td>5.916667</td></tr>\n",
       "</tbody>\n",
       "</table>\n"
      ],
      "text/latex": [
       "A data.frame: 5 × 9\n",
       "\\begin{tabular}{lllllllll}\n",
       " x1 & x2 & x3 & x4 & x5 & x6 & x7 & x8 & x9\\\\\n",
       " <dbl> & <dbl> & <dbl> & <dbl> & <dbl> & <dbl> & <dbl> & <dbl> & <dbl>\\\\\n",
       "\\hline\n",
       "\t 3.333333 & 7.75 & 0.375 & 2.333333 & 5.75 & 1.2857143 & 3.391304 & 5.75 & 6.361111\\\\\n",
       "\t 5.333333 & 5.25 & 2.125 & 1.666667 & 3.00 & 1.2857143 & 3.782609 & 6.25 & 7.916667\\\\\n",
       "\t 4.500000 & 5.25 & 1.875 & 1.000000 & 1.75 & 0.4285714 & 3.260870 & 3.90 & 4.416667\\\\\n",
       "\t 5.333333 & 7.75 & 3.000 & 2.666667 & 4.50 & 2.4285714 & 3.000000 & 5.30 & 4.861111\\\\\n",
       "\t 4.833333 & 4.75 & 0.875 & 2.666667 & 4.00 & 2.5714286 & 3.695652 & 6.30 & 5.916667\\\\\n",
       "\\end{tabular}\n"
      ],
      "text/markdown": [
       "\n",
       "A data.frame: 5 × 9\n",
       "\n",
       "| x1 &lt;dbl&gt; | x2 &lt;dbl&gt; | x3 &lt;dbl&gt; | x4 &lt;dbl&gt; | x5 &lt;dbl&gt; | x6 &lt;dbl&gt; | x7 &lt;dbl&gt; | x8 &lt;dbl&gt; | x9 &lt;dbl&gt; |\n",
       "|---|---|---|---|---|---|---|---|---|\n",
       "| 3.333333 | 7.75 | 0.375 | 2.333333 | 5.75 | 1.2857143 | 3.391304 | 5.75 | 6.361111 |\n",
       "| 5.333333 | 5.25 | 2.125 | 1.666667 | 3.00 | 1.2857143 | 3.782609 | 6.25 | 7.916667 |\n",
       "| 4.500000 | 5.25 | 1.875 | 1.000000 | 1.75 | 0.4285714 | 3.260870 | 3.90 | 4.416667 |\n",
       "| 5.333333 | 7.75 | 3.000 | 2.666667 | 4.50 | 2.4285714 | 3.000000 | 5.30 | 4.861111 |\n",
       "| 4.833333 | 4.75 | 0.875 | 2.666667 | 4.00 | 2.5714286 | 3.695652 | 6.30 | 5.916667 |\n",
       "\n"
      ],
      "text/plain": [
       "  x1       x2   x3    x4       x5   x6        x7       x8   x9      \n",
       "1 3.333333 7.75 0.375 2.333333 5.75 1.2857143 3.391304 5.75 6.361111\n",
       "2 5.333333 5.25 2.125 1.666667 3.00 1.2857143 3.782609 6.25 7.916667\n",
       "3 4.500000 5.25 1.875 1.000000 1.75 0.4285714 3.260870 3.90 4.416667\n",
       "4 5.333333 7.75 3.000 2.666667 4.50 2.4285714 3.000000 5.30 4.861111\n",
       "5 4.833333 4.75 0.875 2.666667 4.00 2.5714286 3.695652 6.30 5.916667"
      ]
     },
     "metadata": {},
     "output_type": "display_data"
    }
   ],
   "source": [
    "hz <- HolzingerSwineford1939 |>\n",
    "  select(x1:x9)\n",
    "\n",
    "hz |>\n",
    "  slice(1:5) "
   ]
  },
  {
   "attachments": {},
   "cell_type": "markdown",
   "id": "821a2aeb",
   "metadata": {},
   "source": [
    "Valutiamo la presenza di dati mancanti."
   ]
  },
  {
   "cell_type": "code",
   "execution_count": 4,
   "id": "cc01776f",
   "metadata": {
    "vscode": {
     "languageId": "r"
    }
   },
   "outputs": [
    {
     "data": {
      "text/plain": [
       "   Min. 1st Qu.  Median    Mean 3rd Qu.    Max. \n",
       "      0       0       0       0       0       0 "
      ]
     },
     "metadata": {},
     "output_type": "display_data"
    }
   ],
   "source": [
    "missings <- colSums(is.na(hz)) # Count # missing in each column\n",
    "summary(missings) "
   ]
  },
  {
   "attachments": {},
   "cell_type": "markdown",
   "id": "15a5dd07",
   "metadata": {},
   "source": [
    "In questo set di dati non ci sono dati mancanti.\n",
    "\n",
    "Esaminiamo la distribuzione delle variabili."
   ]
  },
  {
   "cell_type": "code",
   "execution_count": 5,
   "id": "284a89f0",
   "metadata": {
    "vscode": {
     "languageId": "r"
    }
   },
   "outputs": [
    {
     "data": {
      "text/html": [
       "<table class=\"dataframe\">\n",
       "<caption>A psych: 9 × 13</caption>\n",
       "<thead>\n",
       "\t<tr><th></th><th scope=col>vars</th><th scope=col>n</th><th scope=col>mean</th><th scope=col>sd</th><th scope=col>median</th><th scope=col>trimmed</th><th scope=col>mad</th><th scope=col>min</th><th scope=col>max</th><th scope=col>range</th><th scope=col>skew</th><th scope=col>kurtosis</th><th scope=col>se</th></tr>\n",
       "\t<tr><th></th><th scope=col>&lt;int&gt;</th><th scope=col>&lt;dbl&gt;</th><th scope=col>&lt;dbl&gt;</th><th scope=col>&lt;dbl&gt;</th><th scope=col>&lt;dbl&gt;</th><th scope=col>&lt;dbl&gt;</th><th scope=col>&lt;dbl&gt;</th><th scope=col>&lt;dbl&gt;</th><th scope=col>&lt;dbl&gt;</th><th scope=col>&lt;dbl&gt;</th><th scope=col>&lt;dbl&gt;</th><th scope=col>&lt;dbl&gt;</th><th scope=col>&lt;dbl&gt;</th></tr>\n",
       "</thead>\n",
       "<tbody>\n",
       "\t<tr><th scope=row>x1</th><td>1</td><td>301</td><td>4.935770</td><td>1.167432</td><td>5.000000</td><td>4.964730</td><td>1.235500</td><td>0.6666667</td><td> 8.500000</td><td>7.833333</td><td>-0.2543455</td><td> 0.30753382</td><td>0.06728967</td></tr>\n",
       "\t<tr><th scope=row>x2</th><td>2</td><td>301</td><td>6.088040</td><td>1.177451</td><td>6.000000</td><td>6.017635</td><td>1.111950</td><td>2.2500000</td><td> 9.250000</td><td>7.000000</td><td> 0.4700766</td><td> 0.33239397</td><td>0.06786712</td></tr>\n",
       "\t<tr><th scope=row>x3</th><td>3</td><td>301</td><td>2.250415</td><td>1.130979</td><td>2.125000</td><td>2.199170</td><td>1.297275</td><td>0.2500000</td><td> 4.500000</td><td>4.250000</td><td> 0.3834294</td><td>-0.90752645</td><td>0.06518857</td></tr>\n",
       "\t<tr><th scope=row>x4</th><td>4</td><td>301</td><td>3.060908</td><td>1.164116</td><td>3.000000</td><td>3.024896</td><td>0.988400</td><td>0.0000000</td><td> 6.333333</td><td>6.333333</td><td> 0.2674867</td><td> 0.08012676</td><td>0.06709855</td></tr>\n",
       "\t<tr><th scope=row>x5</th><td>5</td><td>301</td><td>4.340532</td><td>1.290472</td><td>4.500000</td><td>4.395228</td><td>1.482600</td><td>1.0000000</td><td> 7.000000</td><td>6.000000</td><td>-0.3497961</td><td>-0.55253689</td><td>0.07438158</td></tr>\n",
       "\t<tr><th scope=row>x6</th><td>6</td><td>301</td><td>2.185572</td><td>1.095603</td><td>2.000000</td><td>2.088322</td><td>1.059000</td><td>0.1428571</td><td> 6.142857</td><td>6.000000</td><td> 0.8579486</td><td> 0.81655717</td><td>0.06314952</td></tr>\n",
       "\t<tr><th scope=row>x7</th><td>7</td><td>301</td><td>4.185902</td><td>1.089534</td><td>4.086957</td><td>4.163630</td><td>1.095835</td><td>1.3043478</td><td> 7.434783</td><td>6.130435</td><td> 0.2490881</td><td>-0.30740386</td><td>0.06279967</td></tr>\n",
       "\t<tr><th scope=row>x8</th><td>8</td><td>301</td><td>5.527076</td><td>1.012615</td><td>5.500000</td><td>5.492946</td><td>0.963690</td><td>3.0500000</td><td>10.000000</td><td>6.950000</td><td> 0.5252580</td><td> 1.17155564</td><td>0.05836617</td></tr>\n",
       "\t<tr><th scope=row>x9</th><td>9</td><td>301</td><td>5.374123</td><td>1.009152</td><td>5.416667</td><td>5.366067</td><td>0.988400</td><td>2.7777778</td><td> 9.250000</td><td>6.472222</td><td> 0.2038709</td><td> 0.28990791</td><td>0.05816654</td></tr>\n",
       "</tbody>\n",
       "</table>\n"
      ],
      "text/latex": [
       "A psych: 9 × 13\n",
       "\\begin{tabular}{r|lllllllllllll}\n",
       "  & vars & n & mean & sd & median & trimmed & mad & min & max & range & skew & kurtosis & se\\\\\n",
       "  & <int> & <dbl> & <dbl> & <dbl> & <dbl> & <dbl> & <dbl> & <dbl> & <dbl> & <dbl> & <dbl> & <dbl> & <dbl>\\\\\n",
       "\\hline\n",
       "\tx1 & 1 & 301 & 4.935770 & 1.167432 & 5.000000 & 4.964730 & 1.235500 & 0.6666667 &  8.500000 & 7.833333 & -0.2543455 &  0.30753382 & 0.06728967\\\\\n",
       "\tx2 & 2 & 301 & 6.088040 & 1.177451 & 6.000000 & 6.017635 & 1.111950 & 2.2500000 &  9.250000 & 7.000000 &  0.4700766 &  0.33239397 & 0.06786712\\\\\n",
       "\tx3 & 3 & 301 & 2.250415 & 1.130979 & 2.125000 & 2.199170 & 1.297275 & 0.2500000 &  4.500000 & 4.250000 &  0.3834294 & -0.90752645 & 0.06518857\\\\\n",
       "\tx4 & 4 & 301 & 3.060908 & 1.164116 & 3.000000 & 3.024896 & 0.988400 & 0.0000000 &  6.333333 & 6.333333 &  0.2674867 &  0.08012676 & 0.06709855\\\\\n",
       "\tx5 & 5 & 301 & 4.340532 & 1.290472 & 4.500000 & 4.395228 & 1.482600 & 1.0000000 &  7.000000 & 6.000000 & -0.3497961 & -0.55253689 & 0.07438158\\\\\n",
       "\tx6 & 6 & 301 & 2.185572 & 1.095603 & 2.000000 & 2.088322 & 1.059000 & 0.1428571 &  6.142857 & 6.000000 &  0.8579486 &  0.81655717 & 0.06314952\\\\\n",
       "\tx7 & 7 & 301 & 4.185902 & 1.089534 & 4.086957 & 4.163630 & 1.095835 & 1.3043478 &  7.434783 & 6.130435 &  0.2490881 & -0.30740386 & 0.06279967\\\\\n",
       "\tx8 & 8 & 301 & 5.527076 & 1.012615 & 5.500000 & 5.492946 & 0.963690 & 3.0500000 & 10.000000 & 6.950000 &  0.5252580 &  1.17155564 & 0.05836617\\\\\n",
       "\tx9 & 9 & 301 & 5.374123 & 1.009152 & 5.416667 & 5.366067 & 0.988400 & 2.7777778 &  9.250000 & 6.472222 &  0.2038709 &  0.28990791 & 0.05816654\\\\\n",
       "\\end{tabular}\n"
      ],
      "text/markdown": [
       "\n",
       "A psych: 9 × 13\n",
       "\n",
       "| <!--/--> | vars &lt;int&gt; | n &lt;dbl&gt; | mean &lt;dbl&gt; | sd &lt;dbl&gt; | median &lt;dbl&gt; | trimmed &lt;dbl&gt; | mad &lt;dbl&gt; | min &lt;dbl&gt; | max &lt;dbl&gt; | range &lt;dbl&gt; | skew &lt;dbl&gt; | kurtosis &lt;dbl&gt; | se &lt;dbl&gt; |\n",
       "|---|---|---|---|---|---|---|---|---|---|---|---|---|---|\n",
       "| x1 | 1 | 301 | 4.935770 | 1.167432 | 5.000000 | 4.964730 | 1.235500 | 0.6666667 |  8.500000 | 7.833333 | -0.2543455 |  0.30753382 | 0.06728967 |\n",
       "| x2 | 2 | 301 | 6.088040 | 1.177451 | 6.000000 | 6.017635 | 1.111950 | 2.2500000 |  9.250000 | 7.000000 |  0.4700766 |  0.33239397 | 0.06786712 |\n",
       "| x3 | 3 | 301 | 2.250415 | 1.130979 | 2.125000 | 2.199170 | 1.297275 | 0.2500000 |  4.500000 | 4.250000 |  0.3834294 | -0.90752645 | 0.06518857 |\n",
       "| x4 | 4 | 301 | 3.060908 | 1.164116 | 3.000000 | 3.024896 | 0.988400 | 0.0000000 |  6.333333 | 6.333333 |  0.2674867 |  0.08012676 | 0.06709855 |\n",
       "| x5 | 5 | 301 | 4.340532 | 1.290472 | 4.500000 | 4.395228 | 1.482600 | 1.0000000 |  7.000000 | 6.000000 | -0.3497961 | -0.55253689 | 0.07438158 |\n",
       "| x6 | 6 | 301 | 2.185572 | 1.095603 | 2.000000 | 2.088322 | 1.059000 | 0.1428571 |  6.142857 | 6.000000 |  0.8579486 |  0.81655717 | 0.06314952 |\n",
       "| x7 | 7 | 301 | 4.185902 | 1.089534 | 4.086957 | 4.163630 | 1.095835 | 1.3043478 |  7.434783 | 6.130435 |  0.2490881 | -0.30740386 | 0.06279967 |\n",
       "| x8 | 8 | 301 | 5.527076 | 1.012615 | 5.500000 | 5.492946 | 0.963690 | 3.0500000 | 10.000000 | 6.950000 |  0.5252580 |  1.17155564 | 0.05836617 |\n",
       "| x9 | 9 | 301 | 5.374123 | 1.009152 | 5.416667 | 5.366067 | 0.988400 | 2.7777778 |  9.250000 | 6.472222 |  0.2038709 |  0.28990791 | 0.05816654 |\n",
       "\n"
      ],
      "text/plain": [
       "   vars n   mean     sd       median   trimmed  mad      min       max      \n",
       "x1 1    301 4.935770 1.167432 5.000000 4.964730 1.235500 0.6666667  8.500000\n",
       "x2 2    301 6.088040 1.177451 6.000000 6.017635 1.111950 2.2500000  9.250000\n",
       "x3 3    301 2.250415 1.130979 2.125000 2.199170 1.297275 0.2500000  4.500000\n",
       "x4 4    301 3.060908 1.164116 3.000000 3.024896 0.988400 0.0000000  6.333333\n",
       "x5 5    301 4.340532 1.290472 4.500000 4.395228 1.482600 1.0000000  7.000000\n",
       "x6 6    301 2.185572 1.095603 2.000000 2.088322 1.059000 0.1428571  6.142857\n",
       "x7 7    301 4.185902 1.089534 4.086957 4.163630 1.095835 1.3043478  7.434783\n",
       "x8 8    301 5.527076 1.012615 5.500000 5.492946 0.963690 3.0500000 10.000000\n",
       "x9 9    301 5.374123 1.009152 5.416667 5.366067 0.988400 2.7777778  9.250000\n",
       "   range    skew       kurtosis    se        \n",
       "x1 7.833333 -0.2543455  0.30753382 0.06728967\n",
       "x2 7.000000  0.4700766  0.33239397 0.06786712\n",
       "x3 4.250000  0.3834294 -0.90752645 0.06518857\n",
       "x4 6.333333  0.2674867  0.08012676 0.06709855\n",
       "x5 6.000000 -0.3497961 -0.55253689 0.07438158\n",
       "x6 6.000000  0.8579486  0.81655717 0.06314952\n",
       "x7 6.130435  0.2490881 -0.30740386 0.06279967\n",
       "x8 6.950000  0.5252580  1.17155564 0.05836617\n",
       "x9 6.472222  0.2038709  0.28990791 0.05816654"
      ]
     },
     "metadata": {},
     "output_type": "display_data"
    }
   ],
   "source": [
    "describe(hz)"
   ]
  },
  {
   "attachments": {},
   "cell_type": "markdown",
   "id": "f4749a44",
   "metadata": {},
   "source": [
    "I valorei di asimmetria e kurosi sono adeguati.\n",
    "\n",
    "Consideriamo ora le correlazioni tra le variabili usando le funzioni del pacchetto `corrr`:\n",
    "\n",
    "- `corrr::rearrange` raggruppa le variabili altamente correlate \n",
    "- `corrr::rplot` visualizza il risultato."
   ]
  },
  {
   "cell_type": "code",
   "execution_count": 6,
   "id": "6b9305b2",
   "metadata": {
    "vscode": {
     "languageId": "r"
    }
   },
   "outputs": [
    {
     "name": "stderr",
     "output_type": "stream",
     "text": [
      "Correlation computed with\n",
      "\u001b[36m•\u001b[39m Method: 'pearson'\n",
      "\u001b[36m•\u001b[39m Missing treated using: 'pairwise.complete.obs'\n"
     ]
    },
    {
     "data": {
      "image/png": "[encoded data removed]",
      "text/plain": [
       "plot without title"
      ]
     },
     "metadata": {
      "image/png": {
       "height": 420,
       "width": 420
      }
     },
     "output_type": "display_data"
    }
   ],
   "source": [
    "cor_tb <- correlate(hz)\n",
    "\n",
    "cor_tb |>\n",
    "  rearrange() |>\n",
    "  rplot(colors = c(\"red\", \"white\", \"blue\"))"
   ]
  },
  {
   "attachments": {},
   "cell_type": "markdown",
   "id": "aceba9cb",
   "metadata": {},
   "source": [
    "Il grafico suggerisce la presenza di tre gruppi di variabili:\n",
    "\n",
    "- da x4 a x6 (primo gruppo)\n",
    "- da x1 a x3 (secondo gruppo)\n",
    "- da x7 a x9 (terzo gruppo)."
   ]
  },
  {
   "attachments": {},
   "cell_type": "markdown",
   "id": "64f84dbb",
   "metadata": {},
   "source": [
    "## Sfericità di Bartlett\n",
    "\n",
    "Il test di sfericità di Bartlett verifica l’ipotesi che il campione provenga da una popolazione in cui le variabili non sono correlate. Formalmente, il test della sfericità di Bartlett verifica l'ipotesi $H_0 : \\boldsymbol{R} = \\boldsymbol{I}$ tramite la formula:\n",
    "\n",
    "$$\n",
    "\\chi^2 = -\\bigg[n -1 -\\frac{1}{6} (2p +5)\\bigg] \\ln |\\boldsymbol{R}|,\n",
    "$$\n",
    "\n",
    "in cui $n$ è il numero dei soggetti, $p$ il numero delle variabili e\n",
    "$|\\boldsymbol{R}|$ il determinante della matrice di correlazione. \n",
    "\n",
    "La statistica del test di sfericità di Bartlett segue una distribuzione chi-quadro con $p(p - 1)/2$ gradi di libertà. Un valore elevato della statistica indica che la matrice di correlazione R contiene valori di correlazione significativamente diversi da 0. Al contrario, un valore basso della statistica indica che le correlazioni sono basse e non si distinguono da 0.\n",
    "\n",
    "Il limite di questo test è che dipende dal numero delle variabili e dalla\n",
    "numerosità del campione, quindi tende a rigettare $H_0$ all'aumentare del campione e del numero delle variabili, anche se le\n",
    "correlazioni sono piccole.\n",
    "\n",
    "Applichiamo il test di Bartlet per il dati dell'esempio in discussione."
   ]
  },
  {
   "cell_type": "code",
   "execution_count": 7,
   "id": "014dcd3c",
   "metadata": {
    "vscode": {
     "languageId": "r"
    }
   },
   "outputs": [
    {
     "name": "stdout",
     "output_type": "stream",
     "text": [
      "$chisq\n",
      "[1] 904.0971\n",
      "\n",
      "$p.value\n",
      "[1] 1.912079e-166\n",
      "\n",
      "$df\n",
      "[1] 36\n",
      "\n"
     ]
    }
   ],
   "source": [
    "cor_mat <- cor(hz)\n",
    "\n",
    "out = cortest.bartlett(R = cor_mat, n = 301)\n",
    "print(out)"
   ]
  },
  {
   "attachments": {},
   "cell_type": "markdown",
   "id": "7b609800",
   "metadata": {},
   "source": [
    "Il risultato del test di Bartlett sui dati `HolzingerSwineford1939` indica che esiste una correlazione tra le variabili.\n",
    "\n",
    "\n",
    "## Test di adeguatezza campionaria di Kaiser-Meyer-Olkin\n",
    "\n",
    "Il test di Kaiser-Meyer-Olkin (KMO) è uno strumento statistico che valuta l’adeguatezza dei dati per l’analisi fattoriale. Esso misura la proporzione di varianza tra le variabili che potrebbe essere attribuita a fattori comuni. Un valore KMO più alto indica una maggiore adattabilità dei dati all’analisi fattoriale. \n",
    "\n",
    "La statistica di adeguatezza campionaria KMO è data da\n",
    "\n",
    "$$\\text{KMO} = \\frac{\\sum_i\\sum_j r^2_{ij}}{\\sum_i\\sum_j r^2_{ij} +\\sum_i\\sum_jp^2_{ij}},$$\n",
    "\n",
    "dove $r_{ij}$ sono le correlazioni osservate e $p_{ij}$ sono le\n",
    "correlazioni parzializzate su tutte le altre. Se le correlazioni\n",
    "parzializzate sono piccole, KMO tende a 1. \n",
    "\n",
    "Secondo Kaiser (1970), l'adeguatezza campionaria si valuta nel modo seguente:\n",
    "\n",
    "- da 0.00 a 0.49: inaccettabile\n",
    "- da 0.50 a 0.59: miserabile\n",
    "- da 0.60 a 0.69: mediocre\n",
    "- da 0.70 a 0.79: media\n",
    "- da 0.80 a 0.89: meritevole\n",
    "- da 0.90 a 1.00: meravigliosa.\n",
    "\n",
    "Applichiamo il test KMO ai dati `HolzingerSwineford1939`."
   ]
  },
  {
   "cell_type": "code",
   "execution_count": 8,
   "id": "1931f79f",
   "metadata": {
    "vscode": {
     "languageId": "r"
    }
   },
   "outputs": [
    {
     "name": "stdout",
     "output_type": "stream",
     "text": [
      "Kaiser-Meyer-Olkin factor adequacy\n",
      "Call: KMO(r = cor_mat)\n",
      "Overall MSA =  0.75\n",
      "MSA for each item = \n",
      "  x1   x2   x3   x4   x5   x6   x7   x8   x9 \n",
      "0.81 0.78 0.73 0.76 0.74 0.81 0.59 0.68 0.79 \n"
     ]
    }
   ],
   "source": [
    "out = KMO(cor_mat)\n",
    "print(out)"
   ]
  },
  {
   "attachments": {},
   "cell_type": "markdown",
   "id": "e45a6cf1",
   "metadata": {},
   "source": [
    "Per questi dati, il risultato del test KMO indica che l'adeguatezza campionaria è media."
   ]
  }
 ],
 "metadata": {
  "jupytext": {
   "cell_metadata_filter": "tags,-all",
   "main_language": "R",
   "notebook_metadata_filter": "-all"
  },
  "kernelspec": {
   "display_name": "R",
   "language": "R",
   "name": "ir"
  },
  "language_info": {
   "codemirror_mode": "r",
   "file_extension": ".r",
   "mimetype": "text/x-r-source",
   "name": "R",
   "pygments_lexer": "r",
   "version": "4.2.2"
  }
 },
 "nbformat": 4,
 "nbformat_minor": 5
}