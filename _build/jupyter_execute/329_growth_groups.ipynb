{
 "cells": [
  {
   "attachments": {},
   "cell_type": "markdown",
   "id": "6b49dc9f",
   "metadata": {},
   "source": [
    "\n",
    "(lgm-groups-notebook)=\n",
    "# Modelli di crescita latenti a gruppi multipli\n",
    "\n",
    "Nel capitolo precedente abbiamo esaminato i modelli di crescita con covariate invarianti nel tempo. Ora considereremo un quadro alternativo per esaminare le differenze tra le persone nel cambiamento: il confronto tra gruppi (McArdle, 1989; McArdle & Hamagami, 1996). I modelli di crescita con covariate invarianti nel tempo sono utili per studiare le differenze nelle traiettorie medie di crescita ma hanno una utilità limitata per esaminare le differenze in altri aspetti del processo di cambiamento intra-persona e le differenze tra le persone in quel processo. Senza estensione, tali modelli di covariate invarianti nel tempo non ci dicono nulla sulle differenze nelle varianze e covarianze tra i fattori di crescita, la variabilità residua e la struttura dei cambiamenti intra-persona. In questo capitolo illustriamo come il confronto tra gruppi possa essere utilizzato per esaminare le differenze in qualsiasi aspetto del modello di crescita. Questa flessibilità può fornire ulteriori informazioni su come e perché gli individui differiscono nel loro sviluppo.\n",
    "\n",
    "Carichiamo i pacchetti necessari."
   ]
  },
  {
   "cell_type": "code",
   "execution_count": 1,
   "id": "57aaf1fc",
   "metadata": {
    "tags": [
     "remove_cell"
    ],
    "vscode": {
     "languageId": "r"
    }
   },
   "outputs": [
    {
     "ename": "ERROR",
     "evalue": "Error in library(\"patchwork\"): there is no package called ‘patchwork’\n",
     "output_type": "error",
     "traceback": [
      "Error in library(\"patchwork\"): there is no package called ‘patchwork’\nTraceback:\n",
      "1. source(\"_common.R\")",
      "2. withVisible(eval(ei, envir))",
      "3. eval(ei, envir)",
      "4. eval(ei, envir)",
      "5. suppressPackageStartupMessages({\n .     library(\"here\")\n .     library(\"tidyverse\")\n .     library(\"scales\")\n .     library(\"patchwork\")\n .     library(\"bayesplot\")\n .     library(\"ggExtra\")\n .     library(\"ggpubr\")\n .     library(\"viridis\")\n .     library(\"ggokabeito\")\n . })",
      "6. withCallingHandlers(expr, packageStartupMessage = function(c) tryInvokeRestart(\"muffleMessage\"))",
      "7. library(\"patchwork\")"
     ]
    }
   ],
   "source": [
    "source(\"_common.R\")\n",
    "suppressPackageStartupMessages({\n",
    "    library(\"lavaan\")\n",
    "    library(\"semPlot\")\n",
    "    library(\"knitr\")\n",
    "    library(\"markdown\")\n",
    "    library(\"patchwork\")\n",
    "    library(\"psych\")\n",
    "    library(\"DT\")\n",
    "    library(\"kableExtra\")\n",
    "    library(\"lme4\")\n",
    "})\n",
    "\n",
    "set.seed(42)"
   ]
  },
  {
   "attachments": {},
   "cell_type": "markdown",
   "id": "c8c6a212",
   "metadata": {},
   "source": [
    "Per i nostri esempi, utilizziamo i punteggi di rendimento in matematica dai dati  NLSY-CYA [si veda {cite:t}`grimm2016growth`]. Iniziamo a leggere i dati."
   ]
  },
  {
   "cell_type": "code",
   "execution_count": null,
   "id": "6813372b",
   "metadata": {
    "vscode": {
     "languageId": "r"
    }
   },
   "outputs": [],
   "source": [
    "# set filepath for data file\n",
    "filepath <- \"https://raw.githubusercontent.com/LRI-2/Data/main/GrowthModeling/nlsy_math_long_R.dat\"\n",
    "# read in the text data file using the url() function\n",
    "dat <- read.table(\n",
    "  file = url(filepath),\n",
    "  na.strings = \".\"\n",
    ") # indicates the missing data designator\n",
    "# copy data with new name\n",
    "nlsy_math_long <- dat\n",
    "\n",
    "# Add names the columns of the data set\n",
    "names(nlsy_math_long) <- c(\n",
    "  \"id\", \"female\", \"lb_wght\",\n",
    "  \"anti_k1\", \"math\", \"grade\",\n",
    "  \"occ\", \"age\", \"men\",\n",
    "  \"spring\", \"anti\"\n",
    ")\n",
    "\n",
    "# reducing to variables of interest\n",
    "nlsy_math_long <- nlsy_math_long[, c(\"id\", \"grade\", \"math\", \"lb_wght\")]\n",
    "\n",
    "# adding another dummy code variable for normal birth weight that coded the opposite of the low brithweight variable.\n",
    "nlsy_math_long$nb_wght <- 1 - nlsy_math_long$lb_wght\n",
    "\n",
    "# view the first few observations in the data set\n",
    "head(nlsy_math_long, 10)"
   ]
  },
  {
   "attachments": {},
   "cell_type": "markdown",
   "id": "6180051c",
   "metadata": {},
   "source": [
    "Esaminiamo le curve di crescita nei due gruppi.\n"
   ]
  },
  {
   "cell_type": "code",
   "execution_count": null,
   "id": "2ed1779e",
   "metadata": {
    "vscode": {
     "languageId": "r"
    }
   },
   "outputs": [],
   "source": [
    "# intraindividual change trajetories\n",
    "ggplot(\n",
    "  data = nlsy_math_long, # data set\n",
    "  aes(x = grade, y = math, group = id)\n",
    ") + # setting variables\n",
    "  geom_point(size = .5) + # adding points to plot\n",
    "  geom_line() + # adding lines to plot\n",
    "  theme_bw() + # changing style/background\n",
    "  # setting the x-axis with breaks and labels\n",
    "  scale_x_continuous(\n",
    "    limits = c(2, 8),\n",
    "    breaks = c(2, 3, 4, 5, 6, 7, 8),\n",
    "    name = \"Grade at Testing\"\n",
    "  ) +\n",
    "  # setting the y-axis with limits breaks and labels\n",
    "  scale_y_continuous(\n",
    "    limits = c(10, 90),\n",
    "    breaks = c(10, 30, 50, 70, 90),\n",
    "    name = \"PIAT Mathematics\"\n",
    "  ) +\n",
    "  facet_wrap(~lb_wght)"
   ]
  },
  {
   "attachments": {},
   "cell_type": "markdown",
   "id": "13e434c0",
   "metadata": {},
   "source": [
    "Per semplicità, carichiamo di nuovo i dati già trasformati in formato wide."
   ]
  },
  {
   "cell_type": "code",
   "execution_count": null,
   "id": "41a0ae57",
   "metadata": {
    "vscode": {
     "languageId": "r"
    }
   },
   "outputs": [],
   "source": [
    "# set filepath for data file\n",
    "filepath <- \"https://raw.githubusercontent.com/LRI-2/Data/main/GrowthModeling/nlsy_math_wide_R.dat\"\n",
    "# read in the text data file using the url() function\n",
    "dat <- read.table(\n",
    "  file = url(filepath),\n",
    "  na.strings = \".\"\n",
    ") # indicates the missing data designator\n",
    "# copy data with new name\n",
    "nlsy_math_wide <- dat\n",
    "\n",
    "# Give the variable names\n",
    "names(nlsy_math_wide) <- c(\n",
    "  \"id\", \"female\", \"lb_wght\", \"anti_k1\",\n",
    "  \"math2\", \"math3\", \"math4\", \"math5\", \"math6\", \"math7\", \"math8\",\n",
    "  \"age2\", \"age3\", \"age4\", \"age5\", \"age6\", \"age7\", \"age8\",\n",
    "  \"men2\", \"men3\", \"men4\", \"men5\", \"men6\", \"men7\", \"men8\",\n",
    "  \"spring2\", \"spring3\", \"spring4\", \"spring5\", \"spring6\", \"spring7\", \"spring8\",\n",
    "  \"anti2\", \"anti3\", \"anti4\", \"anti5\", \"anti6\", \"anti7\", \"anti8\"\n",
    ")\n",
    "\n",
    "# view the first few observations (and columns) in the data set\n",
    "head(nlsy_math_wide[, 1:11], 10)"
   ]
  },
  {
   "attachments": {},
   "cell_type": "markdown",
   "id": "dddfec3e",
   "metadata": {},
   "source": [
    "## Invarianza tra gruppi\n",
    "\n",
    "Definiamo il modello di crescita latente per i due gruppi."
   ]
  },
  {
   "cell_type": "code",
   "execution_count": null,
   "id": "64846ca9",
   "metadata": {
    "vscode": {
     "languageId": "r"
    }
   },
   "outputs": [],
   "source": [
    "# writing out linear growth model in full SEM way\n",
    "mg_math_lavaan_model <- \"\n",
    "  # latent variable definitions\n",
    "      #intercept (note intercept is a reserved term)\n",
    "      eta_1 =~ 1*math2\n",
    "      eta_1 =~ 1*math3\n",
    "      eta_1 =~ 1*math4\n",
    "      eta_1 =~ 1*math5\n",
    "      eta_1 =~ 1*math6\n",
    "      eta_1 =~ 1*math7\n",
    "      eta_1 =~ 1*math8\n",
    "\n",
    "      #linear slope\n",
    "      eta_2 =~ 0*math2\n",
    "      eta_2 =~ 1*math3\n",
    "      eta_2 =~ 2*math4\n",
    "      eta_2 =~ 3*math5\n",
    "      eta_2 =~ 4*math6\n",
    "      eta_2 =~ 5*math7\n",
    "      eta_2 =~ 6*math8\n",
    "\n",
    "  # factor variances\n",
    "      eta_1 ~~ eta_1\n",
    "      eta_2 ~~ eta_2\n",
    "\n",
    "  # covariances among factors\n",
    "      eta_1 ~~ eta_2\n",
    "\n",
    "  # factor means\n",
    "      eta_1 ~ start(35)*1\n",
    "      eta_2 ~ start(4)*1\n",
    "\n",
    "  # manifest variances (made equivalent by naming theta)\n",
    "      math2 ~~ theta*math2\n",
    "      math3 ~~ theta*math3\n",
    "      math4 ~~ theta*math4\n",
    "      math5 ~~ theta*math5\n",
    "      math6 ~~ theta*math6\n",
    "      math7 ~~ theta*math7\n",
    "      math8 ~~ theta*math8\n",
    "  # manifest means (fixed at zero)\n",
    "      math2 ~ 0*1\n",
    "      math3 ~ 0*1\n",
    "      math4 ~ 0*1\n",
    "      math5 ~ 0*1\n",
    "      math6 ~ 0*1\n",
    "      math7 ~ 0*1\n",
    "      math8 ~ 0*1\n",
    "\" # end of model definition"
   ]
  },
  {
   "attachments": {},
   "cell_type": "markdown",
   "id": "e36b2cb9",
   "metadata": {},
   "source": [
    "Adattiamo il modello ai dati specificando la separazione delle osservazioni in due gruppi e introducendo i vincoli di eguaglianza tra gruppi sulle saturazioni fattoriali, le medie, le varianze, le covarianze, e i residui. In questo modello, sostanzialmente, non c'è alcune differenza tra gruppi."
   ]
  },
  {
   "cell_type": "code",
   "execution_count": null,
   "id": "f02a2ff2",
   "metadata": {
    "vscode": {
     "languageId": "r"
    }
   },
   "outputs": [],
   "source": [
    "mg_math_lavaan_fitM1 <- sem(mg_math_lavaan_model,\n",
    "  data = nlsy_math_wide,\n",
    "  meanstructure = TRUE,\n",
    "  estimator = \"ML\",\n",
    "  missing = \"fiml\",\n",
    "  group = \"lb_wght\", # to separate groups\n",
    "  group.equal = c(\n",
    "    \"loadings\", # for constraints\n",
    "    \"means\",\n",
    "    \"lv.variances\",\n",
    "    \"lv.covariances\",\n",
    "    \"residuals\"\n",
    "  )\n",
    ")"
   ]
  },
  {
   "attachments": {},
   "cell_type": "markdown",
   "id": "f847e946",
   "metadata": {},
   "source": [
    "Esaminiamo il risultato"
   ]
  },
  {
   "cell_type": "code",
   "execution_count": null,
   "id": "53f9578d",
   "metadata": {
    "vscode": {
     "languageId": "r"
    }
   },
   "outputs": [],
   "source": [
    "out = summary(mg_math_lavaan_fitM1, fit.measures = TRUE)\n",
    "print(out)"
   ]
  },
  {
   "attachments": {},
   "cell_type": "markdown",
   "id": "24a96289",
   "metadata": {},
   "source": [
    "Creiamo il diagramma di percorso.\n"
   ]
  },
  {
   "cell_type": "code",
   "execution_count": null,
   "id": "d790e2c0",
   "metadata": {
    "vscode": {
     "languageId": "r"
    }
   },
   "outputs": [],
   "source": [
    "semPaths(mg_math_lavaan_fitM1, what = \"path\", whatLabels = \"par\")"
   ]
  },
  {
   "attachments": {},
   "cell_type": "markdown",
   "id": "84205971",
   "metadata": {},
   "source": [
    "## Vincoli sulle medie\n",
    "\n",
    "Trasformiamo ora il modello restrittivo specificato in precedenza allentando via via i vincoli che abbiamo introdotto. In questo modello rendiamo possibile la differenza tra le medie nei due gruppi."
   ]
  },
  {
   "cell_type": "code",
   "execution_count": null,
   "id": "2794a8bd",
   "metadata": {
    "vscode": {
     "languageId": "r"
    }
   },
   "outputs": [],
   "source": [
    "mg_math_lavaan_fitM2 <- sem(mg_math_lavaan_model,\n",
    "  data = nlsy_math_wide,\n",
    "  meanstructure = TRUE,\n",
    "  estimator = \"ML\",\n",
    "  missing = \"fiml\",\n",
    "  group = \"lb_wght\", # to separate groups\n",
    "  group.equal = c(\n",
    "    \"loadings\", # for constraints\n",
    "    # \"means\", commented out so can differ\n",
    "    \"lv.variances\",\n",
    "    \"lv.covariances\",\n",
    "    \"residuals\"\n",
    "  )\n",
    ")"
   ]
  },
  {
   "attachments": {},
   "cell_type": "markdown",
   "id": "9d66e847",
   "metadata": {},
   "source": [
    "Esaminiamo il risultato."
   ]
  },
  {
   "cell_type": "code",
   "execution_count": null,
   "id": "8e42cba0",
   "metadata": {
    "vscode": {
     "languageId": "r"
    }
   },
   "outputs": [],
   "source": [
    "out = summary(mg_math_lavaan_fitM2, fit.measures = TRUE)\n",
    "print(out)"
   ]
  },
  {
   "attachments": {},
   "cell_type": "markdown",
   "id": "de55975f",
   "metadata": {},
   "source": [
    "Eseguiamo il confronto tra i due modelli."
   ]
  },
  {
   "cell_type": "code",
   "execution_count": null,
   "id": "4713bc86",
   "metadata": {
    "vscode": {
     "languageId": "r"
    }
   },
   "outputs": [],
   "source": [
    "anova(mg_math_lavaan_fitM1, mg_math_lavaan_fitM2)"
   ]
  },
  {
   "attachments": {},
   "cell_type": "markdown",
   "id": "7bfae4f0",
   "metadata": {},
   "source": [
    "Non vi è evidenza che consentire una differenza tra medie tra gruppi migliori l'adattamento del modello."
   ]
  },
  {
   "attachments": {},
   "cell_type": "markdown",
   "id": "5644b369",
   "metadata": {},
   "source": [
    "## Vincoli sulle varianze/covarianze\n",
    "\n",
    "Nel modello M3 consentiamo che anche le varianza e le covarianza differiscano tra gruppi, oltre alle medie."
   ]
  },
  {
   "cell_type": "code",
   "execution_count": null,
   "id": "0de4503b",
   "metadata": {
    "vscode": {
     "languageId": "r"
    }
   },
   "outputs": [],
   "source": [
    "mg_math_lavaan_fitM3 <- sem(mg_math_lavaan_model,\n",
    "  data = nlsy_math_wide,\n",
    "  meanstructure = TRUE,\n",
    "  estimator = \"ML\",\n",
    "  missing = \"fiml\",\n",
    "  group = \"lb_wght\", # to separate groups\n",
    "  group.equal = c(\n",
    "    \"loadings\", # for constraints\n",
    "    # \"means\", commented out so can differ\n",
    "    # \"lv.variances\",\n",
    "    # \"lv.covariances\",\n",
    "    \"residuals\"\n",
    "  )\n",
    ")"
   ]
  },
  {
   "attachments": {},
   "cell_type": "markdown",
   "id": "296f4413",
   "metadata": {},
   "source": [
    "Esaminiamo i risultati."
   ]
  },
  {
   "cell_type": "code",
   "execution_count": null,
   "id": "67eecc98",
   "metadata": {
    "vscode": {
     "languageId": "r"
    }
   },
   "outputs": [],
   "source": [
    "out = summary(mg_math_lavaan_fitM3, fit.measures = TRUE)\n",
    "print(out)"
   ]
  },
  {
   "attachments": {},
   "cell_type": "markdown",
   "id": "88dc0e20",
   "metadata": {},
   "source": [
    "Confrontiamo il modello M2 con il modello M3."
   ]
  },
  {
   "cell_type": "code",
   "execution_count": null,
   "id": "cf6c8042",
   "metadata": {
    "vscode": {
     "languageId": "r"
    }
   },
   "outputs": [],
   "source": [
    "anova(mg_math_lavaan_fitM2, mg_math_lavaan_fitM3)"
   ]
  },
  {
   "attachments": {},
   "cell_type": "markdown",
   "id": "fccbd936",
   "metadata": {},
   "source": [
    "Non ci sono evidenze che una differenza nelle varianze e nelle covarianze tra gruppi migliori la bontà dell'adattamento del modello ai dati.\n",
    "\n",
    "## Vincoli sui residui\n",
    "\n",
    "Esaminiamo ora il vincolo sulle covarianze residue. Iniziamo a specificare il modello in una nuova forma."
   ]
  },
  {
   "cell_type": "code",
   "execution_count": null,
   "id": "9cc4af7d",
   "metadata": {
    "vscode": {
     "languageId": "r"
    }
   },
   "outputs": [],
   "source": [
    "mg_math_lavaan_model4 <- \"\n",
    "  # latent variable definitions\n",
    "      #intercept (note intercept is a reserved term)\n",
    "      eta_1 =~ 1*math2\n",
    "      eta_1 =~ 1*math3\n",
    "      eta_1 =~ 1*math4\n",
    "      eta_1 =~ 1*math5\n",
    "      eta_1 =~ 1*math6\n",
    "      eta_1 =~ 1*math7\n",
    "      eta_1 =~ 1*math8\n",
    "\n",
    "      #linear slope\n",
    "      eta_2 =~ 0*math2\n",
    "      eta_2 =~ 1*math3\n",
    "      eta_2 =~ 2*math4\n",
    "      eta_2 =~ 3*math5\n",
    "      eta_2 =~ 4*math6\n",
    "      eta_2 =~ 5*math7\n",
    "      eta_2 =~ 6*math8\n",
    "\n",
    "  # factor variances\n",
    "      eta_1 ~~ start(60)*eta_1\n",
    "      eta_2 ~~ start(.75)*eta_2\n",
    "\n",
    "  # covariances among factors\n",
    "      eta_1 ~~ eta_2\n",
    "\n",
    "  # factor means\n",
    "      eta_1 ~ start(35)*1\n",
    "      eta_2 ~ start(4)*1\n",
    "\n",
    "  # manifest variances (made equivalent by naming theta)\n",
    "      math2 ~~ c(theta1,theta2)*math2\n",
    "      math3 ~~ c(theta1,theta2)*math3\n",
    "      math4 ~~ c(theta1,theta2)*math4\n",
    "      math5 ~~ c(theta1,theta2)*math5\n",
    "      math6 ~~ c(theta1,theta2)*math6\n",
    "      math7 ~~ c(theta1,theta2)*math7\n",
    "      math8 ~~ c(theta1,theta2)*math8\n",
    "  # manifest means (fixed at zero)\n",
    "      math2 ~ 0*1\n",
    "      math3 ~ 0*1\n",
    "      math4 ~ 0*1\n",
    "      math5 ~ 0*1\n",
    "      math6 ~ 0*1\n",
    "      math7 ~ 0*1\n",
    "      math8 ~ 0*1\n",
    "\" # end of model definition"
   ]
  },
  {
   "attachments": {},
   "cell_type": "markdown",
   "id": "83c9041f",
   "metadata": {},
   "source": [
    "Adattiamo il modello ai dati."
   ]
  },
  {
   "cell_type": "code",
   "execution_count": null,
   "id": "53a78129",
   "metadata": {
    "vscode": {
     "languageId": "r"
    }
   },
   "outputs": [],
   "source": [
    "mg_math_lavaan_fitM4 <- sem(mg_math_lavaan_model4,\n",
    "  data = nlsy_math_wide,\n",
    "  meanstructure = TRUE,\n",
    "  estimator = \"ML\",\n",
    "  missing = \"fiml\",\n",
    "  group = \"lb_wght\", # to separate groups\n",
    "  group.equal = c(\"loadings\")\n",
    ") # for constraints"
   ]
  },
  {
   "attachments": {},
   "cell_type": "markdown",
   "id": "c2d2e5d9",
   "metadata": {},
   "source": [
    "Esaminiamo i risulati."
   ]
  },
  {
   "cell_type": "code",
   "execution_count": null,
   "id": "8c1c8647",
   "metadata": {
    "vscode": {
     "languageId": "r"
    }
   },
   "outputs": [],
   "source": [
    "out = summary(mg_math_lavaan_fitM4, fit.measures = TRUE)\n",
    "print(out)"
   ]
  },
  {
   "attachments": {},
   "cell_type": "markdown",
   "id": "aed257ea",
   "metadata": {},
   "source": [
    "Facciamo un confronto tra la bontà di adattamento del modello M3 e del modello M4."
   ]
  },
  {
   "cell_type": "code",
   "execution_count": null,
   "id": "64fc5e81",
   "metadata": {
    "vscode": {
     "languageId": "r"
    }
   },
   "outputs": [],
   "source": [
    "anova(mg_math_lavaan_fitM3, mg_math_lavaan_fitM4)"
   ]
  },
  {
   "attachments": {},
   "cell_type": "markdown",
   "id": "fdce45de",
   "metadata": {},
   "source": [
    "Anche in questo caso non otteniamo un risultato che fornisce evidenza di differenze tra i due gruppi.\n",
    "\n",
    "## Conclusioni\n",
    "\n",
    "In conclusione, possiamo dire che le evidenze presenti suggeriscono che i modelli di crescita latente per di due gruppi hanno parametri uguali per ciò che concerne le saturazioni fattoriali, le medie, le varianze, le covarianze, e i residui. "
   ]
  }
 ],
 "metadata": {
  "jupytext": {
   "cell_metadata_filter": "tags,-all",
   "main_language": "R",
   "notebook_metadata_filter": "-all"
  },
  "kernelspec": {
   "display_name": "R",
   "language": "R",
   "name": "ir"
  },
  "language_info": {
   "codemirror_mode": "r",
   "file_extension": ".r",
   "mimetype": "text/x-r-source",
   "name": "R",
   "pygments_lexer": "r",
   "version": "4.3.0"
  }
 },
 "nbformat": 4,
 "nbformat_minor": 5
}