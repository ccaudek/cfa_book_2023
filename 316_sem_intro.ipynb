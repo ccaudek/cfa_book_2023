{
 "cells": [
  {
   "attachments": {},
   "cell_type": "markdown",
   "metadata": {},
   "source": [
    "(sem-intro-notebook)=\n",
    "# Modelli di equazioni strutturali"
   ]
  },
  {
   "attachments": {},
   "cell_type": "markdown",
   "metadata": {},
   "source": [
    "Un modello di equazioni strutturali (SEM) è una tecnica statistica avanzata che combina l’analisi fattoriale confermativa e l’analisi dei percorsi. La modellizzazione delle equazioni strutturali comprende due componenti principali: il modello di misura e il modello strutturale. Il modello di misura può essere rappresentato come un modello fattoriale, mentre il modello strutturale è un modello di analisi dei percorsi che specifica le relazioni tra le variabili latenti in termini di effetti causali, simili all’interpretazione fornita dall’analisi di regressione.\n",
    "\n",
    "Il processo di analisi SEM è composto dai seguenti passaggi e decisioni:\n",
    "\n",
    "- Costruire un diagramma dei percorsi che mostri il modello di misura e strutturale di interesse.\n",
    "- Identificare il livello di misura per ogni item e verificare le ipotesi distributive.\n",
    "- Assicurarsi che la funzione di adattamento scelta sia basata sui tipi di misura (ad esempio, massima verosimiglianza per misure continue, minimi quadrati ponderato per misure ordinali).\n",
    "- Adattare il modello utilizzando la funzione di adattamento appropriata e valutare l’adattamento del modello utilizzando un insieme di indici. \n",
    "- Una volta stabilito un modello plausibile, interpretare i vari parametri a livello di elemento (ad esempio, saturazioni fattoriali, errori standard, valori R-quadrati, termini di errore, ecc.)"
   ]
  },
  {
   "cell_type": "code",
   "execution_count": 37,
   "metadata": {
    "vscode": {
     "languageId": "r"
    }
   },
   "outputs": [],
   "source": [
    "suppressPackageStartupMessages({\n",
    "    library(\"lavaan\")\n",
    "    library(\"lavaanExtra\")\n",
    "    library(\"lavaanPlot\")\n",
    "    library(\"dplyr\") \n",
    "    library(\"tidyr\")\n",
    "    library(\"knitr\")\n",
    "    library(\"mvnormalTest\")\n",
    "    library(\"semPlot\")\n",
    "})\n",
    "\n",
    "set.seed(42)"
   ]
  },
  {
   "cell_type": "code",
   "execution_count": 4,
   "metadata": {
    "vscode": {
     "languageId": "r"
    }
   },
   "outputs": [
    {
     "name": "stdout",
     "output_type": "stream",
     "text": [
      "Rows: 301\n",
      "Columns: 15\n",
      "$ id     \u001b[3m\u001b[90m<int>\u001b[39m\u001b[23m 1, 2, 3, 4, 5, 6, 7, 8, 9, 11, 12, 13, 14, 15, 16, 17, 18, 19, …\n",
      "$ sex    \u001b[3m\u001b[90m<int>\u001b[39m\u001b[23m 1, 2, 2, 1, 2, 2, 1, 2, 2, 2, 1, 1, 2, 2, 1, 2, 2, 1, 2, 2, 1, …\n",
      "$ ageyr  \u001b[3m\u001b[90m<int>\u001b[39m\u001b[23m 13, 13, 13, 13, 12, 14, 12, 12, 13, 12, 12, 12, 12, 12, 12, 12,…\n",
      "$ agemo  \u001b[3m\u001b[90m<int>\u001b[39m\u001b[23m 1, 7, 1, 2, 2, 1, 1, 2, 0, 5, 2, 11, 7, 8, 6, 1, 11, 5, 8, 3, 1…\n",
      "$ school \u001b[3m\u001b[90m<fct>\u001b[39m\u001b[23m Pasteur, Pasteur, Pasteur, Pasteur, Pasteur, Pasteur, Pasteur, …\n",
      "$ grade  \u001b[3m\u001b[90m<int>\u001b[39m\u001b[23m 7, 7, 7, 7, 7, 7, 7, 7, 7, 7, 7, 7, 7, 7, 7, 7, 7, 7, 7, 7, 7, …\n",
      "$ x1     \u001b[3m\u001b[90m<dbl>\u001b[39m\u001b[23m 3.333333, 5.333333, 4.500000, 5.333333, 4.833333, 5.333333, 2.8…\n",
      "$ x2     \u001b[3m\u001b[90m<dbl>\u001b[39m\u001b[23m 7.75, 5.25, 5.25, 7.75, 4.75, 5.00, 6.00, 6.25, 5.75, 5.25, 5.7…\n",
      "$ x3     \u001b[3m\u001b[90m<dbl>\u001b[39m\u001b[23m 0.375, 2.125, 1.875, 3.000, 0.875, 2.250, 1.000, 1.875, 1.500, …\n",
      "$ x4     \u001b[3m\u001b[90m<dbl>\u001b[39m\u001b[23m 2.333333, 1.666667, 1.000000, 2.666667, 2.666667, 1.000000, 3.3…\n",
      "$ x5     \u001b[3m\u001b[90m<dbl>\u001b[39m\u001b[23m 5.75, 3.00, 1.75, 4.50, 4.00, 3.00, 6.00, 4.25, 5.75, 5.00, 3.5…\n",
      "$ x6     \u001b[3m\u001b[90m<dbl>\u001b[39m\u001b[23m 1.2857143, 1.2857143, 0.4285714, 2.4285714, 2.5714286, 0.857142…\n",
      "$ x7     \u001b[3m\u001b[90m<dbl>\u001b[39m\u001b[23m 3.391304, 3.782609, 3.260870, 3.000000, 3.695652, 4.347826, 4.6…\n",
      "$ x8     \u001b[3m\u001b[90m<dbl>\u001b[39m\u001b[23m 5.75, 6.25, 3.90, 5.30, 6.30, 6.65, 6.20, 5.15, 4.65, 4.55, 5.7…\n",
      "$ x9     \u001b[3m\u001b[90m<dbl>\u001b[39m\u001b[23m 6.361111, 7.916667, 4.416667, 4.861111, 5.916667, 7.500000, 4.8…\n"
     ]
    }
   ],
   "source": [
    "data(HolzingerSwineford1939)\n",
    "glimpse(HolzingerSwineford1939)"
   ]
  },
  {
   "attachments": {},
   "cell_type": "markdown",
   "metadata": {},
   "source": [
    "## Valutazione delle assunzioni\n",
    "\n",
    "Un’analisi SEM inizia con una valutazione sulla distribuzione delle variabili endogene. In particolare, dobbiamo valutare l’ipotesi di normalità multivariata. Utilizziamo il pacchetto `mvnormalTest` per la normalità univariata (test W di Shapiro-Wilk) e multivariata (test di asimmetria e curtosi multivariata di Mardia).\n",
    "\n",
    "Iniziamo con la normalità univariata."
   ]
  },
  {
   "cell_type": "code",
   "execution_count": 13,
   "metadata": {
    "vscode": {
     "languageId": "r"
    }
   },
   "outputs": [
    {
     "data": {
      "text/plain": [
       "   W      p-value UV.Normality\n",
       "x1 0.9928 0.1582  Yes         \n",
       "x2 0.9697 0       No          \n",
       "x3 0.9523 0       No          \n",
       "x4 0.9827 0.0011  No          \n",
       "x5 0.9769 1e-04   No          \n",
       "x6 0.9538 0       No          \n",
       "x7 0.9908 0.056   Yes         \n",
       "x8 0.9807 4e-04   No          \n",
       "x9 0.9942 0.307   Yes         "
      ]
     },
     "metadata": {},
     "output_type": "display_data"
    }
   ],
   "source": [
    "temp <- HolzingerSwineford1939 |>\n",
    "    select(-c(id, sex, school, ageyr, agemo, grade))\n",
    "mvnout <- mardia(temp)\n",
    "## Shapiro-Wilk Univariate normality test\n",
    "mvnout$uv.shapiro"
   ]
  },
  {
   "cell_type": "code",
   "execution_count": 15,
   "metadata": {
    "vscode": {
     "languageId": "r"
    }
   },
   "outputs": [
    {
     "name": "stdout",
     "output_type": "stream",
     "text": [
      "          Test Statistic p-value Result\n",
      "1     Skewness  344.9053       0     NO\n",
      "2     Kurtosis    3.2344  0.0012     NO\n",
      "3 MV Normality      <NA>    <NA>     NO\n"
     ]
    }
   ],
   "source": [
    "out = mvnout$mv.test\n",
    "print(out)"
   ]
  },
  {
   "attachments": {},
   "cell_type": "markdown",
   "metadata": {},
   "source": [
    "I risultati sia dei test univariati che multivariati indicano che le misure non provengono da distribuzioni univariate o multivariate normalmente distribuite (i risultati ‘No’ nella tabella). Affrontiamo questi problemi nella successiva fase di specifica del modello.\n",
    "\n",
    "## Specificazione del modello\n",
    "\n",
    "La sintassi SEM di lavaan è intuitiva. In primo luogo, definiamo il nostro modello utilizzando la sintassi del modello lavaan e quindi specificare i dettagli tecnici per l'adattamento del modello nella funzione `sem`. "
   ]
  },
  {
   "cell_type": "code",
   "execution_count": 16,
   "metadata": {
    "vscode": {
     "languageId": "r"
    }
   },
   "outputs": [],
   "source": [
    "model <- \"\n",
    "\n",
    "    # [-----Latent variables (measurement model)-----]\n",
    "\n",
    "    visual =~ x1 + x2 + x3\n",
    "    textual =~ x4 + x5 + x6\n",
    "    speed =~ x7 + x8 + x9\n",
    "\n",
    "    # [-----------Mediations (named paths)-----------]\n",
    "\n",
    "    speed ~ visual_speed*visual\n",
    "    textual ~ visual_textual*visual\n",
    "    visual ~ ageyr_visual*ageyr + grade_visual*grade\n",
    "\n",
    "    # [---------Regressions (Direct effects)---------]\n",
    "\n",
    "    speed ~ ageyr + grade\n",
    "    textual ~ ageyr + grade\n",
    "\n",
    "    # [------------------Covariances-----------------]\n",
    "\n",
    "    speed ~~ textual\n",
    "    ageyr ~~ grade\n",
    "\n",
    "    # [--------Mediations (indirect effects)---------]\n",
    "\n",
    "    ageyr_visual_speed := ageyr_visual * visual_speed\n",
    "    ageyr_visual_textual := ageyr_visual * visual_textual\n",
    "    grade_visual_speed := grade_visual * visual_speed\n",
    "    grade_visual_textual := grade_visual * visual_textual\n",
    "\n",
    "\"\n"
   ]
  },
  {
   "attachments": {},
   "cell_type": "markdown",
   "metadata": {},
   "source": [
    "Dato che abbiamo riscontrato violazioni dell'ipotesi di normalità multivariata richiesta per i modelli SEM, dobbiamo utilizzare lo stimatore \"MLM\" come funzione di adattamento. Questo stimatore utilizza una procedura di massima verosimiglianza e fornisce errori standard robusti e una statistica di test scalata di Satorra-Bentler per affrontare i problemi di violazione della normalità multivariata.\n",
    "\n",
    "È importante notare che i problemi con i dati non normali possono portare a una sottostima degli errori standard, il che può portare a respingere troppo spesso l'ipotesi nulla che un parametro sia zero e ad un'inflazione della statistica chi-quadrato del modello, portando a respingere troppo spesso il modello.\n",
    "\n",
    "## Bontà di adattamento\n",
    "\n",
    "In genere, i ricercatori esaminano le statistiche di adattamento del modello prima di procedere all’interpretazione delle stime dei parametri. L’ipotesi nulla in un’analisi SEM è che la matrice di covarianza implicata o riprodotta dal modello specificato sia statisticamente la stessa della matrice di covarianza di input. Contrariamente al solito test delle ipotesi, speriamo di mantenere l’ipotesi nulla che le due matrici siano statisticamente le stesse."
   ]
  },
  {
   "cell_type": "code",
   "execution_count": 23,
   "metadata": {
    "vscode": {
     "languageId": "r"
    }
   },
   "outputs": [],
   "source": [
    "fit <- sem(model, data=HolzingerSwineford1939, std.lv = TRUE, estimator = \"MLM\")\n"
   ]
  },
  {
   "attachments": {},
   "cell_type": "markdown",
   "metadata": {},
   "source": [
    "Iniziamo a valutare l’adattamento del modello con un test chi-quadrato ottenuto dall’output di lavaan come segue:"
   ]
  },
  {
   "cell_type": "code",
   "execution_count": 28,
   "metadata": {
    "vscode": {
     "languageId": "r"
    }
   },
   "outputs": [
    {
     "name": "stdout",
     "output_type": "stream",
     "text": [
      " chisq.scaled     df.scaled pvalue.scaled \n",
      "      110.247        36.000         0.000 \n"
     ]
    }
   ],
   "source": [
    "out = fitMeasures(fit, c(\"chisq.scaled\", \"df.scaled\", \"pvalue.scaled\"))\n",
    "print(out)"
   ]
  },
  {
   "attachments": {},
   "cell_type": "markdown",
   "metadata": {},
   "source": [
    "Il rapporto tra chi-quadrato e gradi di libertà è minore di 4, il che è accettabile, anche se indicativo di un fit non eccellente.\n",
    "\n",
    "La Root Mean Square Error of Approximation (RMSEA) è una misura popolare della discrepanza tra le matrici di correlazione basate sul modello e quelle osservate. Utilizza il chi-quadrato del modello nel suo calcolo ma apporta correzioni in base alla complessità del modello (correzione per la parsimonia) e ha una distribuzione campionaria nota in modo da poter calcolare gli intervalli di confidenza. Abbiamo ottenuto valori RMSEA scalati dall’output di lavaan come segue:"
   ]
  },
  {
   "cell_type": "code",
   "execution_count": 27,
   "metadata": {
    "vscode": {
     "languageId": "r"
    }
   },
   "outputs": [
    {
     "name": "stdout",
     "output_type": "stream",
     "text": [
      "         rmsea.scaled rmsea.ci.lower.scaled rmsea.ci.upper.scaled \n",
      "                0.083                 0.066                 0.100 \n"
     ]
    }
   ],
   "source": [
    "out = fitMeasures(fit, c(\"rmsea.scaled\", \"rmsea.ci.lower.scaled\", \"rmsea.ci.upper.scaled\"))\n",
    "print(out)"
   ]
  },
  {
   "attachments": {},
   "cell_type": "markdown",
   "metadata": {},
   "source": [
    "Sono state proposte varie linee guida per l’interpretazione dell’RMSEA: RMSEA <= .05 come soglia per un buon adattamento; RMSEA = .05 - .08 come adattamento ragionevole; RMSEA >= .10 come adattamento scarso. Sulla base della stima puntuale RMSEA ottenuta = .083 e dell’intervallo di confidenza al 90% [.066, .100], concludiamo che il modello ha un adattamento appena accettabile. "
   ]
  },
  {
   "attachments": {},
   "cell_type": "markdown",
   "metadata": {},
   "source": [
    "Per valutare l’adeguatezza del modello, utilizziamo due ulteriori misure di adattamento: l’Indice di Adattamento Comparativo (CFI) e il Residuo Quadratico Medio Radice Standardizzato (srmr). Il CFI è un indice di adattamento incrementale che confronta il modello considerato con un modello di base ristretto. L’srmr, invece, si basa sulle discrepanze tra le covarianze previste dal modello e le covarianze effettive.\n",
    "\n",
    "Abbiamo ottenuto i valori scalati del CFI e dell’srmr dall’output di lavaan come segue:"
   ]
  },
  {
   "cell_type": "code",
   "execution_count": 30,
   "metadata": {
    "vscode": {
     "languageId": "r"
    }
   },
   "outputs": [
    {
     "name": "stdout",
     "output_type": "stream",
     "text": [
      "cfi.scaled       srmr \n",
      "     0.925      0.060 \n"
     ]
    }
   ],
   "source": [
    "out = fitMeasures(fit, c(\"cfi.scaled\", \"srmr\"))\n",
    "print(out)"
   ]
  },
  {
   "attachments": {},
   "cell_type": "markdown",
   "metadata": {},
   "source": [
    "Per l’interpretazione di queste misure sono state proposte diverse linee guida. In questo esempio, abbiamo utilizzato come valori soglia CFI >= .90 e srmr <= .08. In base a queste soglie, abbiamo concluso che il valore ottenuto di CFI.scaled = .925 e srmr = .060 fornivano ulteriori prove che il nostro modello si adattava ai dati in modo soddisfacente.\n",
    "\n",
    "Sulla base di questo insieme di misure di adattamento, possiamo concludere che il modello specificato è plausibile."
   ]
  },
  {
   "attachments": {},
   "cell_type": "markdown",
   "metadata": {},
   "source": [
    "## Modello di misurazione\n",
    "\n",
    "Dato il modello accettabile, siamo passati all’esame delle varie stime dei parametri. Concentrandoci prima sul modello di misura, abbiamo ottenuto le stime dall’output di lavaan come segue:"
   ]
  },
  {
   "cell_type": "code",
   "execution_count": 34,
   "metadata": {
    "vscode": {
     "languageId": "r"
    }
   },
   "outputs": [
    {
     "data": {
      "text/html": [
       "<table class=\"dataframe\">\n",
       "<caption>A lavaan.data.frame: 9 × 8</caption>\n",
       "<thead>\n",
       "\t<tr><th scope=col>LV</th><th scope=col>Item</th><th scope=col>Coefficient</th><th scope=col>ci.lower</th><th scope=col>ci.upper</th><th scope=col>SE</th><th scope=col>Z</th><th scope=col>p-value</th></tr>\n",
       "\t<tr><th scope=col>&lt;chr&gt;</th><th scope=col>&lt;chr&gt;</th><th scope=col>&lt;dbl&gt;</th><th scope=col>&lt;dbl&gt;</th><th scope=col>&lt;dbl&gt;</th><th scope=col>&lt;dbl&gt;</th><th scope=col>&lt;dbl&gt;</th><th scope=col>&lt;dbl&gt;</th></tr>\n",
       "</thead>\n",
       "<tbody>\n",
       "\t<tr><td>visual </td><td>x1</td><td>0.7775046</td><td>0.6438504</td><td>0.9111587</td><td>0.06819215</td><td>11.401673</td><td>0.000000e+00</td></tr>\n",
       "\t<tr><td>visual </td><td>x2</td><td>0.4247817</td><td>0.3137330</td><td>0.5358305</td><td>0.05665858</td><td> 7.497218</td><td>6.528111e-14</td></tr>\n",
       "\t<tr><td>visual </td><td>x3</td><td>0.5772006</td><td>0.4714048</td><td>0.6829964</td><td>0.05397843</td><td>10.693171</td><td>0.000000e+00</td></tr>\n",
       "\t<tr><td>textual</td><td>x4</td><td>0.8556927</td><td>0.8089949</td><td>0.9023904</td><td>0.02382582</td><td>35.914515</td><td>0.000000e+00</td></tr>\n",
       "\t<tr><td>textual</td><td>x5</td><td>0.8579629</td><td>0.8172423</td><td>0.8986834</td><td>0.02077618</td><td>41.295515</td><td>0.000000e+00</td></tr>\n",
       "\t<tr><td>textual</td><td>x6</td><td>0.8298582</td><td>0.7841714</td><td>0.8755451</td><td>0.02331005</td><td>35.600879</td><td>0.000000e+00</td></tr>\n",
       "\t<tr><td>speed  </td><td>x7</td><td>0.5988535</td><td>0.5001953</td><td>0.6975117</td><td>0.05033674</td><td>11.896945</td><td>0.000000e+00</td></tr>\n",
       "\t<tr><td>speed  </td><td>x8</td><td>0.7506447</td><td>0.6645132</td><td>0.8367763</td><td>0.04394547</td><td>17.081277</td><td>0.000000e+00</td></tr>\n",
       "\t<tr><td>speed  </td><td>x9</td><td>0.6248603</td><td>0.5361973</td><td>0.7135233</td><td>0.04523704</td><td>13.813023</td><td>0.000000e+00</td></tr>\n",
       "</tbody>\n",
       "</table>\n"
      ],
      "text/latex": [
       "A lavaan.data.frame: 9 × 8\n",
       "\\begin{tabular}{llllllll}\n",
       " LV & Item & Coefficient & ci.lower & ci.upper & SE & Z & p-value\\\\\n",
       " <chr> & <chr> & <dbl> & <dbl> & <dbl> & <dbl> & <dbl> & <dbl>\\\\\n",
       "\\hline\n",
       "\t visual  & x1 & 0.7775046 & 0.6438504 & 0.9111587 & 0.06819215 & 11.401673 & 0.000000e+00\\\\\n",
       "\t visual  & x2 & 0.4247817 & 0.3137330 & 0.5358305 & 0.05665858 &  7.497218 & 6.528111e-14\\\\\n",
       "\t visual  & x3 & 0.5772006 & 0.4714048 & 0.6829964 & 0.05397843 & 10.693171 & 0.000000e+00\\\\\n",
       "\t textual & x4 & 0.8556927 & 0.8089949 & 0.9023904 & 0.02382582 & 35.914515 & 0.000000e+00\\\\\n",
       "\t textual & x5 & 0.8579629 & 0.8172423 & 0.8986834 & 0.02077618 & 41.295515 & 0.000000e+00\\\\\n",
       "\t textual & x6 & 0.8298582 & 0.7841714 & 0.8755451 & 0.02331005 & 35.600879 & 0.000000e+00\\\\\n",
       "\t speed   & x7 & 0.5988535 & 0.5001953 & 0.6975117 & 0.05033674 & 11.896945 & 0.000000e+00\\\\\n",
       "\t speed   & x8 & 0.7506447 & 0.6645132 & 0.8367763 & 0.04394547 & 17.081277 & 0.000000e+00\\\\\n",
       "\t speed   & x9 & 0.6248603 & 0.5361973 & 0.7135233 & 0.04523704 & 13.813023 & 0.000000e+00\\\\\n",
       "\\end{tabular}\n"
      ],
      "text/markdown": [
       "\n",
       "A lavaan.data.frame: 9 × 8\n",
       "\n",
       "| LV &lt;chr&gt; | Item &lt;chr&gt; | Coefficient &lt;dbl&gt; | ci.lower &lt;dbl&gt; | ci.upper &lt;dbl&gt; | SE &lt;dbl&gt; | Z &lt;dbl&gt; | p-value &lt;dbl&gt; |\n",
       "|---|---|---|---|---|---|---|---|\n",
       "| visual  | x1 | 0.7775046 | 0.6438504 | 0.9111587 | 0.06819215 | 11.401673 | 0.000000e+00 |\n",
       "| visual  | x2 | 0.4247817 | 0.3137330 | 0.5358305 | 0.05665858 |  7.497218 | 6.528111e-14 |\n",
       "| visual  | x3 | 0.5772006 | 0.4714048 | 0.6829964 | 0.05397843 | 10.693171 | 0.000000e+00 |\n",
       "| textual | x4 | 0.8556927 | 0.8089949 | 0.9023904 | 0.02382582 | 35.914515 | 0.000000e+00 |\n",
       "| textual | x5 | 0.8579629 | 0.8172423 | 0.8986834 | 0.02077618 | 41.295515 | 0.000000e+00 |\n",
       "| textual | x6 | 0.8298582 | 0.7841714 | 0.8755451 | 0.02331005 | 35.600879 | 0.000000e+00 |\n",
       "| speed   | x7 | 0.5988535 | 0.5001953 | 0.6975117 | 0.05033674 | 11.896945 | 0.000000e+00 |\n",
       "| speed   | x8 | 0.7506447 | 0.6645132 | 0.8367763 | 0.04394547 | 17.081277 | 0.000000e+00 |\n",
       "| speed   | x9 | 0.6248603 | 0.5361973 | 0.7135233 | 0.04523704 | 13.813023 | 0.000000e+00 |\n",
       "\n"
      ],
      "text/plain": [
       "  LV      Item Coefficient ci.lower  ci.upper  SE         Z        \n",
       "1 visual  x1   0.7775046   0.6438504 0.9111587 0.06819215 11.401673\n",
       "2 visual  x2   0.4247817   0.3137330 0.5358305 0.05665858  7.497218\n",
       "3 visual  x3   0.5772006   0.4714048 0.6829964 0.05397843 10.693171\n",
       "4 textual x4   0.8556927   0.8089949 0.9023904 0.02382582 35.914515\n",
       "5 textual x5   0.8579629   0.8172423 0.8986834 0.02077618 41.295515\n",
       "6 textual x6   0.8298582   0.7841714 0.8755451 0.02331005 35.600879\n",
       "7 speed   x7   0.5988535   0.5001953 0.6975117 0.05033674 11.896945\n",
       "8 speed   x8   0.7506447   0.6645132 0.8367763 0.04394547 17.081277\n",
       "9 speed   x9   0.6248603   0.5361973 0.7135233 0.04523704 13.813023\n",
       "  p-value     \n",
       "1 0.000000e+00\n",
       "2 6.528111e-14\n",
       "3 0.000000e+00\n",
       "4 0.000000e+00\n",
       "5 0.000000e+00\n",
       "6 0.000000e+00\n",
       "7 0.000000e+00\n",
       "8 0.000000e+00\n",
       "9 0.000000e+00"
      ]
     },
     "metadata": {},
     "output_type": "display_data"
    }
   ],
   "source": [
    "standardizedsolution(fit, type = \"std.all\", se = TRUE, zstat = TRUE, pvalue = TRUE, ci = TRUE) %>%\n",
    "    filter(op == \"=~\") %>%\n",
    "    select(LV = lhs, Item = rhs, Coefficient = est.std, ci.lower, ci.upper, SE = se, Z = z, \"p-value\" = pvalue) "
   ]
  },
  {
   "attachments": {},
   "cell_type": "markdown",
   "metadata": {},
   "source": [
    "Questo output presenta i coefficienti standardizzati (carichi fattoriali) per gli item sulle variabili latenti (LV), gli intervalli di confidenza (ci.lower, ci.upper), gli errori standard (SE), i valori Z (test di Wald) e i valori p che testano l’ipotesi nulla che un coefficiente = 0. I carichi fattoriali variavano da .42 a .86, indicando che l’entità delle relazioni tra gli item e i fattori era adeguata (sebbene non ci siano soglie rigide per i carichi accettabili). Si noti che gli errori standard sono robusti, il che significa che sono corretti per le influenze della non-normalità. Si noti anche che tutti i coefficienti sono statisticamente significativi, il che significa che l’ipotesi nulla che un coefficiente = 0 è respinta.\n",
    "\n",
    "È anche utile esaminare i valori R2, ovvero i carichi standardizzati al quadrato degli elementi. Nel framework SEM, qualsiasi variabile che ha una freccia rivolta verso di essa è definita come una variabile endogena e avrà un valore R2 associato ad essa. I valori R2 mostrati di seguito per ogni item indicano la percentuale di varianza di quell’item spiegata dalla variabile latente corrispondente. Più alta è la percentuale di varianza di un elemento spiegata dal fattore, migliore è l’elemento nella misurazione del fattore. Abbiamo ottenuto i coefficienti R2 dall’output di lavaan come segue:"
   ]
  },
  {
   "cell_type": "code",
   "execution_count": 35,
   "metadata": {
    "vscode": {
     "languageId": "r"
    }
   },
   "outputs": [
    {
     "data": {
      "text/html": [
       "<table class=\"dataframe\">\n",
       "<caption>A lavaan.data.frame: 12 × 2</caption>\n",
       "<thead>\n",
       "\t<tr><th scope=col>Item</th><th scope=col>R2</th></tr>\n",
       "\t<tr><th scope=col>&lt;chr&gt;</th><th scope=col>&lt;dbl&gt;</th></tr>\n",
       "</thead>\n",
       "<tbody>\n",
       "\t<tr><td>x1     </td><td>0.6045134</td></tr>\n",
       "\t<tr><td>x2     </td><td>0.1804395</td></tr>\n",
       "\t<tr><td>x3     </td><td>0.3331605</td></tr>\n",
       "\t<tr><td>x4     </td><td>0.7322100</td></tr>\n",
       "\t<tr><td>x5     </td><td>0.7361003</td></tr>\n",
       "\t<tr><td>x6     </td><td>0.6886647</td></tr>\n",
       "\t<tr><td>x7     </td><td>0.3586255</td></tr>\n",
       "\t<tr><td>x8     </td><td>0.5634675</td></tr>\n",
       "\t<tr><td>x9     </td><td>0.3904504</td></tr>\n",
       "\t<tr><td>visual </td><td>0.0913337</td></tr>\n",
       "\t<tr><td>textual</td><td>0.3270445</td></tr>\n",
       "\t<tr><td>speed  </td><td>0.3123506</td></tr>\n",
       "</tbody>\n",
       "</table>\n"
      ],
      "text/latex": [
       "A lavaan.data.frame: 12 × 2\n",
       "\\begin{tabular}{ll}\n",
       " Item & R2\\\\\n",
       " <chr> & <dbl>\\\\\n",
       "\\hline\n",
       "\t x1      & 0.6045134\\\\\n",
       "\t x2      & 0.1804395\\\\\n",
       "\t x3      & 0.3331605\\\\\n",
       "\t x4      & 0.7322100\\\\\n",
       "\t x5      & 0.7361003\\\\\n",
       "\t x6      & 0.6886647\\\\\n",
       "\t x7      & 0.3586255\\\\\n",
       "\t x8      & 0.5634675\\\\\n",
       "\t x9      & 0.3904504\\\\\n",
       "\t visual  & 0.0913337\\\\\n",
       "\t textual & 0.3270445\\\\\n",
       "\t speed   & 0.3123506\\\\\n",
       "\\end{tabular}\n"
      ],
      "text/markdown": [
       "\n",
       "A lavaan.data.frame: 12 × 2\n",
       "\n",
       "| Item &lt;chr&gt; | R2 &lt;dbl&gt; |\n",
       "|---|---|\n",
       "| x1      | 0.6045134 |\n",
       "| x2      | 0.1804395 |\n",
       "| x3      | 0.3331605 |\n",
       "| x4      | 0.7322100 |\n",
       "| x5      | 0.7361003 |\n",
       "| x6      | 0.6886647 |\n",
       "| x7      | 0.3586255 |\n",
       "| x8      | 0.5634675 |\n",
       "| x9      | 0.3904504 |\n",
       "| visual  | 0.0913337 |\n",
       "| textual | 0.3270445 |\n",
       "| speed   | 0.3123506 |\n",
       "\n"
      ],
      "text/plain": [
       "   Item    R2       \n",
       "1  x1      0.6045134\n",
       "2  x2      0.1804395\n",
       "3  x3      0.3331605\n",
       "4  x4      0.7322100\n",
       "5  x5      0.7361003\n",
       "6  x6      0.6886647\n",
       "7  x7      0.3586255\n",
       "8  x8      0.5634675\n",
       "9  x9      0.3904504\n",
       "10 visual  0.0913337\n",
       "11 textual 0.3270445\n",
       "12 speed   0.3123506"
      ]
     },
     "metadata": {},
     "output_type": "display_data"
    }
   ],
   "source": [
    "parameterEstimates(fit, standardized=TRUE, rsquare = TRUE) %>% \n",
    "  filter(op == \"r2\") %>% \n",
    "  select(Item=rhs, R2 = est) "
   ]
  },
  {
   "attachments": {},
   "cell_type": "markdown",
   "metadata": {},
   "source": [
    "I valori R2 per gli item variano da 0.18 a 0.74 e suggeriscono che gli item abbiano una relazione da piccola a sostanziale con una variabile latente. Si noti che non esiste un limite rigido per i valori R2 accettabili, ma valori oltre .50 sono desiderabili.\n",
    "\n",
    "## Modello strutturale\n",
    "\n",
    "Ora ci concentriamo sul modello strutturale. Otteniamo le stime dall’output di lavaan come segue:"
   ]
  },
  {
   "cell_type": "code",
   "execution_count": 36,
   "metadata": {
    "vscode": {
     "languageId": "r"
    }
   },
   "outputs": [
    {
     "data": {
      "text/html": [
       "<table class=\"dataframe\">\n",
       "<caption>A lavaan.data.frame: 8 × 8</caption>\n",
       "<thead>\n",
       "\t<tr><th scope=col>LV</th><th scope=col>Item</th><th scope=col>Coefficient</th><th scope=col>ci.lower</th><th scope=col>ci.upper</th><th scope=col>SE</th><th scope=col>Z</th><th scope=col>p-value</th></tr>\n",
       "\t<tr><th scope=col>&lt;chr&gt;</th><th scope=col>&lt;chr&gt;</th><th scope=col>&lt;dbl&gt;</th><th scope=col>&lt;dbl&gt;</th><th scope=col>&lt;dbl&gt;</th><th scope=col>&lt;dbl&gt;</th><th scope=col>&lt;dbl&gt;</th><th scope=col>&lt;dbl&gt;</th></tr>\n",
       "</thead>\n",
       "<tbody>\n",
       "\t<tr><td>speed  </td><td>visual</td><td> 0.3795707</td><td> 0.22433706</td><td> 0.53480433</td><td>0.07920229</td><td> 4.792421</td><td>1.647810e-06</td></tr>\n",
       "\t<tr><td>textual</td><td>visual</td><td> 0.3660910</td><td> 0.21586372</td><td> 0.51631835</td><td>0.07664800</td><td> 4.776263</td><td>1.785824e-06</td></tr>\n",
       "\t<tr><td>visual </td><td>ageyr </td><td>-0.2197484</td><td>-0.37673115</td><td>-0.06276561</td><td>0.08009472</td><td>-2.743606</td><td>6.076837e-03</td></tr>\n",
       "\t<tr><td>visual </td><td>grade </td><td> 0.3483088</td><td> 0.19853424</td><td> 0.49808339</td><td>0.07641700</td><td> 4.558001</td><td>5.164268e-06</td></tr>\n",
       "\t<tr><td>speed  </td><td>ageyr </td><td> 0.1241669</td><td>-0.01806045</td><td> 0.26639422</td><td>0.07256630</td><td> 1.711082</td><td>8.706600e-02</td></tr>\n",
       "\t<tr><td>speed  </td><td>grade </td><td> 0.2714619</td><td> 0.11145077</td><td> 0.43147309</td><td>0.08163985</td><td> 3.325116</td><td>8.838189e-04</td></tr>\n",
       "\t<tr><td>textual</td><td>ageyr </td><td>-0.3852454</td><td>-0.49088915</td><td>-0.27960160</td><td>0.05390087</td><td>-7.147294</td><td>8.850698e-13</td></tr>\n",
       "\t<tr><td>textual</td><td>grade </td><td> 0.3229657</td><td> 0.18950793</td><td> 0.45642348</td><td>0.06809195</td><td> 4.743082</td><td>2.104911e-06</td></tr>\n",
       "</tbody>\n",
       "</table>\n"
      ],
      "text/latex": [
       "A lavaan.data.frame: 8 × 8\n",
       "\\begin{tabular}{llllllll}\n",
       " LV & Item & Coefficient & ci.lower & ci.upper & SE & Z & p-value\\\\\n",
       " <chr> & <chr> & <dbl> & <dbl> & <dbl> & <dbl> & <dbl> & <dbl>\\\\\n",
       "\\hline\n",
       "\t speed   & visual &  0.3795707 &  0.22433706 &  0.53480433 & 0.07920229 &  4.792421 & 1.647810e-06\\\\\n",
       "\t textual & visual &  0.3660910 &  0.21586372 &  0.51631835 & 0.07664800 &  4.776263 & 1.785824e-06\\\\\n",
       "\t visual  & ageyr  & -0.2197484 & -0.37673115 & -0.06276561 & 0.08009472 & -2.743606 & 6.076837e-03\\\\\n",
       "\t visual  & grade  &  0.3483088 &  0.19853424 &  0.49808339 & 0.07641700 &  4.558001 & 5.164268e-06\\\\\n",
       "\t speed   & ageyr  &  0.1241669 & -0.01806045 &  0.26639422 & 0.07256630 &  1.711082 & 8.706600e-02\\\\\n",
       "\t speed   & grade  &  0.2714619 &  0.11145077 &  0.43147309 & 0.08163985 &  3.325116 & 8.838189e-04\\\\\n",
       "\t textual & ageyr  & -0.3852454 & -0.49088915 & -0.27960160 & 0.05390087 & -7.147294 & 8.850698e-13\\\\\n",
       "\t textual & grade  &  0.3229657 &  0.18950793 &  0.45642348 & 0.06809195 &  4.743082 & 2.104911e-06\\\\\n",
       "\\end{tabular}\n"
      ],
      "text/markdown": [
       "\n",
       "A lavaan.data.frame: 8 × 8\n",
       "\n",
       "| LV &lt;chr&gt; | Item &lt;chr&gt; | Coefficient &lt;dbl&gt; | ci.lower &lt;dbl&gt; | ci.upper &lt;dbl&gt; | SE &lt;dbl&gt; | Z &lt;dbl&gt; | p-value &lt;dbl&gt; |\n",
       "|---|---|---|---|---|---|---|---|\n",
       "| speed   | visual |  0.3795707 |  0.22433706 |  0.53480433 | 0.07920229 |  4.792421 | 1.647810e-06 |\n",
       "| textual | visual |  0.3660910 |  0.21586372 |  0.51631835 | 0.07664800 |  4.776263 | 1.785824e-06 |\n",
       "| visual  | ageyr  | -0.2197484 | -0.37673115 | -0.06276561 | 0.08009472 | -2.743606 | 6.076837e-03 |\n",
       "| visual  | grade  |  0.3483088 |  0.19853424 |  0.49808339 | 0.07641700 |  4.558001 | 5.164268e-06 |\n",
       "| speed   | ageyr  |  0.1241669 | -0.01806045 |  0.26639422 | 0.07256630 |  1.711082 | 8.706600e-02 |\n",
       "| speed   | grade  |  0.2714619 |  0.11145077 |  0.43147309 | 0.08163985 |  3.325116 | 8.838189e-04 |\n",
       "| textual | ageyr  | -0.3852454 | -0.49088915 | -0.27960160 | 0.05390087 | -7.147294 | 8.850698e-13 |\n",
       "| textual | grade  |  0.3229657 |  0.18950793 |  0.45642348 | 0.06809195 |  4.743082 | 2.104911e-06 |\n",
       "\n"
      ],
      "text/plain": [
       "  LV      Item   Coefficient ci.lower    ci.upper    SE         Z        \n",
       "1 speed   visual  0.3795707   0.22433706  0.53480433 0.07920229  4.792421\n",
       "2 textual visual  0.3660910   0.21586372  0.51631835 0.07664800  4.776263\n",
       "3 visual  ageyr  -0.2197484  -0.37673115 -0.06276561 0.08009472 -2.743606\n",
       "4 visual  grade   0.3483088   0.19853424  0.49808339 0.07641700  4.558001\n",
       "5 speed   ageyr   0.1241669  -0.01806045  0.26639422 0.07256630  1.711082\n",
       "6 speed   grade   0.2714619   0.11145077  0.43147309 0.08163985  3.325116\n",
       "7 textual ageyr  -0.3852454  -0.49088915 -0.27960160 0.05390087 -7.147294\n",
       "8 textual grade   0.3229657   0.18950793  0.45642348 0.06809195  4.743082\n",
       "  p-value     \n",
       "1 1.647810e-06\n",
       "2 1.785824e-06\n",
       "3 6.076837e-03\n",
       "4 5.164268e-06\n",
       "5 8.706600e-02\n",
       "6 8.838189e-04\n",
       "7 8.850698e-13\n",
       "8 2.104911e-06"
      ]
     },
     "metadata": {},
     "output_type": "display_data"
    }
   ],
   "source": [
    "standardizedsolution(fit, type = \"std.all\", se = TRUE, zstat = TRUE, pvalue = TRUE, ci = TRUE)%>% \n",
    "  filter(op == \"~\") %>% \n",
    "  select(LV=lhs, Item=rhs, Coefficient=est.std, ci.lower, ci.upper, SE=se, Z=z, 'p-value'=pvalue)"
   ]
  },
  {
   "attachments": {},
   "cell_type": "markdown",
   "metadata": {},
   "source": [
    "Questo output presenta coefficienti di regressione standardizzati che rappresentano le relazioni tra variabili indipendenti e le variabili dipendenti, intervalli di confidenza (ci.lower, ci.upper), errori standard (SE), valori Z (test di Wald), valori p che testano l’ipotesi nulla che un coefficiente = 0. Un coefficiente di regressione rappresenta la forza della relazione tra una variabile indipendente e il segno rappresenta la direzione della relazione.\n",
    "\n",
    "## Diagramma di percorso\n",
    "\n",
    "Per disegnare il diagramma di percorso del modello adattato usiamo la funzione `nice_lavaanPlot` del pacchetto `lavaanExtra`."
   ]
  },
  {
   "cell_type": "code",
   "execution_count": null,
   "metadata": {
    "vscode": {
     "languageId": "r"
    }
   },
   "outputs": [],
   "source": [
    "nice_lavaanPlot(fit)"
   ]
  },
  {
   "attachments": {},
   "cell_type": "markdown",
   "metadata": {},
   "source": [
    "## Conclusioni\n",
    "\n",
    "Abbiamo interpretato i nostri risultati come segue. Il modello complessivo sembra plausibile sulla base di vari indici di adattamento (anche con un numero ridotto di variabili misurate). Le variabili latenti (visual, speed, textual) risultano adeguatamente misurate dagli indicatori associati sulla base dei carichi fattoriali elevati e dei valori R2. Le relazioni strutturali indicano che il grado scolastico influenza in maniera positiva i punteggi sulle tre variabili latenti considerate, mentre l'età ha un effetto negativo sulle abilità cognitive visual e textual, ma un effetto positivo su speed.  Nel complesso, il modello spiega circa un terzo della varianza delle abilità textual e speed, ma solo il 9% della varianza della abilità cognitiva visual.\n"
   ]
  }
 ],
 "metadata": {
  "kernelspec": {
   "display_name": "R",
   "language": "R",
   "name": "ir"
  },
  "language_info": {
   "codemirror_mode": "r",
   "file_extension": ".r",
   "mimetype": "text/x-r-source",
   "name": "R",
   "pygments_lexer": "r",
   "version": "4.2.2"
  },
  "orig_nbformat": 4
 },
 "nbformat": 4,
 "nbformat_minor": 2
}
